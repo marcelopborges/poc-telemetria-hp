{
 "cells": [
  {
   "cell_type": "code",
   "id": "initial_id",
   "metadata": {
    "tags": [],
    "ExecuteTime": {
     "end_time": "2024-05-02T12:12:15.897196Z",
     "start_time": "2024-05-02T12:12:15.229856Z"
    }
   },
   "source": [
    "from xml.etree import ElementTree as ET\n",
    "from sqlalchemy import create_engine\n",
    "from dotenv import load_dotenv\n",
    "import os\n",
    "import folium\n",
    "import pandas as pd\n",
    "import math"
   ],
   "outputs": [],
   "execution_count": 1
  },
  {
   "metadata": {
    "ExecuteTime": {
     "end_time": "2024-05-02T12:23:48.854427Z",
     "start_time": "2024-05-02T12:23:48.852257Z"
    }
   },
   "cell_type": "code",
   "source": "env_path = '.env'",
   "id": "ae1a2f07bc645c1d",
   "outputs": [],
   "execution_count": 11
  },
  {
   "metadata": {
    "ExecuteTime": {
     "end_time": "2024-05-02T12:23:49.255701Z",
     "start_time": "2024-05-02T12:23:49.251955Z"
    }
   },
   "cell_type": "code",
   "source": "load_dotenv(dotenv_path=env_path)",
   "id": "c449366eb5b243d1",
   "outputs": [
    {
     "data": {
      "text/plain": [
       "True"
      ]
     },
     "execution_count": 12,
     "metadata": {},
     "output_type": "execute_result"
    }
   ],
   "execution_count": 12
  },
  {
   "cell_type": "code",
   "id": "a771afed374aca2a",
   "metadata": {
    "tags": [],
    "ExecuteTime": {
     "end_time": "2024-05-02T12:39:09.817582Z",
     "start_time": "2024-05-02T12:39:09.814996Z"
    }
   },
   "source": [
    "dbname = os.getenv('DB_NAME')\n",
    "user = os.getenv('DB_USER')\n",
    "password = os.getenv('DB_PASS')\n",
    "host = os.getenv('DB_HOST')\n",
    "port = os.getenv('DB_PORT')"
   ],
   "outputs": [],
   "execution_count": 139
  },
  {
   "cell_type": "code",
   "id": "dc5fd6807bbf6c48",
   "metadata": {
    "tags": [],
    "ExecuteTime": {
     "end_time": "2024-05-02T12:39:10.331699Z",
     "start_time": "2024-05-02T12:39:10.329390Z"
    }
   },
   "source": [
    "engine = create_engine(f'postgresql://{user}:{password}@{host}:{port}/{dbname}')"
   ],
   "outputs": [],
   "execution_count": 140
  },
  {
   "cell_type": "code",
   "id": "df9086c5e319d664",
   "metadata": {
    "tags": [],
    "ExecuteTime": {
     "end_time": "2024-05-02T12:39:10.334382Z",
     "start_time": "2024-05-02T12:39:10.332451Z"
    }
   },
   "source": [
    "ns = {'kml': 'http://www.opengis.net/kml/2.2'}"
   ],
   "outputs": [],
   "execution_count": 141
  },
  {
   "cell_type": "code",
   "id": "ae4515a784826c4",
   "metadata": {
    "tags": [],
    "ExecuteTime": {
     "end_time": "2024-05-02T12:39:10.337176Z",
     "start_time": "2024-05-02T12:39:10.335427Z"
    }
   },
   "source": [
    "planned_trip_path = '../notebooks/data/1.1 LINHAS RMTC [2023-11-29].kml'"
   ],
   "outputs": [],
   "execution_count": 142
  },
  {
   "cell_type": "code",
   "id": "c2b8b6acd8f6ee08",
   "metadata": {
    "tags": [],
    "ExecuteTime": {
     "end_time": "2024-05-02T12:39:10.830915Z",
     "start_time": "2024-05-02T12:39:10.828715Z"
    }
   },
   "source": [
    "sql_idle_route = \"\"\" \n",
    "SELECT \"data\", carro, first_travel, last_travel, geolocalizacao_ida, geolocalizacao_volta\n",
    "FROM hp.gld_idle_route;\n",
    "\"\"\""
   ],
   "outputs": [],
   "execution_count": 143
  },
  {
   "cell_type": "code",
   "id": "15dabf35cc8c3524",
   "metadata": {
    "tags": [],
    "ExecuteTime": {
     "end_time": "2024-05-02T12:39:10.834457Z",
     "start_time": "2024-05-02T12:39:10.831960Z"
    }
   },
   "source": [
    "sql_schedule = \"\"\" \n",
    "SELECT date_execution, linha, carro, re, nome\n",
    "FROM hp.slv_schedule;\n",
    "\"\"\""
   ],
   "outputs": [],
   "execution_count": 144
  },
  {
   "cell_type": "code",
   "id": "abb172c4eb4b8aeb",
   "metadata": {
    "tags": [],
    "ExecuteTime": {
     "end_time": "2024-05-02T12:39:18.278784Z",
     "start_time": "2024-05-02T12:39:10.835980Z"
    }
   },
   "source": [
    "df_idle_route = pd.read_sql_query(sql_idle_route, engine)"
   ],
   "outputs": [],
   "execution_count": 145
  },
  {
   "cell_type": "code",
   "id": "e6303d81c3e00949",
   "metadata": {
    "tags": [],
    "ExecuteTime": {
     "end_time": "2024-05-02T12:39:18.289410Z",
     "start_time": "2024-05-02T12:39:18.281736Z"
    }
   },
   "source": [
    "def read_and_extract_placemarks(file_path, namespace):\n",
    "    \"\"\" \n",
    "    :param: file_path: caminho para o arquivo kml\n",
    "    :return: lista de dicionários com os nomes e coordenadas dos placemarks\n",
    "\n",
    "    A função lê um arquivo kml e extrai os placemarks, retornando uma lista de dicionários com os nomes e coordenadas dos placemarks.\n",
    "    \"\"\"\n",
    "    tree = ET.parse(file_path)\n",
    "    root = tree.getroot()\n",
    "    placemarks = []\n",
    "    for placemark in root.findall('.//kml:Placemark', namespace):\n",
    "        name = placemark.find('kml:name', namespace).text if placemark.find('kml:name', namespace) is not None else \"Unnamed\"\n",
    "        coordinates = placemark.find('.//kml:coordinates', namespace).text.strip() if placemark.find('.//kml:coordinates', namespace) is not None else \"No coordinates\"\n",
    "        placemarks.append({'name': name, 'coordinates': coordinates})\n",
    "    return placemarks"
   ],
   "outputs": [],
   "execution_count": 146
  },
  {
   "cell_type": "code",
   "id": "113d484d78aa8a23",
   "metadata": {
    "tags": [],
    "ExecuteTime": {
     "end_time": "2024-05-02T12:39:18.356811Z",
     "start_time": "2024-05-02T12:39:18.291402Z"
    }
   },
   "source": [
    "placemarks_line_bd = read_and_extract_placemarks(planned_trip_path, ns)"
   ],
   "outputs": [],
   "execution_count": 147
  },
  {
   "cell_type": "code",
   "id": "bc53c66768420a5e",
   "metadata": {
    "tags": [],
    "ExecuteTime": {
     "end_time": "2024-05-02T12:39:18.361266Z",
     "start_time": "2024-05-02T12:39:18.358274Z"
    }
   },
   "source": [
    "df_base_rota = pd.DataFrame(placemarks_line_bd)"
   ],
   "outputs": [],
   "execution_count": 148
  },
  {
   "cell_type": "code",
   "id": "a5a9aaab7e397ec6",
   "metadata": {
    "tags": [],
    "ExecuteTime": {
     "end_time": "2024-05-02T12:39:18.365535Z",
     "start_time": "2024-05-02T12:39:18.362063Z"
    }
   },
   "source": [
    "df_base_rota['Código'] = df_base_rota['name'].apply(lambda x: x.split('-', 1)[0])"
   ],
   "outputs": [],
   "execution_count": 149
  },
  {
   "cell_type": "code",
   "id": "623e0bf7f912b0c7",
   "metadata": {
    "tags": [],
    "ExecuteTime": {
     "end_time": "2024-05-02T12:39:18.370324Z",
     "start_time": "2024-05-02T12:39:18.366425Z"
    }
   },
   "source": [
    "df_base_rota['identificacao'] = df_base_rota['name'].apply(lambda x: x.split('-', 1)[1])\n",
    "df_base_rota['identificacao'] = df_base_rota['identificacao'].apply(lambda x: x.split('- ', 1)[0])\n",
    "df_base_rota['identificacao'] = df_base_rota['identificacao'].apply(lambda x: x.split(' ', 1)[0])"
   ],
   "outputs": [],
   "execution_count": 150
  },
  {
   "cell_type": "code",
   "id": "b6bbb20e5124e923",
   "metadata": {
    "tags": [],
    "ExecuteTime": {
     "end_time": "2024-05-02T12:39:18.377534Z",
     "start_time": "2024-05-02T12:39:18.371332Z"
    }
   },
   "source": [
    "df_base_rota['Código'] = df_base_rota['name'].apply(lambda x: x.split('-', 1)[0])\n",
    "df_base_rota['Descrição e Sentido'] = df_base_rota['name'].apply(lambda x: x.split(' - ', 1)[1] if ' - ' in x else '')\n",
    "df_base_rota['Descrição'] = df_base_rota['Descrição e Sentido'].apply(lambda x: x.rsplit(' - ', 1)[0] if ' - ' in x else x)\n",
    "df_base_rota['Sentido'] = df_base_rota['Descrição e Sentido'].apply(lambda x: x.rsplit(' - ', 1)[1] if ' - ' in x else '')\n",
    "df_base_rota.drop('Descrição e Sentido', axis=1, inplace=True)"
   ],
   "outputs": [],
   "execution_count": 151
  },
  {
   "cell_type": "code",
   "id": "e37d15cdf8f772b6",
   "metadata": {
    "tags": [],
    "ExecuteTime": {
     "end_time": "2024-05-02T12:39:18.381336Z",
     "start_time": "2024-05-02T12:39:18.378419Z"
    }
   },
   "source": [
    "de_para = {\n",
    "    '1': 'A', '2': 'B', '3': 'C', '4': 'D', '5': 'E',\n",
    "    '6': 'F', '7': 'G', '8': 'H', '9': 'I', '21': 'A',\n",
    "    '22': 'B', '23': 'C', '24': 'D', '25': 'E', '26': 'F',\n",
    "    '27': 'G', '28': 'H', '29': 'I', '31': 'A', '32': 'B',\n",
    "    '33': 'C', '34': 'D', '35': 'E', '36': 'F', '37': 'G',\n",
    "    '38': 'H', '39': 'I'\n",
    "}"
   ],
   "outputs": [],
   "execution_count": 152
  },
  {
   "cell_type": "code",
   "id": "5a08364da9796fdd",
   "metadata": {
    "tags": [],
    "ExecuteTime": {
     "end_time": "2024-05-02T12:39:18.385054Z",
     "start_time": "2024-05-02T12:39:18.382105Z"
    }
   },
   "source": [
    "df_base_rota['sublinha'] = df_base_rota['identificacao'].apply(lambda x: de_para[x[:-1]])"
   ],
   "outputs": [],
   "execution_count": 153
  },
  {
   "cell_type": "code",
   "id": "f3a0c8809f4cc5ba",
   "metadata": {
    "tags": [],
    "ExecuteTime": {
     "end_time": "2024-05-02T12:39:18.389715Z",
     "start_time": "2024-05-02T12:39:18.386594Z"
    }
   },
   "source": [
    "df_base_rota['num_linha'] = df_base_rota['Código'].astype(str) + df_base_rota['sublinha']"
   ],
   "outputs": [],
   "execution_count": 154
  },
  {
   "cell_type": "code",
   "id": "d22a38e689ea36bf",
   "metadata": {
    "tags": [],
    "ExecuteTime": {
     "end_time": "2024-05-02T12:39:18.393965Z",
     "start_time": "2024-05-02T12:39:18.391057Z"
    }
   },
   "source": [
    "# Substituir todos os valores \"401A\" por \"401\" na coluna \"num_linha\" do DataFrame df_base_rota\n",
    "df_base_rota['num_linha'] = df_base_rota['num_linha'].replace('401A', '401')"
   ],
   "outputs": [],
   "execution_count": 155
  },
  {
   "cell_type": "code",
   "id": "6645f9e3172d4eb6",
   "metadata": {
    "tags": [],
    "ExecuteTime": {
     "end_time": "2024-05-02T12:39:19.168929Z",
     "start_time": "2024-05-02T12:39:18.394810Z"
    }
   },
   "source": [
    "df_schedule = pd.read_sql_query(sql_schedule, engine)"
   ],
   "outputs": [],
   "execution_count": 156
  },
  {
   "cell_type": "code",
   "id": "5d3d33a78490391c",
   "metadata": {
    "tags": [],
    "ExecuteTime": {
     "end_time": "2024-05-02T12:39:19.181955Z",
     "start_time": "2024-05-02T12:39:19.169892Z"
    }
   },
   "source": [
    "df_schedule['date_execution'] = pd.to_datetime(df_schedule['date_execution']) "
   ],
   "outputs": [],
   "execution_count": 157
  },
  {
   "cell_type": "code",
   "id": "f595870d-6a1e-4c5a-9487-dca2b8448443",
   "metadata": {
    "tags": [],
    "ExecuteTime": {
     "end_time": "2024-05-02T12:39:19.208814Z",
     "start_time": "2024-05-02T12:39:19.183387Z"
    }
   },
   "source": [
    "df_schedule['linha']=df_schedule['linha'].str.strip()"
   ],
   "outputs": [],
   "execution_count": 158
  },
  {
   "cell_type": "code",
   "id": "55d255fcd5b3e786",
   "metadata": {
    "tags": [],
    "ExecuteTime": {
     "end_time": "2024-05-02T12:39:20.105451Z",
     "start_time": "2024-05-02T12:39:20.096121Z"
    }
   },
   "source": "df_schedule[df_schedule['date_execution'] == '2024-04-30'][['linha', 'carro', 're', 'nome']]",
   "outputs": [
    {
     "data": {
      "text/plain": [
       "       linha  carro         re                     nome\n",
       "102719  333A  20323  000017651        RUI BRASIL LAZARO\n",
       "103013  326A  20323  000017651        RUI BRASIL LAZARO\n",
       "103455  706A  20323  000017651        RUI BRASIL LAZARO\n",
       "118409  117A   1201  000007200  LINDOMAR ANTONIO GARCIA\n",
       "118410  117A   1201  000007200  LINDOMAR ANTONIO GARCIA\n",
       "...      ...    ...        ...                      ...\n",
       "120529  027A  20998  000018886  EZEQUIEL DA SILVA HUTIM\n",
       "120530  027B  20998  000017239  RONES SOARES DOS SANTOS\n",
       "120531  026A  20998  000017239  RONES SOARES DOS SANTOS\n",
       "120532  026A  20998  000017239  RONES SOARES DOS SANTOS\n",
       "120533  026A  20998  000017239  RONES SOARES DOS SANTOS\n",
       "\n",
       "[2128 rows x 4 columns]"
      ],
      "text/html": [
       "<div>\n",
       "<style scoped>\n",
       "    .dataframe tbody tr th:only-of-type {\n",
       "        vertical-align: middle;\n",
       "    }\n",
       "\n",
       "    .dataframe tbody tr th {\n",
       "        vertical-align: top;\n",
       "    }\n",
       "\n",
       "    .dataframe thead th {\n",
       "        text-align: right;\n",
       "    }\n",
       "</style>\n",
       "<table border=\"1\" class=\"dataframe\">\n",
       "  <thead>\n",
       "    <tr style=\"text-align: right;\">\n",
       "      <th></th>\n",
       "      <th>linha</th>\n",
       "      <th>carro</th>\n",
       "      <th>re</th>\n",
       "      <th>nome</th>\n",
       "    </tr>\n",
       "  </thead>\n",
       "  <tbody>\n",
       "    <tr>\n",
       "      <th>102719</th>\n",
       "      <td>333A</td>\n",
       "      <td>20323</td>\n",
       "      <td>000017651</td>\n",
       "      <td>RUI BRASIL LAZARO</td>\n",
       "    </tr>\n",
       "    <tr>\n",
       "      <th>103013</th>\n",
       "      <td>326A</td>\n",
       "      <td>20323</td>\n",
       "      <td>000017651</td>\n",
       "      <td>RUI BRASIL LAZARO</td>\n",
       "    </tr>\n",
       "    <tr>\n",
       "      <th>103455</th>\n",
       "      <td>706A</td>\n",
       "      <td>20323</td>\n",
       "      <td>000017651</td>\n",
       "      <td>RUI BRASIL LAZARO</td>\n",
       "    </tr>\n",
       "    <tr>\n",
       "      <th>118409</th>\n",
       "      <td>117A</td>\n",
       "      <td>1201</td>\n",
       "      <td>000007200</td>\n",
       "      <td>LINDOMAR ANTONIO GARCIA</td>\n",
       "    </tr>\n",
       "    <tr>\n",
       "      <th>118410</th>\n",
       "      <td>117A</td>\n",
       "      <td>1201</td>\n",
       "      <td>000007200</td>\n",
       "      <td>LINDOMAR ANTONIO GARCIA</td>\n",
       "    </tr>\n",
       "    <tr>\n",
       "      <th>...</th>\n",
       "      <td>...</td>\n",
       "      <td>...</td>\n",
       "      <td>...</td>\n",
       "      <td>...</td>\n",
       "    </tr>\n",
       "    <tr>\n",
       "      <th>120529</th>\n",
       "      <td>027A</td>\n",
       "      <td>20998</td>\n",
       "      <td>000018886</td>\n",
       "      <td>EZEQUIEL DA SILVA HUTIM</td>\n",
       "    </tr>\n",
       "    <tr>\n",
       "      <th>120530</th>\n",
       "      <td>027B</td>\n",
       "      <td>20998</td>\n",
       "      <td>000017239</td>\n",
       "      <td>RONES SOARES DOS SANTOS</td>\n",
       "    </tr>\n",
       "    <tr>\n",
       "      <th>120531</th>\n",
       "      <td>026A</td>\n",
       "      <td>20998</td>\n",
       "      <td>000017239</td>\n",
       "      <td>RONES SOARES DOS SANTOS</td>\n",
       "    </tr>\n",
       "    <tr>\n",
       "      <th>120532</th>\n",
       "      <td>026A</td>\n",
       "      <td>20998</td>\n",
       "      <td>000017239</td>\n",
       "      <td>RONES SOARES DOS SANTOS</td>\n",
       "    </tr>\n",
       "    <tr>\n",
       "      <th>120533</th>\n",
       "      <td>026A</td>\n",
       "      <td>20998</td>\n",
       "      <td>000017239</td>\n",
       "      <td>RONES SOARES DOS SANTOS</td>\n",
       "    </tr>\n",
       "  </tbody>\n",
       "</table>\n",
       "<p>2128 rows × 4 columns</p>\n",
       "</div>"
      ]
     },
     "execution_count": 159,
     "metadata": {},
     "output_type": "execute_result"
    }
   ],
   "execution_count": 159
  },
  {
   "cell_type": "code",
   "id": "61e24f8d2f09a2cc",
   "metadata": {
    "tags": [],
    "ExecuteTime": {
     "end_time": "2024-05-02T12:39:22.313677Z",
     "start_time": "2024-05-02T12:39:22.310177Z"
    }
   },
   "source": [
    "list_car = df_schedule['carro'].unique().tolist()"
   ],
   "outputs": [],
   "execution_count": 160
  },
  {
   "cell_type": "code",
   "id": "2b28d0489256205e",
   "metadata": {
    "tags": [],
    "ExecuteTime": {
     "end_time": "2024-05-02T12:39:22.827Z",
     "start_time": "2024-05-02T12:39:22.824904Z"
    }
   },
   "source": [
    "sql_made_trip = \"\"\" \n",
    "SELECT registration, carro, made_trip_coordinates, execution_date\n",
    "FROM hp.slv_made_trip;\n",
    "\n",
    "\"\"\""
   ],
   "outputs": [],
   "execution_count": 161
  },
  {
   "cell_type": "code",
   "id": "7077d943f2329ba7",
   "metadata": {
    "tags": [],
    "ExecuteTime": {
     "end_time": "2024-05-02T12:39:25.024466Z",
     "start_time": "2024-05-02T12:39:24.187357Z"
    }
   },
   "source": [
    "df_made_trip = pd.read_sql_query(sql_made_trip,engine)"
   ],
   "outputs": [],
   "execution_count": 162
  },
  {
   "cell_type": "code",
   "id": "19a8867fa3975b67",
   "metadata": {
    "tags": [],
    "ExecuteTime": {
     "end_time": "2024-05-02T12:39:25.686700Z",
     "start_time": "2024-05-02T12:39:25.675995Z"
    }
   },
   "source": [
    "df_idle_route['data'] = pd.to_datetime(df_idle_route['data'])"
   ],
   "outputs": [],
   "execution_count": 163
  },
  {
   "cell_type": "code",
   "id": "f863c1351dbefe56",
   "metadata": {
    "tags": [],
    "ExecuteTime": {
     "end_time": "2024-05-02T12:39:27.265097Z",
     "start_time": "2024-05-02T12:39:27.260870Z"
    }
   },
   "source": [
    "df_made_trip['execution_date'] = pd.to_datetime(df_made_trip['execution_date'])"
   ],
   "outputs": [],
   "execution_count": 164
  },
  {
   "cell_type": "code",
   "id": "f4599fe70e18e085",
   "metadata": {
    "tags": [],
    "ExecuteTime": {
     "end_time": "2024-05-02T12:39:27.751281Z",
     "start_time": "2024-05-02T12:39:27.747852Z"
    }
   },
   "source": [
    "df_made_trip['carro'] = pd.to_numeric(df_made_trip['carro'])"
   ],
   "outputs": [],
   "execution_count": 165
  },
  {
   "cell_type": "code",
   "id": "fc70a9996158e14b",
   "metadata": {
    "tags": [],
    "ExecuteTime": {
     "end_time": "2024-05-02T12:39:28.248551Z",
     "start_time": "2024-05-02T12:39:28.217554Z"
    }
   },
   "source": [
    "df_test = pd.merge(df_idle_route, df_made_trip, left_on=['data','carro'], right_on=['execution_date','carro'])"
   ],
   "outputs": [],
   "execution_count": 166
  },
  {
   "cell_type": "code",
   "id": "11b7b19b68bcdaee",
   "metadata": {
    "tags": [],
    "ExecuteTime": {
     "end_time": "2024-05-02T12:39:28.710360Z",
     "start_time": "2024-05-02T12:39:28.706216Z"
    }
   },
   "source": "list_line = df_schedule[(df_schedule['carro'] == 20238) & (df_schedule['date_execution'] == '2024-04-30')]['linha'].values.tolist()",
   "outputs": [],
   "execution_count": 167
  },
  {
   "cell_type": "code",
   "id": "f223aede92b4e5c1",
   "metadata": {
    "tags": [],
    "ExecuteTime": {
     "end_time": "2024-05-02T12:39:29.474656Z",
     "start_time": "2024-05-02T12:39:29.470822Z"
    }
   },
   "source": [
    "list_line"
   ],
   "outputs": [
    {
     "data": {
      "text/plain": [
       "['401', '400A', '015A', '400A', '401', '911B', '400A', '401', '401']"
      ]
     },
     "execution_count": 168,
     "metadata": {},
     "output_type": "execute_result"
    }
   ],
   "execution_count": 168
  },
  {
   "cell_type": "code",
   "id": "a983b48aeacdf31b",
   "metadata": {
    "tags": [],
    "ExecuteTime": {
     "end_time": "2024-05-02T12:39:43.698900Z",
     "start_time": "2024-05-02T12:39:43.672142Z"
    }
   },
   "source": [
    "df_filtered = pd.merge(df_idle_route, df_made_trip, left_on=['data','carro'], right_on=['execution_date','carro'])"
   ],
   "outputs": [],
   "execution_count": 169
  },
  {
   "cell_type": "code",
   "id": "b58291560ca59c6e",
   "metadata": {
    "tags": [],
    "ExecuteTime": {
     "end_time": "2024-05-02T12:40:13.211041Z",
     "start_time": "2024-05-02T12:40:13.208633Z"
    }
   },
   "source": [
    "def convert_coordinates(coords):\n",
    "    return [(lat, lng) for [lng, lat] in coords]"
   ],
   "outputs": [],
   "execution_count": 171
  },
  {
   "cell_type": "code",
   "id": "c9fab87044de6bf6",
   "metadata": {
    "tags": [],
    "ExecuteTime": {
     "end_time": "2024-05-02T12:40:16.176651Z",
     "start_time": "2024-05-02T12:40:16.172680Z"
    }
   },
   "source": [
    "def parse_coordinates(coord_string):\n",
    "    coord_string = coord_string.strip()\n",
    "    coords = coord_string.split(' ')\n",
    "    parsed_coords = []\n",
    "    for point in coords:\n",
    "        if point:\n",
    "            try:\n",
    "                components = point.split(',')\n",
    "                if len(components) >= 2: \n",
    "                    lat, lng = components[:2] \n",
    "                    parsed_coords.append((float(lat), float(lng)))\n",
    "            except ValueError as e:\n",
    "                print(f\"Erro ao processar o ponto '{point}': {e}\")\n",
    "                continue  \n",
    "    \n",
    "    return parsed_coords"
   ],
   "outputs": [],
   "execution_count": 172
  },
  {
   "cell_type": "code",
   "id": "6deadfc19fc5cd88",
   "metadata": {
    "tags": [],
    "ExecuteTime": {
     "end_time": "2024-05-02T12:40:20.697476Z",
     "start_time": "2024-05-02T12:40:20.694190Z"
    }
   },
   "source": "list_car = df_made_trip[df_made_trip['execution_date'] == '2024-04-30']['carro'].unique().tolist()",
   "outputs": [],
   "execution_count": 173
  },
  {
   "cell_type": "code",
   "id": "476c92563074ac51",
   "metadata": {
    "tags": [],
    "ExecuteTime": {
     "end_time": "2024-05-02T12:40:28.765306Z",
     "start_time": "2024-05-02T12:40:28.759181Z"
    }
   },
   "source": [
    "df_filtered = pd.merge(df_idle_route, df_made_trip, left_on=['data','carro'], right_on=['execution_date','carro'])"
   ],
   "outputs": [],
   "execution_count": 174
  },
  {
   "cell_type": "code",
   "id": "afddb667d5ea1d",
   "metadata": {
    "tags": [],
    "ExecuteTime": {
     "end_time": "2024-05-02T12:40:57.748827Z",
     "start_time": "2024-05-02T12:40:57.746056Z"
    }
   },
   "source": [
    "TOLERANCIA = 2.5"
   ],
   "outputs": [],
   "execution_count": 178
  },
  {
   "cell_type": "code",
   "id": "4ffd0e25a70fc94a",
   "metadata": {
    "tags": [],
    "ExecuteTime": {
     "end_time": "2024-05-02T12:40:58.292182Z",
     "start_time": "2024-05-02T12:40:58.289789Z"
    }
   },
   "source": [
    "DISTANCIA_TOLERANCIA = 1 #km "
   ],
   "outputs": [],
   "execution_count": 179
  },
  {
   "cell_type": "code",
   "id": "bf4b186b-823a-42d2-b326-8fbff9548266",
   "metadata": {
    "tags": [],
    "ExecuteTime": {
     "end_time": "2024-05-02T12:47:41.102842Z",
     "start_time": "2024-05-02T12:47:41.080507Z"
    }
   },
   "source": [
    "# Função para calcular a distância entre dois pontos usando a fórmula de Haversine\n",
    "def haversine(lon1, lat1, lon2, lat2):\n",
    "    lon1, lat1, lon2, lat2 = map(math.radians, [lon1, lat1, lon2, lat2])\n",
    "    dlon = lon2 - lon1\n",
    "    dlat = lat2 - lat1\n",
    "    a = math.sin(dlat / 2) ** 2 + math.cos(lat1) * math.cos(lat2) * math.sin(dlon / 2) ** 2\n",
    "    c = 2 * math.asin(math.sqrt(a))\n",
    "    r = 6371  # Radius of earth in kilometers. Use 3956 for miles\n",
    "    return c * r\n",
    "\n"
   ],
   "outputs": [],
   "execution_count": 196
  },
  {
   "metadata": {},
   "cell_type": "code",
   "outputs": [],
   "execution_count": null,
   "source": [
    "def parse_coordinates_format_dict(coord_data):\n",
    "    \"\"\"\n",
    "    Função para coordenadas no formato de lista de dicionários: [{'lat': lat, 'lng': lng}, ...]\n",
    "    \"\"\"\n",
    "    try:\n",
    "        result = [(coord['lat'], coord['lng']) for coord in coord_data]\n",
    "    except (KeyError, ValueError):\n",
    "        result = []\n",
    "    return result\n",
    "\n"
   ],
   "id": "345f6119e4ad996a"
  },
  {
   "metadata": {},
   "cell_type": "code",
   "outputs": [],
   "execution_count": null,
   "source": [
    "def parse_coordinates_format_list(coord_data):\n",
    "    \"\"\"\n",
    "    Função para coordenadas no formato de lista de listas: [[lng, lat], ...]\n",
    "    \"\"\"\n",
    "    try:\n",
    "        result = [(coord[1], coord[0]) for coord in coord_data]\n",
    "    except (IndexError, ValueError):\n",
    "        result = []\n",
    "    return result\n",
    "\n"
   ],
   "id": "ddad6aa417164b3e"
  },
  {
   "metadata": {},
   "cell_type": "code",
   "outputs": [],
   "execution_count": null,
   "source": [
    "def parse_coordinates_format_str(coord_data):\n",
    "    \"\"\"\n",
    "    Função para coordenadas no formato de string: lng, lat\n",
    "    \"\"\"\n",
    "    try:\n",
    "        coords = [coord.split(',') for coord in coord_data]\n",
    "        result = [(float(coord[1]), float(coord[0])) for coord in coords]\n",
    "    except (IndexError, ValueError):\n",
    "        result = []\n",
    "    return result\n",
    "\n"
   ],
   "id": "4ed138fd5aa0ff85"
  },
  {
   "metadata": {},
   "cell_type": "code",
   "outputs": [],
   "execution_count": null,
   "source": [
    "def parse_coordinates_format_text(coord_data):\n",
    "    \"\"\"\n",
    "    Função para coordenadas no formato de texto: \"lng,lat,alt lng,lat,alt ...\"\n",
    "    \"\"\"\n",
    "    try:\n",
    "        coords_list = coord_data.split(' ')\n",
    "        parsed_coords = [[float(coord.split(',')[1]), float(coord.split(',')[0])] for coord in coords_list]\n",
    "        return parsed_coords\n",
    "    except (IndexError, ValueError):\n",
    "        return []\n",
    "\n",
    "\n",
    "\n"
   ],
   "id": "1753f3f4ad1815fa"
  },
  {
   "metadata": {},
   "cell_type": "code",
   "outputs": [],
   "execution_count": null,
   "source": [
    "date_execution = '2024-04-30'\n",
    "def process_car(df_idle_route, df_made_trip, df_schedule, df_base_rota, car):\n",
    "    df_filtered = pd.merge(df_idle_route, df_made_trip, left_on=['data', 'carro'], right_on=['execution_date', 'carro'])\n",
    "    df_filtered = df_filtered[(df_filtered['data'] == date_execution) & (df_filtered['carro'] == car)]\n",
    "\n",
    "    if df_filtered.empty:\n",
    "        print(f\"Nenhum dado para o carro {car} no dia especificado.\")\n",
    "        return\n",
    "\n",
    "    # Inicializar um mapa\n",
    "    first_row = df_filtered.iloc[0]\n",
    "    lat_start = (first_row['geolocalizacao_ida'][0]['lat'] + first_row['geolocalizacao_volta'][0]['lat']) / 2\n",
    "    lng_start = (first_row['geolocalizacao_ida'][0]['lng'] + first_row['geolocalizacao_volta'][0]['lng']) / 2\n",
    "    m = folium.Map(location=[lat_start, lng_start], zoom_start=12)\n",
    "\n",
    "    # Plotar rotas ociosas\n",
    "    ida = parse_coordinates_format_dict(first_row['geolocalizacao_ida'])\n",
    "    volta = parse_coordinates_format_dict(first_row['geolocalizacao_volta'])\n",
    "    folium.PolyLine(ida, color='blue', weight=2.5, opacity=1, tooltip='Rota Ociosa - Ida').add_to(m)\n",
    "    folium.PolyLine(volta, color='red', weight=2.5, opacity=1, tooltip='Rota Ociosa - Volta').add_to(m)\n",
    "\n",
    "    # Plotar a rota realizada\n",
    "    made_trip = parse_coordinates_format_list(first_row['made_trip_coordinates'])\n",
    "    folium.PolyLine(made_trip, color='green', weight=2.5, opacity=1, tooltip='Rota Realizada').add_to(m)\n",
    "\n",
    "    # Para cada linha planejada, plotar a rota correspondente\n",
    "    list_line = df_schedule[(df_schedule['carro'] == car) & (df_schedule['date_execution'] == date_execution)]['linha'].values.tolist()\n",
    "    for line in list_line:\n",
    "        print(line)\n",
    "        df_base_rota_line = df_base_rota[df_base_rota['num_linha'] == line]\n",
    "        coordinates = df_base_rota_line['coordinates'].iloc[0]\n",
    "        if isinstance(coordinates, str):\n",
    "            parsed_coordinates = parse_coordinates_format_text(coordinates)\n",
    "        else:\n",
    "            parsed_coordinates = parse_coordinates_format_dict(coordinates)\n",
    "\n",
    "        # Plotar a rota planejada\n",
    "        folium.PolyLine(parsed_coordinates, color='purple', weight=2.5, opacity=0.5, dash_array='5, 5',tooltip=f'Linha {line}').add_to(m)\n",
    "\n",
    "    # Calcular distâncias\n",
    "    planned_distance = sum([haversine(ida[i][1], ida[i][0], ida[i+1][1], ida[i+1][0]) for i in range(len(ida)-1)])\n",
    "    planned_distance += sum([haversine(volta[i][1], volta[i][0], volta[i+1][1], volta[i+1][0]) for i in range(len(volta)-1)])\n",
    "    for route in list_line:\n",
    "        df_base_rota_line = df_base_rota[df_base_rota['num_linha'] == route]\n",
    "        coordinates = df_base_rota_line['coordinates'].iloc[0]\n",
    "        if isinstance(coordinates, str):\n",
    "            route_coords = parse_coordinates_format_text(coordinates)\n",
    "        else:\n",
    "            route_coords = parse_coordinates_format_dict(coordinates)\n",
    "        planned_distance += sum([haversine(route_coords[i][1], route_coords[i][0], route_coords[i+1][1], route_coords[i+1][0]) for i in range(len(route_coords)-1)])\n",
    "\n",
    "    real_distance = sum([haversine(made_trip[i][1], made_trip[i][0], made_trip[i+1][1], made_trip[i+1][0]) for i in range(len(made_trip)-1)])\n",
    "\n",
    "    # Adicionar informações sobre a distância percorrida\n",
    "    info_html = f\"\"\"\n",
    "    <div style=\"position: fixed; \n",
    "                 bottom: 50px; right: 50px; width: 300px; height: 115px; \n",
    "                 border:2px solid grey; z-index:9999; font-size:14px;\n",
    "                 background-color:white;\n",
    "                 \">&nbsp; <b>Informações de Distância:</b> <br>\n",
    "                   &nbsp; Data: {date_execution} <br>\n",
    "                   &nbsp; Distância Planejada: {planned_distance:.2f} km <br>\n",
    "                   &nbsp; Distância Realizada: {real_distance:.2f} km <br>\n",
    "                   &nbsp; Diferença de Distância: {planned_distance - real_distance:.2f} km <br>\n",
    " \n",
    "    </div>\n",
    "    \"\"\"\n",
    "    m.get_root().html.add_child(folium.Element(info_html))\n",
    "    mapa_filename = f'map_{car}.html'\n",
    "    m.save(f'./src/{mapa_filename}')\n",
    "    print(f\"Mapa salvo como {mapa_filename}\")"
   ],
   "id": "114565e92c4f715e"
  },
  {
   "cell_type": "code",
   "id": "b5f28f33-1246-42ae-bb3d-9228622c643f",
   "metadata": {
    "tags": [],
    "ExecuteTime": {
     "end_time": "2024-05-02T12:47:42.050986Z",
     "start_time": "2024-05-02T12:47:41.609020Z"
    }
   },
   "source": [
    "for car in list_car:\n",
    "    print(car)\n",
    "    process_car(df_idle_route, df_made_trip, df_schedule, df_base_rota, car)"
   ],
   "outputs": [
    {
     "name": "stdout",
     "output_type": "stream",
     "text": [
      "20238\n",
      "401\n",
      "400A\n",
      "015A\n",
      "400A\n",
      "401\n",
      "911B\n",
      "400A\n",
      "401\n",
      "401\n",
      "Mapa salvo como map_20238.html\n",
      "20018\n",
      "401\n",
      "400A\n",
      "176A\n",
      "160A\n",
      "400A\n",
      "400A\n",
      "401\n",
      "Mapa salvo como map_20018.html\n",
      "20360\n",
      "015A\n",
      "400A\n",
      "176A\n",
      "401\n",
      "911B\n",
      "400A\n",
      "Mapa salvo como map_20360.html\n",
      "20362\n",
      "915A\n",
      "401\n",
      "401\n",
      "401\n",
      "401\n",
      "400A\n",
      "Mapa salvo como map_20362.html\n",
      "20021\n",
      "176A\n",
      "160A\n",
      "015A\n",
      "915B\n",
      "015A\n",
      "Mapa salvo como map_20021.html\n",
      "20224\n",
      "015A\n",
      "915A\n",
      "400A\n",
      "Mapa salvo como map_20224.html\n",
      "20048\n",
      "400A\n",
      "911A\n",
      "400A\n",
      "176A\n",
      "015A\n",
      "023A\n",
      "400A\n",
      "Mapa salvo como map_20048.html\n",
      "20019\n",
      "401\n",
      "400A\n",
      "911A\n",
      "400A\n",
      "401\n",
      "911B\n",
      "911B\n",
      "160A\n",
      "403B\n",
      "Mapa salvo como map_20019.html\n",
      "20357\n",
      "015A\n",
      "015A\n",
      "176A\n",
      "160A\n",
      "176A\n",
      "400A\n",
      "160A\n",
      "Mapa salvo como map_20357.html\n"
     ]
    }
   ],
   "execution_count": 197
  }
 ],
 "metadata": {
  "kernelspec": {
   "display_name": "Python 3 (ipykernel)",
   "language": "python",
   "name": "python3"
  },
  "language_info": {
   "codemirror_mode": {
    "name": "ipython",
    "version": 3
   },
   "file_extension": ".py",
   "mimetype": "text/x-python",
   "name": "python",
   "nbconvert_exporter": "python",
   "pygments_lexer": "ipython3",
   "version": "3.11.8"
  }
 },
 "nbformat": 4,
 "nbformat_minor": 5
}
