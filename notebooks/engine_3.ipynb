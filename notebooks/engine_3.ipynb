{
 "cells": [
  {
   "cell_type": "code",
   "execution_count": 1,
   "id": "initial_id",
   "metadata": {
    "ExecuteTime": {
     "end_time": "2024-04-23T19:17:56.559754Z",
     "start_time": "2024-04-23T19:17:56.556628Z"
    },
    "tags": []
   },
   "outputs": [
    {
     "name": "stderr",
     "output_type": "stream",
     "text": [
      "/home/marcelo-borges/anaconda3/lib/python3.11/site-packages/pandas/core/arrays/masked.py:60: UserWarning: Pandas requires version '1.3.6' or newer of 'bottleneck' (version '1.3.5' currently installed).\n",
      "  from pandas.core import (\n"
     ]
    }
   ],
   "source": [
    "from xml.etree import ElementTree as ET\n",
    "import folium\n",
    "import numpy as np\n",
    "from shapely.geometry import Point, LineString\n",
    "import pandas as pd\n",
    "from sqlalchemy import create_engine\n",
    "from math import radians, cos, sin, sqrt, atan2, asin\n",
    "import math\n",
    "import ast\n",
    "import json"
   ]
  },
  {
   "cell_type": "code",
   "execution_count": 2,
   "id": "a771afed374aca2a",
   "metadata": {
    "ExecuteTime": {
     "end_time": "2024-04-23T19:17:56.714345Z",
     "start_time": "2024-04-23T19:17:56.711526Z"
    },
    "tags": []
   },
   "outputs": [],
   "source": [
    "dbname = 'poc-db'\n",
    "user = 'adminpoc'\n",
    "password = 'adminpoc'\n",
    "host = 'localhost'\n",
    "port = '5440' "
   ]
  },
  {
   "cell_type": "code",
   "execution_count": 3,
   "id": "dc5fd6807bbf6c48",
   "metadata": {
    "ExecuteTime": {
     "end_time": "2024-04-23T19:17:56.796337Z",
     "start_time": "2024-04-23T19:17:56.792965Z"
    },
    "tags": []
   },
   "outputs": [],
   "source": [
    "engine = create_engine(f'postgresql://{user}:{password}@{host}:{port}/{dbname}')"
   ]
  },
  {
   "cell_type": "code",
   "execution_count": 4,
   "id": "df9086c5e319d664",
   "metadata": {
    "ExecuteTime": {
     "end_time": "2024-04-23T19:17:56.835860Z",
     "start_time": "2024-04-23T19:17:56.833458Z"
    },
    "tags": []
   },
   "outputs": [],
   "source": [
    "ns = {'kml': 'http://www.opengis.net/kml/2.2'}"
   ]
  },
  {
   "cell_type": "code",
   "execution_count": 5,
   "id": "ae4515a784826c4",
   "metadata": {
    "ExecuteTime": {
     "end_time": "2024-04-23T19:17:56.880156Z",
     "start_time": "2024-04-23T19:17:56.877431Z"
    },
    "tags": []
   },
   "outputs": [],
   "source": [
    "planned_trip_path = '../notebooks/data/1.1 LINHAS RMTC [2023-11-29].kml'"
   ]
  },
  {
   "cell_type": "code",
   "execution_count": 6,
   "id": "c2b8b6acd8f6ee08",
   "metadata": {
    "ExecuteTime": {
     "end_time": "2024-04-23T19:17:56.899724Z",
     "start_time": "2024-04-23T19:17:56.897505Z"
    },
    "tags": []
   },
   "outputs": [],
   "source": [
    "sql_idle_route = \"\"\" \n",
    "SELECT \"data\", carro, first_travel, last_travel, geolocalizacao_ida, geolocalizacao_volta\n",
    "FROM hp.gld_idle_route;\n",
    "\"\"\""
   ]
  },
  {
   "cell_type": "code",
   "execution_count": 7,
   "id": "15dabf35cc8c3524",
   "metadata": {
    "ExecuteTime": {
     "end_time": "2024-04-23T19:17:56.924251Z",
     "start_time": "2024-04-23T19:17:56.922149Z"
    },
    "tags": []
   },
   "outputs": [],
   "source": [
    "sql_schedule = \"\"\" \n",
    "SELECT date_execution, linha, carro, re, nome\n",
    "FROM hp.slv_schedule;\n",
    "\"\"\""
   ]
  },
  {
   "cell_type": "code",
   "execution_count": 8,
   "id": "abb172c4eb4b8aeb",
   "metadata": {
    "ExecuteTime": {
     "end_time": "2024-04-23T19:18:02.558234Z",
     "start_time": "2024-04-23T19:17:56.940057Z"
    },
    "tags": []
   },
   "outputs": [],
   "source": [
    "df_idle_route = pd.read_sql_query(sql_idle_route, engine)"
   ]
  },
  {
   "cell_type": "code",
   "execution_count": 9,
   "id": "990930acf3a57e32",
   "metadata": {
    "ExecuteTime": {
     "end_time": "2024-04-23T19:18:02.763146Z",
     "start_time": "2024-04-23T19:18:02.559464Z"
    },
    "tags": []
   },
   "outputs": [
    {
     "data": {
      "text/html": [
       "<div>\n",
       "<style scoped>\n",
       "    .dataframe tbody tr th:only-of-type {\n",
       "        vertical-align: middle;\n",
       "    }\n",
       "\n",
       "    .dataframe tbody tr th {\n",
       "        vertical-align: top;\n",
       "    }\n",
       "\n",
       "    .dataframe thead th {\n",
       "        text-align: right;\n",
       "    }\n",
       "</style>\n",
       "<table border=\"1\" class=\"dataframe\">\n",
       "  <thead>\n",
       "    <tr style=\"text-align: right;\">\n",
       "      <th></th>\n",
       "      <th>data</th>\n",
       "      <th>carro</th>\n",
       "      <th>first_travel</th>\n",
       "      <th>last_travel</th>\n",
       "      <th>geolocalizacao_ida</th>\n",
       "      <th>geolocalizacao_volta</th>\n",
       "    </tr>\n",
       "  </thead>\n",
       "  <tbody>\n",
       "    <tr>\n",
       "      <th>0</th>\n",
       "      <td>2024-03-12</td>\n",
       "      <td>20442</td>\n",
       "      <td>603A</td>\n",
       "      <td>603B</td>\n",
       "      <td>[{'lat': -16.76350454639546, 'lng': -49.270226...</td>\n",
       "      <td>[{'lat': -16.824009382344, 'lng': -49.30804048...</td>\n",
       "    </tr>\n",
       "    <tr>\n",
       "      <th>1</th>\n",
       "      <td>2024-03-13</td>\n",
       "      <td>20318</td>\n",
       "      <td>574A</td>\n",
       "      <td>574A</td>\n",
       "      <td>[{'lat': -16.70513240150447, 'lng': -49.300648...</td>\n",
       "      <td>[{'lat': -16.70948506823616, 'lng': -49.309943...</td>\n",
       "    </tr>\n",
       "    <tr>\n",
       "      <th>2</th>\n",
       "      <td>2024-03-08</td>\n",
       "      <td>20324</td>\n",
       "      <td>026A</td>\n",
       "      <td>026C</td>\n",
       "      <td>[{'lat': -16.70513240150447, 'lng': -49.300648...</td>\n",
       "      <td>[{'lat': -16.70948506823616, 'lng': -49.309943...</td>\n",
       "    </tr>\n",
       "    <tr>\n",
       "      <th>3</th>\n",
       "      <td>2024-03-20</td>\n",
       "      <td>20434</td>\n",
       "      <td>006B</td>\n",
       "      <td>010A</td>\n",
       "      <td>[{'lat': -16.76350454639546, 'lng': -49.270226...</td>\n",
       "      <td>[{'lat': -16.78750134432972, 'lng': -49.278417...</td>\n",
       "    </tr>\n",
       "    <tr>\n",
       "      <th>4</th>\n",
       "      <td>2024-04-16</td>\n",
       "      <td>20308</td>\n",
       "      <td>028A</td>\n",
       "      <td>281A</td>\n",
       "      <td>[{'lat': -16.70513240150447, 'lng': -49.300648...</td>\n",
       "      <td>[{'lat': -16.70948506823616, 'lng': -49.309943...</td>\n",
       "    </tr>\n",
       "    <tr>\n",
       "      <th>...</th>\n",
       "      <td>...</td>\n",
       "      <td>...</td>\n",
       "      <td>...</td>\n",
       "      <td>...</td>\n",
       "      <td>...</td>\n",
       "      <td>...</td>\n",
       "    </tr>\n",
       "    <tr>\n",
       "      <th>13481</th>\n",
       "      <td>2024-04-03</td>\n",
       "      <td>20488</td>\n",
       "      <td>213C</td>\n",
       "      <td>213B</td>\n",
       "      <td>[{'lat': -16.76350421438977, 'lng': -49.270228...</td>\n",
       "      <td>[{'lat': -16.81183465185691, 'lng': -49.241870...</td>\n",
       "    </tr>\n",
       "    <tr>\n",
       "      <th>13482</th>\n",
       "      <td>2024-04-15</td>\n",
       "      <td>20362</td>\n",
       "      <td>400A</td>\n",
       "      <td>400A</td>\n",
       "      <td>[{'lat': -16.705151223923, 'lng': -49.30067673...</td>\n",
       "      <td>[{'lat': -16.673411078397, 'lng': -49.28460794...</td>\n",
       "    </tr>\n",
       "    <tr>\n",
       "      <th>13483</th>\n",
       "      <td>2024-03-25</td>\n",
       "      <td>20432</td>\n",
       "      <td>010B</td>\n",
       "      <td>006C</td>\n",
       "      <td>[{'lat': -16.76350454639546, 'lng': -49.270226...</td>\n",
       "      <td>[{'lat': -16.78750134432972, 'lng': -49.278417...</td>\n",
       "    </tr>\n",
       "    <tr>\n",
       "      <th>13484</th>\n",
       "      <td>2024-03-04</td>\n",
       "      <td>20485</td>\n",
       "      <td>002A</td>\n",
       "      <td>208A</td>\n",
       "      <td>[{'lat': -16.76353, 'lng': -49.27021}, {'lat':...</td>\n",
       "      <td>[{'lat': -16.74761406304063, 'lng': -49.205439...</td>\n",
       "    </tr>\n",
       "    <tr>\n",
       "      <th>13485</th>\n",
       "      <td>2024-03-30</td>\n",
       "      <td>20229</td>\n",
       "      <td>326A</td>\n",
       "      <td>020A</td>\n",
       "      <td>[{'lat': -16.70507873620496, 'lng': -49.300697...</td>\n",
       "      <td>[{'lat': -16.76513425403492, 'lng': -49.348903...</td>\n",
       "    </tr>\n",
       "  </tbody>\n",
       "</table>\n",
       "<p>13486 rows × 6 columns</p>\n",
       "</div>"
      ],
      "text/plain": [
       "             data  carro first_travel last_travel  \\\n",
       "0      2024-03-12  20442         603A        603B   \n",
       "1      2024-03-13  20318         574A        574A   \n",
       "2      2024-03-08  20324         026A        026C   \n",
       "3      2024-03-20  20434         006B        010A   \n",
       "4      2024-04-16  20308         028A        281A   \n",
       "...           ...    ...          ...         ...   \n",
       "13481  2024-04-03  20488         213C        213B   \n",
       "13482  2024-04-15  20362         400A        400A   \n",
       "13483  2024-03-25  20432         010B        006C   \n",
       "13484  2024-03-04  20485         002A        208A   \n",
       "13485  2024-03-30  20229         326A        020A   \n",
       "\n",
       "                                      geolocalizacao_ida  \\\n",
       "0      [{'lat': -16.76350454639546, 'lng': -49.270226...   \n",
       "1      [{'lat': -16.70513240150447, 'lng': -49.300648...   \n",
       "2      [{'lat': -16.70513240150447, 'lng': -49.300648...   \n",
       "3      [{'lat': -16.76350454639546, 'lng': -49.270226...   \n",
       "4      [{'lat': -16.70513240150447, 'lng': -49.300648...   \n",
       "...                                                  ...   \n",
       "13481  [{'lat': -16.76350421438977, 'lng': -49.270228...   \n",
       "13482  [{'lat': -16.705151223923, 'lng': -49.30067673...   \n",
       "13483  [{'lat': -16.76350454639546, 'lng': -49.270226...   \n",
       "13484  [{'lat': -16.76353, 'lng': -49.27021}, {'lat':...   \n",
       "13485  [{'lat': -16.70507873620496, 'lng': -49.300697...   \n",
       "\n",
       "                                    geolocalizacao_volta  \n",
       "0      [{'lat': -16.824009382344, 'lng': -49.30804048...  \n",
       "1      [{'lat': -16.70948506823616, 'lng': -49.309943...  \n",
       "2      [{'lat': -16.70948506823616, 'lng': -49.309943...  \n",
       "3      [{'lat': -16.78750134432972, 'lng': -49.278417...  \n",
       "4      [{'lat': -16.70948506823616, 'lng': -49.309943...  \n",
       "...                                                  ...  \n",
       "13481  [{'lat': -16.81183465185691, 'lng': -49.241870...  \n",
       "13482  [{'lat': -16.673411078397, 'lng': -49.28460794...  \n",
       "13483  [{'lat': -16.78750134432972, 'lng': -49.278417...  \n",
       "13484  [{'lat': -16.74761406304063, 'lng': -49.205439...  \n",
       "13485  [{'lat': -16.76513425403492, 'lng': -49.348903...  \n",
       "\n",
       "[13486 rows x 6 columns]"
      ]
     },
     "execution_count": 9,
     "metadata": {},
     "output_type": "execute_result"
    }
   ],
   "source": [
    "df_idle_route"
   ]
  },
  {
   "cell_type": "code",
   "execution_count": 10,
   "id": "e6303d81c3e00949",
   "metadata": {
    "ExecuteTime": {
     "end_time": "2024-04-23T19:18:02.767078Z",
     "start_time": "2024-04-23T19:18:02.763892Z"
    },
    "tags": []
   },
   "outputs": [],
   "source": [
    "def read_and_extract_placemarks(file_path, namespace):\n",
    "    \"\"\" \n",
    "    :param: file_path: caminho para o arquivo kml\n",
    "    :return: lista de dicionários com os nomes e coordenadas dos placemarks\n",
    "\n",
    "    A função lê um arquivo kml e extrai os placemarks, retornando uma lista de dicionários com os nomes e coordenadas dos placemarks.\n",
    "    \"\"\"\n",
    "    tree = ET.parse(file_path)\n",
    "    root = tree.getroot()\n",
    "    placemarks = []\n",
    "    for placemark in root.findall('.//kml:Placemark', namespace):\n",
    "        name = placemark.find('kml:name', namespace).text if placemark.find('kml:name', namespace) is not None else \"Unnamed\"\n",
    "        coordinates = placemark.find('.//kml:coordinates', namespace).text.strip() if placemark.find('.//kml:coordinates', namespace) is not None else \"No coordinates\"\n",
    "        placemarks.append({'name': name, 'coordinates': coordinates})\n",
    "    return placemarks"
   ]
  },
  {
   "cell_type": "code",
   "execution_count": 11,
   "id": "113d484d78aa8a23",
   "metadata": {
    "ExecuteTime": {
     "end_time": "2024-04-23T19:18:02.925963Z",
     "start_time": "2024-04-23T19:18:02.768554Z"
    },
    "tags": []
   },
   "outputs": [],
   "source": [
    "placemarks_line_bd = read_and_extract_placemarks(planned_trip_path, ns)"
   ]
  },
  {
   "cell_type": "code",
   "execution_count": 12,
   "id": "bc53c66768420a5e",
   "metadata": {
    "ExecuteTime": {
     "end_time": "2024-04-23T19:18:02.929841Z",
     "start_time": "2024-04-23T19:18:02.926930Z"
    },
    "tags": []
   },
   "outputs": [],
   "source": [
    "df_base_rota = pd.DataFrame(placemarks_line_bd)"
   ]
  },
  {
   "cell_type": "code",
   "execution_count": 13,
   "id": "a5a9aaab7e397ec6",
   "metadata": {
    "ExecuteTime": {
     "end_time": "2024-04-23T19:18:02.934032Z",
     "start_time": "2024-04-23T19:18:02.930970Z"
    },
    "tags": []
   },
   "outputs": [],
   "source": [
    "df_base_rota['Código'] = df_base_rota['name'].apply(lambda x: x.split('-', 1)[0])"
   ]
  },
  {
   "cell_type": "code",
   "execution_count": 14,
   "id": "623e0bf7f912b0c7",
   "metadata": {
    "ExecuteTime": {
     "end_time": "2024-04-23T19:18:02.939158Z",
     "start_time": "2024-04-23T19:18:02.934898Z"
    },
    "tags": []
   },
   "outputs": [],
   "source": [
    "df_base_rota['identificacao'] = df_base_rota['name'].apply(lambda x: x.split('-', 1)[1])\n",
    "df_base_rota['identificacao'] = df_base_rota['identificacao'].apply(lambda x: x.split('- ', 1)[0])\n",
    "df_base_rota['identificacao'] = df_base_rota['identificacao'].apply(lambda x: x.split(' ', 1)[0])"
   ]
  },
  {
   "cell_type": "code",
   "execution_count": 15,
   "id": "b6bbb20e5124e923",
   "metadata": {
    "ExecuteTime": {
     "end_time": "2024-04-23T19:18:02.947152Z",
     "start_time": "2024-04-23T19:18:02.940101Z"
    },
    "tags": []
   },
   "outputs": [],
   "source": [
    "df_base_rota['Código'] = df_base_rota['name'].apply(lambda x: x.split('-', 1)[0])\n",
    "df_base_rota['Descrição e Sentido'] = df_base_rota['name'].apply(lambda x: x.split(' - ', 1)[1] if ' - ' in x else '')\n",
    "df_base_rota['Descrição'] = df_base_rota['Descrição e Sentido'].apply(lambda x: x.rsplit(' - ', 1)[0] if ' - ' in x else x)\n",
    "df_base_rota['Sentido'] = df_base_rota['Descrição e Sentido'].apply(lambda x: x.rsplit(' - ', 1)[1] if ' - ' in x else '')\n",
    "df_base_rota.drop('Descrição e Sentido', axis=1, inplace=True)"
   ]
  },
  {
   "cell_type": "code",
   "execution_count": 16,
   "id": "e37d15cdf8f772b6",
   "metadata": {
    "ExecuteTime": {
     "end_time": "2024-04-23T19:18:02.950637Z",
     "start_time": "2024-04-23T19:18:02.948021Z"
    },
    "tags": []
   },
   "outputs": [],
   "source": [
    "de_para = {\n",
    "    '1': 'A', '2': 'B', '3': 'C', '4': 'D', '5': 'E',\n",
    "    '6': 'F', '7': 'G', '8': 'H', '9': 'I', '21': 'A',\n",
    "    '22': 'B', '23': 'C', '24': 'D', '25': 'E', '26': 'F',\n",
    "    '27': 'G', '28': 'H', '29': 'I', '31': 'A', '32': 'B',\n",
    "    '33': 'C', '34': 'D', '35': 'E', '36': 'F', '37': 'G',\n",
    "    '38': 'H', '39': 'I'\n",
    "}"
   ]
  },
  {
   "cell_type": "code",
   "execution_count": 17,
   "id": "5a08364da9796fdd",
   "metadata": {
    "ExecuteTime": {
     "end_time": "2024-04-23T19:18:02.955423Z",
     "start_time": "2024-04-23T19:18:02.952675Z"
    },
    "tags": []
   },
   "outputs": [],
   "source": [
    "df_base_rota['sublinha'] = df_base_rota['identificacao'].apply(lambda x: de_para[x[:-1]])"
   ]
  },
  {
   "cell_type": "code",
   "execution_count": 18,
   "id": "f3a0c8809f4cc5ba",
   "metadata": {
    "ExecuteTime": {
     "end_time": "2024-04-23T19:18:02.958858Z",
     "start_time": "2024-04-23T19:18:02.956176Z"
    },
    "tags": []
   },
   "outputs": [],
   "source": [
    "df_base_rota['num_linha'] = df_base_rota['Código'].astype(str) + df_base_rota['sublinha']"
   ]
  },
  {
   "cell_type": "code",
   "execution_count": 227,
   "id": "d22a38e689ea36bf",
   "metadata": {
    "ExecuteTime": {
     "end_time": "2024-04-23T19:18:02.967953Z",
     "start_time": "2024-04-23T19:18:02.959692Z"
    },
    "tags": []
   },
   "outputs": [],
   "source": [
    "# Substituir todos os valores \"401A\" por \"401\" na coluna \"num_linha\" do DataFrame df_base_rota\n",
    "df_base_rota['num_linha'] = df_base_rota['num_linha'].replace('401A', '401')"
   ]
  },
  {
   "cell_type": "code",
   "execution_count": 20,
   "id": "6645f9e3172d4eb6",
   "metadata": {
    "ExecuteTime": {
     "end_time": "2024-04-23T19:18:03.316052Z",
     "start_time": "2024-04-23T19:18:02.968792Z"
    },
    "tags": []
   },
   "outputs": [],
   "source": [
    "df_schedule = pd.read_sql_query(sql_schedule, engine)"
   ]
  },
  {
   "cell_type": "code",
   "execution_count": 21,
   "id": "5d3d33a78490391c",
   "metadata": {
    "ExecuteTime": {
     "end_time": "2024-04-23T19:18:03.328412Z",
     "start_time": "2024-04-23T19:18:03.317074Z"
    },
    "tags": []
   },
   "outputs": [],
   "source": [
    "df_schedule['date_execution'] = pd.to_datetime(df_schedule['date_execution']) "
   ]
  },
  {
   "cell_type": "code",
   "execution_count": 143,
   "id": "f595870d-6a1e-4c5a-9487-dca2b8448443",
   "metadata": {
    "tags": []
   },
   "outputs": [],
   "source": [
    "df_schedule['linha']=df_schedule['linha'].str.strip()"
   ]
  },
  {
   "cell_type": "code",
   "execution_count": 144,
   "id": "55d255fcd5b3e786",
   "metadata": {
    "ExecuteTime": {
     "end_time": "2024-04-23T19:18:03.338817Z",
     "start_time": "2024-04-23T19:18:03.329262Z"
    },
    "tags": []
   },
   "outputs": [
    {
     "data": {
      "text/html": [
       "<div>\n",
       "<style scoped>\n",
       "    .dataframe tbody tr th:only-of-type {\n",
       "        vertical-align: middle;\n",
       "    }\n",
       "\n",
       "    .dataframe tbody tr th {\n",
       "        vertical-align: top;\n",
       "    }\n",
       "\n",
       "    .dataframe thead th {\n",
       "        text-align: right;\n",
       "    }\n",
       "</style>\n",
       "<table border=\"1\" class=\"dataframe\">\n",
       "  <thead>\n",
       "    <tr style=\"text-align: right;\">\n",
       "      <th></th>\n",
       "      <th>linha</th>\n",
       "      <th>carro</th>\n",
       "      <th>re</th>\n",
       "      <th>nome</th>\n",
       "    </tr>\n",
       "  </thead>\n",
       "  <tbody>\n",
       "    <tr>\n",
       "      <th>180</th>\n",
       "      <td>117A</td>\n",
       "      <td>1201</td>\n",
       "      <td>000007200</td>\n",
       "      <td>LINDOMAR ANTONIO GARCIA</td>\n",
       "    </tr>\n",
       "    <tr>\n",
       "      <th>182</th>\n",
       "      <td>117A</td>\n",
       "      <td>1201</td>\n",
       "      <td>000007200</td>\n",
       "      <td>LINDOMAR ANTONIO GARCIA</td>\n",
       "    </tr>\n",
       "    <tr>\n",
       "      <th>184</th>\n",
       "      <td>117A</td>\n",
       "      <td>1201</td>\n",
       "      <td>000007200</td>\n",
       "      <td>LINDOMAR ANTONIO GARCIA</td>\n",
       "    </tr>\n",
       "    <tr>\n",
       "      <th>186</th>\n",
       "      <td>117A</td>\n",
       "      <td>1201</td>\n",
       "      <td>000018995</td>\n",
       "      <td>RICARDO ALEXANDRE CHAVES</td>\n",
       "    </tr>\n",
       "    <tr>\n",
       "      <th>188</th>\n",
       "      <td>117A</td>\n",
       "      <td>1201</td>\n",
       "      <td>000018995</td>\n",
       "      <td>RICARDO ALEXANDRE CHAVES</td>\n",
       "    </tr>\n",
       "    <tr>\n",
       "      <th>...</th>\n",
       "      <td>...</td>\n",
       "      <td>...</td>\n",
       "      <td>...</td>\n",
       "      <td>...</td>\n",
       "    </tr>\n",
       "    <tr>\n",
       "      <th>92855</th>\n",
       "      <td>026A</td>\n",
       "      <td>20998</td>\n",
       "      <td>000018886</td>\n",
       "      <td>EZEQUIEL DA SILVA HUTIM</td>\n",
       "    </tr>\n",
       "    <tr>\n",
       "      <th>92856</th>\n",
       "      <td>028A</td>\n",
       "      <td>20998</td>\n",
       "      <td>000017239</td>\n",
       "      <td>RONES SOARES DOS SANTOS</td>\n",
       "    </tr>\n",
       "    <tr>\n",
       "      <th>92857</th>\n",
       "      <td>027A</td>\n",
       "      <td>20998</td>\n",
       "      <td>000017239</td>\n",
       "      <td>RONES SOARES DOS SANTOS</td>\n",
       "    </tr>\n",
       "    <tr>\n",
       "      <th>92858</th>\n",
       "      <td>028A</td>\n",
       "      <td>20998</td>\n",
       "      <td>000017239</td>\n",
       "      <td>RONES SOARES DOS SANTOS</td>\n",
       "    </tr>\n",
       "    <tr>\n",
       "      <th>92859</th>\n",
       "      <td>027A</td>\n",
       "      <td>20998</td>\n",
       "      <td>000017239</td>\n",
       "      <td>RONES SOARES DOS SANTOS</td>\n",
       "    </tr>\n",
       "  </tbody>\n",
       "</table>\n",
       "<p>4352 rows × 4 columns</p>\n",
       "</div>"
      ],
      "text/plain": [
       "      linha  carro         re                      nome\n",
       "180    117A   1201  000007200   LINDOMAR ANTONIO GARCIA\n",
       "182    117A   1201  000007200   LINDOMAR ANTONIO GARCIA\n",
       "184    117A   1201  000007200   LINDOMAR ANTONIO GARCIA\n",
       "186    117A   1201  000018995  RICARDO ALEXANDRE CHAVES\n",
       "188    117A   1201  000018995  RICARDO ALEXANDRE CHAVES\n",
       "...     ...    ...        ...                       ...\n",
       "92855  026A  20998  000018886   EZEQUIEL DA SILVA HUTIM\n",
       "92856  028A  20998  000017239   RONES SOARES DOS SANTOS\n",
       "92857  027A  20998  000017239   RONES SOARES DOS SANTOS\n",
       "92858  028A  20998  000017239   RONES SOARES DOS SANTOS\n",
       "92859  027A  20998  000017239   RONES SOARES DOS SANTOS\n",
       "\n",
       "[4352 rows x 4 columns]"
      ]
     },
     "execution_count": 144,
     "metadata": {},
     "output_type": "execute_result"
    }
   ],
   "source": [
    "df_schedule[df_schedule['date_execution'] == '2024-04-15'][['linha', 'carro', 're', 'nome']]"
   ]
  },
  {
   "cell_type": "code",
   "execution_count": 145,
   "id": "61e24f8d2f09a2cc",
   "metadata": {
    "ExecuteTime": {
     "end_time": "2024-04-23T19:18:03.342256Z",
     "start_time": "2024-04-23T19:18:03.339652Z"
    },
    "tags": []
   },
   "outputs": [],
   "source": [
    "list_car = df_schedule['carro'].unique().tolist()"
   ]
  },
  {
   "cell_type": "code",
   "execution_count": 146,
   "id": "2b28d0489256205e",
   "metadata": {
    "ExecuteTime": {
     "end_time": "2024-04-23T19:18:03.345274Z",
     "start_time": "2024-04-23T19:18:03.343095Z"
    },
    "tags": []
   },
   "outputs": [],
   "source": [
    "sql_made_trip = \"\"\" \n",
    "SELECT registration, carro, made_trip_coordinates, execution_date\n",
    "FROM hp.slv_made_trip;\n",
    "\n",
    "\"\"\""
   ]
  },
  {
   "cell_type": "code",
   "execution_count": 147,
   "id": "7077d943f2329ba7",
   "metadata": {
    "ExecuteTime": {
     "end_time": "2024-04-23T19:18:04.115986Z",
     "start_time": "2024-04-23T19:18:03.346154Z"
    },
    "tags": []
   },
   "outputs": [],
   "source": [
    "df_made_trip = pd.read_sql_query(sql_made_trip,engine)"
   ]
  },
  {
   "cell_type": "code",
   "execution_count": 148,
   "id": "19a8867fa3975b67",
   "metadata": {
    "ExecuteTime": {
     "end_time": "2024-04-23T19:18:04.124119Z",
     "start_time": "2024-04-23T19:18:04.117011Z"
    },
    "tags": []
   },
   "outputs": [],
   "source": [
    "df_idle_route['data'] = pd.to_datetime(df_idle_route['data'])"
   ]
  },
  {
   "cell_type": "code",
   "execution_count": 149,
   "id": "f863c1351dbefe56",
   "metadata": {
    "ExecuteTime": {
     "end_time": "2024-04-23T19:18:04.128324Z",
     "start_time": "2024-04-23T19:18:04.125171Z"
    },
    "tags": []
   },
   "outputs": [],
   "source": [
    "df_made_trip['execution_date'] = pd.to_datetime(df_made_trip['execution_date'])"
   ]
  },
  {
   "cell_type": "code",
   "execution_count": 150,
   "id": "f4599fe70e18e085",
   "metadata": {
    "ExecuteTime": {
     "end_time": "2024-04-23T19:18:04.132523Z",
     "start_time": "2024-04-23T19:18:04.129549Z"
    },
    "tags": []
   },
   "outputs": [],
   "source": [
    "df_made_trip['carro'] = pd.to_numeric(df_made_trip['carro'])"
   ]
  },
  {
   "cell_type": "code",
   "execution_count": 151,
   "id": "fc70a9996158e14b",
   "metadata": {
    "ExecuteTime": {
     "end_time": "2024-04-23T19:18:04.138808Z",
     "start_time": "2024-04-23T19:18:04.133288Z"
    },
    "tags": []
   },
   "outputs": [],
   "source": [
    "df_test = pd.merge(df_idle_route, df_made_trip, left_on=['data','carro'], right_on=['execution_date','carro'])"
   ]
  },
  {
   "cell_type": "code",
   "execution_count": 152,
   "id": "11b7b19b68bcdaee",
   "metadata": {
    "ExecuteTime": {
     "end_time": "2024-04-23T19:18:04.142801Z",
     "start_time": "2024-04-23T19:18:04.139761Z"
    },
    "tags": []
   },
   "outputs": [],
   "source": [
    "list_line = df_schedule[(df_schedule['carro'] == 20018) & (df_schedule['date_execution'] == '2024-04-15')]['linha'].values.tolist()"
   ]
  },
  {
   "cell_type": "code",
   "execution_count": 153,
   "id": "f223aede92b4e5c1",
   "metadata": {
    "ExecuteTime": {
     "end_time": "2024-04-23T19:18:04.146585Z",
     "start_time": "2024-04-23T19:18:04.143594Z"
    },
    "tags": []
   },
   "outputs": [
    {
     "data": {
      "text/plain": [
       "['015A',\n",
       " '015A',\n",
       " '176A',\n",
       " '160A',\n",
       " '176A',\n",
       " '400A',\n",
       " '160A',\n",
       " '015A',\n",
       " '015A',\n",
       " '176A',\n",
       " '160A',\n",
       " '176A',\n",
       " '400A',\n",
       " '160A']"
      ]
     },
     "execution_count": 153,
     "metadata": {},
     "output_type": "execute_result"
    }
   ],
   "source": [
    "list_line"
   ]
  },
  {
   "cell_type": "code",
   "execution_count": 154,
   "id": "ae78be18a4d2d4dd",
   "metadata": {
    "ExecuteTime": {
     "end_time": "2024-04-23T19:18:04.153326Z",
     "start_time": "2024-04-23T19:18:04.147290Z"
    },
    "tags": []
   },
   "outputs": [
    {
     "data": {
      "text/html": [
       "<div>\n",
       "<style scoped>\n",
       "    .dataframe tbody tr th:only-of-type {\n",
       "        vertical-align: middle;\n",
       "    }\n",
       "\n",
       "    .dataframe tbody tr th {\n",
       "        vertical-align: top;\n",
       "    }\n",
       "\n",
       "    .dataframe thead th {\n",
       "        text-align: right;\n",
       "    }\n",
       "</style>\n",
       "<table border=\"1\" class=\"dataframe\">\n",
       "  <thead>\n",
       "    <tr style=\"text-align: right;\">\n",
       "      <th></th>\n",
       "      <th>name</th>\n",
       "      <th>coordinates</th>\n",
       "      <th>Código</th>\n",
       "      <th>identificacao</th>\n",
       "      <th>Descrição</th>\n",
       "      <th>Sentido</th>\n",
       "      <th>sublinha</th>\n",
       "      <th>num_linha</th>\n",
       "    </tr>\n",
       "  </thead>\n",
       "  <tbody>\n",
       "    <tr>\n",
       "      <th>316</th>\n",
       "      <td>176-1i - T. PRACA A / CAIS CAMPINAS / SANTA HE...</td>\n",
       "      <td>-49.284614,-16.673452,0 -49.284557997,-16.6734...</td>\n",
       "      <td>176</td>\n",
       "      <td>1i</td>\n",
       "      <td>T. PRACA A / CAIS CAMPINAS / SANTA HELENA</td>\n",
       "      <td>IDA</td>\n",
       "      <td>A</td>\n",
       "      <td>176A</td>\n",
       "    </tr>\n",
       "    <tr>\n",
       "      <th>317</th>\n",
       "      <td>176-1v - T. PRACA A / CAIS CAMPINAS / SANTA HE...</td>\n",
       "      <td>-49.283947481,-16.664584563,0 -49.283864278,-1...</td>\n",
       "      <td>176</td>\n",
       "      <td>1v</td>\n",
       "      <td>T. PRACA A / CAIS CAMPINAS / SANTA HELENA</td>\n",
       "      <td>VOLTA</td>\n",
       "      <td>A</td>\n",
       "      <td>176A</td>\n",
       "    </tr>\n",
       "  </tbody>\n",
       "</table>\n",
       "</div>"
      ],
      "text/plain": [
       "                                                  name  \\\n",
       "316  176-1i - T. PRACA A / CAIS CAMPINAS / SANTA HE...   \n",
       "317  176-1v - T. PRACA A / CAIS CAMPINAS / SANTA HE...   \n",
       "\n",
       "                                           coordinates Código identificacao  \\\n",
       "316  -49.284614,-16.673452,0 -49.284557997,-16.6734...    176            1i   \n",
       "317  -49.283947481,-16.664584563,0 -49.283864278,-1...    176            1v   \n",
       "\n",
       "                                     Descrição Sentido sublinha num_linha  \n",
       "316  T. PRACA A / CAIS CAMPINAS / SANTA HELENA     IDA        A      176A  \n",
       "317  T. PRACA A / CAIS CAMPINAS / SANTA HELENA   VOLTA        A      176A  "
      ]
     },
     "execution_count": 154,
     "metadata": {},
     "output_type": "execute_result"
    }
   ],
   "source": [
    "df_base_rota[df_base_rota['num_linha']=='176A']"
   ]
  },
  {
   "cell_type": "code",
   "execution_count": 155,
   "id": "a983b48aeacdf31b",
   "metadata": {
    "ExecuteTime": {
     "end_time": "2024-04-23T19:18:04.158399Z",
     "start_time": "2024-04-23T19:18:04.154058Z"
    },
    "tags": []
   },
   "outputs": [],
   "source": [
    "df_filtered = pd.merge(df_idle_route, df_made_trip, left_on=['data','carro'], right_on=['execution_date','carro'])"
   ]
  },
  {
   "cell_type": "code",
   "execution_count": 156,
   "id": "152780e19c0a2560",
   "metadata": {
    "ExecuteTime": {
     "end_time": "2024-04-23T19:18:04.161784Z",
     "start_time": "2024-04-23T19:18:04.159198Z"
    },
    "tags": []
   },
   "outputs": [],
   "source": [
    "df_teste = df_filtered[df_filtered['carro'] == 20018]"
   ]
  },
  {
   "cell_type": "code",
   "execution_count": 157,
   "id": "b58291560ca59c6e",
   "metadata": {
    "ExecuteTime": {
     "end_time": "2024-04-23T19:18:04.166887Z",
     "start_time": "2024-04-23T19:18:04.164760Z"
    },
    "tags": []
   },
   "outputs": [],
   "source": [
    "def convert_coordinates(coords):\n",
    "    return [(lat, lng) for [lng, lat] in coords]"
   ]
  },
  {
   "cell_type": "code",
   "execution_count": 158,
   "id": "c9fab87044de6bf6",
   "metadata": {
    "ExecuteTime": {
     "end_time": "2024-04-23T19:18:04.170805Z",
     "start_time": "2024-04-23T19:18:04.167696Z"
    },
    "tags": []
   },
   "outputs": [],
   "source": [
    "def parse_coordinates(coord_string):\n",
    "    # Remover possíveis espaços em branco extra\n",
    "    coord_string = coord_string.strip()\n",
    "    \n",
    "    # Dividir a string por espaço para separar os pares de coordenadas\n",
    "    coords = coord_string.split(' ')\n",
    "    \n",
    "    # Dividir cada par por vírgula e converter para float\n",
    "    parsed_coords = []\n",
    "    for point in coords:\n",
    "        if point:  # Verifica se a string não está vazia\n",
    "            try:\n",
    "                components = point.split(',')\n",
    "                if len(components) >= 2:  # Certifica que existem pelo menos dois valores (lat, lng)\n",
    "                    lat, lng = components[:2]  # Usa apenas os dois primeiros valores\n",
    "                    parsed_coords.append((float(lat), float(lng)))\n",
    "            except ValueError as e:\n",
    "                print(f\"Erro ao processar o ponto '{point}': {e}\")\n",
    "                continue  # Pula para o próximo ponto\n",
    "    \n",
    "    return parsed_coords"
   ]
  },
  {
   "cell_type": "code",
   "execution_count": 159,
   "id": "6deadfc19fc5cd88",
   "metadata": {
    "ExecuteTime": {
     "end_time": "2024-04-23T19:18:04.174665Z",
     "start_time": "2024-04-23T19:18:04.171635Z"
    },
    "tags": []
   },
   "outputs": [],
   "source": [
    "list_car = df_made_trip[df_made_trip['execution_date'] == '2024-04-15']['carro'].unique().tolist()"
   ]
  },
  {
   "cell_type": "code",
   "execution_count": 160,
   "id": "476c92563074ac51",
   "metadata": {
    "ExecuteTime": {
     "end_time": "2024-04-23T19:18:04.180092Z",
     "start_time": "2024-04-23T19:18:04.175500Z"
    },
    "tags": []
   },
   "outputs": [],
   "source": [
    "df_filtered = pd.merge(df_idle_route, df_made_trip, left_on=['data','carro'], right_on=['execution_date','carro'])"
   ]
  },
  {
   "cell_type": "code",
   "execution_count": 161,
   "id": "331fd38320a4e9c2",
   "metadata": {
    "ExecuteTime": {
     "end_time": "2024-04-23T19:18:04.184407Z",
     "start_time": "2024-04-23T19:18:04.180831Z"
    },
    "tags": []
   },
   "outputs": [
    {
     "data": {
      "text/plain": [
       "data                     datetime64[ns]\n",
       "carro                             int64\n",
       "first_travel                     object\n",
       "last_travel                      object\n",
       "geolocalizacao_ida               object\n",
       "geolocalizacao_volta             object\n",
       "registration                     object\n",
       "made_trip_coordinates            object\n",
       "execution_date           datetime64[ns]\n",
       "dtype: object"
      ]
     },
     "execution_count": 161,
     "metadata": {},
     "output_type": "execute_result"
    }
   ],
   "source": [
    "df_filtered.dtypes"
   ]
  },
  {
   "cell_type": "code",
   "execution_count": 162,
   "id": "ba5292a4e75a42cb",
   "metadata": {
    "ExecuteTime": {
     "end_time": "2024-04-23T19:18:04.552765Z",
     "start_time": "2024-04-23T19:18:04.185189Z"
    },
    "tags": []
   },
   "outputs": [
    {
     "data": {
      "text/html": [
       "<div>\n",
       "<style scoped>\n",
       "    .dataframe tbody tr th:only-of-type {\n",
       "        vertical-align: middle;\n",
       "    }\n",
       "\n",
       "    .dataframe tbody tr th {\n",
       "        vertical-align: top;\n",
       "    }\n",
       "\n",
       "    .dataframe thead th {\n",
       "        text-align: right;\n",
       "    }\n",
       "</style>\n",
       "<table border=\"1\" class=\"dataframe\">\n",
       "  <thead>\n",
       "    <tr style=\"text-align: right;\">\n",
       "      <th></th>\n",
       "      <th>data</th>\n",
       "      <th>carro</th>\n",
       "      <th>first_travel</th>\n",
       "      <th>last_travel</th>\n",
       "      <th>geolocalizacao_ida</th>\n",
       "      <th>geolocalizacao_volta</th>\n",
       "      <th>registration</th>\n",
       "      <th>made_trip_coordinates</th>\n",
       "      <th>execution_date</th>\n",
       "    </tr>\n",
       "  </thead>\n",
       "  <tbody>\n",
       "    <tr>\n",
       "      <th>26</th>\n",
       "      <td>2024-04-15</td>\n",
       "      <td>20048</td>\n",
       "      <td>401</td>\n",
       "      <td>401</td>\n",
       "      <td>[{'lat': -16.705151223923, 'lng': -49.30067673...</td>\n",
       "      <td>[{'lat': -16.673411078397, 'lng': -49.28460794...</td>\n",
       "      <td>PQA2792</td>\n",
       "      <td>[[-49.362301, -16.81122], [-49.362246, -16.811...</td>\n",
       "      <td>2024-04-15</td>\n",
       "    </tr>\n",
       "    <tr>\n",
       "      <th>45</th>\n",
       "      <td>2024-04-15</td>\n",
       "      <td>20224</td>\n",
       "      <td>400A</td>\n",
       "      <td>911A</td>\n",
       "      <td>[{'lat': -16.705151223923, 'lng': -49.30067673...</td>\n",
       "      <td>[{'lat': -16.673411078397, 'lng': -49.28460794...</td>\n",
       "      <td>NKE9854</td>\n",
       "      <td>[[-49.301699, -16.704075], [-49.301809, -16.70...</td>\n",
       "      <td>2024-04-15</td>\n",
       "    </tr>\n",
       "    <tr>\n",
       "      <th>145</th>\n",
       "      <td>2024-04-15</td>\n",
       "      <td>20357</td>\n",
       "      <td>176A</td>\n",
       "      <td>015A</td>\n",
       "      <td>[{'lat': -16.705151223923, 'lng': -49.30067673...</td>\n",
       "      <td>[{'lat': -16.673411078397, 'lng': -49.28460794...</td>\n",
       "      <td>NLC7694</td>\n",
       "      <td>[[-49.301395, -16.702537], [-49.301461, -16.70...</td>\n",
       "      <td>2024-04-15</td>\n",
       "    </tr>\n",
       "    <tr>\n",
       "      <th>235</th>\n",
       "      <td>2024-04-15</td>\n",
       "      <td>20021</td>\n",
       "      <td>401</td>\n",
       "      <td>403B</td>\n",
       "      <td>[{'lat': -16.705151223923, 'lng': -49.30067673...</td>\n",
       "      <td>[{'lat': -16.70948506823616, 'lng': -49.309943...</td>\n",
       "      <td>ONQ9479</td>\n",
       "      <td>[[-49.301364, -16.704743]]</td>\n",
       "      <td>2024-04-15</td>\n",
       "    </tr>\n",
       "    <tr>\n",
       "      <th>247</th>\n",
       "      <td>2024-04-15</td>\n",
       "      <td>20360</td>\n",
       "      <td>401</td>\n",
       "      <td>401</td>\n",
       "      <td>[{'lat': -16.705151223923, 'lng': -49.30067673...</td>\n",
       "      <td>[{'lat': -16.673411078397, 'lng': -49.28460794...</td>\n",
       "      <td>NJY3685</td>\n",
       "      <td>[[-49.301201, -16.703086], [-49.301153, -16.70...</td>\n",
       "      <td>2024-04-15</td>\n",
       "    </tr>\n",
       "    <tr>\n",
       "      <th>348</th>\n",
       "      <td>2024-04-15</td>\n",
       "      <td>20238</td>\n",
       "      <td>015A</td>\n",
       "      <td>400A</td>\n",
       "      <td>[{'lat': -16.705151223923, 'lng': -49.30067673...</td>\n",
       "      <td>[{'lat': -16.673411078397, 'lng': -49.28460794...</td>\n",
       "      <td>NKC3574</td>\n",
       "      <td>[[-49.301015, -16.704094], [-49.301215, -16.70...</td>\n",
       "      <td>2024-04-15</td>\n",
       "    </tr>\n",
       "    <tr>\n",
       "      <th>368</th>\n",
       "      <td>2024-04-15</td>\n",
       "      <td>20019</td>\n",
       "      <td>915A</td>\n",
       "      <td>400A</td>\n",
       "      <td>[{'lat': -16.705151223923, 'lng': -49.30067673...</td>\n",
       "      <td>[{'lat': -16.673411078397, 'lng': -49.28460794...</td>\n",
       "      <td>ONW2749</td>\n",
       "      <td>[[-49.301651, -16.704151], [-49.301638, -16.70...</td>\n",
       "      <td>2024-04-15</td>\n",
       "    </tr>\n",
       "    <tr>\n",
       "      <th>394</th>\n",
       "      <td>2024-04-15</td>\n",
       "      <td>20805</td>\n",
       "      <td>025A</td>\n",
       "      <td>025A</td>\n",
       "      <td>[{'lat': -16.70513240150447, 'lng': -49.300648...</td>\n",
       "      <td>[{'lat': -16.70948506823616, 'lng': -49.309943...</td>\n",
       "      <td>SCQ3A44</td>\n",
       "      <td>[[-49.301633, -16.705014], [-49.301468, -16.70...</td>\n",
       "      <td>2024-04-15</td>\n",
       "    </tr>\n",
       "    <tr>\n",
       "      <th>400</th>\n",
       "      <td>2024-04-15</td>\n",
       "      <td>20018</td>\n",
       "      <td>015A</td>\n",
       "      <td>160A</td>\n",
       "      <td>[{'lat': -16.705151223923, 'lng': -49.30067673...</td>\n",
       "      <td>[{'lat': -16.673411078397, 'lng': -49.28460794...</td>\n",
       "      <td>ONU6399</td>\n",
       "      <td>[[-49.301646, -16.704247], [-49.30138, -16.703...</td>\n",
       "      <td>2024-04-15</td>\n",
       "    </tr>\n",
       "    <tr>\n",
       "      <th>401</th>\n",
       "      <td>2024-04-15</td>\n",
       "      <td>20362</td>\n",
       "      <td>400A</td>\n",
       "      <td>400A</td>\n",
       "      <td>[{'lat': -16.705151223923, 'lng': -49.30067673...</td>\n",
       "      <td>[{'lat': -16.673411078397, 'lng': -49.28460794...</td>\n",
       "      <td>NLB6B14</td>\n",
       "      <td>[[-49.301187, -16.702887], [-49.301255, -16.70...</td>\n",
       "      <td>2024-04-15</td>\n",
       "    </tr>\n",
       "  </tbody>\n",
       "</table>\n",
       "</div>"
      ],
      "text/plain": [
       "          data  carro first_travel last_travel  \\\n",
       "26  2024-04-15  20048         401         401    \n",
       "45  2024-04-15  20224         400A        911A   \n",
       "145 2024-04-15  20357         176A        015A   \n",
       "235 2024-04-15  20021         401         403B   \n",
       "247 2024-04-15  20360         401         401    \n",
       "348 2024-04-15  20238         015A        400A   \n",
       "368 2024-04-15  20019         915A        400A   \n",
       "394 2024-04-15  20805         025A        025A   \n",
       "400 2024-04-15  20018         015A        160A   \n",
       "401 2024-04-15  20362         400A        400A   \n",
       "\n",
       "                                    geolocalizacao_ida  \\\n",
       "26   [{'lat': -16.705151223923, 'lng': -49.30067673...   \n",
       "45   [{'lat': -16.705151223923, 'lng': -49.30067673...   \n",
       "145  [{'lat': -16.705151223923, 'lng': -49.30067673...   \n",
       "235  [{'lat': -16.705151223923, 'lng': -49.30067673...   \n",
       "247  [{'lat': -16.705151223923, 'lng': -49.30067673...   \n",
       "348  [{'lat': -16.705151223923, 'lng': -49.30067673...   \n",
       "368  [{'lat': -16.705151223923, 'lng': -49.30067673...   \n",
       "394  [{'lat': -16.70513240150447, 'lng': -49.300648...   \n",
       "400  [{'lat': -16.705151223923, 'lng': -49.30067673...   \n",
       "401  [{'lat': -16.705151223923, 'lng': -49.30067673...   \n",
       "\n",
       "                                  geolocalizacao_volta registration  \\\n",
       "26   [{'lat': -16.673411078397, 'lng': -49.28460794...      PQA2792   \n",
       "45   [{'lat': -16.673411078397, 'lng': -49.28460794...      NKE9854   \n",
       "145  [{'lat': -16.673411078397, 'lng': -49.28460794...      NLC7694   \n",
       "235  [{'lat': -16.70948506823616, 'lng': -49.309943...      ONQ9479   \n",
       "247  [{'lat': -16.673411078397, 'lng': -49.28460794...      NJY3685   \n",
       "348  [{'lat': -16.673411078397, 'lng': -49.28460794...      NKC3574   \n",
       "368  [{'lat': -16.673411078397, 'lng': -49.28460794...      ONW2749   \n",
       "394  [{'lat': -16.70948506823616, 'lng': -49.309943...      SCQ3A44   \n",
       "400  [{'lat': -16.673411078397, 'lng': -49.28460794...      ONU6399   \n",
       "401  [{'lat': -16.673411078397, 'lng': -49.28460794...      NLB6B14   \n",
       "\n",
       "                                 made_trip_coordinates execution_date  \n",
       "26   [[-49.362301, -16.81122], [-49.362246, -16.811...     2024-04-15  \n",
       "45   [[-49.301699, -16.704075], [-49.301809, -16.70...     2024-04-15  \n",
       "145  [[-49.301395, -16.702537], [-49.301461, -16.70...     2024-04-15  \n",
       "235                         [[-49.301364, -16.704743]]     2024-04-15  \n",
       "247  [[-49.301201, -16.703086], [-49.301153, -16.70...     2024-04-15  \n",
       "348  [[-49.301015, -16.704094], [-49.301215, -16.70...     2024-04-15  \n",
       "368  [[-49.301651, -16.704151], [-49.301638, -16.70...     2024-04-15  \n",
       "394  [[-49.301633, -16.705014], [-49.301468, -16.70...     2024-04-15  \n",
       "400  [[-49.301646, -16.704247], [-49.30138, -16.703...     2024-04-15  \n",
       "401  [[-49.301187, -16.702887], [-49.301255, -16.70...     2024-04-15  "
      ]
     },
     "execution_count": 162,
     "metadata": {},
     "output_type": "execute_result"
    }
   ],
   "source": [
    "df_filtered[df_filtered['data']=='2024-04-15']"
   ]
  },
  {
   "cell_type": "code",
   "execution_count": 163,
   "id": "7c206a1264613e35",
   "metadata": {
    "ExecuteTime": {
     "end_time": "2024-04-23T19:18:04.601061Z",
     "start_time": "2024-04-23T19:18:04.553495Z"
    },
    "tags": []
   },
   "outputs": [
    {
     "data": {
      "text/html": [
       "<div>\n",
       "<style scoped>\n",
       "    .dataframe tbody tr th:only-of-type {\n",
       "        vertical-align: middle;\n",
       "    }\n",
       "\n",
       "    .dataframe tbody tr th {\n",
       "        vertical-align: top;\n",
       "    }\n",
       "\n",
       "    .dataframe thead th {\n",
       "        text-align: right;\n",
       "    }\n",
       "</style>\n",
       "<table border=\"1\" class=\"dataframe\">\n",
       "  <thead>\n",
       "    <tr style=\"text-align: right;\">\n",
       "      <th></th>\n",
       "      <th>data</th>\n",
       "      <th>carro</th>\n",
       "      <th>first_travel</th>\n",
       "      <th>last_travel</th>\n",
       "      <th>geolocalizacao_ida</th>\n",
       "      <th>geolocalizacao_volta</th>\n",
       "      <th>registration</th>\n",
       "      <th>made_trip_coordinates</th>\n",
       "      <th>execution_date</th>\n",
       "    </tr>\n",
       "  </thead>\n",
       "  <tbody>\n",
       "    <tr>\n",
       "      <th>400</th>\n",
       "      <td>2024-04-15</td>\n",
       "      <td>20018</td>\n",
       "      <td>015A</td>\n",
       "      <td>160A</td>\n",
       "      <td>[{'lat': -16.705151223923, 'lng': -49.30067673...</td>\n",
       "      <td>[{'lat': -16.673411078397, 'lng': -49.28460794...</td>\n",
       "      <td>ONU6399</td>\n",
       "      <td>[[-49.301646, -16.704247], [-49.30138, -16.703...</td>\n",
       "      <td>2024-04-15</td>\n",
       "    </tr>\n",
       "  </tbody>\n",
       "</table>\n",
       "</div>"
      ],
      "text/plain": [
       "          data  carro first_travel last_travel  \\\n",
       "400 2024-04-15  20018         015A        160A   \n",
       "\n",
       "                                    geolocalizacao_ida  \\\n",
       "400  [{'lat': -16.705151223923, 'lng': -49.30067673...   \n",
       "\n",
       "                                  geolocalizacao_volta registration  \\\n",
       "400  [{'lat': -16.673411078397, 'lng': -49.28460794...      ONU6399   \n",
       "\n",
       "                                 made_trip_coordinates execution_date  \n",
       "400  [[-49.301646, -16.704247], [-49.30138, -16.703...     2024-04-15  "
      ]
     },
     "execution_count": 163,
     "metadata": {},
     "output_type": "execute_result"
    }
   ],
   "source": [
    "df_filtered[(df_filtered['data'] == '2024-04-15') & (df_filtered['carro'] == 20018)]"
   ]
  },
  {
   "cell_type": "code",
   "execution_count": 164,
   "id": "afddb667d5ea1d",
   "metadata": {
    "ExecuteTime": {
     "end_time": "2024-04-23T19:18:04.604363Z",
     "start_time": "2024-04-23T19:18:04.601840Z"
    },
    "tags": []
   },
   "outputs": [],
   "source": [
    "TOLERANCIA = 2.5"
   ]
  },
  {
   "cell_type": "code",
   "execution_count": 165,
   "id": "4ffd0e25a70fc94a",
   "metadata": {
    "ExecuteTime": {
     "end_time": "2024-04-23T19:18:04.606994Z",
     "start_time": "2024-04-23T19:18:04.605217Z"
    },
    "tags": []
   },
   "outputs": [],
   "source": [
    "DISTANCIA_TOLERANCIA = 1 #km "
   ]
  },
  {
   "cell_type": "code",
   "execution_count": 166,
   "id": "f969acb0215d19db",
   "metadata": {
    "ExecuteTime": {
     "end_time": "2024-04-23T19:18:04.611666Z",
     "start_time": "2024-04-23T19:18:04.607785Z"
    },
    "tags": []
   },
   "outputs": [],
   "source": [
    "def haversine(lon1, lat1, lon2, lat2):\n",
    "    \"\"\"\n",
    "    Calculate the great circle distance between two points \n",
    "    on the earth (specified in decimal degrees).\n",
    "    \"\"\"\n",
    "    # Convert decimal degrees to radians\n",
    "    lon1, lat1, lon2, lat2 = map(radians, [lon1, lat1, lon2, lat2])\n",
    "\n",
    "    # Haversine formula\n",
    "    dlon = lon2 - lon1\n",
    "    dlat = lat2 - lat1\n",
    "    a = sin(dlat/2)**2 + cos(lat1) * cos(lat2) * sin(dlon/2)**2\n",
    "    c = 2 * asin(sqrt(a))\n",
    "    r = 6371  # Radius of Earth in kilometers\n",
    "    return c * r\n",
    "\n",
    "def find_closest_point(real_point, planned_route):\n",
    "    min_distance = float('inf')\n",
    "    closest_point = None\n",
    "    for planned_point in planned_route:\n",
    "        # Ensure the longitude comes first in the haversine function\n",
    "        distance = haversine(planned_point['lng'], planned_point['lat'], real_point[1], real_point[0])\n",
    "        if distance < min_distance:\n",
    "            min_distance = distance\n",
    "            closest_point = planned_point\n",
    "    return min_distance, closest_point\n",
    "\n",
    "def find_closest_point_and_check_tolerance(real_point, planned_route, tolerance=TOLERANCIA):\n",
    "    min_distance, closest_point = find_closest_point(real_point, planned_route)\n",
    "    return min_distance, closest_point, min_distance > tolerance\n"
   ]
  },
  {
   "cell_type": "code",
   "execution_count": 168,
   "id": "cf6258f9f4d916b9",
   "metadata": {
    "ExecuteTime": {
     "end_time": "2024-04-23T19:18:19.572840Z",
     "start_time": "2024-04-23T19:18:19.569810Z"
    },
    "tags": []
   },
   "outputs": [
    {
     "name": "stdout",
     "output_type": "stream",
     "text": [
      "A distância entre os pontos é 0.011187268604866242 km\n"
     ]
    }
   ],
   "source": [
    "distancia = haversine(lon1=-49.289994, lat1=-16.659657, lon2=-49.290064, lat2=-16.659582)\n",
    "print(f\"A distância entre os pontos é {distancia} km\")"
   ]
  },
  {
   "cell_type": "code",
   "execution_count": 170,
   "id": "217d3b4d9f3bf14b",
   "metadata": {
    "ExecuteTime": {
     "end_time": "2024-04-23T19:20:16.777872Z",
     "start_time": "2024-04-23T19:20:16.766050Z"
    }
   },
   "outputs": [],
   "source": [
    "df_idle_route[(df_idle_route['data']=='2024-04-15')&(df_idle_route['carro']==20018)].to_csv('./idle_route.csv', index=False)"
   ]
  },
  {
   "cell_type": "code",
   "execution_count": 171,
   "id": "70360f97cd26b2e7",
   "metadata": {},
   "outputs": [],
   "source": [
    "df_made_trip[(df_made_trip['execution_date']=='2024-04-15')&(df_made_trip['carro']==20018)].to_csv('./made_trip.csv', index=False)"
   ]
  },
  {
   "cell_type": "code",
   "execution_count": 172,
   "id": "ccc375cfc4c5c045",
   "metadata": {},
   "outputs": [],
   "source": [
    "df_schedule[(df_schedule['date_execution']=='2024-04-15')&(df_schedule['carro']==20018)].to_csv('./schedule.csv', index=False)"
   ]
  },
  {
   "cell_type": "code",
   "execution_count": null,
   "id": "8633c160f02465cd",
   "metadata": {},
   "outputs": [],
   "source": []
  },
  {
   "cell_type": "code",
   "execution_count": 175,
   "id": "3dd51ed1-bd69-48e9-b729-18b5aa50bf81",
   "metadata": {
    "tags": []
   },
   "outputs": [],
   "source": [
    "df_base_rota.to_csv('./rotas_programadas.csv')"
   ]
  },
  {
   "cell_type": "code",
   "execution_count": 272,
   "id": "bf4b186b-823a-42d2-b326-8fbff9548266",
   "metadata": {
    "tags": []
   },
   "outputs": [],
   "source": [
    "import folium\n",
    "import pandas as pd\n",
    "import math\n",
    "import json\n",
    "from folium.plugins import FloatImage\n",
    "\n",
    "# Função para calcular a distância entre dois pontos usando a fórmula de Haversine\n",
    "def haversine(lon1, lat1, lon2, lat2):\n",
    "    lon1, lat1, lon2, lat2 = map(math.radians, [lon1, lat1, lon2, lat2])\n",
    "    dlon = lon2 - lon1\n",
    "    dlat = lat2 - lat1\n",
    "    a = math.sin(dlat / 2) ** 2 + math.cos(lat1) * math.cos(lat2) * math.sin(dlon / 2) ** 2\n",
    "    c = 2 * math.asin(math.sqrt(a))\n",
    "    r = 6371  # Radius of earth in kilometers. Use 3956 for miles\n",
    "    return c * r\n",
    "\n",
    "# Função para converter string JSON em coordenadas de latitude e longitude\n",
    "def parse_coordinates_format_dict(coord_data):\n",
    "    \"\"\"\n",
    "    Função para coordenadas no formato de lista de dicionários: [{'lat': lat, 'lng': lng}, ...]\n",
    "    \"\"\"\n",
    "    try:\n",
    "        result = [(coord['lat'], coord['lng']) for coord in coord_data]\n",
    "    except (KeyError, ValueError):\n",
    "        result = []\n",
    "    return result\n",
    "\n",
    "def parse_coordinates_format_list(coord_data):\n",
    "    \"\"\"\n",
    "    Função para coordenadas no formato de lista de listas: [[lng, lat], ...]\n",
    "    \"\"\"\n",
    "    try:\n",
    "        result = [(coord[1], coord[0]) for coord in coord_data]\n",
    "    except (IndexError, ValueError):\n",
    "        result = []\n",
    "    return result\n",
    "\n",
    "def parse_coordinates_format_str(coord_data):\n",
    "    \"\"\"\n",
    "    Função para coordenadas no formato de string: lng, lat\n",
    "    \"\"\"\n",
    "    try:\n",
    "        coords = [coord.split(',') for coord in coord_data]\n",
    "        result = [(float(coord[1]), float(coord[0])) for coord in coords]\n",
    "    except (IndexError, ValueError):\n",
    "        result = []\n",
    "    return result\n",
    "\n",
    "def parse_coordinates_format_text(coord_data):\n",
    "    \"\"\"\n",
    "    Função para coordenadas no formato de texto: \"lng,lat,alt lng,lat,alt ...\"\n",
    "    \"\"\"\n",
    "    try:\n",
    "        # Dividir a string de coordenadas em uma lista de strings separadas por espaço\n",
    "        coords_list = coord_data.split(' ')\n",
    "        # Cada coordenada é uma string no formato 'lng,lat,alt'\n",
    "        # Vamos dividir isso em uma lista de listas onde cada sublista contém [lng, lat]\n",
    "        parsed_coords = [[float(coord.split(',')[1]), float(coord.split(',')[0])] for coord in coords_list]\n",
    "        return parsed_coords\n",
    "    except (IndexError, ValueError):\n",
    "        return []\n",
    "\n",
    "\n",
    "\n",
    "# Função principal para processar cada carro\n",
    "# Função para processar cada carro\n",
    "# Função principal para processar cada carro\n",
    "def process_car(df_idle_route, df_made_trip, df_schedule, df_base_rota, car):\n",
    "    df_filtered = pd.merge(df_idle_route, df_made_trip, left_on=['data', 'carro'], right_on=['execution_date', 'carro'])\n",
    "    df_filtered = df_filtered[(df_filtered['data'] == '2024-04-15') & (df_filtered['carro'] == car)]\n",
    "\n",
    "    if df_filtered.empty:\n",
    "        print(f\"Nenhum dado para o carro {car} no dia especificado.\")\n",
    "        return\n",
    "\n",
    "    # Inicializar um mapa\n",
    "    first_row = df_filtered.iloc[0]\n",
    "    lat_start = (first_row['geolocalizacao_ida'][0]['lat'] + first_row['geolocalizacao_volta'][0]['lat']) / 2\n",
    "    lng_start = (first_row['geolocalizacao_ida'][0]['lng'] + first_row['geolocalizacao_volta'][0]['lng']) / 2\n",
    "    m = folium.Map(location=[lat_start, lng_start], zoom_start=12)\n",
    "\n",
    "    # Plotar rotas ociosas\n",
    "    ida = parse_coordinates_format_dict(first_row['geolocalizacao_ida'])\n",
    "    volta = parse_coordinates_format_dict(first_row['geolocalizacao_volta'])\n",
    "    folium.PolyLine(ida, color='blue', weight=2.5, opacity=1, tooltip='Rota Ociosa - Ida').add_to(m)\n",
    "    folium.PolyLine(volta, color='red', weight=2.5, opacity=1, tooltip='Rota Ociosa - Volta').add_to(m)\n",
    "\n",
    "    # Plotar a rota realizada\n",
    "    made_trip = parse_coordinates_format_list(first_row['made_trip_coordinates'])\n",
    "    folium.PolyLine(made_trip, color='green', weight=2.5, opacity=1, tooltip='Rota Realizada').add_to(m)\n",
    "\n",
    "    # Para cada linha planejada, plotar a rota correspondente\n",
    "    list_line = df_schedule[(df_schedule['carro'] == car) & (df_schedule['date_execution'] == '2024-04-15')]['linha'].values.tolist()\n",
    "    for line in list_line:\n",
    "        print(line)\n",
    "        df_base_rota_line = df_base_rota[df_base_rota['num_linha'] == line]\n",
    "        coordinates = df_base_rota_line['coordinates'].iloc[0]\n",
    "        if isinstance(coordinates, str):\n",
    "            parsed_coordinates = parse_coordinates_format_text(coordinates)\n",
    "        else:\n",
    "            parsed_coordinates = parse_coordinates_format_dict(coordinates)\n",
    "        \n",
    "        # Plotar a rota planejada\n",
    "        folium.PolyLine(parsed_coordinates, color='gray', weight=2.5, opacity=0.5, dash_array='5, 5',tooltip=f'Linha {line}').add_to(m)\n",
    "\n",
    "    # Calcular distâncias\n",
    "    planned_distance = sum([haversine(ida[i][1], ida[i][0], ida[i+1][1], ida[i+1][0]) for i in range(len(ida)-1)])\n",
    "    planned_distance += sum([haversine(volta[i][1], volta[i][0], volta[i+1][1], volta[i+1][0]) for i in range(len(volta)-1)])\n",
    "    for route in list_line:\n",
    "        df_base_rota_line = df_base_rota[df_base_rota['num_linha'] == route]\n",
    "        coordinates = df_base_rota_line['coordinates'].iloc[0]\n",
    "        if isinstance(coordinates, str):\n",
    "            route_coords = parse_coordinates_format_text(coordinates)\n",
    "        else:\n",
    "            route_coords = parse_coordinates_format_dict(coordinates)\n",
    "        planned_distance += sum([haversine(route_coords[i][1], route_coords[i][0], route_coords[i+1][1], route_coords[i+1][0]) for i in range(len(route_coords)-1)])\n",
    "\n",
    "    real_distance = sum([haversine(made_trip[i][1], made_trip[i][0], made_trip[i+1][1], made_trip[i+1][0]) for i in range(len(made_trip)-1)])\n",
    "    \n",
    "    # Adicionar informações sobre a distância percorrida\n",
    "    info_html = f\"\"\"\n",
    "    <div style=\"position: fixed; \n",
    "                 bottom: 50px; right: 50px; width: 300px; height: 100px; \n",
    "                 border:2px solid grey; z-index:9999; font-size:14px;\n",
    "                 background-color:white;\n",
    "                 \">&nbsp; <b>Informações de Distância:</b> <br>\n",
    "                   &nbsp; Distância Planejada: {planned_distance:.2f} km <br>\n",
    "                   &nbsp; Distância Realizada: {real_distance:.2f} km <br>\n",
    "                   &nbsp; Diferença de Distância: {planned_distance - real_distance:.2f} km <br>\n",
    "    </div>\n",
    "    \"\"\"\n",
    "    m.get_root().html.add_child(folium.Element(info_html))\n",
    "\n",
    "    # Salvar o mapa em um arquivo HTML\n",
    "    mapa_filename = f'map_{car}.html'\n",
    "    m.save(mapa_filename)\n",
    "    print(f\"Mapa salvo como {mapa_filename}\")\n",
    "\n",
    "\n",
    "# Exemplo de uso da função process_car\n",
    "# Você precisará fornecer os DataFrames df_idle_route, df_made_trip, df_schedule e o identificador do carro\n",
    "# process_car(df_idle_route, df_made_trip, df_schedule,df_base_rota, car_id)"
   ]
  },
  {
   "cell_type": "code",
   "execution_count": 273,
   "id": "b5f28f33-1246-42ae-bb3d-9228622c643f",
   "metadata": {
    "tags": []
   },
   "outputs": [
    {
     "name": "stdout",
     "output_type": "stream",
     "text": [
      "20805\n",
      "025A\n",
      "025A\n",
      "025A\n",
      "025A\n",
      "025A\n",
      "025A\n",
      "025A\n",
      "025A\n",
      "025C\n",
      "025C\n",
      "025A\n",
      "025A\n",
      "025A\n",
      "025A\n",
      "025A\n",
      "025A\n",
      "025A\n",
      "025A\n",
      "025A\n",
      "025A\n",
      "025A\n",
      "025C\n",
      "025C\n",
      "025A\n",
      "025A\n",
      "025A\n",
      "Mapa salvo como map_20805.html\n",
      "20238\n",
      "015A\n",
      "400A\n",
      "176A\n",
      "401\n",
      "911B\n",
      "400A\n",
      "015A\n",
      "400A\n",
      "176A\n",
      "401\n",
      "911B\n",
      "400A\n",
      "Mapa salvo como map_20238.html\n",
      "20018\n",
      "015A\n",
      "015A\n",
      "176A\n",
      "160A\n",
      "176A\n",
      "400A\n",
      "160A\n",
      "015A\n",
      "015A\n",
      "176A\n",
      "160A\n",
      "176A\n",
      "400A\n",
      "160A\n",
      "Mapa salvo como map_20018.html\n",
      "20360\n",
      "401\n",
      "400A\n",
      "015A\n",
      "400A\n",
      "401\n",
      "911B\n",
      "400A\n",
      "401\n",
      "401\n",
      "401\n",
      "400A\n",
      "015A\n",
      "400A\n",
      "401\n",
      "911B\n",
      "400A\n",
      "401\n",
      "401\n",
      "Mapa salvo como map_20360.html\n",
      "20362\n",
      "400A\n",
      "911A\n",
      "400A\n",
      "176A\n",
      "015A\n",
      "023A\n",
      "400A\n",
      "400A\n",
      "911A\n",
      "400A\n",
      "176A\n",
      "015A\n",
      "023A\n",
      "400A\n",
      "Mapa salvo como map_20362.html\n",
      "20021\n",
      "401\n",
      "400A\n",
      "911A\n",
      "400A\n",
      "401\n",
      "911B\n",
      "911B\n",
      "160A\n",
      "403B\n",
      "401\n",
      "400A\n",
      "911A\n",
      "400A\n",
      "401\n",
      "911B\n",
      "911B\n",
      "160A\n",
      "403B\n",
      "Mapa salvo como map_20021.html\n",
      "20224\n",
      "400A\n",
      "911A\n",
      "911A\n",
      "400A\n",
      "911A\n",
      "911A\n",
      "Mapa salvo como map_20224.html\n",
      "20048\n",
      "401\n",
      "400A\n",
      "176A\n",
      "160A\n",
      "400A\n",
      "400A\n",
      "401\n",
      "401\n",
      "400A\n",
      "176A\n",
      "160A\n",
      "400A\n",
      "400A\n",
      "401\n",
      "Mapa salvo como map_20048.html\n",
      "20019\n",
      "915A\n",
      "401\n",
      "401\n",
      "401\n",
      "401\n",
      "400A\n",
      "915A\n",
      "401\n",
      "401\n",
      "401\n",
      "401\n",
      "400A\n",
      "Mapa salvo como map_20019.html\n",
      "20357\n",
      "176A\n",
      "160A\n",
      "015A\n",
      "915B\n",
      "015A\n",
      "176A\n",
      "160A\n",
      "015A\n",
      "915B\n",
      "015A\n",
      "Mapa salvo como map_20357.html\n"
     ]
    }
   ],
   "source": [
    "for car in list_car:\n",
    "    print(car)\n",
    "    process_car(df_idle_route, df_made_trip, df_schedule, df_base_rota, car)"
   ]
  },
  {
   "cell_type": "code",
   "execution_count": null,
   "id": "fb459127-b509-4ec0-a1bd-55e6059bf54f",
   "metadata": {},
   "outputs": [],
   "source": []
  }
 ],
 "metadata": {
  "kernelspec": {
   "display_name": "Python 3 (ipykernel)",
   "language": "python",
   "name": "python3"
  },
  "language_info": {
   "codemirror_mode": {
    "name": "ipython",
    "version": 3
   },
   "file_extension": ".py",
   "mimetype": "text/x-python",
   "name": "python",
   "nbconvert_exporter": "python",
   "pygments_lexer": "ipython3",
   "version": "3.11.8"
  }
 },
 "nbformat": 4,
 "nbformat_minor": 5
}
