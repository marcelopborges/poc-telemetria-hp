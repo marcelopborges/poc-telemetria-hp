{
 "cells": [
  {
   "cell_type": "code",
   "id": "initial_id",
   "metadata": {
    "ExecuteTime": {
     "end_time": "2024-04-16T21:26:08.605758Z",
     "start_time": "2024-04-16T21:26:08.603150Z"
    }
   },
   "source": [
    "from xml.etree import ElementTree as ET\n",
    "import folium\n",
    "import numpy as np\n",
    "from shapely.geometry import Point, LineString\n",
    "import pandas as pd\n",
    "from sqlalchemy import create_engine\n",
    "from math import radians, cos, sin, sqrt, atan2\n",
    "import ast"
   ],
   "outputs": [],
   "execution_count": 57
  },
  {
   "cell_type": "markdown",
   "id": "5acf3ce4ae993005",
   "metadata": {},
   "source": [
    "Lógica para a execução do código\n",
    "1. listar todos os carros que rodaram no dia\n",
    "2. listar as linhas que estes carros rodaram\n",
    "3. listar as rotas ociosas de cada linha\n",
    "4. listar as rotas programadas de cada linha\n",
    "5. listar a rota realizada pelo carro (dados mix)\n",
    "6. fazer o comparativo entre realizada e programada\n",
    "7. enviar email com os carros ofensores\n",
    "\n",
    "Todos os dados estão no banco postgres."
   ]
  },
  {
   "cell_type": "code",
   "id": "a36c9707df554904",
   "metadata": {
    "ExecuteTime": {
     "end_time": "2024-04-16T21:26:08.741361Z",
     "start_time": "2024-04-16T21:26:08.738786Z"
    }
   },
   "source": [
    "dbname = 'poc-db'\n",
    "user = 'adminpoc'\n",
    "password = 'adminpoc'\n",
    "host = 'localhost'\n",
    "port = '5440' "
   ],
   "outputs": [],
   "execution_count": 58
  },
  {
   "cell_type": "code",
   "id": "2e950bb78910da16",
   "metadata": {
    "ExecuteTime": {
     "end_time": "2024-04-16T21:26:08.767120Z",
     "start_time": "2024-04-16T21:26:08.764310Z"
    }
   },
   "source": [
    "engine = create_engine(f'postgresql://{user}:{password}@{host}:{port}/{dbname}')"
   ],
   "outputs": [],
   "execution_count": 59
  },
  {
   "cell_type": "code",
   "id": "b7ebe2e1a63d9ff1",
   "metadata": {
    "ExecuteTime": {
     "end_time": "2024-04-16T21:26:08.779249Z",
     "start_time": "2024-04-16T21:26:08.777102Z"
    }
   },
   "source": [
    "ns = {'kml': 'http://www.opengis.net/kml/2.2'}"
   ],
   "outputs": [],
   "execution_count": 60
  },
  {
   "metadata": {},
   "cell_type": "markdown",
   "source": "# Paths",
   "id": "6ca443c82fbdbc04"
  },
  {
   "metadata": {
    "ExecuteTime": {
     "end_time": "2024-04-16T21:26:08.827061Z",
     "start_time": "2024-04-16T21:26:08.824721Z"
    }
   },
   "cell_type": "code",
   "source": "planned_trip_path = '../notebooks/data/1.1 LINHAS RMTC [2023-11-29].kml'",
   "id": "5dc9243705266836",
   "outputs": [],
   "execution_count": 61
  },
  {
   "cell_type": "markdown",
   "id": "d27d188e2a8231df",
   "metadata": {},
   "source": "# SQL"
  },
  {
   "cell_type": "code",
   "id": "459e116f7a1d3dec",
   "metadata": {
    "ExecuteTime": {
     "end_time": "2024-04-16T21:26:08.846342Z",
     "start_time": "2024-04-16T21:26:08.844393Z"
    }
   },
   "source": [
    "sql_geodata = \"\"\" \n",
    "select a.execution_date, a.registration, a.description, a.coordinates\n",
    "    from hp.raw_geodata a\n",
    "\"\"\""
   ],
   "outputs": [],
   "execution_count": 62
  },
  {
   "metadata": {
    "ExecuteTime": {
     "end_time": "2024-04-16T21:26:08.855950Z",
     "start_time": "2024-04-16T21:26:08.853975Z"
    }
   },
   "cell_type": "code",
   "source": [
    "sql_idle = \"\"\" \n",
    "select a.id, a.num_linha, a.descricao, b.direcao, b.pontos_geolocalizacao\n",
    "from\n",
    "    hp.raw_linhas a,\n",
    "    hp.raw_trajetos b\n",
    "where a.id = b.linha_id\n",
    "\"\"\""
   ],
   "id": "3638962a069b93f1",
   "outputs": [],
   "execution_count": 63
  },
  {
   "metadata": {
    "ExecuteTime": {
     "end_time": "2024-04-16T21:26:08.859498Z",
     "start_time": "2024-04-16T21:26:08.857762Z"
    }
   },
   "cell_type": "code",
   "source": [
    "sql_schedule = \"\"\" \n",
    "SELECT id, \"data\", linha, carro\n",
    "FROM hp.raw_escalas_programadas;\n",
    "\"\"\""
   ],
   "id": "7f305129288cd06f",
   "outputs": [],
   "execution_count": 64
  },
  {
   "metadata": {
    "ExecuteTime": {
     "end_time": "2024-04-16T21:26:08.869705Z",
     "start_time": "2024-04-16T21:26:08.867361Z"
    }
   },
   "cell_type": "code",
   "source": [
    "sql_routes = \"\"\"\n",
    "SELECT id, linha_id, direcao, pontos_geolocalizacao\n",
    "FROM hp.raw_trajetos;\n",
    "\"\"\""
   ],
   "id": "1e80383c8db60d69",
   "outputs": [],
   "execution_count": 65
  },
  {
   "metadata": {},
   "cell_type": "markdown",
   "source": "# Dataframes",
   "id": "37d59de1cdc6f32d"
  },
  {
   "metadata": {
    "ExecuteTime": {
     "end_time": "2024-04-16T21:26:09.406359Z",
     "start_time": "2024-04-16T21:26:08.890476Z"
    }
   },
   "cell_type": "code",
   "source": "df_trip_made = pd.read_sql(sql_geodata, engine)",
   "id": "a4fe6d4327823c06",
   "outputs": [],
   "execution_count": 66
  },
  {
   "metadata": {
    "ExecuteTime": {
     "end_time": "2024-04-16T21:26:09.737854Z",
     "start_time": "2024-04-16T21:26:09.409083Z"
    }
   },
   "cell_type": "code",
   "source": "df_trip_idle = pd.read_sql(sql_idle, engine)",
   "id": "7c47721eca570900",
   "outputs": [],
   "execution_count": 67
  },
  {
   "metadata": {
    "ExecuteTime": {
     "end_time": "2024-04-16T21:26:09.877342Z",
     "start_time": "2024-04-16T21:26:09.738905Z"
    }
   },
   "cell_type": "code",
   "source": "df_schedule = pd.read_sql(sql_schedule, engine)",
   "id": "406d49072de8bd2",
   "outputs": [],
   "execution_count": 68
  },
  {
   "metadata": {
    "ExecuteTime": {
     "end_time": "2024-04-16T21:26:10.168394Z",
     "start_time": "2024-04-16T21:26:09.878649Z"
    }
   },
   "cell_type": "code",
   "source": "df_routes = pd.read_sql(sql_routes, engine)",
   "id": "bb44fc9f90e3d65d",
   "outputs": [],
   "execution_count": 69
  },
  {
   "metadata": {},
   "cell_type": "markdown",
   "source": "# Functions",
   "id": "dd6cb6c28f534920"
  },
  {
   "metadata": {
    "ExecuteTime": {
     "end_time": "2024-04-16T21:26:10.173204Z",
     "start_time": "2024-04-16T21:26:10.169385Z"
    }
   },
   "cell_type": "code",
   "source": [
    "def read_and_extract_placemarks(file_path, namespace):\n",
    "    \"\"\" \n",
    "    :param: file_path: caminho para o arquivo kml\n",
    "    :return: lista de dicionários com os nomes e coordenadas dos placemarks\n",
    "\n",
    "    A função lê um arquivo kml e extrai os placemarks, retornando uma lista de dicionários com os nomes e coordenadas dos placemarks.\n",
    "    \"\"\"\n",
    "    tree = ET.parse(file_path)\n",
    "    root = tree.getroot()\n",
    "    placemarks = []\n",
    "    for placemark in root.findall('.//kml:Placemark', namespace):\n",
    "        name = placemark.find('kml:name', namespace).text if placemark.find('kml:name', namespace) is not None else \"Unnamed\"\n",
    "        coordinates = placemark.find('.//kml:coordinates', namespace).text.strip() if placemark.find('.//kml:coordinates', namespace) is not None else \"No coordinates\"\n",
    "        placemarks.append({'name': name, 'coordinates': coordinates})\n",
    "    return placemarks"
   ],
   "id": "a264736dec087a81",
   "outputs": [],
   "execution_count": 70
  },
  {
   "metadata": {
    "ExecuteTime": {
     "end_time": "2024-04-16T21:26:10.177623Z",
     "start_time": "2024-04-16T21:26:10.173916Z"
    }
   },
   "cell_type": "code",
   "source": [
    "def parse_coordinates(coordinates_str):\n",
    "    \"\"\"\n",
    "    param: coordinates_str: string de coordenadas (lat, long)\n",
    "    return: lista de tuplas de coordenadas (long, lat)\n",
    "\n",
    "    A função recebe uma string de coordenadas (lat, long) e retorna uma lista de tuplas de coordenadas (long, lat).\n",
    "    \"\"\"\n",
    "    coords = coordinates_str.split()\n",
    "    return [(float(coord.split(',')[1]), float(coord.split(',')[0])) for coord in coords]"
   ],
   "id": "ca0567b53b921b8b",
   "outputs": [],
   "execution_count": 71
  },
  {
   "metadata": {
    "ExecuteTime": {
     "end_time": "2024-04-16T21:26:10.181676Z",
     "start_time": "2024-04-16T21:26:10.178354Z"
    }
   },
   "cell_type": "code",
   "source": [
    "def add_placemarks_to_map(placemarks, map):\n",
    "    \"\"\" \n",
    "    param: placemarks: lista de dicionários com as informações dos placemarks\n",
    "    return: map: objeto do tipo folium.Map\n",
    "\n",
    "    Quando o arquivo conter somente um ponto, por exemplo uma tupla de coordenadas,ele será plotado como um marcador de viagem realizada. Quando houver\n",
    "    uma lista de coordenadas, oriundas de um arquivo com trajetória, será plotado uma linha entre os pontos.\n",
    "    \"\"\"\n",
    "    for i, placemark in enumerate(placemarks):\n",
    "        parsed_coords = parse_coordinates(placemark['coordinates'])\n",
    "        if len(parsed_coords) == 1:  # Para um único ponto\n",
    "            folium.Marker(\n",
    "                location=parsed_coords[0],\n",
    "                icon=folium.Icon(icon='fa-van-shuttle', prefix='fa',color='blue')\n",
    "            ).add_to(map)\n",
    "\n",
    "        else:  # Para múltiplos pontos (trajetória)\n",
    "            if 'VOLTA' in placemark['name']:\n",
    "                folium.PolyLine(locations=parsed_coords, color='green', weight=2.5, opacity=1, dash_array='5, 5').add_to(map)\n",
    "\n",
    "            else:  # Para outros casos, usa uma linha contínua\n",
    "                folium.PolyLine(locations=parsed_coords, color='red', weight=2.5, opacity=1).add_to(map)"
   ],
   "id": "b56670c810699c45",
   "outputs": [],
   "execution_count": 72
  },
  {
   "metadata": {
    "ExecuteTime": {
     "end_time": "2024-04-16T21:26:10.185150Z",
     "start_time": "2024-04-16T21:26:10.182380Z"
    }
   },
   "cell_type": "code",
   "source": [
    "def haversine(lon1, lat1, lon2, lat2):\n",
    "    # Raio da Terra em quilômetros\n",
    "    R = 6371.0\n",
    "\n",
    "    # Conversão de coordenadas de graus para radianos\n",
    "    lon1, lat1, lon2, lat2 = map(radians, [lon1, lat1, lon2, lat2])\n",
    "\n",
    "    # Diferenças nas coordenadas\n",
    "    dlon = lon2 - lon1\n",
    "    dlat = lat2 - lat1\n",
    "\n",
    "    # Fórmula de Haversine\n",
    "    a = sin(dlat / 2)**2 + cos(lat1) * cos(lat2) * sin(dlon / 2)**2\n",
    "    c = 2 * atan2(sqrt(a), sqrt(1 - a))\n",
    "    distance = R * c\n",
    "\n",
    "    return distance"
   ],
   "id": "29b9c3d4a3b8d44c",
   "outputs": [],
   "execution_count": 73
  },
  {
   "metadata": {
    "ExecuteTime": {
     "end_time": "2024-04-16T21:26:10.187941Z",
     "start_time": "2024-04-16T21:26:10.185824Z"
    }
   },
   "cell_type": "code",
   "source": [
    "def extract_coords(coords_list):\n",
    "    return [[coord['lat'], coord['lng']] for coord in coords_list]"
   ],
   "id": "613cd66876f78cca",
   "outputs": [],
   "execution_count": 74
  },
  {
   "metadata": {},
   "cell_type": "markdown",
   "source": "# Transformações",
   "id": "4c4c93092decbe43"
  },
  {
   "metadata": {},
   "cell_type": "markdown",
   "source": "## df_planned_trp",
   "id": "5d1d857d89f923df"
  },
  {
   "metadata": {
    "ExecuteTime": {
     "end_time": "2024-04-16T21:26:10.227300Z",
     "start_time": "2024-04-16T21:26:10.189803Z"
    }
   },
   "cell_type": "code",
   "source": "placemarks_planned = read_and_extract_placemarks(planned_trip_path, ns)",
   "id": "8aaefd79d14f87a1",
   "outputs": [],
   "execution_count": 75
  },
  {
   "metadata": {
    "ExecuteTime": {
     "end_time": "2024-04-16T21:26:10.230914Z",
     "start_time": "2024-04-16T21:26:10.228225Z"
    }
   },
   "cell_type": "code",
   "source": "df_planned_trip = pd.DataFrame(placemarks_planned)",
   "id": "691e6613bd623059",
   "outputs": [],
   "execution_count": 76
  },
  {
   "metadata": {
    "ExecuteTime": {
     "end_time": "2024-04-16T21:26:10.234509Z",
     "start_time": "2024-04-16T21:26:10.231626Z"
    }
   },
   "cell_type": "code",
   "source": "df_planned_trip['Código'] = df_planned_trip['name'].apply(lambda x: x.split('-', 1)[0])",
   "id": "23a2b03d8b2b5e89",
   "outputs": [],
   "execution_count": 77
  },
  {
   "metadata": {
    "ExecuteTime": {
     "end_time": "2024-04-16T21:26:10.241602Z",
     "start_time": "2024-04-16T21:26:10.235652Z"
    }
   },
   "cell_type": "code",
   "source": [
    "df_planned_trip['identificacao'] = df_planned_trip['name'].apply(lambda x: x.split('-', 1)[1])\n",
    "df_planned_trip['identificacao'] = df_planned_trip['identificacao'].apply(lambda x: x.split('- ', 1)[0])\n",
    "df_planned_trip['identificacao'] = df_planned_trip['identificacao'].apply(lambda x: x.split(' ', 1)[0])"
   ],
   "id": "25112899693ec594",
   "outputs": [],
   "execution_count": 78
  },
  {
   "metadata": {
    "ExecuteTime": {
     "end_time": "2024-04-16T21:26:10.251328Z",
     "start_time": "2024-04-16T21:26:10.242816Z"
    }
   },
   "cell_type": "code",
   "source": [
    "df_planned_trip['Código'] = df_planned_trip['name'].apply(lambda x: x.split('-', 1)[0])\n",
    "df_planned_trip['Descrição e Sentido'] = df_planned_trip['name'].apply(lambda x: x.split(' - ', 1)[1] if ' - ' in x else '')\n",
    "df_planned_trip['Descrição'] = df_planned_trip['Descrição e Sentido'].apply(lambda x: x.rsplit(' - ', 1)[0] if ' - ' in x else x)\n",
    "df_planned_trip['Sentido'] = df_planned_trip['Descrição e Sentido'].apply(lambda x: x.rsplit(' - ', 1)[1] if ' - ' in x else '')\n",
    "df_planned_trip.drop('Descrição e Sentido', axis=1, inplace=True)"
   ],
   "id": "3ba48e0dca1db8ab",
   "outputs": [],
   "execution_count": 79
  },
  {
   "metadata": {
    "ExecuteTime": {
     "end_time": "2024-04-16T21:26:10.255749Z",
     "start_time": "2024-04-16T21:26:10.252311Z"
    }
   },
   "cell_type": "code",
   "source": [
    "de_para = {\n",
    "    '1': 'A', '2': 'B', '3': 'C', '4': 'D', '5': 'E',\n",
    "    '6': 'F', '7': 'G', '8': 'H', '9': 'I', '21': 'A',\n",
    "    '22': 'B', '23': 'C', '24': 'D', '25': 'E', '26': 'F',\n",
    "    '27': 'G', '28': 'H', '29': 'I', '31': 'A', '32': 'B',\n",
    "    '33': 'C', '34': 'D', '35': 'E', '36': 'F', '37': 'G',\n",
    "    '38': 'H', '39': 'I'\n",
    "}"
   ],
   "id": "15bc1d74c95162aa",
   "outputs": [],
   "execution_count": 80
  },
  {
   "metadata": {
    "ExecuteTime": {
     "end_time": "2024-04-16T21:26:10.259248Z",
     "start_time": "2024-04-16T21:26:10.256657Z"
    }
   },
   "cell_type": "code",
   "source": "df_planned_trip['sublinha'] = df_planned_trip['identificacao'].apply(lambda x: de_para[x[:-1]])",
   "id": "75f77b5ac20f87ca",
   "outputs": [],
   "execution_count": 81
  },
  {
   "metadata": {
    "ExecuteTime": {
     "end_time": "2024-04-16T21:26:10.262282Z",
     "start_time": "2024-04-16T21:26:10.259898Z"
    }
   },
   "cell_type": "code",
   "source": "df_planned_trip['concatenated'] = df_planned_trip['Código'].astype(str) + df_planned_trip['sublinha']",
   "id": "62afde1c795024c2",
   "outputs": [],
   "execution_count": 82
  },
  {
   "metadata": {},
   "cell_type": "markdown",
   "source": "# Execution",
   "id": "b753d9a89bd00937"
  },
  {
   "metadata": {},
   "cell_type": "markdown",
   "source": [
    "* Lógica para a execução do código\n",
    "* listar todos os carros que rodaram no dia\n",
    "* listar as linhas que estes carros rodaram\n",
    "* listar as rotas ociosas de cada linha\n",
    "* listar as rotas programadas de cada linha\n",
    "* listar a rota realizada pelo carro (dados mix)\n",
    "* fazer o comparativo entre realizada e programada\n",
    "* enviar email com os carros ofensores\n",
    "* Todos os dados estão no banco postgres."
   ],
   "id": "e29135aae710257d"
  },
  {
   "metadata": {},
   "cell_type": "code",
   "outputs": [],
   "execution_count": null,
   "source": "#filtar data 2024-02-20 no dataframe df_schedule coluna data\n",
   "id": "94bb659679b6665a"
  },
  {
   "metadata": {
    "ExecuteTime": {
     "end_time": "2024-04-16T21:28:49.073944Z",
     "start_time": "2024-04-16T21:28:49.067599Z"
    }
   },
   "cell_type": "code",
   "source": "df_schedule[df_schedule['carro'] == 20998]",
   "id": "1e450b6a8471856c",
   "outputs": [
    {
     "data": {
      "text/plain": [
       "        id        data linha  carro\n",
       "6597  6546  2024-04-15  026A  20998\n",
       "6598  6551  2024-04-15  026A  20998\n",
       "6599  6558  2024-04-15  026A  20998\n",
       "6600  6562  2024-04-15  026B  20998\n",
       "6601  6568  2024-04-15  026B  20998\n",
       "6602  6574  2024-04-15  026B  20998\n",
       "6603  6580  2024-04-15  026B  20998\n",
       "6604  6588  2024-04-15  026B  20998\n",
       "6605  6596  2024-04-15  026B  20998\n",
       "6606  6597  2024-04-15  026A  20998\n",
       "6607  6603  2024-04-15  026A  20998\n",
       "6608  6611  2024-04-15  026A  20998\n",
       "6609  6618  2024-04-15  026A  20998\n",
       "6610  6626  2024-04-15  026A  20998\n",
       "6611  6629  2024-04-15  026A  20998\n",
       "6612  6634  2024-04-15  028A  20998\n",
       "6613  6642  2024-04-15  027A  20998\n",
       "6614  6645  2024-04-15  028A  20998\n",
       "6615  6655  2024-04-15  027A  20998"
      ],
      "text/html": [
       "<div>\n",
       "<style scoped>\n",
       "    .dataframe tbody tr th:only-of-type {\n",
       "        vertical-align: middle;\n",
       "    }\n",
       "\n",
       "    .dataframe tbody tr th {\n",
       "        vertical-align: top;\n",
       "    }\n",
       "\n",
       "    .dataframe thead th {\n",
       "        text-align: right;\n",
       "    }\n",
       "</style>\n",
       "<table border=\"1\" class=\"dataframe\">\n",
       "  <thead>\n",
       "    <tr style=\"text-align: right;\">\n",
       "      <th></th>\n",
       "      <th>id</th>\n",
       "      <th>data</th>\n",
       "      <th>linha</th>\n",
       "      <th>carro</th>\n",
       "    </tr>\n",
       "  </thead>\n",
       "  <tbody>\n",
       "    <tr>\n",
       "      <th>6597</th>\n",
       "      <td>6546</td>\n",
       "      <td>2024-04-15</td>\n",
       "      <td>026A</td>\n",
       "      <td>20998</td>\n",
       "    </tr>\n",
       "    <tr>\n",
       "      <th>6598</th>\n",
       "      <td>6551</td>\n",
       "      <td>2024-04-15</td>\n",
       "      <td>026A</td>\n",
       "      <td>20998</td>\n",
       "    </tr>\n",
       "    <tr>\n",
       "      <th>6599</th>\n",
       "      <td>6558</td>\n",
       "      <td>2024-04-15</td>\n",
       "      <td>026A</td>\n",
       "      <td>20998</td>\n",
       "    </tr>\n",
       "    <tr>\n",
       "      <th>6600</th>\n",
       "      <td>6562</td>\n",
       "      <td>2024-04-15</td>\n",
       "      <td>026B</td>\n",
       "      <td>20998</td>\n",
       "    </tr>\n",
       "    <tr>\n",
       "      <th>6601</th>\n",
       "      <td>6568</td>\n",
       "      <td>2024-04-15</td>\n",
       "      <td>026B</td>\n",
       "      <td>20998</td>\n",
       "    </tr>\n",
       "    <tr>\n",
       "      <th>6602</th>\n",
       "      <td>6574</td>\n",
       "      <td>2024-04-15</td>\n",
       "      <td>026B</td>\n",
       "      <td>20998</td>\n",
       "    </tr>\n",
       "    <tr>\n",
       "      <th>6603</th>\n",
       "      <td>6580</td>\n",
       "      <td>2024-04-15</td>\n",
       "      <td>026B</td>\n",
       "      <td>20998</td>\n",
       "    </tr>\n",
       "    <tr>\n",
       "      <th>6604</th>\n",
       "      <td>6588</td>\n",
       "      <td>2024-04-15</td>\n",
       "      <td>026B</td>\n",
       "      <td>20998</td>\n",
       "    </tr>\n",
       "    <tr>\n",
       "      <th>6605</th>\n",
       "      <td>6596</td>\n",
       "      <td>2024-04-15</td>\n",
       "      <td>026B</td>\n",
       "      <td>20998</td>\n",
       "    </tr>\n",
       "    <tr>\n",
       "      <th>6606</th>\n",
       "      <td>6597</td>\n",
       "      <td>2024-04-15</td>\n",
       "      <td>026A</td>\n",
       "      <td>20998</td>\n",
       "    </tr>\n",
       "    <tr>\n",
       "      <th>6607</th>\n",
       "      <td>6603</td>\n",
       "      <td>2024-04-15</td>\n",
       "      <td>026A</td>\n",
       "      <td>20998</td>\n",
       "    </tr>\n",
       "    <tr>\n",
       "      <th>6608</th>\n",
       "      <td>6611</td>\n",
       "      <td>2024-04-15</td>\n",
       "      <td>026A</td>\n",
       "      <td>20998</td>\n",
       "    </tr>\n",
       "    <tr>\n",
       "      <th>6609</th>\n",
       "      <td>6618</td>\n",
       "      <td>2024-04-15</td>\n",
       "      <td>026A</td>\n",
       "      <td>20998</td>\n",
       "    </tr>\n",
       "    <tr>\n",
       "      <th>6610</th>\n",
       "      <td>6626</td>\n",
       "      <td>2024-04-15</td>\n",
       "      <td>026A</td>\n",
       "      <td>20998</td>\n",
       "    </tr>\n",
       "    <tr>\n",
       "      <th>6611</th>\n",
       "      <td>6629</td>\n",
       "      <td>2024-04-15</td>\n",
       "      <td>026A</td>\n",
       "      <td>20998</td>\n",
       "    </tr>\n",
       "    <tr>\n",
       "      <th>6612</th>\n",
       "      <td>6634</td>\n",
       "      <td>2024-04-15</td>\n",
       "      <td>028A</td>\n",
       "      <td>20998</td>\n",
       "    </tr>\n",
       "    <tr>\n",
       "      <th>6613</th>\n",
       "      <td>6642</td>\n",
       "      <td>2024-04-15</td>\n",
       "      <td>027A</td>\n",
       "      <td>20998</td>\n",
       "    </tr>\n",
       "    <tr>\n",
       "      <th>6614</th>\n",
       "      <td>6645</td>\n",
       "      <td>2024-04-15</td>\n",
       "      <td>028A</td>\n",
       "      <td>20998</td>\n",
       "    </tr>\n",
       "    <tr>\n",
       "      <th>6615</th>\n",
       "      <td>6655</td>\n",
       "      <td>2024-04-15</td>\n",
       "      <td>027A</td>\n",
       "      <td>20998</td>\n",
       "    </tr>\n",
       "  </tbody>\n",
       "</table>\n",
       "</div>"
      ]
     },
     "execution_count": 88,
     "metadata": {},
     "output_type": "execute_result"
    }
   ],
   "execution_count": 88
  },
  {
   "metadata": {
    "ExecuteTime": {
     "end_time": "2024-04-16T21:26:13.141101Z",
     "start_time": "2024-04-16T21:26:13.134005Z"
    }
   },
   "cell_type": "code",
   "source": "df_schedule",
   "id": "bf5fa203d2c1388d",
   "outputs": [
    {
     "data": {
      "text/plain": [
       "          id        data linha  carro\n",
       "0          1  2024-02-25  026A  20017\n",
       "1          2  2024-02-25  275A  20017\n",
       "2          3  2024-02-25  022B  20017\n",
       "3          4  2024-02-25  403A  20017\n",
       "4          5  2024-02-25  574A  20017\n",
       "...      ...         ...   ...    ...\n",
       "90658  90659  2024-04-12  025C  20805\n",
       "90659  90660  2024-04-12  025C  20805\n",
       "90660  90661  2024-04-12  025A  20805\n",
       "90661  90662  2024-04-12  025A  20805\n",
       "90662  90663  2024-04-12  025A  20805\n",
       "\n",
       "[90663 rows x 4 columns]"
      ],
      "text/html": [
       "<div>\n",
       "<style scoped>\n",
       "    .dataframe tbody tr th:only-of-type {\n",
       "        vertical-align: middle;\n",
       "    }\n",
       "\n",
       "    .dataframe tbody tr th {\n",
       "        vertical-align: top;\n",
       "    }\n",
       "\n",
       "    .dataframe thead th {\n",
       "        text-align: right;\n",
       "    }\n",
       "</style>\n",
       "<table border=\"1\" class=\"dataframe\">\n",
       "  <thead>\n",
       "    <tr style=\"text-align: right;\">\n",
       "      <th></th>\n",
       "      <th>id</th>\n",
       "      <th>data</th>\n",
       "      <th>linha</th>\n",
       "      <th>carro</th>\n",
       "    </tr>\n",
       "  </thead>\n",
       "  <tbody>\n",
       "    <tr>\n",
       "      <th>0</th>\n",
       "      <td>1</td>\n",
       "      <td>2024-02-25</td>\n",
       "      <td>026A</td>\n",
       "      <td>20017</td>\n",
       "    </tr>\n",
       "    <tr>\n",
       "      <th>1</th>\n",
       "      <td>2</td>\n",
       "      <td>2024-02-25</td>\n",
       "      <td>275A</td>\n",
       "      <td>20017</td>\n",
       "    </tr>\n",
       "    <tr>\n",
       "      <th>2</th>\n",
       "      <td>3</td>\n",
       "      <td>2024-02-25</td>\n",
       "      <td>022B</td>\n",
       "      <td>20017</td>\n",
       "    </tr>\n",
       "    <tr>\n",
       "      <th>3</th>\n",
       "      <td>4</td>\n",
       "      <td>2024-02-25</td>\n",
       "      <td>403A</td>\n",
       "      <td>20017</td>\n",
       "    </tr>\n",
       "    <tr>\n",
       "      <th>4</th>\n",
       "      <td>5</td>\n",
       "      <td>2024-02-25</td>\n",
       "      <td>574A</td>\n",
       "      <td>20017</td>\n",
       "    </tr>\n",
       "    <tr>\n",
       "      <th>...</th>\n",
       "      <td>...</td>\n",
       "      <td>...</td>\n",
       "      <td>...</td>\n",
       "      <td>...</td>\n",
       "    </tr>\n",
       "    <tr>\n",
       "      <th>90658</th>\n",
       "      <td>90659</td>\n",
       "      <td>2024-04-12</td>\n",
       "      <td>025C</td>\n",
       "      <td>20805</td>\n",
       "    </tr>\n",
       "    <tr>\n",
       "      <th>90659</th>\n",
       "      <td>90660</td>\n",
       "      <td>2024-04-12</td>\n",
       "      <td>025C</td>\n",
       "      <td>20805</td>\n",
       "    </tr>\n",
       "    <tr>\n",
       "      <th>90660</th>\n",
       "      <td>90661</td>\n",
       "      <td>2024-04-12</td>\n",
       "      <td>025A</td>\n",
       "      <td>20805</td>\n",
       "    </tr>\n",
       "    <tr>\n",
       "      <th>90661</th>\n",
       "      <td>90662</td>\n",
       "      <td>2024-04-12</td>\n",
       "      <td>025A</td>\n",
       "      <td>20805</td>\n",
       "    </tr>\n",
       "    <tr>\n",
       "      <th>90662</th>\n",
       "      <td>90663</td>\n",
       "      <td>2024-04-12</td>\n",
       "      <td>025A</td>\n",
       "      <td>20805</td>\n",
       "    </tr>\n",
       "  </tbody>\n",
       "</table>\n",
       "<p>90663 rows × 4 columns</p>\n",
       "</div>"
      ]
     },
     "execution_count": 84,
     "metadata": {},
     "output_type": "execute_result"
    }
   ],
   "execution_count": 84
  },
  {
   "metadata": {},
   "cell_type": "code",
   "outputs": [],
   "execution_count": null,
   "source": "",
   "id": "126a426fc1fda6f5"
  }
 ],
 "metadata": {
  "kernelspec": {
   "display_name": "Python 3 (ipykernel)",
   "language": "python",
   "name": "python3"
  },
  "language_info": {
   "codemirror_mode": {
    "name": "ipython",
    "version": 3
   },
   "file_extension": ".py",
   "mimetype": "text/x-python",
   "name": "python",
   "nbconvert_exporter": "python",
   "pygments_lexer": "ipython3",
   "version": "3.11.5"
  }
 },
 "nbformat": 4,
 "nbformat_minor": 5
}
