{
 "cells": [
  {
   "cell_type": "code",
   "id": "initial_id",
   "metadata": {
    "ExecuteTime": {
     "end_time": "2024-04-17T12:07:28.071185Z",
     "start_time": "2024-04-17T12:07:27.474992Z"
    }
   },
   "source": [
    "from xml.etree import ElementTree as ET\n",
    "import folium\n",
    "import numpy as np\n",
    "from shapely.geometry import Point, LineString\n",
    "import pandas as pd\n",
    "from sqlalchemy import create_engine\n",
    "from math import radians, cos, sin, sqrt, atan2\n",
    "import ast"
   ],
   "outputs": [],
   "execution_count": 1
  },
  {
   "cell_type": "markdown",
   "id": "5acf3ce4ae993005",
   "metadata": {},
   "source": [
    "Lógica para a execução do código\n",
    "1. listar todos os carros que rodaram no dia\n",
    "2. listar as linhas que estes carros rodaram\n",
    "3. listar as rotas ociosas de cada linha\n",
    "4. listar as rotas programadas de cada linha\n",
    "5. listar a rota realizada pelo carro (dados mix)\n",
    "6. fazer o comparativo entre realizada e programada\n",
    "7. enviar email com os carros ofensores\n",
    "\n",
    "Todos os dados estão no banco postgres."
   ]
  },
  {
   "cell_type": "code",
   "id": "a36c9707df554904",
   "metadata": {
    "ExecuteTime": {
     "end_time": "2024-04-17T12:07:28.075391Z",
     "start_time": "2024-04-17T12:07:28.072647Z"
    }
   },
   "source": [
    "dbname = 'poc-db'\n",
    "user = 'adminpoc'\n",
    "password = 'adminpoc'\n",
    "host = 'localhost'\n",
    "port = '5440' "
   ],
   "outputs": [],
   "execution_count": 2
  },
  {
   "cell_type": "code",
   "id": "2e950bb78910da16",
   "metadata": {
    "ExecuteTime": {
     "end_time": "2024-04-17T12:07:28.100007Z",
     "start_time": "2024-04-17T12:07:28.076304Z"
    }
   },
   "source": [
    "engine = create_engine(f'postgresql://{user}:{password}@{host}:{port}/{dbname}')"
   ],
   "outputs": [],
   "execution_count": 3
  },
  {
   "cell_type": "code",
   "id": "b7ebe2e1a63d9ff1",
   "metadata": {
    "ExecuteTime": {
     "end_time": "2024-04-17T12:07:28.102716Z",
     "start_time": "2024-04-17T12:07:28.100818Z"
    }
   },
   "source": [
    "ns = {'kml': 'http://www.opengis.net/kml/2.2'}"
   ],
   "outputs": [],
   "execution_count": 4
  },
  {
   "metadata": {},
   "cell_type": "markdown",
   "source": "# Paths",
   "id": "6ca443c82fbdbc04"
  },
  {
   "metadata": {
    "ExecuteTime": {
     "end_time": "2024-04-17T12:07:28.106256Z",
     "start_time": "2024-04-17T12:07:28.104100Z"
    }
   },
   "cell_type": "code",
   "source": "planned_trip_path = '../notebooks/data/1.1 LINHAS RMTC [2023-11-29].kml'",
   "id": "5dc9243705266836",
   "outputs": [],
   "execution_count": 5
  },
  {
   "cell_type": "markdown",
   "id": "d27d188e2a8231df",
   "metadata": {},
   "source": "# SQL"
  },
  {
   "cell_type": "code",
   "id": "459e116f7a1d3dec",
   "metadata": {
    "ExecuteTime": {
     "end_time": "2024-04-17T12:07:28.108873Z",
     "start_time": "2024-04-17T12:07:28.106934Z"
    }
   },
   "source": [
    "sql_geodata = \"\"\" \n",
    "select a.execution_date, a.registration, a.description, a.coordinates\n",
    "    from hp.raw_geodata a\n",
    "\"\"\""
   ],
   "outputs": [],
   "execution_count": 6
  },
  {
   "metadata": {
    "ExecuteTime": {
     "end_time": "2024-04-17T12:07:28.111320Z",
     "start_time": "2024-04-17T12:07:28.109591Z"
    }
   },
   "cell_type": "code",
   "source": [
    "sql_idle = \"\"\" \n",
    "select a.id, a.num_linha, a.descricao, b.direcao, b.pontos_geolocalizacao\n",
    "from\n",
    "    hp.raw_linhas a,\n",
    "    hp.raw_trajetos b\n",
    "where a.id = b.linha_id\n",
    "\"\"\""
   ],
   "id": "3638962a069b93f1",
   "outputs": [],
   "execution_count": 7
  },
  {
   "metadata": {
    "ExecuteTime": {
     "end_time": "2024-04-17T12:07:28.113721Z",
     "start_time": "2024-04-17T12:07:28.111959Z"
    }
   },
   "cell_type": "code",
   "source": [
    "sql_schedule = \"\"\" \n",
    "SELECT id, \"data\", linha, carro, re, nome, dthr_saida, dthr_retorno, dthr_chegada\n",
    "FROM hp.raw_escalas_programadas rep\n",
    "\"\"\""
   ],
   "id": "7f305129288cd06f",
   "outputs": [],
   "execution_count": 8
  },
  {
   "metadata": {
    "ExecuteTime": {
     "end_time": "2024-04-17T12:07:28.116027Z",
     "start_time": "2024-04-17T12:07:28.114390Z"
    }
   },
   "cell_type": "code",
   "source": [
    "sql_routes = \"\"\"\n",
    "SELECT id, linha_id, direcao, pontos_geolocalizacao\n",
    "FROM hp.raw_trajetos;\n",
    "\"\"\""
   ],
   "id": "1e80383c8db60d69",
   "outputs": [],
   "execution_count": 9
  },
  {
   "metadata": {},
   "cell_type": "markdown",
   "source": "# Dataframes",
   "id": "37d59de1cdc6f32d"
  },
  {
   "metadata": {
    "ExecuteTime": {
     "end_time": "2024-04-17T12:07:28.503567Z",
     "start_time": "2024-04-17T12:07:28.116670Z"
    }
   },
   "cell_type": "code",
   "source": "df_trip_made = pd.read_sql(sql_geodata, engine)",
   "id": "a4fe6d4327823c06",
   "outputs": [],
   "execution_count": 10
  },
  {
   "metadata": {
    "ExecuteTime": {
     "end_time": "2024-04-17T12:07:28.778579Z",
     "start_time": "2024-04-17T12:07:28.504409Z"
    }
   },
   "cell_type": "code",
   "source": "df_trip_idle = pd.read_sql(sql_idle, engine)",
   "id": "7c47721eca570900",
   "outputs": [],
   "execution_count": 11
  },
  {
   "metadata": {
    "ExecuteTime": {
     "end_time": "2024-04-17T12:07:29.297167Z",
     "start_time": "2024-04-17T12:07:28.779560Z"
    }
   },
   "cell_type": "code",
   "source": "df_schedule = pd.read_sql(sql_schedule, engine)",
   "id": "406d49072de8bd2",
   "outputs": [],
   "execution_count": 12
  },
  {
   "metadata": {
    "ExecuteTime": {
     "end_time": "2024-04-17T12:07:29.562257Z",
     "start_time": "2024-04-17T12:07:29.298009Z"
    }
   },
   "cell_type": "code",
   "source": "df_routes = pd.read_sql(sql_routes, engine)",
   "id": "bb44fc9f90e3d65d",
   "outputs": [],
   "execution_count": 13
  },
  {
   "metadata": {},
   "cell_type": "markdown",
   "source": "# Functions",
   "id": "dd6cb6c28f534920"
  },
  {
   "metadata": {
    "ExecuteTime": {
     "end_time": "2024-04-17T12:07:29.570410Z",
     "start_time": "2024-04-17T12:07:29.565441Z"
    }
   },
   "cell_type": "code",
   "source": [
    "def read_and_extract_placemarks(file_path, namespace):\n",
    "    \"\"\" \n",
    "    :param: file_path: caminho para o arquivo kml\n",
    "    :return: lista de dicionários com os nomes e coordenadas dos placemarks\n",
    "\n",
    "    A função lê um arquivo kml e extrai os placemarks, retornando uma lista de dicionários com os nomes e coordenadas dos placemarks.\n",
    "    \"\"\"\n",
    "    tree = ET.parse(file_path)\n",
    "    root = tree.getroot()\n",
    "    placemarks = []\n",
    "    for placemark in root.findall('.//kml:Placemark', namespace):\n",
    "        name = placemark.find('kml:name', namespace).text if placemark.find('kml:name', namespace) is not None else \"Unnamed\"\n",
    "        coordinates = placemark.find('.//kml:coordinates', namespace).text.strip() if placemark.find('.//kml:coordinates', namespace) is not None else \"No coordinates\"\n",
    "        placemarks.append({'name': name, 'coordinates': coordinates})\n",
    "    return placemarks"
   ],
   "id": "a264736dec087a81",
   "outputs": [],
   "execution_count": 14
  },
  {
   "metadata": {
    "ExecuteTime": {
     "end_time": "2024-04-17T12:07:29.574832Z",
     "start_time": "2024-04-17T12:07:29.571578Z"
    }
   },
   "cell_type": "code",
   "source": [
    "def parse_coordinates(coordinates_str):\n",
    "    \"\"\"\n",
    "    param: coordinates_str: string de coordenadas (lat, long)\n",
    "    return: lista de tuplas de coordenadas (long, lat)\n",
    "\n",
    "    A função recebe uma string de coordenadas (lat, long) e retorna uma lista de tuplas de coordenadas (long, lat).\n",
    "    \"\"\"\n",
    "    coords = coordinates_str.split()\n",
    "    return [(float(coord.split(',')[1]), float(coord.split(',')[0])) for coord in coords]"
   ],
   "id": "ca0567b53b921b8b",
   "outputs": [],
   "execution_count": 15
  },
  {
   "metadata": {
    "ExecuteTime": {
     "end_time": "2024-04-17T12:07:29.580914Z",
     "start_time": "2024-04-17T12:07:29.575919Z"
    }
   },
   "cell_type": "code",
   "source": [
    "def add_placemarks_to_map(placemarks, map):\n",
    "    \"\"\" \n",
    "    param: placemarks: lista de dicionários com as informações dos placemarks\n",
    "    return: map: objeto do tipo folium.Map\n",
    "\n",
    "    Quando o arquivo conter somente um ponto, por exemplo uma tupla de coordenadas,ele será plotado como um marcador de viagem realizada. Quando houver\n",
    "    uma lista de coordenadas, oriundas de um arquivo com trajetória, será plotado uma linha entre os pontos.\n",
    "    \"\"\"\n",
    "    for i, placemark in enumerate(placemarks):\n",
    "        parsed_coords = parse_coordinates(placemark['coordinates'])\n",
    "        if len(parsed_coords) == 1:  # Para um único ponto\n",
    "            folium.Marker(\n",
    "                location=parsed_coords[0],\n",
    "                icon=folium.Icon(icon='fa-van-shuttle', prefix='fa',color='blue')\n",
    "            ).add_to(map)\n",
    "\n",
    "        else:  # Para múltiplos pontos (trajetória)\n",
    "            if 'VOLTA' in placemark['name']:\n",
    "                folium.PolyLine(locations=parsed_coords, color='green', weight=2.5, opacity=1, dash_array='5, 5').add_to(map)\n",
    "\n",
    "            else:  # Para outros casos, usa uma linha contínua\n",
    "                folium.PolyLine(locations=parsed_coords, color='red', weight=2.5, opacity=1).add_to(map)"
   ],
   "id": "b56670c810699c45",
   "outputs": [],
   "execution_count": 16
  },
  {
   "metadata": {
    "ExecuteTime": {
     "end_time": "2024-04-17T12:07:29.586026Z",
     "start_time": "2024-04-17T12:07:29.582191Z"
    }
   },
   "cell_type": "code",
   "source": [
    "def haversine(lon1, lat1, lon2, lat2):\n",
    "    # Raio da Terra em quilômetros\n",
    "    R = 6371.0\n",
    "\n",
    "    # Conversão de coordenadas de graus para radianos\n",
    "    lon1, lat1, lon2, lat2 = map(radians, [lon1, lat1, lon2, lat2])\n",
    "\n",
    "    # Diferenças nas coordenadas\n",
    "    dlon = lon2 - lon1\n",
    "    dlat = lat2 - lat1\n",
    "\n",
    "    # Fórmula de Haversine\n",
    "    a = sin(dlat / 2)**2 + cos(lat1) * cos(lat2) * sin(dlon / 2)**2\n",
    "    c = 2 * atan2(sqrt(a), sqrt(1 - a))\n",
    "    distance = R * c\n",
    "\n",
    "    return distance"
   ],
   "id": "29b9c3d4a3b8d44c",
   "outputs": [],
   "execution_count": 17
  },
  {
   "metadata": {
    "ExecuteTime": {
     "end_time": "2024-04-17T12:07:29.589451Z",
     "start_time": "2024-04-17T12:07:29.587073Z"
    }
   },
   "cell_type": "code",
   "source": [
    "def extract_coords(coords_list):\n",
    "    return [[coord['lat'], coord['lng']] for coord in coords_list]"
   ],
   "id": "613cd66876f78cca",
   "outputs": [],
   "execution_count": 18
  },
  {
   "metadata": {},
   "cell_type": "markdown",
   "source": "# Transformações",
   "id": "4c4c93092decbe43"
  },
  {
   "metadata": {},
   "cell_type": "markdown",
   "source": "# df_schedule",
   "id": "27ff298834a3f076"
  },
  {
   "metadata": {
    "ExecuteTime": {
     "end_time": "2024-04-17T12:07:29.598122Z",
     "start_time": "2024-04-17T12:07:29.590443Z"
    }
   },
   "cell_type": "code",
   "source": "df_schedule.dtypes",
   "id": "1290852e22c39137",
   "outputs": [
    {
     "data": {
      "text/plain": [
       "id                       int64\n",
       "data                    object\n",
       "linha                   object\n",
       "carro                    int64\n",
       "re                      object\n",
       "nome                    object\n",
       "dthr_saida      datetime64[ns]\n",
       "dthr_retorno    datetime64[ns]\n",
       "dthr_chegada    datetime64[ns]\n",
       "dtype: object"
      ]
     },
     "execution_count": 19,
     "metadata": {},
     "output_type": "execute_result"
    }
   ],
   "execution_count": 19
  },
  {
   "metadata": {
    "ExecuteTime": {
     "end_time": "2024-04-17T12:07:29.611805Z",
     "start_time": "2024-04-17T12:07:29.599154Z"
    }
   },
   "cell_type": "code",
   "source": [
    "if df_schedule['data'].dtype == 'object':\n",
    "    df_schedule['data'] = pd.to_datetime(df_schedule['data'])"
   ],
   "id": "1148b2eb17550cd8",
   "outputs": [],
   "execution_count": 20
  },
  {
   "metadata": {},
   "cell_type": "markdown",
   "source": "## df_planned_trp",
   "id": "5d1d857d89f923df"
  },
  {
   "metadata": {
    "ExecuteTime": {
     "end_time": "2024-04-17T12:07:29.657825Z",
     "start_time": "2024-04-17T12:07:29.612947Z"
    }
   },
   "cell_type": "code",
   "source": "placemarks_planned = read_and_extract_placemarks(planned_trip_path, ns)",
   "id": "8aaefd79d14f87a1",
   "outputs": [],
   "execution_count": 21
  },
  {
   "metadata": {
    "ExecuteTime": {
     "end_time": "2024-04-17T12:07:29.661641Z",
     "start_time": "2024-04-17T12:07:29.658768Z"
    }
   },
   "cell_type": "code",
   "source": "df_planned_trip = pd.DataFrame(placemarks_planned)",
   "id": "691e6613bd623059",
   "outputs": [],
   "execution_count": 22
  },
  {
   "metadata": {
    "ExecuteTime": {
     "end_time": "2024-04-17T12:07:29.665212Z",
     "start_time": "2024-04-17T12:07:29.662397Z"
    }
   },
   "cell_type": "code",
   "source": "df_planned_trip['Código'] = df_planned_trip['name'].apply(lambda x: x.split('-', 1)[0])",
   "id": "23a2b03d8b2b5e89",
   "outputs": [],
   "execution_count": 23
  },
  {
   "metadata": {
    "ExecuteTime": {
     "end_time": "2024-04-17T12:07:29.669814Z",
     "start_time": "2024-04-17T12:07:29.665950Z"
    }
   },
   "cell_type": "code",
   "source": [
    "df_planned_trip['identificacao'] = df_planned_trip['name'].apply(lambda x: x.split('-', 1)[1])\n",
    "df_planned_trip['identificacao'] = df_planned_trip['identificacao'].apply(lambda x: x.split('- ', 1)[0])\n",
    "df_planned_trip['identificacao'] = df_planned_trip['identificacao'].apply(lambda x: x.split(' ', 1)[0])"
   ],
   "id": "25112899693ec594",
   "outputs": [],
   "execution_count": 24
  },
  {
   "metadata": {
    "ExecuteTime": {
     "end_time": "2024-04-17T12:07:29.676043Z",
     "start_time": "2024-04-17T12:07:29.670570Z"
    }
   },
   "cell_type": "code",
   "source": [
    "df_planned_trip['Código'] = df_planned_trip['name'].apply(lambda x: x.split('-', 1)[0])\n",
    "df_planned_trip['Descrição e Sentido'] = df_planned_trip['name'].apply(lambda x: x.split(' - ', 1)[1] if ' - ' in x else '')\n",
    "df_planned_trip['Descrição'] = df_planned_trip['Descrição e Sentido'].apply(lambda x: x.rsplit(' - ', 1)[0] if ' - ' in x else x)\n",
    "df_planned_trip['Sentido'] = df_planned_trip['Descrição e Sentido'].apply(lambda x: x.rsplit(' - ', 1)[1] if ' - ' in x else '')\n",
    "df_planned_trip.drop('Descrição e Sentido', axis=1, inplace=True)"
   ],
   "id": "3ba48e0dca1db8ab",
   "outputs": [],
   "execution_count": 25
  },
  {
   "metadata": {
    "ExecuteTime": {
     "end_time": "2024-04-17T12:07:29.679306Z",
     "start_time": "2024-04-17T12:07:29.676795Z"
    }
   },
   "cell_type": "code",
   "source": [
    "de_para = {\n",
    "    '1': 'A', '2': 'B', '3': 'C', '4': 'D', '5': 'E',\n",
    "    '6': 'F', '7': 'G', '8': 'H', '9': 'I', '21': 'A',\n",
    "    '22': 'B', '23': 'C', '24': 'D', '25': 'E', '26': 'F',\n",
    "    '27': 'G', '28': 'H', '29': 'I', '31': 'A', '32': 'B',\n",
    "    '33': 'C', '34': 'D', '35': 'E', '36': 'F', '37': 'G',\n",
    "    '38': 'H', '39': 'I'\n",
    "}"
   ],
   "id": "15bc1d74c95162aa",
   "outputs": [],
   "execution_count": 26
  },
  {
   "metadata": {
    "ExecuteTime": {
     "end_time": "2024-04-17T12:07:29.682684Z",
     "start_time": "2024-04-17T12:07:29.680130Z"
    }
   },
   "cell_type": "code",
   "source": "df_planned_trip['sublinha'] = df_planned_trip['identificacao'].apply(lambda x: de_para[x[:-1]])",
   "id": "75f77b5ac20f87ca",
   "execution_count": 27,
   "outputs": []
  },
  {
   "metadata": {
    "ExecuteTime": {
     "end_time": "2024-04-17T12:07:29.685695Z",
     "start_time": "2024-04-17T12:07:29.683344Z"
    }
   },
   "cell_type": "code",
   "source": "df_planned_trip['concatenated'] = df_planned_trip['Código'].astype(str) + df_planned_trip['sublinha']",
   "id": "62afde1c795024c2",
   "outputs": [],
   "execution_count": 28
  },
  {
   "metadata": {},
   "cell_type": "markdown",
   "source": "## df_trip_idle",
   "id": "e5dc9aae52309a35"
  },
  {
   "metadata": {
    "ExecuteTime": {
     "end_time": "2024-04-17T12:07:29.689699Z",
     "start_time": "2024-04-17T12:07:29.686602Z"
    }
   },
   "cell_type": "code",
   "source": "df_trip_idle['num_linha_numerico'] = df_trip_idle['num_linha'].str.extract(r'^(\\d+)')",
   "id": "216c35e2cb48465a",
   "outputs": [],
   "execution_count": 29
  },
  {
   "metadata": {
    "ExecuteTime": {
     "end_time": "2024-04-17T12:07:29.846702Z",
     "start_time": "2024-04-17T12:07:29.690522Z"
    }
   },
   "cell_type": "code",
   "source": "df_trip_idle",
   "id": "33f8d2038ddd717c",
   "outputs": [
    {
     "data": {
      "text/plain": [
       "      id num_linha                                   descricao direcao  \\\n",
       "0      1      002A  PARQUE ATHENEU / T ISIDORIA / PAULO GARCIA     ida   \n",
       "1      1      002A  PARQUE ATHENEU / T ISIDORIA / PAULO GARCIA   volta   \n",
       "2      2      002B                PARQUE ATHENEU / T. ISIDORIA     ida   \n",
       "3      2      002B                PARQUE ATHENEU / T. ISIDORIA   volta   \n",
       "4      3      002C     PC TRINDADE / T ISIDORIA / PRACA CIVICA     ida   \n",
       "..   ...       ...                                         ...     ...   \n",
       "596  319     9901                 COPA DA ESTRATEGIA - TURMA I   volta   \n",
       "597  320     9902                COPA DA ESTRATEGIA - TURMA II     ida   \n",
       "598  320     9902                COPA DA ESTRATEGIA - TURMA II   volta   \n",
       "599  321     9903               COPA DA ESTRATEGIA - TURMA III     ida   \n",
       "600  321     9903               COPA DA ESTRATEGIA - TURMA III   volta   \n",
       "\n",
       "                                 pontos_geolocalizacao num_linha_numerico  \n",
       "0    [{'lat': -16.76353, 'lng': -49.27021}, {'lat':...                002  \n",
       "1    [{'lat': -16.74154, 'lng': -49.19146}, {'lat':...                002  \n",
       "2    [{'lat': -16.76353, 'lng': -49.27021}, {'lat':...                002  \n",
       "3    [{'lat': -16.74154, 'lng': -49.19146}, {'lat':...                002  \n",
       "4    [{'lat': -16.76353, 'lng': -49.27021}, {'lat':...                002  \n",
       "..                                                 ...                ...  \n",
       "596  [{'lat': -16.705151223923, 'lng': -49.30067673...               9901  \n",
       "597  [{'lat': -16.65976138497988, 'lng': -49.261181...               9902  \n",
       "598  [{'lat': -16.705151223923, 'lng': -49.30067673...               9902  \n",
       "599  [{'lat': -16.65976138497988, 'lng': -49.261181...               9903  \n",
       "600  [{'lat': -16.705151223923, 'lng': -49.30067673...               9903  \n",
       "\n",
       "[601 rows x 6 columns]"
      ],
      "text/html": [
       "<div>\n",
       "<style scoped>\n",
       "    .dataframe tbody tr th:only-of-type {\n",
       "        vertical-align: middle;\n",
       "    }\n",
       "\n",
       "    .dataframe tbody tr th {\n",
       "        vertical-align: top;\n",
       "    }\n",
       "\n",
       "    .dataframe thead th {\n",
       "        text-align: right;\n",
       "    }\n",
       "</style>\n",
       "<table border=\"1\" class=\"dataframe\">\n",
       "  <thead>\n",
       "    <tr style=\"text-align: right;\">\n",
       "      <th></th>\n",
       "      <th>id</th>\n",
       "      <th>num_linha</th>\n",
       "      <th>descricao</th>\n",
       "      <th>direcao</th>\n",
       "      <th>pontos_geolocalizacao</th>\n",
       "      <th>num_linha_numerico</th>\n",
       "    </tr>\n",
       "  </thead>\n",
       "  <tbody>\n",
       "    <tr>\n",
       "      <th>0</th>\n",
       "      <td>1</td>\n",
       "      <td>002A</td>\n",
       "      <td>PARQUE ATHENEU / T ISIDORIA / PAULO GARCIA</td>\n",
       "      <td>ida</td>\n",
       "      <td>[{'lat': -16.76353, 'lng': -49.27021}, {'lat':...</td>\n",
       "      <td>002</td>\n",
       "    </tr>\n",
       "    <tr>\n",
       "      <th>1</th>\n",
       "      <td>1</td>\n",
       "      <td>002A</td>\n",
       "      <td>PARQUE ATHENEU / T ISIDORIA / PAULO GARCIA</td>\n",
       "      <td>volta</td>\n",
       "      <td>[{'lat': -16.74154, 'lng': -49.19146}, {'lat':...</td>\n",
       "      <td>002</td>\n",
       "    </tr>\n",
       "    <tr>\n",
       "      <th>2</th>\n",
       "      <td>2</td>\n",
       "      <td>002B</td>\n",
       "      <td>PARQUE ATHENEU / T. ISIDORIA</td>\n",
       "      <td>ida</td>\n",
       "      <td>[{'lat': -16.76353, 'lng': -49.27021}, {'lat':...</td>\n",
       "      <td>002</td>\n",
       "    </tr>\n",
       "    <tr>\n",
       "      <th>3</th>\n",
       "      <td>2</td>\n",
       "      <td>002B</td>\n",
       "      <td>PARQUE ATHENEU / T. ISIDORIA</td>\n",
       "      <td>volta</td>\n",
       "      <td>[{'lat': -16.74154, 'lng': -49.19146}, {'lat':...</td>\n",
       "      <td>002</td>\n",
       "    </tr>\n",
       "    <tr>\n",
       "      <th>4</th>\n",
       "      <td>3</td>\n",
       "      <td>002C</td>\n",
       "      <td>PC TRINDADE / T ISIDORIA / PRACA CIVICA</td>\n",
       "      <td>ida</td>\n",
       "      <td>[{'lat': -16.76353, 'lng': -49.27021}, {'lat':...</td>\n",
       "      <td>002</td>\n",
       "    </tr>\n",
       "    <tr>\n",
       "      <th>...</th>\n",
       "      <td>...</td>\n",
       "      <td>...</td>\n",
       "      <td>...</td>\n",
       "      <td>...</td>\n",
       "      <td>...</td>\n",
       "      <td>...</td>\n",
       "    </tr>\n",
       "    <tr>\n",
       "      <th>596</th>\n",
       "      <td>319</td>\n",
       "      <td>9901</td>\n",
       "      <td>COPA DA ESTRATEGIA - TURMA I</td>\n",
       "      <td>volta</td>\n",
       "      <td>[{'lat': -16.705151223923, 'lng': -49.30067673...</td>\n",
       "      <td>9901</td>\n",
       "    </tr>\n",
       "    <tr>\n",
       "      <th>597</th>\n",
       "      <td>320</td>\n",
       "      <td>9902</td>\n",
       "      <td>COPA DA ESTRATEGIA - TURMA II</td>\n",
       "      <td>ida</td>\n",
       "      <td>[{'lat': -16.65976138497988, 'lng': -49.261181...</td>\n",
       "      <td>9902</td>\n",
       "    </tr>\n",
       "    <tr>\n",
       "      <th>598</th>\n",
       "      <td>320</td>\n",
       "      <td>9902</td>\n",
       "      <td>COPA DA ESTRATEGIA - TURMA II</td>\n",
       "      <td>volta</td>\n",
       "      <td>[{'lat': -16.705151223923, 'lng': -49.30067673...</td>\n",
       "      <td>9902</td>\n",
       "    </tr>\n",
       "    <tr>\n",
       "      <th>599</th>\n",
       "      <td>321</td>\n",
       "      <td>9903</td>\n",
       "      <td>COPA DA ESTRATEGIA - TURMA III</td>\n",
       "      <td>ida</td>\n",
       "      <td>[{'lat': -16.65976138497988, 'lng': -49.261181...</td>\n",
       "      <td>9903</td>\n",
       "    </tr>\n",
       "    <tr>\n",
       "      <th>600</th>\n",
       "      <td>321</td>\n",
       "      <td>9903</td>\n",
       "      <td>COPA DA ESTRATEGIA - TURMA III</td>\n",
       "      <td>volta</td>\n",
       "      <td>[{'lat': -16.705151223923, 'lng': -49.30067673...</td>\n",
       "      <td>9903</td>\n",
       "    </tr>\n",
       "  </tbody>\n",
       "</table>\n",
       "<p>601 rows × 6 columns</p>\n",
       "</div>"
      ]
     },
     "execution_count": 30,
     "metadata": {},
     "output_type": "execute_result"
    }
   ],
   "execution_count": 30
  },
  {
   "metadata": {},
   "cell_type": "markdown",
   "source": "# Execution",
   "id": "b753d9a89bd00937"
  },
  {
   "metadata": {},
   "cell_type": "markdown",
   "source": [
    "* Lógica para a execução do código\n",
    "* listar todos os carros que rodaram no dia\n",
    "* listar as linhas que estes carros rodaram\n",
    "* listar as rotas ociosas de cada linha\n",
    "* listar as rotas programadas de cada linha\n",
    "* listar a rota realizada pelo carro (dados mix)\n",
    "* fazer o comparativo entre realizada e programada\n",
    "* enviar email com os carros ofensores\n",
    "* Todos os dados estão no banco postgres."
   ],
   "id": "e29135aae710257d"
  },
  {
   "metadata": {},
   "cell_type": "markdown",
   "source": "## Listando carro, motoristas e linhas que rodaram no dia",
   "id": "6c03964d9cfd56c4"
  },
  {
   "metadata": {
    "ExecuteTime": {
     "end_time": "2024-04-17T12:07:29.852349Z",
     "start_time": "2024-04-17T12:07:29.847749Z"
    }
   },
   "cell_type": "code",
   "source": "df_filtered = df_schedule[df_schedule['data'] == pd.Timestamp('2024-04-15')]",
   "id": "9e36b9d3c7f0cfc0",
   "outputs": [],
   "execution_count": 31
  },
  {
   "metadata": {
    "ExecuteTime": {
     "end_time": "2024-04-17T12:07:29.899095Z",
     "start_time": "2024-04-17T12:07:29.853536Z"
    }
   },
   "cell_type": "code",
   "source": [
    "# Agrupar por 'carro' e agregar linhas e nomes únicos\n",
    "df_report = df_filtered.groupby(['data','carro']).agg({\n",
    "    'linha': lambda x: x.unique(),\n",
    "    're': lambda x: x.unique(),\n",
    "    'nome': lambda x: x.unique()\n",
    "}).reset_index()\n"
   ],
   "id": "40722117d24bd88",
   "outputs": [],
   "execution_count": 32
  },
  {
   "metadata": {
    "ExecuteTime": {
     "end_time": "2024-04-17T12:07:29.915330Z",
     "start_time": "2024-04-17T12:07:29.900303Z"
    }
   },
   "cell_type": "code",
   "source": "df_report",
   "id": "3ac1cf44041cc318",
   "outputs": [
    {
     "data": {
      "text/plain": [
       "          data  carro                                              linha  \\\n",
       "0   2024-04-15   1201                                             [117A]   \n",
       "1   2024-04-15  20017  [572A, 199A, 326A, 032A, 706B, 039A, 501A, 186...   \n",
       "2   2024-04-15  20018                           [015A, 176A, 160A, 400A]   \n",
       "3   2024-04-15  20019                                 [915A, 401 , 400A]   \n",
       "4   2024-04-15  20020               [186A, 521A, 031A, 020A, 035A, 022A]   \n",
       "..         ...    ...                                                ...   \n",
       "287 2024-04-15  20551                                 [973A, 171A, 960B]   \n",
       "288 2024-04-15  20552                                 [002A, 021A, 014A]   \n",
       "289 2024-04-15  20553                     [660A, 650A, 651A, 565A, 203B]   \n",
       "290 2024-04-15  20805                                       [025A, 025C]   \n",
       "291 2024-04-15  20998                           [026A, 026B, 028A, 027A]   \n",
       "\n",
       "                         re                                               nome  \n",
       "0    [000007200, 000018995]  [LINDOMAR ANTONIO GARCIA, RICARDO ALEXANDRE CH...  \n",
       "1    [000014901, 000019061]  [DERLEY RICARDO DA SILVA, EDUARDO ROCHA DOS SA...  \n",
       "2    [000019573, 000019710]  [EVANDRO SILVESTRE DA SILVA CUNHA, FERNANDO MA...  \n",
       "3    [000019643, 000019504]   [RONILDO RIBEIRO ALVINO, UEMERSON FERREIRA DIAS]  \n",
       "4    [000008922, 000017885]  [WALDIR ALVES DE ALMEIDA, LEANDRO TAVARES MEND...  \n",
       "..                      ...                                                ...  \n",
       "287  [000016195, 000019557]  [SIMAO GOMES DOS SANTOS, JOSE WENDERSON NEVES ...  \n",
       "288  [000018638, 000017028]     [RAIMUNDO ALVES DE AGUIAR, BRAZ LUIZ DE PAULA]  \n",
       "289  [000019296, 000018207]  [RODRIGO ALVES COELHO, WASHINGTON DOMINGOS DE ...  \n",
       "290  [000014463, 000017814]  [DANIEL ALMEIDA DOS SANTOS, EDIMAR RODRIGUES R...  \n",
       "291  [000018886, 000017239]  [EZEQUIEL DA SILVA HUTIM, RONES SOARES DOS SAN...  \n",
       "\n",
       "[292 rows x 5 columns]"
      ],
      "text/html": [
       "<div>\n",
       "<style scoped>\n",
       "    .dataframe tbody tr th:only-of-type {\n",
       "        vertical-align: middle;\n",
       "    }\n",
       "\n",
       "    .dataframe tbody tr th {\n",
       "        vertical-align: top;\n",
       "    }\n",
       "\n",
       "    .dataframe thead th {\n",
       "        text-align: right;\n",
       "    }\n",
       "</style>\n",
       "<table border=\"1\" class=\"dataframe\">\n",
       "  <thead>\n",
       "    <tr style=\"text-align: right;\">\n",
       "      <th></th>\n",
       "      <th>data</th>\n",
       "      <th>carro</th>\n",
       "      <th>linha</th>\n",
       "      <th>re</th>\n",
       "      <th>nome</th>\n",
       "    </tr>\n",
       "  </thead>\n",
       "  <tbody>\n",
       "    <tr>\n",
       "      <th>0</th>\n",
       "      <td>2024-04-15</td>\n",
       "      <td>1201</td>\n",
       "      <td>[117A]</td>\n",
       "      <td>[000007200, 000018995]</td>\n",
       "      <td>[LINDOMAR ANTONIO GARCIA, RICARDO ALEXANDRE CH...</td>\n",
       "    </tr>\n",
       "    <tr>\n",
       "      <th>1</th>\n",
       "      <td>2024-04-15</td>\n",
       "      <td>20017</td>\n",
       "      <td>[572A, 199A, 326A, 032A, 706B, 039A, 501A, 186...</td>\n",
       "      <td>[000014901, 000019061]</td>\n",
       "      <td>[DERLEY RICARDO DA SILVA, EDUARDO ROCHA DOS SA...</td>\n",
       "    </tr>\n",
       "    <tr>\n",
       "      <th>2</th>\n",
       "      <td>2024-04-15</td>\n",
       "      <td>20018</td>\n",
       "      <td>[015A, 176A, 160A, 400A]</td>\n",
       "      <td>[000019573, 000019710]</td>\n",
       "      <td>[EVANDRO SILVESTRE DA SILVA CUNHA, FERNANDO MA...</td>\n",
       "    </tr>\n",
       "    <tr>\n",
       "      <th>3</th>\n",
       "      <td>2024-04-15</td>\n",
       "      <td>20019</td>\n",
       "      <td>[915A, 401 , 400A]</td>\n",
       "      <td>[000019643, 000019504]</td>\n",
       "      <td>[RONILDO RIBEIRO ALVINO, UEMERSON FERREIRA DIAS]</td>\n",
       "    </tr>\n",
       "    <tr>\n",
       "      <th>4</th>\n",
       "      <td>2024-04-15</td>\n",
       "      <td>20020</td>\n",
       "      <td>[186A, 521A, 031A, 020A, 035A, 022A]</td>\n",
       "      <td>[000008922, 000017885]</td>\n",
       "      <td>[WALDIR ALVES DE ALMEIDA, LEANDRO TAVARES MEND...</td>\n",
       "    </tr>\n",
       "    <tr>\n",
       "      <th>...</th>\n",
       "      <td>...</td>\n",
       "      <td>...</td>\n",
       "      <td>...</td>\n",
       "      <td>...</td>\n",
       "      <td>...</td>\n",
       "    </tr>\n",
       "    <tr>\n",
       "      <th>287</th>\n",
       "      <td>2024-04-15</td>\n",
       "      <td>20551</td>\n",
       "      <td>[973A, 171A, 960B]</td>\n",
       "      <td>[000016195, 000019557]</td>\n",
       "      <td>[SIMAO GOMES DOS SANTOS, JOSE WENDERSON NEVES ...</td>\n",
       "    </tr>\n",
       "    <tr>\n",
       "      <th>288</th>\n",
       "      <td>2024-04-15</td>\n",
       "      <td>20552</td>\n",
       "      <td>[002A, 021A, 014A]</td>\n",
       "      <td>[000018638, 000017028]</td>\n",
       "      <td>[RAIMUNDO ALVES DE AGUIAR, BRAZ LUIZ DE PAULA]</td>\n",
       "    </tr>\n",
       "    <tr>\n",
       "      <th>289</th>\n",
       "      <td>2024-04-15</td>\n",
       "      <td>20553</td>\n",
       "      <td>[660A, 650A, 651A, 565A, 203B]</td>\n",
       "      <td>[000019296, 000018207]</td>\n",
       "      <td>[RODRIGO ALVES COELHO, WASHINGTON DOMINGOS DE ...</td>\n",
       "    </tr>\n",
       "    <tr>\n",
       "      <th>290</th>\n",
       "      <td>2024-04-15</td>\n",
       "      <td>20805</td>\n",
       "      <td>[025A, 025C]</td>\n",
       "      <td>[000014463, 000017814]</td>\n",
       "      <td>[DANIEL ALMEIDA DOS SANTOS, EDIMAR RODRIGUES R...</td>\n",
       "    </tr>\n",
       "    <tr>\n",
       "      <th>291</th>\n",
       "      <td>2024-04-15</td>\n",
       "      <td>20998</td>\n",
       "      <td>[026A, 026B, 028A, 027A]</td>\n",
       "      <td>[000018886, 000017239]</td>\n",
       "      <td>[EZEQUIEL DA SILVA HUTIM, RONES SOARES DOS SAN...</td>\n",
       "    </tr>\n",
       "  </tbody>\n",
       "</table>\n",
       "<p>292 rows × 5 columns</p>\n",
       "</div>"
      ]
     },
     "execution_count": 33,
     "metadata": {},
     "output_type": "execute_result"
    }
   ],
   "execution_count": 33
  },
  {
   "metadata": {},
   "cell_type": "markdown",
   "source": "## Adicionando as rotas ociosas ao dataframe",
   "id": "8f2013b652a69725"
  },
  {
   "metadata": {
    "ExecuteTime": {
     "end_time": "2024-04-17T12:07:30.080068Z",
     "start_time": "2024-04-17T12:07:29.916215Z"
    }
   },
   "cell_type": "code",
   "source": "df_trip_idle",
   "id": "2f84a6b50d030d80",
   "outputs": [
    {
     "data": {
      "text/plain": [
       "      id num_linha                                   descricao direcao  \\\n",
       "0      1      002A  PARQUE ATHENEU / T ISIDORIA / PAULO GARCIA     ida   \n",
       "1      1      002A  PARQUE ATHENEU / T ISIDORIA / PAULO GARCIA   volta   \n",
       "2      2      002B                PARQUE ATHENEU / T. ISIDORIA     ida   \n",
       "3      2      002B                PARQUE ATHENEU / T. ISIDORIA   volta   \n",
       "4      3      002C     PC TRINDADE / T ISIDORIA / PRACA CIVICA     ida   \n",
       "..   ...       ...                                         ...     ...   \n",
       "596  319     9901                 COPA DA ESTRATEGIA - TURMA I   volta   \n",
       "597  320     9902                COPA DA ESTRATEGIA - TURMA II     ida   \n",
       "598  320     9902                COPA DA ESTRATEGIA - TURMA II   volta   \n",
       "599  321     9903               COPA DA ESTRATEGIA - TURMA III     ida   \n",
       "600  321     9903               COPA DA ESTRATEGIA - TURMA III   volta   \n",
       "\n",
       "                                 pontos_geolocalizacao num_linha_numerico  \n",
       "0    [{'lat': -16.76353, 'lng': -49.27021}, {'lat':...                002  \n",
       "1    [{'lat': -16.74154, 'lng': -49.19146}, {'lat':...                002  \n",
       "2    [{'lat': -16.76353, 'lng': -49.27021}, {'lat':...                002  \n",
       "3    [{'lat': -16.74154, 'lng': -49.19146}, {'lat':...                002  \n",
       "4    [{'lat': -16.76353, 'lng': -49.27021}, {'lat':...                002  \n",
       "..                                                 ...                ...  \n",
       "596  [{'lat': -16.705151223923, 'lng': -49.30067673...               9901  \n",
       "597  [{'lat': -16.65976138497988, 'lng': -49.261181...               9902  \n",
       "598  [{'lat': -16.705151223923, 'lng': -49.30067673...               9902  \n",
       "599  [{'lat': -16.65976138497988, 'lng': -49.261181...               9903  \n",
       "600  [{'lat': -16.705151223923, 'lng': -49.30067673...               9903  \n",
       "\n",
       "[601 rows x 6 columns]"
      ],
      "text/html": [
       "<div>\n",
       "<style scoped>\n",
       "    .dataframe tbody tr th:only-of-type {\n",
       "        vertical-align: middle;\n",
       "    }\n",
       "\n",
       "    .dataframe tbody tr th {\n",
       "        vertical-align: top;\n",
       "    }\n",
       "\n",
       "    .dataframe thead th {\n",
       "        text-align: right;\n",
       "    }\n",
       "</style>\n",
       "<table border=\"1\" class=\"dataframe\">\n",
       "  <thead>\n",
       "    <tr style=\"text-align: right;\">\n",
       "      <th></th>\n",
       "      <th>id</th>\n",
       "      <th>num_linha</th>\n",
       "      <th>descricao</th>\n",
       "      <th>direcao</th>\n",
       "      <th>pontos_geolocalizacao</th>\n",
       "      <th>num_linha_numerico</th>\n",
       "    </tr>\n",
       "  </thead>\n",
       "  <tbody>\n",
       "    <tr>\n",
       "      <th>0</th>\n",
       "      <td>1</td>\n",
       "      <td>002A</td>\n",
       "      <td>PARQUE ATHENEU / T ISIDORIA / PAULO GARCIA</td>\n",
       "      <td>ida</td>\n",
       "      <td>[{'lat': -16.76353, 'lng': -49.27021}, {'lat':...</td>\n",
       "      <td>002</td>\n",
       "    </tr>\n",
       "    <tr>\n",
       "      <th>1</th>\n",
       "      <td>1</td>\n",
       "      <td>002A</td>\n",
       "      <td>PARQUE ATHENEU / T ISIDORIA / PAULO GARCIA</td>\n",
       "      <td>volta</td>\n",
       "      <td>[{'lat': -16.74154, 'lng': -49.19146}, {'lat':...</td>\n",
       "      <td>002</td>\n",
       "    </tr>\n",
       "    <tr>\n",
       "      <th>2</th>\n",
       "      <td>2</td>\n",
       "      <td>002B</td>\n",
       "      <td>PARQUE ATHENEU / T. ISIDORIA</td>\n",
       "      <td>ida</td>\n",
       "      <td>[{'lat': -16.76353, 'lng': -49.27021}, {'lat':...</td>\n",
       "      <td>002</td>\n",
       "    </tr>\n",
       "    <tr>\n",
       "      <th>3</th>\n",
       "      <td>2</td>\n",
       "      <td>002B</td>\n",
       "      <td>PARQUE ATHENEU / T. ISIDORIA</td>\n",
       "      <td>volta</td>\n",
       "      <td>[{'lat': -16.74154, 'lng': -49.19146}, {'lat':...</td>\n",
       "      <td>002</td>\n",
       "    </tr>\n",
       "    <tr>\n",
       "      <th>4</th>\n",
       "      <td>3</td>\n",
       "      <td>002C</td>\n",
       "      <td>PC TRINDADE / T ISIDORIA / PRACA CIVICA</td>\n",
       "      <td>ida</td>\n",
       "      <td>[{'lat': -16.76353, 'lng': -49.27021}, {'lat':...</td>\n",
       "      <td>002</td>\n",
       "    </tr>\n",
       "    <tr>\n",
       "      <th>...</th>\n",
       "      <td>...</td>\n",
       "      <td>...</td>\n",
       "      <td>...</td>\n",
       "      <td>...</td>\n",
       "      <td>...</td>\n",
       "      <td>...</td>\n",
       "    </tr>\n",
       "    <tr>\n",
       "      <th>596</th>\n",
       "      <td>319</td>\n",
       "      <td>9901</td>\n",
       "      <td>COPA DA ESTRATEGIA - TURMA I</td>\n",
       "      <td>volta</td>\n",
       "      <td>[{'lat': -16.705151223923, 'lng': -49.30067673...</td>\n",
       "      <td>9901</td>\n",
       "    </tr>\n",
       "    <tr>\n",
       "      <th>597</th>\n",
       "      <td>320</td>\n",
       "      <td>9902</td>\n",
       "      <td>COPA DA ESTRATEGIA - TURMA II</td>\n",
       "      <td>ida</td>\n",
       "      <td>[{'lat': -16.65976138497988, 'lng': -49.261181...</td>\n",
       "      <td>9902</td>\n",
       "    </tr>\n",
       "    <tr>\n",
       "      <th>598</th>\n",
       "      <td>320</td>\n",
       "      <td>9902</td>\n",
       "      <td>COPA DA ESTRATEGIA - TURMA II</td>\n",
       "      <td>volta</td>\n",
       "      <td>[{'lat': -16.705151223923, 'lng': -49.30067673...</td>\n",
       "      <td>9902</td>\n",
       "    </tr>\n",
       "    <tr>\n",
       "      <th>599</th>\n",
       "      <td>321</td>\n",
       "      <td>9903</td>\n",
       "      <td>COPA DA ESTRATEGIA - TURMA III</td>\n",
       "      <td>ida</td>\n",
       "      <td>[{'lat': -16.65976138497988, 'lng': -49.261181...</td>\n",
       "      <td>9903</td>\n",
       "    </tr>\n",
       "    <tr>\n",
       "      <th>600</th>\n",
       "      <td>321</td>\n",
       "      <td>9903</td>\n",
       "      <td>COPA DA ESTRATEGIA - TURMA III</td>\n",
       "      <td>volta</td>\n",
       "      <td>[{'lat': -16.705151223923, 'lng': -49.30067673...</td>\n",
       "      <td>9903</td>\n",
       "    </tr>\n",
       "  </tbody>\n",
       "</table>\n",
       "<p>601 rows × 6 columns</p>\n",
       "</div>"
      ]
     },
     "execution_count": 34,
     "metadata": {},
     "output_type": "execute_result"
    }
   ],
   "execution_count": 34
  },
  {
   "metadata": {
    "ExecuteTime": {
     "end_time": "2024-04-17T12:07:30.086182Z",
     "start_time": "2024-04-17T12:07:30.080858Z"
    }
   },
   "cell_type": "code",
   "source": [
    "# Expande a coluna 'linhas' para que cada elemento da lista se torne uma linha\n",
    "df_report_exploded = df_report.explode('linha')\n"
   ],
   "id": "e90da9f2e794a3c9",
   "outputs": [],
   "execution_count": 35
  },
  {
   "metadata": {},
   "cell_type": "code",
   "source": "",
   "id": "28c128cd617870db",
   "outputs": [],
   "execution_count": null
  }
 ],
 "metadata": {
  "kernelspec": {
   "display_name": "Python 3 (ipykernel)",
   "language": "python",
   "name": "python3"
  },
  "language_info": {
   "codemirror_mode": {
    "name": "ipython",
    "version": 3
   },
   "file_extension": ".py",
   "mimetype": "text/x-python",
   "name": "python",
   "nbconvert_exporter": "python",
   "pygments_lexer": "ipython3",
   "version": "3.11.5"
  }
 },
 "nbformat": 4,
 "nbformat_minor": 5
}
