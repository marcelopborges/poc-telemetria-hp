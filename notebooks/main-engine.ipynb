{
 "cells": [
  {
   "cell_type": "code",
   "id": "initial_id",
   "metadata": {
    "ExecuteTime": {
     "end_time": "2024-04-17T13:28:29.469762Z",
     "start_time": "2024-04-17T13:28:29.466856Z"
    }
   },
   "source": [
    "from xml.etree import ElementTree as ET\n",
    "import folium\n",
    "import numpy as np\n",
    "from shapely.geometry import Point, LineString\n",
    "import pandas as pd\n",
    "from sqlalchemy import create_engine\n",
    "from math import radians, cos, sin, sqrt, atan2\n",
    "import ast"
   ],
   "outputs": [],
   "execution_count": 397
  },
  {
   "cell_type": "markdown",
   "id": "5acf3ce4ae993005",
   "metadata": {},
   "source": [
    "Lógica para a execução do código\n",
    "1. listar todos os carros que rodaram no dia\n",
    "2. listar as linhas que estes carros rodaram\n",
    "3. listar as rotas ociosas de cada linha\n",
    "4. listar as rotas programadas de cada linha\n",
    "5. listar a rota realizada pelo carro (dados mix)\n",
    "6. fazer o comparativo entre realizada e programada\n",
    "7. enviar email com os carros ofensores\n",
    "\n",
    "Todos os dados estão no banco postgres."
   ]
  },
  {
   "cell_type": "code",
   "id": "a36c9707df554904",
   "metadata": {
    "ExecuteTime": {
     "end_time": "2024-04-17T13:28:29.938137Z",
     "start_time": "2024-04-17T13:28:29.935255Z"
    }
   },
   "source": [
    "dbname = 'poc-db'\n",
    "user = 'adminpoc'\n",
    "password = 'adminpoc'\n",
    "host = 'localhost'\n",
    "port = '5440' "
   ],
   "outputs": [],
   "execution_count": 398
  },
  {
   "cell_type": "code",
   "id": "2e950bb78910da16",
   "metadata": {
    "ExecuteTime": {
     "end_time": "2024-04-17T13:28:29.950338Z",
     "start_time": "2024-04-17T13:28:29.947319Z"
    }
   },
   "source": [
    "engine = create_engine(f'postgresql://{user}:{password}@{host}:{port}/{dbname}')"
   ],
   "outputs": [],
   "execution_count": 399
  },
  {
   "cell_type": "code",
   "id": "b7ebe2e1a63d9ff1",
   "metadata": {
    "ExecuteTime": {
     "end_time": "2024-04-17T13:28:30.014771Z",
     "start_time": "2024-04-17T13:28:30.012174Z"
    }
   },
   "source": [
    "ns = {'kml': 'http://www.opengis.net/kml/2.2'}"
   ],
   "outputs": [],
   "execution_count": 400
  },
  {
   "metadata": {},
   "cell_type": "markdown",
   "source": "# Paths",
   "id": "6ca443c82fbdbc04"
  },
  {
   "metadata": {
    "ExecuteTime": {
     "end_time": "2024-04-17T13:28:30.052849Z",
     "start_time": "2024-04-17T13:28:30.050002Z"
    }
   },
   "cell_type": "code",
   "source": "planned_trip_path = '../notebooks/data/1.1 LINHAS RMTC [2023-11-29].kml'",
   "id": "5dc9243705266836",
   "outputs": [],
   "execution_count": 401
  },
  {
   "cell_type": "markdown",
   "id": "d27d188e2a8231df",
   "metadata": {},
   "source": "# SQL"
  },
  {
   "cell_type": "code",
   "id": "459e116f7a1d3dec",
   "metadata": {
    "ExecuteTime": {
     "end_time": "2024-04-17T13:28:30.093133Z",
     "start_time": "2024-04-17T13:28:30.090769Z"
    }
   },
   "source": [
    "sql_geodata = \"\"\" \n",
    "select a.execution_date, a.registration, a.description, a.coordinates\n",
    "    from hp.raw_geodata a\n",
    "\"\"\""
   ],
   "outputs": [],
   "execution_count": 402
  },
  {
   "metadata": {
    "ExecuteTime": {
     "end_time": "2024-04-17T13:28:30.109489Z",
     "start_time": "2024-04-17T13:28:30.107210Z"
    }
   },
   "cell_type": "code",
   "source": [
    "sql_idle = \"\"\" \n",
    "select a.id, a.num_linha, a.descricao, b.direcao, b.pontos_geolocalizacao\n",
    "from\n",
    "    hp.raw_linhas a,\n",
    "    hp.raw_trajetos b\n",
    "where a.id = b.linha_id\n",
    "\"\"\""
   ],
   "id": "3638962a069b93f1",
   "outputs": [],
   "execution_count": 403
  },
  {
   "metadata": {
    "ExecuteTime": {
     "end_time": "2024-04-17T13:28:30.125135Z",
     "start_time": "2024-04-17T13:28:30.122876Z"
    }
   },
   "cell_type": "code",
   "source": [
    "sql_schedule = \"\"\" \n",
    "SELECT id, \"data\", linha, carro, re, nome, dthr_saida, dthr_retorno, dthr_chegada\n",
    "FROM hp.raw_escalas_programadas rep\n",
    "\"\"\""
   ],
   "id": "7f305129288cd06f",
   "outputs": [],
   "execution_count": 404
  },
  {
   "metadata": {
    "ExecuteTime": {
     "end_time": "2024-04-17T13:28:30.175474Z",
     "start_time": "2024-04-17T13:28:30.173244Z"
    }
   },
   "cell_type": "code",
   "source": [
    "sql_routes = \"\"\"\n",
    "SELECT id, linha_id, direcao, pontos_geolocalizacao\n",
    "FROM hp.raw_trajetos;\n",
    "\"\"\""
   ],
   "id": "1e80383c8db60d69",
   "outputs": [],
   "execution_count": 405
  },
  {
   "metadata": {},
   "cell_type": "markdown",
   "source": "# Dataframes",
   "id": "37d59de1cdc6f32d"
  },
  {
   "metadata": {
    "ExecuteTime": {
     "end_time": "2024-04-17T13:28:30.643710Z",
     "start_time": "2024-04-17T13:28:30.192196Z"
    }
   },
   "cell_type": "code",
   "source": "df_trip_made = pd.read_sql(sql_geodata, engine)",
   "id": "a4fe6d4327823c06",
   "outputs": [],
   "execution_count": 406
  },
  {
   "metadata": {
    "ExecuteTime": {
     "end_time": "2024-04-17T13:28:30.929650Z",
     "start_time": "2024-04-17T13:28:30.645156Z"
    }
   },
   "cell_type": "code",
   "source": "df_trip_idle = pd.read_sql(sql_idle, engine)",
   "id": "7c47721eca570900",
   "outputs": [],
   "execution_count": 407
  },
  {
   "metadata": {
    "ExecuteTime": {
     "end_time": "2024-04-17T13:28:31.478204Z",
     "start_time": "2024-04-17T13:28:30.930798Z"
    }
   },
   "cell_type": "code",
   "source": "df_schedule = pd.read_sql(sql_schedule, engine)",
   "id": "406d49072de8bd2",
   "outputs": [],
   "execution_count": 408
  },
  {
   "metadata": {
    "ExecuteTime": {
     "end_time": "2024-04-17T13:28:31.788335Z",
     "start_time": "2024-04-17T13:28:31.479977Z"
    }
   },
   "cell_type": "code",
   "source": "df_routes = pd.read_sql(sql_routes, engine)",
   "id": "bb44fc9f90e3d65d",
   "outputs": [],
   "execution_count": 409
  },
  {
   "metadata": {},
   "cell_type": "markdown",
   "source": "# Functions",
   "id": "dd6cb6c28f534920"
  },
  {
   "metadata": {
    "ExecuteTime": {
     "end_time": "2024-04-17T13:28:31.794065Z",
     "start_time": "2024-04-17T13:28:31.789834Z"
    }
   },
   "cell_type": "code",
   "source": [
    "def read_and_extract_placemarks(file_path, namespace):\n",
    "    \"\"\" \n",
    "    :param: file_path: caminho para o arquivo kml\n",
    "    :return: lista de dicionários com os nomes e coordenadas dos placemarks\n",
    "\n",
    "    A função lê um arquivo kml e extrai os placemarks, retornando uma lista de dicionários com os nomes e coordenadas dos placemarks.\n",
    "    \"\"\"\n",
    "    tree = ET.parse(file_path)\n",
    "    root = tree.getroot()\n",
    "    placemarks = []\n",
    "    for placemark in root.findall('.//kml:Placemark', namespace):\n",
    "        name = placemark.find('kml:name', namespace).text if placemark.find('kml:name', namespace) is not None else \"Unnamed\"\n",
    "        coordinates = placemark.find('.//kml:coordinates', namespace).text.strip() if placemark.find('.//kml:coordinates', namespace) is not None else \"No coordinates\"\n",
    "        placemarks.append({'name': name, 'coordinates': coordinates})\n",
    "    return placemarks"
   ],
   "id": "a264736dec087a81",
   "outputs": [],
   "execution_count": 410
  },
  {
   "metadata": {
    "ExecuteTime": {
     "end_time": "2024-04-17T13:28:31.798253Z",
     "start_time": "2024-04-17T13:28:31.794862Z"
    }
   },
   "cell_type": "code",
   "source": [
    "def parse_coordinates(coordinates_str):\n",
    "    \"\"\"\n",
    "    param: coordinates_str: string de coordenadas (lat, long)\n",
    "    return: lista de tuplas de coordenadas (long, lat)\n",
    "\n",
    "    A função recebe uma string de coordenadas (lat, long) e retorna uma lista de tuplas de coordenadas (long, lat).\n",
    "    \"\"\"\n",
    "    coords = coordinates_str.split()\n",
    "    return [(float(coord.split(',')[1]), float(coord.split(',')[0])) for coord in coords]"
   ],
   "id": "ca0567b53b921b8b",
   "outputs": [],
   "execution_count": 411
  },
  {
   "metadata": {
    "ExecuteTime": {
     "end_time": "2024-04-17T13:28:31.802322Z",
     "start_time": "2024-04-17T13:28:31.799010Z"
    }
   },
   "cell_type": "code",
   "source": [
    "def add_placemarks_to_map(placemarks, map):\n",
    "    \"\"\" \n",
    "    param: placemarks: lista de dicionários com as informações dos placemarks\n",
    "    return: map: objeto do tipo folium.Map\n",
    "\n",
    "    Quando o arquivo conter somente um ponto, por exemplo uma tupla de coordenadas,ele será plotado como um marcador de viagem realizada. Quando houver\n",
    "    uma lista de coordenadas, oriundas de um arquivo com trajetória, será plotado uma linha entre os pontos.\n",
    "    \"\"\"\n",
    "    for i, placemark in enumerate(placemarks):\n",
    "        parsed_coords = parse_coordinates(placemark['coordinates'])\n",
    "        if len(parsed_coords) == 1:  # Para um único ponto\n",
    "            folium.Marker(\n",
    "                location=parsed_coords[0],\n",
    "                icon=folium.Icon(icon='fa-van-shuttle', prefix='fa',color='blue')\n",
    "            ).add_to(map)\n",
    "\n",
    "        else:  # Para múltiplos pontos (trajetória)\n",
    "            if 'VOLTA' in placemark['name']:\n",
    "                folium.PolyLine(locations=parsed_coords, color='green', weight=2.5, opacity=1, dash_array='5, 5').add_to(map)\n",
    "\n",
    "            else:  # Para outros casos, usa uma linha contínua\n",
    "                folium.PolyLine(locations=parsed_coords, color='red', weight=2.5, opacity=1).add_to(map)"
   ],
   "id": "b56670c810699c45",
   "outputs": [],
   "execution_count": 412
  },
  {
   "metadata": {
    "ExecuteTime": {
     "end_time": "2024-04-17T13:28:31.806074Z",
     "start_time": "2024-04-17T13:28:31.803075Z"
    }
   },
   "cell_type": "code",
   "source": [
    "def haversine(lon1, lat1, lon2, lat2):\n",
    "    # Raio da Terra em quilômetros\n",
    "    R = 6371.0\n",
    "\n",
    "    # Conversão de coordenadas de graus para radianos\n",
    "    lon1, lat1, lon2, lat2 = map(radians, [lon1, lat1, lon2, lat2])\n",
    "\n",
    "    # Diferenças nas coordenadas\n",
    "    dlon = lon2 - lon1\n",
    "    dlat = lat2 - lat1\n",
    "\n",
    "    # Fórmula de Haversine\n",
    "    a = sin(dlat / 2)**2 + cos(lat1) * cos(lat2) * sin(dlon / 2)**2\n",
    "    c = 2 * atan2(sqrt(a), sqrt(1 - a))\n",
    "    distance = R * c\n",
    "\n",
    "    return distance"
   ],
   "id": "29b9c3d4a3b8d44c",
   "outputs": [],
   "execution_count": 413
  },
  {
   "metadata": {
    "ExecuteTime": {
     "end_time": "2024-04-17T13:28:31.808752Z",
     "start_time": "2024-04-17T13:28:31.806785Z"
    }
   },
   "cell_type": "code",
   "source": [
    "def extract_coords(coords_list):\n",
    "    return [[coord['lat'], coord['lng']] for coord in coords_list]"
   ],
   "id": "613cd66876f78cca",
   "outputs": [],
   "execution_count": 414
  },
  {
   "metadata": {},
   "cell_type": "markdown",
   "source": "# Transformações",
   "id": "4c4c93092decbe43"
  },
  {
   "metadata": {},
   "cell_type": "markdown",
   "source": "# df_schedule",
   "id": "27ff298834a3f076"
  },
  {
   "metadata": {
    "ExecuteTime": {
     "end_time": "2024-04-17T13:28:31.814259Z",
     "start_time": "2024-04-17T13:28:31.810742Z"
    }
   },
   "cell_type": "code",
   "source": "df_schedule.dtypes",
   "id": "1290852e22c39137",
   "outputs": [
    {
     "data": {
      "text/plain": [
       "id                       int64\n",
       "data                    object\n",
       "linha                   object\n",
       "carro                    int64\n",
       "re                      object\n",
       "nome                    object\n",
       "dthr_saida      datetime64[ns]\n",
       "dthr_retorno    datetime64[ns]\n",
       "dthr_chegada    datetime64[ns]\n",
       "dtype: object"
      ]
     },
     "execution_count": 415,
     "metadata": {},
     "output_type": "execute_result"
    }
   ],
   "execution_count": 415
  },
  {
   "metadata": {
    "ExecuteTime": {
     "end_time": "2024-04-17T13:28:31.823258Z",
     "start_time": "2024-04-17T13:28:31.814998Z"
    }
   },
   "cell_type": "code",
   "source": [
    "if df_schedule['data'].dtype == 'object':\n",
    "    df_schedule['data'] = pd.to_datetime(df_schedule['data'])"
   ],
   "id": "1148b2eb17550cd8",
   "outputs": [],
   "execution_count": 416
  },
  {
   "metadata": {},
   "cell_type": "markdown",
   "source": "## df_planned_trp",
   "id": "5d1d857d89f923df"
  },
  {
   "metadata": {
    "ExecuteTime": {
     "end_time": "2024-04-17T13:28:31.863974Z",
     "start_time": "2024-04-17T13:28:31.824082Z"
    }
   },
   "cell_type": "code",
   "source": "placemarks_planned = read_and_extract_placemarks(planned_trip_path, ns)",
   "id": "8aaefd79d14f87a1",
   "outputs": [],
   "execution_count": 417
  },
  {
   "metadata": {
    "ExecuteTime": {
     "end_time": "2024-04-17T13:28:31.868554Z",
     "start_time": "2024-04-17T13:28:31.864989Z"
    }
   },
   "cell_type": "code",
   "source": "df_planned_trip = pd.DataFrame(placemarks_planned)",
   "id": "691e6613bd623059",
   "outputs": [],
   "execution_count": 418
  },
  {
   "metadata": {
    "ExecuteTime": {
     "end_time": "2024-04-17T13:28:31.872804Z",
     "start_time": "2024-04-17T13:28:31.869461Z"
    }
   },
   "cell_type": "code",
   "source": "df_planned_trip['Código'] = df_planned_trip['name'].apply(lambda x: x.split('-', 1)[0])",
   "id": "23a2b03d8b2b5e89",
   "outputs": [],
   "execution_count": 419
  },
  {
   "metadata": {
    "ExecuteTime": {
     "end_time": "2024-04-17T13:28:31.878327Z",
     "start_time": "2024-04-17T13:28:31.873765Z"
    }
   },
   "cell_type": "code",
   "source": [
    "df_planned_trip['identificacao'] = df_planned_trip['name'].apply(lambda x: x.split('-', 1)[1])\n",
    "df_planned_trip['identificacao'] = df_planned_trip['identificacao'].apply(lambda x: x.split('- ', 1)[0])\n",
    "df_planned_trip['identificacao'] = df_planned_trip['identificacao'].apply(lambda x: x.split(' ', 1)[0])"
   ],
   "id": "25112899693ec594",
   "outputs": [],
   "execution_count": 420
  },
  {
   "metadata": {
    "ExecuteTime": {
     "end_time": "2024-04-17T13:28:31.884955Z",
     "start_time": "2024-04-17T13:28:31.879192Z"
    }
   },
   "cell_type": "code",
   "source": [
    "df_planned_trip['Código'] = df_planned_trip['name'].apply(lambda x: x.split('-', 1)[0])\n",
    "df_planned_trip['Descrição e Sentido'] = df_planned_trip['name'].apply(lambda x: x.split(' - ', 1)[1] if ' - ' in x else '')\n",
    "df_planned_trip['Descrição'] = df_planned_trip['Descrição e Sentido'].apply(lambda x: x.rsplit(' - ', 1)[0] if ' - ' in x else x)\n",
    "df_planned_trip['Sentido'] = df_planned_trip['Descrição e Sentido'].apply(lambda x: x.rsplit(' - ', 1)[1] if ' - ' in x else '')\n",
    "df_planned_trip.drop('Descrição e Sentido', axis=1, inplace=True)"
   ],
   "id": "3ba48e0dca1db8ab",
   "outputs": [],
   "execution_count": 421
  },
  {
   "metadata": {
    "ExecuteTime": {
     "end_time": "2024-04-17T13:28:31.888897Z",
     "start_time": "2024-04-17T13:28:31.885893Z"
    }
   },
   "cell_type": "code",
   "source": [
    "de_para = {\n",
    "    '1': 'A', '2': 'B', '3': 'C', '4': 'D', '5': 'E',\n",
    "    '6': 'F', '7': 'G', '8': 'H', '9': 'I', '21': 'A',\n",
    "    '22': 'B', '23': 'C', '24': 'D', '25': 'E', '26': 'F',\n",
    "    '27': 'G', '28': 'H', '29': 'I', '31': 'A', '32': 'B',\n",
    "    '33': 'C', '34': 'D', '35': 'E', '36': 'F', '37': 'G',\n",
    "    '38': 'H', '39': 'I'\n",
    "}"
   ],
   "id": "15bc1d74c95162aa",
   "outputs": [],
   "execution_count": 422
  },
  {
   "metadata": {
    "ExecuteTime": {
     "end_time": "2024-04-17T13:28:31.892843Z",
     "start_time": "2024-04-17T13:28:31.889830Z"
    }
   },
   "cell_type": "code",
   "source": "df_planned_trip['sublinha'] = df_planned_trip['identificacao'].apply(lambda x: de_para[x[:-1]])",
   "id": "75f77b5ac20f87ca",
   "outputs": [],
   "execution_count": 423
  },
  {
   "metadata": {
    "ExecuteTime": {
     "end_time": "2024-04-17T13:28:31.896632Z",
     "start_time": "2024-04-17T13:28:31.893715Z"
    }
   },
   "cell_type": "code",
   "source": "df_planned_trip['num_linha'] = df_planned_trip['Código'].astype(str) + df_planned_trip['sublinha']",
   "id": "62afde1c795024c2",
   "outputs": [],
   "execution_count": 424
  },
  {
   "metadata": {},
   "cell_type": "markdown",
   "source": "## df_trip_idle",
   "id": "e5dc9aae52309a35"
  },
  {
   "metadata": {
    "ExecuteTime": {
     "end_time": "2024-04-17T13:28:31.901061Z",
     "start_time": "2024-04-17T13:28:31.897596Z"
    }
   },
   "cell_type": "code",
   "source": "df_trip_idle['num_linha_numerico'] = df_trip_idle['num_linha'].str.extract(r'^(\\d+)')",
   "id": "216c35e2cb48465a",
   "outputs": [],
   "execution_count": 425
  },
  {
   "metadata": {
    "ExecuteTime": {
     "end_time": "2024-04-17T13:28:31.904438Z",
     "start_time": "2024-04-17T13:28:31.901935Z"
    }
   },
   "cell_type": "code",
   "source": "df_trip_idle['direcao']=df_trip_idle['direcao'].str.upper()",
   "id": "33f8d2038ddd717c",
   "outputs": [],
   "execution_count": 426
  },
  {
   "metadata": {},
   "cell_type": "markdown",
   "source": "## df_trip_made",
   "id": "f1fb7a7c3dab2d89"
  },
  {
   "metadata": {
    "ExecuteTime": {
     "end_time": "2024-04-17T13:28:31.908936Z",
     "start_time": "2024-04-17T13:28:31.905487Z"
    }
   },
   "cell_type": "code",
   "source": "df_trip_made.dtypes",
   "id": "d8f85ce45f99b995",
   "outputs": [
    {
     "data": {
      "text/plain": [
       "execution_date    object\n",
       "registration      object\n",
       "description       object\n",
       "coordinates       object\n",
       "dtype: object"
      ]
     },
     "execution_count": 427,
     "metadata": {},
     "output_type": "execute_result"
    }
   ],
   "execution_count": 427
  },
  {
   "metadata": {
    "ExecuteTime": {
     "end_time": "2024-04-17T13:28:31.913384Z",
     "start_time": "2024-04-17T13:28:31.909754Z"
    }
   },
   "cell_type": "code",
   "source": "df_trip_made['execution_date'] = pd.to_datetime(df_trip_made['execution_date'])",
   "id": "37e84d84d45ffae0",
   "outputs": [],
   "execution_count": 428
  },
  {
   "metadata": {
    "ExecuteTime": {
     "end_time": "2024-04-17T13:28:31.917275Z",
     "start_time": "2024-04-17T13:28:31.914169Z"
    }
   },
   "cell_type": "code",
   "source": "df_trip_made['description'] = df_trip_made['description'].astype('Int64')",
   "id": "1feb4700e42f7740",
   "outputs": [],
   "execution_count": 429
  },
  {
   "metadata": {},
   "cell_type": "markdown",
   "source": "# Execution",
   "id": "b753d9a89bd00937"
  },
  {
   "metadata": {},
   "cell_type": "markdown",
   "source": [
    "* Lógica para a execução do código\n",
    "* listar todos os carros que rodaram no dia\n",
    "* listar as linhas que estes carros rodaram\n",
    "* listar as rotas ociosas de cada linha\n",
    "* listar as rotas programadas de cada linha\n",
    "* listar a rota realizada pelo carro (dados mix)\n",
    "* fazer o comparativo entre realizada e programada\n",
    "* enviar email com os carros ofensores\n",
    "* Todos os dados estão no banco postgres."
   ],
   "id": "e29135aae710257d"
  },
  {
   "metadata": {},
   "cell_type": "markdown",
   "source": "## Listando carro, motoristas e linhas que rodaram no dia",
   "id": "6c03964d9cfd56c4"
  },
  {
   "metadata": {
    "ExecuteTime": {
     "end_time": "2024-04-17T13:28:31.920951Z",
     "start_time": "2024-04-17T13:28:31.918086Z"
    }
   },
   "cell_type": "code",
   "source": "df_filtered = df_schedule[df_schedule['data'] == pd.Timestamp('2024-04-15')]",
   "id": "9e36b9d3c7f0cfc0",
   "outputs": [],
   "execution_count": 430
  },
  {
   "metadata": {
    "ExecuteTime": {
     "end_time": "2024-04-17T13:28:32.004201Z",
     "start_time": "2024-04-17T13:28:31.921737Z"
    }
   },
   "cell_type": "code",
   "source": [
    "# Agrupar por 'carro' e agregar linhas e nomes únicos\n",
    "df_report = df_filtered.groupby(['data','carro','linha']).agg({\n",
    "    're': lambda x: x.unique(),\n",
    "    'nome': lambda x: x.unique()\n",
    "}).reset_index()\n"
   ],
   "id": "40722117d24bd88",
   "outputs": [],
   "execution_count": 431
  },
  {
   "metadata": {
    "ExecuteTime": {
     "end_time": "2024-04-17T13:28:32.014829Z",
     "start_time": "2024-04-17T13:28:32.005150Z"
    }
   },
   "cell_type": "code",
   "source": "df_report",
   "id": "3d163a87e728b3cd",
   "outputs": [
    {
     "data": {
      "text/plain": [
       "           data  carro linha                      re  \\\n",
       "0    2024-04-15   1201  117A  [000007200, 000018995]   \n",
       "1    2024-04-15  20017  020A             [000019061]   \n",
       "2    2024-04-15  20017  032A             [000014901]   \n",
       "3    2024-04-15  20017  039A             [000014901]   \n",
       "4    2024-04-15  20017  186A             [000019061]   \n",
       "...         ...    ...   ...                     ...   \n",
       "1378 2024-04-15  20805  025C             [000017814]   \n",
       "1379 2024-04-15  20998  026A             [000018886]   \n",
       "1380 2024-04-15  20998  026B             [000018886]   \n",
       "1381 2024-04-15  20998  027A             [000017239]   \n",
       "1382 2024-04-15  20998  028A             [000017239]   \n",
       "\n",
       "                                                   nome  \n",
       "0     [LINDOMAR ANTONIO GARCIA, RICARDO ALEXANDRE CH...  \n",
       "1                            [EDUARDO ROCHA DOS SANTOS]  \n",
       "2                             [DERLEY RICARDO DA SILVA]  \n",
       "3                             [DERLEY RICARDO DA SILVA]  \n",
       "4                            [EDUARDO ROCHA DOS SANTOS]  \n",
       "...                                                 ...  \n",
       "1378                            [EDIMAR RODRIGUES ROSA]  \n",
       "1379                          [EZEQUIEL DA SILVA HUTIM]  \n",
       "1380                          [EZEQUIEL DA SILVA HUTIM]  \n",
       "1381                          [RONES SOARES DOS SANTOS]  \n",
       "1382                          [RONES SOARES DOS SANTOS]  \n",
       "\n",
       "[1383 rows x 5 columns]"
      ],
      "text/html": [
       "<div>\n",
       "<style scoped>\n",
       "    .dataframe tbody tr th:only-of-type {\n",
       "        vertical-align: middle;\n",
       "    }\n",
       "\n",
       "    .dataframe tbody tr th {\n",
       "        vertical-align: top;\n",
       "    }\n",
       "\n",
       "    .dataframe thead th {\n",
       "        text-align: right;\n",
       "    }\n",
       "</style>\n",
       "<table border=\"1\" class=\"dataframe\">\n",
       "  <thead>\n",
       "    <tr style=\"text-align: right;\">\n",
       "      <th></th>\n",
       "      <th>data</th>\n",
       "      <th>carro</th>\n",
       "      <th>linha</th>\n",
       "      <th>re</th>\n",
       "      <th>nome</th>\n",
       "    </tr>\n",
       "  </thead>\n",
       "  <tbody>\n",
       "    <tr>\n",
       "      <th>0</th>\n",
       "      <td>2024-04-15</td>\n",
       "      <td>1201</td>\n",
       "      <td>117A</td>\n",
       "      <td>[000007200, 000018995]</td>\n",
       "      <td>[LINDOMAR ANTONIO GARCIA, RICARDO ALEXANDRE CH...</td>\n",
       "    </tr>\n",
       "    <tr>\n",
       "      <th>1</th>\n",
       "      <td>2024-04-15</td>\n",
       "      <td>20017</td>\n",
       "      <td>020A</td>\n",
       "      <td>[000019061]</td>\n",
       "      <td>[EDUARDO ROCHA DOS SANTOS]</td>\n",
       "    </tr>\n",
       "    <tr>\n",
       "      <th>2</th>\n",
       "      <td>2024-04-15</td>\n",
       "      <td>20017</td>\n",
       "      <td>032A</td>\n",
       "      <td>[000014901]</td>\n",
       "      <td>[DERLEY RICARDO DA SILVA]</td>\n",
       "    </tr>\n",
       "    <tr>\n",
       "      <th>3</th>\n",
       "      <td>2024-04-15</td>\n",
       "      <td>20017</td>\n",
       "      <td>039A</td>\n",
       "      <td>[000014901]</td>\n",
       "      <td>[DERLEY RICARDO DA SILVA]</td>\n",
       "    </tr>\n",
       "    <tr>\n",
       "      <th>4</th>\n",
       "      <td>2024-04-15</td>\n",
       "      <td>20017</td>\n",
       "      <td>186A</td>\n",
       "      <td>[000019061]</td>\n",
       "      <td>[EDUARDO ROCHA DOS SANTOS]</td>\n",
       "    </tr>\n",
       "    <tr>\n",
       "      <th>...</th>\n",
       "      <td>...</td>\n",
       "      <td>...</td>\n",
       "      <td>...</td>\n",
       "      <td>...</td>\n",
       "      <td>...</td>\n",
       "    </tr>\n",
       "    <tr>\n",
       "      <th>1378</th>\n",
       "      <td>2024-04-15</td>\n",
       "      <td>20805</td>\n",
       "      <td>025C</td>\n",
       "      <td>[000017814]</td>\n",
       "      <td>[EDIMAR RODRIGUES ROSA]</td>\n",
       "    </tr>\n",
       "    <tr>\n",
       "      <th>1379</th>\n",
       "      <td>2024-04-15</td>\n",
       "      <td>20998</td>\n",
       "      <td>026A</td>\n",
       "      <td>[000018886]</td>\n",
       "      <td>[EZEQUIEL DA SILVA HUTIM]</td>\n",
       "    </tr>\n",
       "    <tr>\n",
       "      <th>1380</th>\n",
       "      <td>2024-04-15</td>\n",
       "      <td>20998</td>\n",
       "      <td>026B</td>\n",
       "      <td>[000018886]</td>\n",
       "      <td>[EZEQUIEL DA SILVA HUTIM]</td>\n",
       "    </tr>\n",
       "    <tr>\n",
       "      <th>1381</th>\n",
       "      <td>2024-04-15</td>\n",
       "      <td>20998</td>\n",
       "      <td>027A</td>\n",
       "      <td>[000017239]</td>\n",
       "      <td>[RONES SOARES DOS SANTOS]</td>\n",
       "    </tr>\n",
       "    <tr>\n",
       "      <th>1382</th>\n",
       "      <td>2024-04-15</td>\n",
       "      <td>20998</td>\n",
       "      <td>028A</td>\n",
       "      <td>[000017239]</td>\n",
       "      <td>[RONES SOARES DOS SANTOS]</td>\n",
       "    </tr>\n",
       "  </tbody>\n",
       "</table>\n",
       "<p>1383 rows × 5 columns</p>\n",
       "</div>"
      ]
     },
     "execution_count": 432,
     "metadata": {},
     "output_type": "execute_result"
    }
   ],
   "execution_count": 432
  },
  {
   "metadata": {},
   "cell_type": "markdown",
   "source": "## Adicionando as rotas ociosas ao dataframe",
   "id": "8f2013b652a69725"
  },
  {
   "metadata": {},
   "cell_type": "markdown",
   "source": "Adicionando ao df_report somente os campos importantes contidos no df_trip_idle",
   "id": "e2d8a94b16f0d808"
  },
  {
   "metadata": {
    "ExecuteTime": {
     "end_time": "2024-04-17T13:28:32.021274Z",
     "start_time": "2024-04-17T13:28:32.018516Z"
    }
   },
   "cell_type": "code",
   "source": "df_filtered = df_trip_idle[['id', 'num_linha', 'descricao', 'direcao', 'pontos_geolocalizacao']].copy()",
   "id": "28c128cd617870db",
   "outputs": [],
   "execution_count": 433
  },
  {
   "metadata": {
    "ExecuteTime": {
     "end_time": "2024-04-17T13:28:32.026954Z",
     "start_time": "2024-04-17T13:28:32.022380Z"
    }
   },
   "cell_type": "code",
   "source": "df_report = pd.merge(df_report, df_filtered, left_on='linha',right_on='num_linha', how='left')",
   "id": "3ac1cf44041cc318",
   "outputs": [],
   "execution_count": 434
  },
  {
   "metadata": {
    "ExecuteTime": {
     "end_time": "2024-04-17T13:28:32.098141Z",
     "start_time": "2024-04-17T13:28:32.027693Z"
    }
   },
   "cell_type": "code",
   "source": "df_report.sample(n=5)",
   "id": "e13e2e7b81510bcf",
   "outputs": [
    {
     "data": {
      "text/plain": [
       "           data  carro linha                      re  \\\n",
       "2374 2024-04-15  20513  018B             [000018245]   \n",
       "2418 2024-04-15  20519  107A             [000017658]   \n",
       "1592 2024-04-15  20425  519B             [000013969]   \n",
       "1036 2024-04-15  20320  003H             [000018347]   \n",
       "2685 2024-04-15  20545  011A  [000018030, 000018264]   \n",
       "\n",
       "                                                   nome     id num_linha  \\\n",
       "2374                    [JOSE ADRIANO RESENDE DE PAULA]   53.0      018B   \n",
       "2418                           [GREGORIO JOSE DE SOUZA]   91.0      107A   \n",
       "1592                            [EDILSON LOPES PEREIRA]  172.0      519B   \n",
       "1036                                    [NELIO BOTOSSO]   12.0      003H   \n",
       "2685  [DORVALINO XAVIER DOS ANJOS, DURVAL MARTINS RO...   41.0      011A   \n",
       "\n",
       "                                        descricao direcao  \\\n",
       "2374      T. ARAGUAIA / PRA?A CIVICA - VIA BR-153     IDA   \n",
       "2418   T. VL. BRASILIA / T. CRUZEIRO / VL. ALZIRA     IDA   \n",
       "1592  T. VEIGA JD. / NOVA CIDADE / INDEP. MANSOES     IDA   \n",
       "1036    PCA CIVICA / AVENIDA ITALIA / T. MARANATA   VOLTA   \n",
       "2685                  T. VL. BRASILIA / T. PRACA    VOLTA   \n",
       "\n",
       "                                  pontos_geolocalizacao  \n",
       "2374  [{'lat': -16.76356166845891, 'lng': -49.270145...  \n",
       "2418  [{'lat': -16.76347333006561, 'lng': -49.270256...  \n",
       "1592  [{'lat': -16.76350454639546, 'lng': -49.270226...  \n",
       "1036  [{'lat': -16.8113258583215, 'lng': -49.3626842...  \n",
       "2685  [{'lat': -16.74277825240883, 'lng': -49.255227...  "
      ],
      "text/html": [
       "<div>\n",
       "<style scoped>\n",
       "    .dataframe tbody tr th:only-of-type {\n",
       "        vertical-align: middle;\n",
       "    }\n",
       "\n",
       "    .dataframe tbody tr th {\n",
       "        vertical-align: top;\n",
       "    }\n",
       "\n",
       "    .dataframe thead th {\n",
       "        text-align: right;\n",
       "    }\n",
       "</style>\n",
       "<table border=\"1\" class=\"dataframe\">\n",
       "  <thead>\n",
       "    <tr style=\"text-align: right;\">\n",
       "      <th></th>\n",
       "      <th>data</th>\n",
       "      <th>carro</th>\n",
       "      <th>linha</th>\n",
       "      <th>re</th>\n",
       "      <th>nome</th>\n",
       "      <th>id</th>\n",
       "      <th>num_linha</th>\n",
       "      <th>descricao</th>\n",
       "      <th>direcao</th>\n",
       "      <th>pontos_geolocalizacao</th>\n",
       "    </tr>\n",
       "  </thead>\n",
       "  <tbody>\n",
       "    <tr>\n",
       "      <th>2374</th>\n",
       "      <td>2024-04-15</td>\n",
       "      <td>20513</td>\n",
       "      <td>018B</td>\n",
       "      <td>[000018245]</td>\n",
       "      <td>[JOSE ADRIANO RESENDE DE PAULA]</td>\n",
       "      <td>53.0</td>\n",
       "      <td>018B</td>\n",
       "      <td>T. ARAGUAIA / PRA?A CIVICA - VIA BR-153</td>\n",
       "      <td>IDA</td>\n",
       "      <td>[{'lat': -16.76356166845891, 'lng': -49.270145...</td>\n",
       "    </tr>\n",
       "    <tr>\n",
       "      <th>2418</th>\n",
       "      <td>2024-04-15</td>\n",
       "      <td>20519</td>\n",
       "      <td>107A</td>\n",
       "      <td>[000017658]</td>\n",
       "      <td>[GREGORIO JOSE DE SOUZA]</td>\n",
       "      <td>91.0</td>\n",
       "      <td>107A</td>\n",
       "      <td>T. VL. BRASILIA / T. CRUZEIRO / VL. ALZIRA</td>\n",
       "      <td>IDA</td>\n",
       "      <td>[{'lat': -16.76347333006561, 'lng': -49.270256...</td>\n",
       "    </tr>\n",
       "    <tr>\n",
       "      <th>1592</th>\n",
       "      <td>2024-04-15</td>\n",
       "      <td>20425</td>\n",
       "      <td>519B</td>\n",
       "      <td>[000013969]</td>\n",
       "      <td>[EDILSON LOPES PEREIRA]</td>\n",
       "      <td>172.0</td>\n",
       "      <td>519B</td>\n",
       "      <td>T. VEIGA JD. / NOVA CIDADE / INDEP. MANSOES</td>\n",
       "      <td>IDA</td>\n",
       "      <td>[{'lat': -16.76350454639546, 'lng': -49.270226...</td>\n",
       "    </tr>\n",
       "    <tr>\n",
       "      <th>1036</th>\n",
       "      <td>2024-04-15</td>\n",
       "      <td>20320</td>\n",
       "      <td>003H</td>\n",
       "      <td>[000018347]</td>\n",
       "      <td>[NELIO BOTOSSO]</td>\n",
       "      <td>12.0</td>\n",
       "      <td>003H</td>\n",
       "      <td>PCA CIVICA / AVENIDA ITALIA / T. MARANATA</td>\n",
       "      <td>VOLTA</td>\n",
       "      <td>[{'lat': -16.8113258583215, 'lng': -49.3626842...</td>\n",
       "    </tr>\n",
       "    <tr>\n",
       "      <th>2685</th>\n",
       "      <td>2024-04-15</td>\n",
       "      <td>20545</td>\n",
       "      <td>011A</td>\n",
       "      <td>[000018030, 000018264]</td>\n",
       "      <td>[DORVALINO XAVIER DOS ANJOS, DURVAL MARTINS RO...</td>\n",
       "      <td>41.0</td>\n",
       "      <td>011A</td>\n",
       "      <td>T. VL. BRASILIA / T. PRACA</td>\n",
       "      <td>VOLTA</td>\n",
       "      <td>[{'lat': -16.74277825240883, 'lng': -49.255227...</td>\n",
       "    </tr>\n",
       "  </tbody>\n",
       "</table>\n",
       "</div>"
      ]
     },
     "execution_count": 435,
     "metadata": {},
     "output_type": "execute_result"
    }
   ],
   "execution_count": 435
  },
  {
   "metadata": {},
   "cell_type": "markdown",
   "source": "## Verificação de linhas que não possui cadastro no sianet de linhas ociosas",
   "id": "c9a82781df4d31d0"
  },
  {
   "metadata": {
    "ExecuteTime": {
     "end_time": "2024-04-17T13:28:32.104890Z",
     "start_time": "2024-04-17T13:28:32.099147Z"
    }
   },
   "cell_type": "code",
   "source": "df_report.isna().sum()",
   "id": "44171cf0d2a0d91f",
   "outputs": [
    {
     "data": {
      "text/plain": [
       "data                     0\n",
       "carro                    0\n",
       "linha                    0\n",
       "re                       0\n",
       "nome                     0\n",
       "id                       6\n",
       "num_linha                6\n",
       "descricao                6\n",
       "direcao                  6\n",
       "pontos_geolocalizacao    6\n",
       "dtype: int64"
      ]
     },
     "execution_count": 436,
     "metadata": {},
     "output_type": "execute_result"
    }
   ],
   "execution_count": 436
  },
  {
   "metadata": {
    "ExecuteTime": {
     "end_time": "2024-04-17T13:28:32.109418Z",
     "start_time": "2024-04-17T13:28:32.105753Z"
    }
   },
   "cell_type": "code",
   "source": "rows_with_nan = df_report[df_report.isna().any(axis=1)] ",
   "id": "6dd4c81a7e89557d",
   "outputs": [],
   "execution_count": 437
  },
  {
   "metadata": {
    "ExecuteTime": {
     "end_time": "2024-04-17T13:28:32.119053Z",
     "start_time": "2024-04-17T13:28:32.110214Z"
    }
   },
   "cell_type": "code",
   "source": "rows_with_nan",
   "id": "653a740a39f86476",
   "outputs": [
    {
     "data": {
      "text/plain": [
       "           data  carro linha                      re  \\\n",
       "0    2024-04-15   1201  117A  [000007200, 000018995]   \n",
       "659  2024-04-15  20080  362C             [000014077]   \n",
       "812  2024-04-15  20223  608B             [000019539]   \n",
       "939  2024-04-15  20303  608A             [000019464]   \n",
       "940  2024-04-15  20303  608B             [000019567]   \n",
       "1249 2024-04-15  20351  608A             [000019636]   \n",
       "\n",
       "                                                   nome  id num_linha  \\\n",
       "0     [LINDOMAR ANTONIO GARCIA, RICARDO ALEXANDRE CH... NaN       NaN   \n",
       "659                        [BELARMINO SANTANA NOGUEIRA] NaN       NaN   \n",
       "812                             [SILVANIR DERMOND DIAS] NaN       NaN   \n",
       "939                             [JOSE CLAUDIO DE PAULA] NaN       NaN   \n",
       "940                     [JOSE NILTON FERREIRA DE SOUZA] NaN       NaN   \n",
       "1249                     [JASON LOPES DE ARAUJO JUNIOR] NaN       NaN   \n",
       "\n",
       "     descricao direcao pontos_geolocalizacao  \n",
       "0          NaN     NaN                   NaN  \n",
       "659        NaN     NaN                   NaN  \n",
       "812        NaN     NaN                   NaN  \n",
       "939        NaN     NaN                   NaN  \n",
       "940        NaN     NaN                   NaN  \n",
       "1249       NaN     NaN                   NaN  "
      ],
      "text/html": [
       "<div>\n",
       "<style scoped>\n",
       "    .dataframe tbody tr th:only-of-type {\n",
       "        vertical-align: middle;\n",
       "    }\n",
       "\n",
       "    .dataframe tbody tr th {\n",
       "        vertical-align: top;\n",
       "    }\n",
       "\n",
       "    .dataframe thead th {\n",
       "        text-align: right;\n",
       "    }\n",
       "</style>\n",
       "<table border=\"1\" class=\"dataframe\">\n",
       "  <thead>\n",
       "    <tr style=\"text-align: right;\">\n",
       "      <th></th>\n",
       "      <th>data</th>\n",
       "      <th>carro</th>\n",
       "      <th>linha</th>\n",
       "      <th>re</th>\n",
       "      <th>nome</th>\n",
       "      <th>id</th>\n",
       "      <th>num_linha</th>\n",
       "      <th>descricao</th>\n",
       "      <th>direcao</th>\n",
       "      <th>pontos_geolocalizacao</th>\n",
       "    </tr>\n",
       "  </thead>\n",
       "  <tbody>\n",
       "    <tr>\n",
       "      <th>0</th>\n",
       "      <td>2024-04-15</td>\n",
       "      <td>1201</td>\n",
       "      <td>117A</td>\n",
       "      <td>[000007200, 000018995]</td>\n",
       "      <td>[LINDOMAR ANTONIO GARCIA, RICARDO ALEXANDRE CH...</td>\n",
       "      <td>NaN</td>\n",
       "      <td>NaN</td>\n",
       "      <td>NaN</td>\n",
       "      <td>NaN</td>\n",
       "      <td>NaN</td>\n",
       "    </tr>\n",
       "    <tr>\n",
       "      <th>659</th>\n",
       "      <td>2024-04-15</td>\n",
       "      <td>20080</td>\n",
       "      <td>362C</td>\n",
       "      <td>[000014077]</td>\n",
       "      <td>[BELARMINO SANTANA NOGUEIRA]</td>\n",
       "      <td>NaN</td>\n",
       "      <td>NaN</td>\n",
       "      <td>NaN</td>\n",
       "      <td>NaN</td>\n",
       "      <td>NaN</td>\n",
       "    </tr>\n",
       "    <tr>\n",
       "      <th>812</th>\n",
       "      <td>2024-04-15</td>\n",
       "      <td>20223</td>\n",
       "      <td>608B</td>\n",
       "      <td>[000019539]</td>\n",
       "      <td>[SILVANIR DERMOND DIAS]</td>\n",
       "      <td>NaN</td>\n",
       "      <td>NaN</td>\n",
       "      <td>NaN</td>\n",
       "      <td>NaN</td>\n",
       "      <td>NaN</td>\n",
       "    </tr>\n",
       "    <tr>\n",
       "      <th>939</th>\n",
       "      <td>2024-04-15</td>\n",
       "      <td>20303</td>\n",
       "      <td>608A</td>\n",
       "      <td>[000019464]</td>\n",
       "      <td>[JOSE CLAUDIO DE PAULA]</td>\n",
       "      <td>NaN</td>\n",
       "      <td>NaN</td>\n",
       "      <td>NaN</td>\n",
       "      <td>NaN</td>\n",
       "      <td>NaN</td>\n",
       "    </tr>\n",
       "    <tr>\n",
       "      <th>940</th>\n",
       "      <td>2024-04-15</td>\n",
       "      <td>20303</td>\n",
       "      <td>608B</td>\n",
       "      <td>[000019567]</td>\n",
       "      <td>[JOSE NILTON FERREIRA DE SOUZA]</td>\n",
       "      <td>NaN</td>\n",
       "      <td>NaN</td>\n",
       "      <td>NaN</td>\n",
       "      <td>NaN</td>\n",
       "      <td>NaN</td>\n",
       "    </tr>\n",
       "    <tr>\n",
       "      <th>1249</th>\n",
       "      <td>2024-04-15</td>\n",
       "      <td>20351</td>\n",
       "      <td>608A</td>\n",
       "      <td>[000019636]</td>\n",
       "      <td>[JASON LOPES DE ARAUJO JUNIOR]</td>\n",
       "      <td>NaN</td>\n",
       "      <td>NaN</td>\n",
       "      <td>NaN</td>\n",
       "      <td>NaN</td>\n",
       "      <td>NaN</td>\n",
       "    </tr>\n",
       "  </tbody>\n",
       "</table>\n",
       "</div>"
      ]
     },
     "execution_count": 438,
     "metadata": {},
     "output_type": "execute_result"
    }
   ],
   "execution_count": 438
  },
  {
   "metadata": {},
   "cell_type": "markdown",
   "source": "## Adicionando as rotas das linhas",
   "id": "4dabee378cd53e05"
  },
  {
   "metadata": {
    "ExecuteTime": {
     "end_time": "2024-04-17T13:28:32.128710Z",
     "start_time": "2024-04-17T13:28:32.119989Z"
    }
   },
   "cell_type": "code",
   "source": "df_planned_trip",
   "id": "b74e95c7c1e6a874",
   "outputs": [
    {
     "data": {
      "text/plain": [
       "                                                  name  \\\n",
       "0    110-1i - T. PE. PELAGIO / T. SENADOR CANEDO - IDA   \n",
       "1    110-1v - T. PE. PELAGIO / T. SENADOR CANEDO - ...   \n",
       "2            111-1i - T. SEN. CANEDO / T. BIBLIA - IDA   \n",
       "3          111-1v - T. SEN. CANEDO / T. BIBLIA - VOLTA   \n",
       "4               112-1i - T. TRINDADE / T. BIBLIA - IDA   \n",
       "..                                                 ...   \n",
       "922     105-2v - T. PRACA A / CEMITERIO PARQUE - VOLTA   \n",
       "923  990-1i - T. BIBLIA / PRACA CIVICA / OSCAR NIEM...   \n",
       "924  990-1v - T. BIBLIA / PRACA CIVICA / OSCAR NIEM...   \n",
       "925  991-1i - T. ISIDORIA / FLAMBOYANT / OSCAR NIEM...   \n",
       "926  991-1v - T. ISIDORIA / FLAMBOYANT / OSCAR NIEM...   \n",
       "\n",
       "                                           coordinates Código identificacao  \\\n",
       "0    -49.327230289,-16.659400785,0 -49.327226585000...    110            1i   \n",
       "1    -49.102709768,-16.696634942,0 -49.102510625,-1...    110            1v   \n",
       "2    -49.102279636,-16.697228284,0 -49.102444883,-1...    111            1i   \n",
       "3    -49.235356,-16.671601,0 -49.23670707099999,-16...    111            1v   \n",
       "4    -49.489861817,-16.651018366,0 -49.490032225,-1...    112            1i   \n",
       "..                                                 ...    ...           ...   \n",
       "922  -49.279291828,-16.641798643,0 -49.279555,-16.6...    105            2v   \n",
       "923  -49.235848,-16.671523,0 -49.236621539,-16.6715...    990            1i   \n",
       "924  -49.226386406,-16.711469976,0 -49.225732416,-1...    990            1v   \n",
       "925  -49.252695,-16.713954,0 -49.25261492,-16.71358...    991            1i   \n",
       "926  -49.226386406,-16.711469976,0 -49.225732416,-1...    991            1v   \n",
       "\n",
       "                                     Descrição Sentido sublinha num_linha  \n",
       "0           T. PE. PELAGIO / T. SENADOR CANEDO     IDA        A      110A  \n",
       "1           T. PE. PELAGIO / T. SENADOR CANEDO   VOLTA        A      110A  \n",
       "2                   T. SEN. CANEDO / T. BIBLIA     IDA        A      111A  \n",
       "3                   T. SEN. CANEDO / T. BIBLIA   VOLTA        A      111A  \n",
       "4                      T. TRINDADE / T. BIBLIA     IDA        A      112A  \n",
       "..                                         ...     ...      ...       ...  \n",
       "922              T. PRACA A / CEMITERIO PARQUE   VOLTA        B      105B  \n",
       "923  T. BIBLIA / PRACA CIVICA / OSCAR NIEMEYER     IDA        A      990A  \n",
       "924  T. BIBLIA / PRACA CIVICA / OSCAR NIEMEYER   VOLTA        A      990A  \n",
       "925  T. ISIDORIA / FLAMBOYANT / OSCAR NIEMEYER     IDA        A      991A  \n",
       "926  T. ISIDORIA / FLAMBOYANT / OSCAR NIEMEYER   VOLTA        A      991A  \n",
       "\n",
       "[927 rows x 8 columns]"
      ],
      "text/html": [
       "<div>\n",
       "<style scoped>\n",
       "    .dataframe tbody tr th:only-of-type {\n",
       "        vertical-align: middle;\n",
       "    }\n",
       "\n",
       "    .dataframe tbody tr th {\n",
       "        vertical-align: top;\n",
       "    }\n",
       "\n",
       "    .dataframe thead th {\n",
       "        text-align: right;\n",
       "    }\n",
       "</style>\n",
       "<table border=\"1\" class=\"dataframe\">\n",
       "  <thead>\n",
       "    <tr style=\"text-align: right;\">\n",
       "      <th></th>\n",
       "      <th>name</th>\n",
       "      <th>coordinates</th>\n",
       "      <th>Código</th>\n",
       "      <th>identificacao</th>\n",
       "      <th>Descrição</th>\n",
       "      <th>Sentido</th>\n",
       "      <th>sublinha</th>\n",
       "      <th>num_linha</th>\n",
       "    </tr>\n",
       "  </thead>\n",
       "  <tbody>\n",
       "    <tr>\n",
       "      <th>0</th>\n",
       "      <td>110-1i - T. PE. PELAGIO / T. SENADOR CANEDO - IDA</td>\n",
       "      <td>-49.327230289,-16.659400785,0 -49.327226585000...</td>\n",
       "      <td>110</td>\n",
       "      <td>1i</td>\n",
       "      <td>T. PE. PELAGIO / T. SENADOR CANEDO</td>\n",
       "      <td>IDA</td>\n",
       "      <td>A</td>\n",
       "      <td>110A</td>\n",
       "    </tr>\n",
       "    <tr>\n",
       "      <th>1</th>\n",
       "      <td>110-1v - T. PE. PELAGIO / T. SENADOR CANEDO - ...</td>\n",
       "      <td>-49.102709768,-16.696634942,0 -49.102510625,-1...</td>\n",
       "      <td>110</td>\n",
       "      <td>1v</td>\n",
       "      <td>T. PE. PELAGIO / T. SENADOR CANEDO</td>\n",
       "      <td>VOLTA</td>\n",
       "      <td>A</td>\n",
       "      <td>110A</td>\n",
       "    </tr>\n",
       "    <tr>\n",
       "      <th>2</th>\n",
       "      <td>111-1i - T. SEN. CANEDO / T. BIBLIA - IDA</td>\n",
       "      <td>-49.102279636,-16.697228284,0 -49.102444883,-1...</td>\n",
       "      <td>111</td>\n",
       "      <td>1i</td>\n",
       "      <td>T. SEN. CANEDO / T. BIBLIA</td>\n",
       "      <td>IDA</td>\n",
       "      <td>A</td>\n",
       "      <td>111A</td>\n",
       "    </tr>\n",
       "    <tr>\n",
       "      <th>3</th>\n",
       "      <td>111-1v - T. SEN. CANEDO / T. BIBLIA - VOLTA</td>\n",
       "      <td>-49.235356,-16.671601,0 -49.23670707099999,-16...</td>\n",
       "      <td>111</td>\n",
       "      <td>1v</td>\n",
       "      <td>T. SEN. CANEDO / T. BIBLIA</td>\n",
       "      <td>VOLTA</td>\n",
       "      <td>A</td>\n",
       "      <td>111A</td>\n",
       "    </tr>\n",
       "    <tr>\n",
       "      <th>4</th>\n",
       "      <td>112-1i - T. TRINDADE / T. BIBLIA - IDA</td>\n",
       "      <td>-49.489861817,-16.651018366,0 -49.490032225,-1...</td>\n",
       "      <td>112</td>\n",
       "      <td>1i</td>\n",
       "      <td>T. TRINDADE / T. BIBLIA</td>\n",
       "      <td>IDA</td>\n",
       "      <td>A</td>\n",
       "      <td>112A</td>\n",
       "    </tr>\n",
       "    <tr>\n",
       "      <th>...</th>\n",
       "      <td>...</td>\n",
       "      <td>...</td>\n",
       "      <td>...</td>\n",
       "      <td>...</td>\n",
       "      <td>...</td>\n",
       "      <td>...</td>\n",
       "      <td>...</td>\n",
       "      <td>...</td>\n",
       "    </tr>\n",
       "    <tr>\n",
       "      <th>922</th>\n",
       "      <td>105-2v - T. PRACA A / CEMITERIO PARQUE - VOLTA</td>\n",
       "      <td>-49.279291828,-16.641798643,0 -49.279555,-16.6...</td>\n",
       "      <td>105</td>\n",
       "      <td>2v</td>\n",
       "      <td>T. PRACA A / CEMITERIO PARQUE</td>\n",
       "      <td>VOLTA</td>\n",
       "      <td>B</td>\n",
       "      <td>105B</td>\n",
       "    </tr>\n",
       "    <tr>\n",
       "      <th>923</th>\n",
       "      <td>990-1i - T. BIBLIA / PRACA CIVICA / OSCAR NIEM...</td>\n",
       "      <td>-49.235848,-16.671523,0 -49.236621539,-16.6715...</td>\n",
       "      <td>990</td>\n",
       "      <td>1i</td>\n",
       "      <td>T. BIBLIA / PRACA CIVICA / OSCAR NIEMEYER</td>\n",
       "      <td>IDA</td>\n",
       "      <td>A</td>\n",
       "      <td>990A</td>\n",
       "    </tr>\n",
       "    <tr>\n",
       "      <th>924</th>\n",
       "      <td>990-1v - T. BIBLIA / PRACA CIVICA / OSCAR NIEM...</td>\n",
       "      <td>-49.226386406,-16.711469976,0 -49.225732416,-1...</td>\n",
       "      <td>990</td>\n",
       "      <td>1v</td>\n",
       "      <td>T. BIBLIA / PRACA CIVICA / OSCAR NIEMEYER</td>\n",
       "      <td>VOLTA</td>\n",
       "      <td>A</td>\n",
       "      <td>990A</td>\n",
       "    </tr>\n",
       "    <tr>\n",
       "      <th>925</th>\n",
       "      <td>991-1i - T. ISIDORIA / FLAMBOYANT / OSCAR NIEM...</td>\n",
       "      <td>-49.252695,-16.713954,0 -49.25261492,-16.71358...</td>\n",
       "      <td>991</td>\n",
       "      <td>1i</td>\n",
       "      <td>T. ISIDORIA / FLAMBOYANT / OSCAR NIEMEYER</td>\n",
       "      <td>IDA</td>\n",
       "      <td>A</td>\n",
       "      <td>991A</td>\n",
       "    </tr>\n",
       "    <tr>\n",
       "      <th>926</th>\n",
       "      <td>991-1v - T. ISIDORIA / FLAMBOYANT / OSCAR NIEM...</td>\n",
       "      <td>-49.226386406,-16.711469976,0 -49.225732416,-1...</td>\n",
       "      <td>991</td>\n",
       "      <td>1v</td>\n",
       "      <td>T. ISIDORIA / FLAMBOYANT / OSCAR NIEMEYER</td>\n",
       "      <td>VOLTA</td>\n",
       "      <td>A</td>\n",
       "      <td>991A</td>\n",
       "    </tr>\n",
       "  </tbody>\n",
       "</table>\n",
       "<p>927 rows × 8 columns</p>\n",
       "</div>"
      ]
     },
     "execution_count": 439,
     "metadata": {},
     "output_type": "execute_result"
    }
   ],
   "execution_count": 439
  },
  {
   "metadata": {
    "ExecuteTime": {
     "end_time": "2024-04-17T13:28:32.132292Z",
     "start_time": "2024-04-17T13:28:32.129566Z"
    }
   },
   "cell_type": "code",
   "source": "df_filtered = df_planned_trip[['coordinates', 'Sentido','num_linha']]",
   "id": "fb465c611661f71",
   "outputs": [],
   "execution_count": 440
  },
  {
   "metadata": {
    "ExecuteTime": {
     "end_time": "2024-04-17T13:28:32.138851Z",
     "start_time": "2024-04-17T13:28:32.133239Z"
    }
   },
   "cell_type": "code",
   "source": "df_report = pd.merge(df_report, df_filtered, left_on=['num_linha','direcao'],right_on=['num_linha','Sentido'], how='left')",
   "id": "cce6ca98dbd30232",
   "outputs": [],
   "execution_count": 441
  },
  {
   "metadata": {
    "ExecuteTime": {
     "end_time": "2024-04-17T13:28:32.141423Z",
     "start_time": "2024-04-17T13:28:32.139603Z"
    }
   },
   "cell_type": "code",
   "source": "",
   "id": "be79886414ee06b3",
   "outputs": [],
   "execution_count": 441
  },
  {
   "metadata": {},
   "cell_type": "markdown",
   "source": "## Adicionando a rota realizada",
   "id": "3903d95d2f7b9241"
  },
  {
   "metadata": {
    "ExecuteTime": {
     "end_time": "2024-04-17T13:28:32.278751Z",
     "start_time": "2024-04-17T13:28:32.142381Z"
    }
   },
   "cell_type": "code",
   "source": "df_trip_made[df_trip_made['execution_date']=='2024-04-15']",
   "id": "90a078509603e2c8",
   "outputs": [
    {
     "data": {
      "text/plain": [
       "    execution_date registration  description  \\\n",
       "476     2024-04-15      SCQ3A44        20805   \n",
       "477     2024-04-15      NKC3574        20238   \n",
       "478     2024-04-15      ONU6399        20018   \n",
       "479     2024-04-15      NJY3685        20360   \n",
       "480     2024-04-15      NLB6B14        20362   \n",
       "481     2024-04-15      ONQ9479        20021   \n",
       "482     2024-04-15      NKE9854        20224   \n",
       "483     2024-04-15      PQA2792        20048   \n",
       "484     2024-04-15      ONW2749        20019   \n",
       "485     2024-04-15      NLC7694        20357   \n",
       "\n",
       "                                           coordinates  \n",
       "476  [[-49.301633, -16.705014], [-49.301468, -16.70...  \n",
       "477  [[-49.301015, -16.704094], [-49.301215, -16.70...  \n",
       "478  [[-49.301646, -16.704247], [-49.30138, -16.703...  \n",
       "479  [[-49.301201, -16.703086], [-49.301153, -16.70...  \n",
       "480  [[-49.301187, -16.702887], [-49.301255, -16.70...  \n",
       "481                         [[-49.301364, -16.704743]]  \n",
       "482  [[-49.301699, -16.704075], [-49.301809, -16.70...  \n",
       "483  [[-49.362301, -16.81122], [-49.362246, -16.811...  \n",
       "484  [[-49.301651, -16.704151], [-49.301638, -16.70...  \n",
       "485  [[-49.301395, -16.702537], [-49.301461, -16.70...  "
      ],
      "text/html": [
       "<div>\n",
       "<style scoped>\n",
       "    .dataframe tbody tr th:only-of-type {\n",
       "        vertical-align: middle;\n",
       "    }\n",
       "\n",
       "    .dataframe tbody tr th {\n",
       "        vertical-align: top;\n",
       "    }\n",
       "\n",
       "    .dataframe thead th {\n",
       "        text-align: right;\n",
       "    }\n",
       "</style>\n",
       "<table border=\"1\" class=\"dataframe\">\n",
       "  <thead>\n",
       "    <tr style=\"text-align: right;\">\n",
       "      <th></th>\n",
       "      <th>execution_date</th>\n",
       "      <th>registration</th>\n",
       "      <th>description</th>\n",
       "      <th>coordinates</th>\n",
       "    </tr>\n",
       "  </thead>\n",
       "  <tbody>\n",
       "    <tr>\n",
       "      <th>476</th>\n",
       "      <td>2024-04-15</td>\n",
       "      <td>SCQ3A44</td>\n",
       "      <td>20805</td>\n",
       "      <td>[[-49.301633, -16.705014], [-49.301468, -16.70...</td>\n",
       "    </tr>\n",
       "    <tr>\n",
       "      <th>477</th>\n",
       "      <td>2024-04-15</td>\n",
       "      <td>NKC3574</td>\n",
       "      <td>20238</td>\n",
       "      <td>[[-49.301015, -16.704094], [-49.301215, -16.70...</td>\n",
       "    </tr>\n",
       "    <tr>\n",
       "      <th>478</th>\n",
       "      <td>2024-04-15</td>\n",
       "      <td>ONU6399</td>\n",
       "      <td>20018</td>\n",
       "      <td>[[-49.301646, -16.704247], [-49.30138, -16.703...</td>\n",
       "    </tr>\n",
       "    <tr>\n",
       "      <th>479</th>\n",
       "      <td>2024-04-15</td>\n",
       "      <td>NJY3685</td>\n",
       "      <td>20360</td>\n",
       "      <td>[[-49.301201, -16.703086], [-49.301153, -16.70...</td>\n",
       "    </tr>\n",
       "    <tr>\n",
       "      <th>480</th>\n",
       "      <td>2024-04-15</td>\n",
       "      <td>NLB6B14</td>\n",
       "      <td>20362</td>\n",
       "      <td>[[-49.301187, -16.702887], [-49.301255, -16.70...</td>\n",
       "    </tr>\n",
       "    <tr>\n",
       "      <th>481</th>\n",
       "      <td>2024-04-15</td>\n",
       "      <td>ONQ9479</td>\n",
       "      <td>20021</td>\n",
       "      <td>[[-49.301364, -16.704743]]</td>\n",
       "    </tr>\n",
       "    <tr>\n",
       "      <th>482</th>\n",
       "      <td>2024-04-15</td>\n",
       "      <td>NKE9854</td>\n",
       "      <td>20224</td>\n",
       "      <td>[[-49.301699, -16.704075], [-49.301809, -16.70...</td>\n",
       "    </tr>\n",
       "    <tr>\n",
       "      <th>483</th>\n",
       "      <td>2024-04-15</td>\n",
       "      <td>PQA2792</td>\n",
       "      <td>20048</td>\n",
       "      <td>[[-49.362301, -16.81122], [-49.362246, -16.811...</td>\n",
       "    </tr>\n",
       "    <tr>\n",
       "      <th>484</th>\n",
       "      <td>2024-04-15</td>\n",
       "      <td>ONW2749</td>\n",
       "      <td>20019</td>\n",
       "      <td>[[-49.301651, -16.704151], [-49.301638, -16.70...</td>\n",
       "    </tr>\n",
       "    <tr>\n",
       "      <th>485</th>\n",
       "      <td>2024-04-15</td>\n",
       "      <td>NLC7694</td>\n",
       "      <td>20357</td>\n",
       "      <td>[[-49.301395, -16.702537], [-49.301461, -16.70...</td>\n",
       "    </tr>\n",
       "  </tbody>\n",
       "</table>\n",
       "</div>"
      ]
     },
     "execution_count": 442,
     "metadata": {},
     "output_type": "execute_result"
    }
   ],
   "execution_count": 442
  },
  {
   "metadata": {
    "ExecuteTime": {
     "end_time": "2024-04-17T13:28:32.283009Z",
     "start_time": "2024-04-17T13:28:32.279787Z"
    }
   },
   "cell_type": "code",
   "source": "df_filtered = df_trip_made[['execution_date','description','coordinates']]",
   "id": "f4158c95341ab02d",
   "outputs": [],
   "execution_count": 443
  },
  {
   "metadata": {
    "ExecuteTime": {
     "end_time": "2024-04-17T13:28:32.287506Z",
     "start_time": "2024-04-17T13:28:32.283839Z"
    }
   },
   "cell_type": "code",
   "source": "df_report['carro'] = df_report['carro'].astype('Int64')",
   "id": "b8ac5cd5c26db1c6",
   "outputs": [],
   "execution_count": 444
  },
  {
   "metadata": {
    "ExecuteTime": {
     "end_time": "2024-04-17T13:28:32.293267Z",
     "start_time": "2024-04-17T13:28:32.288294Z"
    }
   },
   "cell_type": "code",
   "source": "df_report = pd.merge(df_report, df_filtered, left_on=['data', 'carro'], right_on=['execution_date', 'description'], how='left')\n",
   "id": "f58e05d2750e1516",
   "outputs": [],
   "execution_count": 445
  },
  {
   "metadata": {
    "ExecuteTime": {
     "end_time": "2024-04-17T13:28:32.555101Z",
     "start_time": "2024-04-17T13:28:32.466609Z"
    }
   },
   "cell_type": "code",
   "source": [
    "df_report.rename(columns={'pontos_geolocalizacao':'idle_route',\n",
    "                          'coordinates_x': 'schedule_route',\n",
    "                          'coordinates_y': 'made_route',})"
   ],
   "id": "144e885d7baa2372",
   "outputs": [
    {
     "data": {
      "text/plain": [
       "           data  carro linha                      re  \\\n",
       "0    2024-04-15   1201  117A  [000007200, 000018995]   \n",
       "1    2024-04-15  20017  020A             [000019061]   \n",
       "2    2024-04-15  20017  020A             [000019061]   \n",
       "3    2024-04-15  20017  032A             [000014901]   \n",
       "4    2024-04-15  20017  032A             [000014901]   \n",
       "...         ...    ...   ...                     ...   \n",
       "3031 2024-04-15  20998  026B             [000018886]   \n",
       "3032 2024-04-15  20998  027A             [000017239]   \n",
       "3033 2024-04-15  20998  027A             [000017239]   \n",
       "3034 2024-04-15  20998  028A             [000017239]   \n",
       "3035 2024-04-15  20998  028A             [000017239]   \n",
       "\n",
       "                                                   nome    id num_linha  \\\n",
       "0     [LINDOMAR ANTONIO GARCIA, RICARDO ALEXANDRE CH...   NaN       NaN   \n",
       "1                            [EDUARDO ROCHA DOS SANTOS]  55.0      020A   \n",
       "2                            [EDUARDO ROCHA DOS SANTOS]  55.0      020A   \n",
       "3                             [DERLEY RICARDO DA SILVA]  80.0      032A   \n",
       "4                             [DERLEY RICARDO DA SILVA]  80.0      032A   \n",
       "...                                                 ...   ...       ...   \n",
       "3031                          [EZEQUIEL DA SILVA HUTIM]  70.0      026B   \n",
       "3032                          [RONES SOARES DOS SANTOS]  72.0      027A   \n",
       "3033                          [RONES SOARES DOS SANTOS]  72.0      027A   \n",
       "3034                          [RONES SOARES DOS SANTOS]  75.0      028A   \n",
       "3035                          [RONES SOARES DOS SANTOS]  75.0      028A   \n",
       "\n",
       "                                            descricao direcao  \\\n",
       "0                                                 NaN     NaN   \n",
       "1        T. GARAVELO / T. DA BIBLIA - VIA T. ISIDORIA     IDA   \n",
       "2        T. GARAVELO / T. DA BIBLIA - VIA T. ISIDORIA   VOLTA   \n",
       "3                CIRCULAR / GARAVELO / VIA AV. DA PAZ     IDA   \n",
       "4                CIRCULAR / GARAVELO / VIA AV. DA PAZ   VOLTA   \n",
       "...                                               ...     ...   \n",
       "3031                     T. BANDEIRAS / PRACA DELMIRO   VOLTA   \n",
       "3032  T. BANDEIRAS / T. DA BIBLIA - VIA LUIS DE MATOS     IDA   \n",
       "3033  T. BANDEIRAS / T. DA BIBLIA - VIA LUIS DE MATOS   VOLTA   \n",
       "3034           T. BANDEIRAS / T. DA BIBLIA - VIA T-09     IDA   \n",
       "3035           T. BANDEIRAS / T. DA BIBLIA - VIA T-09   VOLTA   \n",
       "\n",
       "                                             idle_route  \\\n",
       "0                                                   NaN   \n",
       "1     [{'lat': -16.70507873620496, 'lng': -49.300697...   \n",
       "2     [{'lat': -16.76513425403492, 'lng': -49.348903...   \n",
       "3     [{'lat': -16.70507873620496, 'lng': -49.300697...   \n",
       "4     [{'lat': -16.76513425403492, 'lng': -49.348903...   \n",
       "...                                                 ...   \n",
       "3031  [{'lat': -16.70948506823616, 'lng': -49.309943...   \n",
       "3032  [{'lat': -16.70513240150447, 'lng': -49.300648...   \n",
       "3033  [{'lat': -16.70948506823616, 'lng': -49.309943...   \n",
       "3034  [{'lat': -16.70513240150447, 'lng': -49.300648...   \n",
       "3035  [{'lat': -16.70948506823616, 'lng': -49.309943...   \n",
       "\n",
       "                                         schedule_route Sentido  \\\n",
       "0                                                   NaN     NaN   \n",
       "1     -49.349216,-16.765821,0 -49.348733,-16.765202,...     IDA   \n",
       "2     -49.236824038,-16.671738986,0 -49.236321,-16.6...   VOLTA   \n",
       "3     -49.349373,-16.765794,0 -49.349478519,-16.7659...     IDA   \n",
       "4     -49.327085,-16.774644,0 -49.326135034,-16.7741...   VOLTA   \n",
       "...                                                 ...     ...   \n",
       "3031                                                NaN     NaN   \n",
       "3032  -49.310268,-16.710338,0 -49.31029029699999,-16...     IDA   \n",
       "3033  -49.236824038,-16.671738986,0 -49.235273,-16.6...   VOLTA   \n",
       "3034  -49.31026,-16.710486,0 -49.31029386900001,-16....     IDA   \n",
       "3035  -49.236829,-16.671728,0 -49.23530299999999,-16...   VOLTA   \n",
       "\n",
       "     execution_date  description made_route  \n",
       "0               NaT         <NA>        NaN  \n",
       "1               NaT         <NA>        NaN  \n",
       "2               NaT         <NA>        NaN  \n",
       "3               NaT         <NA>        NaN  \n",
       "4               NaT         <NA>        NaN  \n",
       "...             ...          ...        ...  \n",
       "3031            NaT         <NA>        NaN  \n",
       "3032            NaT         <NA>        NaN  \n",
       "3033            NaT         <NA>        NaN  \n",
       "3034            NaT         <NA>        NaN  \n",
       "3035            NaT         <NA>        NaN  \n",
       "\n",
       "[3036 rows x 15 columns]"
      ],
      "text/html": [
       "<div>\n",
       "<style scoped>\n",
       "    .dataframe tbody tr th:only-of-type {\n",
       "        vertical-align: middle;\n",
       "    }\n",
       "\n",
       "    .dataframe tbody tr th {\n",
       "        vertical-align: top;\n",
       "    }\n",
       "\n",
       "    .dataframe thead th {\n",
       "        text-align: right;\n",
       "    }\n",
       "</style>\n",
       "<table border=\"1\" class=\"dataframe\">\n",
       "  <thead>\n",
       "    <tr style=\"text-align: right;\">\n",
       "      <th></th>\n",
       "      <th>data</th>\n",
       "      <th>carro</th>\n",
       "      <th>linha</th>\n",
       "      <th>re</th>\n",
       "      <th>nome</th>\n",
       "      <th>id</th>\n",
       "      <th>num_linha</th>\n",
       "      <th>descricao</th>\n",
       "      <th>direcao</th>\n",
       "      <th>idle_route</th>\n",
       "      <th>schedule_route</th>\n",
       "      <th>Sentido</th>\n",
       "      <th>execution_date</th>\n",
       "      <th>description</th>\n",
       "      <th>made_route</th>\n",
       "    </tr>\n",
       "  </thead>\n",
       "  <tbody>\n",
       "    <tr>\n",
       "      <th>0</th>\n",
       "      <td>2024-04-15</td>\n",
       "      <td>1201</td>\n",
       "      <td>117A</td>\n",
       "      <td>[000007200, 000018995]</td>\n",
       "      <td>[LINDOMAR ANTONIO GARCIA, RICARDO ALEXANDRE CH...</td>\n",
       "      <td>NaN</td>\n",
       "      <td>NaN</td>\n",
       "      <td>NaN</td>\n",
       "      <td>NaN</td>\n",
       "      <td>NaN</td>\n",
       "      <td>NaN</td>\n",
       "      <td>NaN</td>\n",
       "      <td>NaT</td>\n",
       "      <td>&lt;NA&gt;</td>\n",
       "      <td>NaN</td>\n",
       "    </tr>\n",
       "    <tr>\n",
       "      <th>1</th>\n",
       "      <td>2024-04-15</td>\n",
       "      <td>20017</td>\n",
       "      <td>020A</td>\n",
       "      <td>[000019061]</td>\n",
       "      <td>[EDUARDO ROCHA DOS SANTOS]</td>\n",
       "      <td>55.0</td>\n",
       "      <td>020A</td>\n",
       "      <td>T. GARAVELO / T. DA BIBLIA - VIA T. ISIDORIA</td>\n",
       "      <td>IDA</td>\n",
       "      <td>[{'lat': -16.70507873620496, 'lng': -49.300697...</td>\n",
       "      <td>-49.349216,-16.765821,0 -49.348733,-16.765202,...</td>\n",
       "      <td>IDA</td>\n",
       "      <td>NaT</td>\n",
       "      <td>&lt;NA&gt;</td>\n",
       "      <td>NaN</td>\n",
       "    </tr>\n",
       "    <tr>\n",
       "      <th>2</th>\n",
       "      <td>2024-04-15</td>\n",
       "      <td>20017</td>\n",
       "      <td>020A</td>\n",
       "      <td>[000019061]</td>\n",
       "      <td>[EDUARDO ROCHA DOS SANTOS]</td>\n",
       "      <td>55.0</td>\n",
       "      <td>020A</td>\n",
       "      <td>T. GARAVELO / T. DA BIBLIA - VIA T. ISIDORIA</td>\n",
       "      <td>VOLTA</td>\n",
       "      <td>[{'lat': -16.76513425403492, 'lng': -49.348903...</td>\n",
       "      <td>-49.236824038,-16.671738986,0 -49.236321,-16.6...</td>\n",
       "      <td>VOLTA</td>\n",
       "      <td>NaT</td>\n",
       "      <td>&lt;NA&gt;</td>\n",
       "      <td>NaN</td>\n",
       "    </tr>\n",
       "    <tr>\n",
       "      <th>3</th>\n",
       "      <td>2024-04-15</td>\n",
       "      <td>20017</td>\n",
       "      <td>032A</td>\n",
       "      <td>[000014901]</td>\n",
       "      <td>[DERLEY RICARDO DA SILVA]</td>\n",
       "      <td>80.0</td>\n",
       "      <td>032A</td>\n",
       "      <td>CIRCULAR / GARAVELO / VIA AV. DA PAZ</td>\n",
       "      <td>IDA</td>\n",
       "      <td>[{'lat': -16.70507873620496, 'lng': -49.300697...</td>\n",
       "      <td>-49.349373,-16.765794,0 -49.349478519,-16.7659...</td>\n",
       "      <td>IDA</td>\n",
       "      <td>NaT</td>\n",
       "      <td>&lt;NA&gt;</td>\n",
       "      <td>NaN</td>\n",
       "    </tr>\n",
       "    <tr>\n",
       "      <th>4</th>\n",
       "      <td>2024-04-15</td>\n",
       "      <td>20017</td>\n",
       "      <td>032A</td>\n",
       "      <td>[000014901]</td>\n",
       "      <td>[DERLEY RICARDO DA SILVA]</td>\n",
       "      <td>80.0</td>\n",
       "      <td>032A</td>\n",
       "      <td>CIRCULAR / GARAVELO / VIA AV. DA PAZ</td>\n",
       "      <td>VOLTA</td>\n",
       "      <td>[{'lat': -16.76513425403492, 'lng': -49.348903...</td>\n",
       "      <td>-49.327085,-16.774644,0 -49.326135034,-16.7741...</td>\n",
       "      <td>VOLTA</td>\n",
       "      <td>NaT</td>\n",
       "      <td>&lt;NA&gt;</td>\n",
       "      <td>NaN</td>\n",
       "    </tr>\n",
       "    <tr>\n",
       "      <th>...</th>\n",
       "      <td>...</td>\n",
       "      <td>...</td>\n",
       "      <td>...</td>\n",
       "      <td>...</td>\n",
       "      <td>...</td>\n",
       "      <td>...</td>\n",
       "      <td>...</td>\n",
       "      <td>...</td>\n",
       "      <td>...</td>\n",
       "      <td>...</td>\n",
       "      <td>...</td>\n",
       "      <td>...</td>\n",
       "      <td>...</td>\n",
       "      <td>...</td>\n",
       "      <td>...</td>\n",
       "    </tr>\n",
       "    <tr>\n",
       "      <th>3031</th>\n",
       "      <td>2024-04-15</td>\n",
       "      <td>20998</td>\n",
       "      <td>026B</td>\n",
       "      <td>[000018886]</td>\n",
       "      <td>[EZEQUIEL DA SILVA HUTIM]</td>\n",
       "      <td>70.0</td>\n",
       "      <td>026B</td>\n",
       "      <td>T. BANDEIRAS / PRACA DELMIRO</td>\n",
       "      <td>VOLTA</td>\n",
       "      <td>[{'lat': -16.70948506823616, 'lng': -49.309943...</td>\n",
       "      <td>NaN</td>\n",
       "      <td>NaN</td>\n",
       "      <td>NaT</td>\n",
       "      <td>&lt;NA&gt;</td>\n",
       "      <td>NaN</td>\n",
       "    </tr>\n",
       "    <tr>\n",
       "      <th>3032</th>\n",
       "      <td>2024-04-15</td>\n",
       "      <td>20998</td>\n",
       "      <td>027A</td>\n",
       "      <td>[000017239]</td>\n",
       "      <td>[RONES SOARES DOS SANTOS]</td>\n",
       "      <td>72.0</td>\n",
       "      <td>027A</td>\n",
       "      <td>T. BANDEIRAS / T. DA BIBLIA - VIA LUIS DE MATOS</td>\n",
       "      <td>IDA</td>\n",
       "      <td>[{'lat': -16.70513240150447, 'lng': -49.300648...</td>\n",
       "      <td>-49.310268,-16.710338,0 -49.31029029699999,-16...</td>\n",
       "      <td>IDA</td>\n",
       "      <td>NaT</td>\n",
       "      <td>&lt;NA&gt;</td>\n",
       "      <td>NaN</td>\n",
       "    </tr>\n",
       "    <tr>\n",
       "      <th>3033</th>\n",
       "      <td>2024-04-15</td>\n",
       "      <td>20998</td>\n",
       "      <td>027A</td>\n",
       "      <td>[000017239]</td>\n",
       "      <td>[RONES SOARES DOS SANTOS]</td>\n",
       "      <td>72.0</td>\n",
       "      <td>027A</td>\n",
       "      <td>T. BANDEIRAS / T. DA BIBLIA - VIA LUIS DE MATOS</td>\n",
       "      <td>VOLTA</td>\n",
       "      <td>[{'lat': -16.70948506823616, 'lng': -49.309943...</td>\n",
       "      <td>-49.236824038,-16.671738986,0 -49.235273,-16.6...</td>\n",
       "      <td>VOLTA</td>\n",
       "      <td>NaT</td>\n",
       "      <td>&lt;NA&gt;</td>\n",
       "      <td>NaN</td>\n",
       "    </tr>\n",
       "    <tr>\n",
       "      <th>3034</th>\n",
       "      <td>2024-04-15</td>\n",
       "      <td>20998</td>\n",
       "      <td>028A</td>\n",
       "      <td>[000017239]</td>\n",
       "      <td>[RONES SOARES DOS SANTOS]</td>\n",
       "      <td>75.0</td>\n",
       "      <td>028A</td>\n",
       "      <td>T. BANDEIRAS / T. DA BIBLIA - VIA T-09</td>\n",
       "      <td>IDA</td>\n",
       "      <td>[{'lat': -16.70513240150447, 'lng': -49.300648...</td>\n",
       "      <td>-49.31026,-16.710486,0 -49.31029386900001,-16....</td>\n",
       "      <td>IDA</td>\n",
       "      <td>NaT</td>\n",
       "      <td>&lt;NA&gt;</td>\n",
       "      <td>NaN</td>\n",
       "    </tr>\n",
       "    <tr>\n",
       "      <th>3035</th>\n",
       "      <td>2024-04-15</td>\n",
       "      <td>20998</td>\n",
       "      <td>028A</td>\n",
       "      <td>[000017239]</td>\n",
       "      <td>[RONES SOARES DOS SANTOS]</td>\n",
       "      <td>75.0</td>\n",
       "      <td>028A</td>\n",
       "      <td>T. BANDEIRAS / T. DA BIBLIA - VIA T-09</td>\n",
       "      <td>VOLTA</td>\n",
       "      <td>[{'lat': -16.70948506823616, 'lng': -49.309943...</td>\n",
       "      <td>-49.236829,-16.671728,0 -49.23530299999999,-16...</td>\n",
       "      <td>VOLTA</td>\n",
       "      <td>NaT</td>\n",
       "      <td>&lt;NA&gt;</td>\n",
       "      <td>NaN</td>\n",
       "    </tr>\n",
       "  </tbody>\n",
       "</table>\n",
       "<p>3036 rows × 15 columns</p>\n",
       "</div>"
      ]
     },
     "execution_count": 448,
     "metadata": {},
     "output_type": "execute_result"
    }
   ],
   "execution_count": 448
  },
  {
   "metadata": {
    "ExecuteTime": {
     "end_time": "2024-04-17T13:29:51.495445Z",
     "start_time": "2024-04-17T13:29:51.456984Z"
    }
   },
   "cell_type": "code",
   "source": [
    "# Verifique as primeiras linhas do DataFrame resultante para confirmar o sucesso do merge\n",
    "print(df_report.head())\n",
    "\n",
    "# Verificar se há valores NaN que indicariam falhas na junção\n",
    "print(df_report.isnull().sum())\n"
   ],
   "id": "9173ce79f33bd2a9",
   "outputs": [
    {
     "name": "stdout",
     "output_type": "stream",
     "text": [
      "        data  carro linha                      re  \\\n",
      "0 2024-04-15   1201  117A  [000007200, 000018995]   \n",
      "1 2024-04-15  20017  020A             [000019061]   \n",
      "2 2024-04-15  20017  020A             [000019061]   \n",
      "3 2024-04-15  20017  032A             [000014901]   \n",
      "4 2024-04-15  20017  032A             [000014901]   \n",
      "\n",
      "                                                nome    id num_linha  \\\n",
      "0  [LINDOMAR ANTONIO GARCIA, RICARDO ALEXANDRE CH...   NaN       NaN   \n",
      "1                         [EDUARDO ROCHA DOS SANTOS]  55.0      020A   \n",
      "2                         [EDUARDO ROCHA DOS SANTOS]  55.0      020A   \n",
      "3                          [DERLEY RICARDO DA SILVA]  80.0      032A   \n",
      "4                          [DERLEY RICARDO DA SILVA]  80.0      032A   \n",
      "\n",
      "                                      descricao direcao  \\\n",
      "0                                           NaN     NaN   \n",
      "1  T. GARAVELO / T. DA BIBLIA - VIA T. ISIDORIA     IDA   \n",
      "2  T. GARAVELO / T. DA BIBLIA - VIA T. ISIDORIA   VOLTA   \n",
      "3          CIRCULAR / GARAVELO / VIA AV. DA PAZ     IDA   \n",
      "4          CIRCULAR / GARAVELO / VIA AV. DA PAZ   VOLTA   \n",
      "\n",
      "                               pontos_geolocalizacao  \\\n",
      "0                                                NaN   \n",
      "1  [{'lat': -16.70507873620496, 'lng': -49.300697...   \n",
      "2  [{'lat': -16.76513425403492, 'lng': -49.348903...   \n",
      "3  [{'lat': -16.70507873620496, 'lng': -49.300697...   \n",
      "4  [{'lat': -16.76513425403492, 'lng': -49.348903...   \n",
      "\n",
      "                                       coordinates_x Sentido execution_date  \\\n",
      "0                                                NaN     NaN            NaT   \n",
      "1  -49.349216,-16.765821,0 -49.348733,-16.765202,...     IDA            NaT   \n",
      "2  -49.236824038,-16.671738986,0 -49.236321,-16.6...   VOLTA            NaT   \n",
      "3  -49.349373,-16.765794,0 -49.349478519,-16.7659...     IDA            NaT   \n",
      "4  -49.327085,-16.774644,0 -49.326135034,-16.7741...   VOLTA            NaT   \n",
      "\n",
      "   description coordinates_y  \n",
      "0         <NA>           NaN  \n",
      "1         <NA>           NaN  \n",
      "2         <NA>           NaN  \n",
      "3         <NA>           NaN  \n",
      "4         <NA>           NaN  \n",
      "data                        0\n",
      "carro                       0\n",
      "linha                       0\n",
      "re                          0\n",
      "nome                        0\n",
      "id                          6\n",
      "num_linha                   6\n",
      "descricao                   6\n",
      "direcao                     6\n",
      "pontos_geolocalizacao       6\n",
      "coordinates_x             338\n",
      "Sentido                   338\n",
      "execution_date           2958\n",
      "description              2958\n",
      "coordinates_y            2958\n",
      "dtype: int64\n"
     ]
    }
   ],
   "execution_count": 450
  },
  {
   "metadata": {},
   "cell_type": "code",
   "outputs": [],
   "execution_count": null,
   "source": "",
   "id": "c9db51176ff530c0"
  }
 ],
 "metadata": {
  "kernelspec": {
   "display_name": "Python 3 (ipykernel)",
   "language": "python",
   "name": "python3"
  },
  "language_info": {
   "codemirror_mode": {
    "name": "ipython",
    "version": 3
   },
   "file_extension": ".py",
   "mimetype": "text/x-python",
   "name": "python",
   "nbconvert_exporter": "python",
   "pygments_lexer": "ipython3",
   "version": "3.11.5"
  }
 },
 "nbformat": 4,
 "nbformat_minor": 5
}
