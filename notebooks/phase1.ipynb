{
 "cells": [
  {
   "cell_type": "code",
   "execution_count": 2,
   "id": "38bc2961",
   "metadata": {
    "ExecuteTime": {
     "end_time": "2024-04-08T20:36:44.275833Z",
     "start_time": "2024-04-08T20:36:44.273061Z"
    }
   },
   "outputs": [],
   "source": [
    "from branca.element import Template, MacroElement"
   ]
  },
  {
   "cell_type": "code",
   "execution_count": 3,
   "id": "initial_id",
   "metadata": {
    "ExecuteTime": {
     "end_time": "2024-04-08T20:36:44.614711Z",
     "start_time": "2024-04-08T20:36:44.534411Z"
    },
    "collapsed": true
   },
   "outputs": [],
   "source": [
    "from xml.etree import ElementTree as ET\n",
    "import folium\n",
    "from shapely.geometry import Point, LineString\n",
    "import pandas as pd\n",
    "from sqlalchemy import create_engine\n",
    "from math import radians, cos, sin, sqrt, atan2\n",
    "import ast"
   ]
  },
  {
   "cell_type": "markdown",
   "id": "ede425664be05e5",
   "metadata": {},
   "source": [
    "## Lógica para a construção do código\n",
    "\n",
    "1.  Ler e tratar (EDA) os dados realizados - Feito\n",
    "2.  Ler e tratar (EDA) os dados planejados\n",
    "3.  Aplicar regras de filtros\n",
    "4.  Colocar \n",
    "4.  Criar a lógica para conciliar os dados realizados e planejados\n",
    "5.  Criar e aplicar a regras de negócio \n",
    "6.  Criar a lógica para calcular os desvios\n",
    "7.  Criar a lógica do relatório\n",
    "8.  Enviar os dados"
   ]
  },
  {
   "cell_type": "markdown",
   "id": "2af95141ec6d65b7",
   "metadata": {},
   "source": [
    "### Conexão"
   ]
  },
  {
   "cell_type": "code",
   "execution_count": 4,
   "id": "961b63f8b3fda4c9",
   "metadata": {
    "ExecuteTime": {
     "end_time": "2024-04-08T20:36:44.618595Z",
     "start_time": "2024-04-08T20:36:44.616276Z"
    }
   },
   "outputs": [],
   "source": [
    "dbname = 'poc-db'\n",
    "user = 'adminpoc'\n",
    "password = 'adminpoc'\n",
    "host = 'localhost'  # ou o endereço IP do seu servidor de banco de dados\n",
    "port = '5440' "
   ]
  },
  {
   "cell_type": "code",
   "execution_count": 5,
   "id": "b8cf59ae87e6f28d",
   "metadata": {
    "ExecuteTime": {
     "end_time": "2024-04-08T20:36:44.641170Z",
     "start_time": "2024-04-08T20:36:44.619353Z"
    }
   },
   "outputs": [],
   "source": [
    "engine = create_engine(f'postgresql://{user}:{password}@{host}:{port}/{dbname}')"
   ]
  },
  {
   "cell_type": "code",
   "execution_count": 6,
   "id": "676122baad6a22a4",
   "metadata": {
    "ExecuteTime": {
     "end_time": "2024-04-08T20:36:44.644496Z",
     "start_time": "2024-04-08T20:36:44.642359Z"
    }
   },
   "outputs": [],
   "source": [
    "ns = {'kml': 'http://www.opengis.net/kml/2.2'}"
   ]
  },
  {
   "cell_type": "code",
   "execution_count": 7,
   "id": "5af2452d12b68312",
   "metadata": {
    "ExecuteTime": {
     "end_time": "2024-04-08T20:36:44.647346Z",
     "start_time": "2024-04-08T20:36:44.645360Z"
    }
   },
   "outputs": [],
   "source": [
    "sql = \"\"\" \n",
    "select a.execution_date, a.registration, a.description, a.coordinates\n",
    "    from hp.geodata a\n",
    "\"\"\""
   ]
  },
  {
   "cell_type": "code",
   "execution_count": 8,
   "id": "5b066a37",
   "metadata": {
    "ExecuteTime": {
     "end_time": "2024-04-08T20:36:44.655770Z",
     "start_time": "2024-04-08T20:36:44.653537Z"
    }
   },
   "outputs": [],
   "source": [
    "sql_idle = \"\"\" \n",
    "select a.id, a.num_linha, a.descricao, b.direcao, b.pontos_geolocalizacao\n",
    "from\n",
    "    hp.linhas a,\n",
    "    hp.trajetos b\n",
    "where a.id = b.linha_id\n",
    "\"\"\""
   ]
  },
  {
   "cell_type": "code",
   "execution_count": 9,
   "id": "598e1cda236598ec",
   "metadata": {
    "ExecuteTime": {
     "end_time": "2024-04-08T20:36:44.752631Z",
     "start_time": "2024-04-08T20:36:44.666391Z"
    }
   },
   "outputs": [],
   "source": [
    "df_trip_made = pd.read_sql(sql, engine)\n",
    "df_trip_made['execution_date'] = pd.to_datetime(df_trip_made['execution_date'])"
   ]
  },
  {
   "cell_type": "code",
   "execution_count": 10,
   "id": "4456887d",
   "metadata": {
    "ExecuteTime": {
     "end_time": "2024-04-08T20:36:45.137389Z",
     "start_time": "2024-04-08T20:36:44.754250Z"
    }
   },
   "outputs": [],
   "source": [
    "df_trip_idle = pd.read_sql(sql_idle, engine)"
   ]
  },
  {
   "cell_type": "markdown",
   "id": "5f702cef",
   "metadata": {},
   "source": [
    "### Paths"
   ]
  },
  {
   "cell_type": "code",
   "execution_count": 11,
   "id": "87bcd2f4",
   "metadata": {
    "ExecuteTime": {
     "end_time": "2024-04-08T20:36:45.141333Z",
     "start_time": "2024-04-08T20:36:45.138817Z"
    }
   },
   "outputs": [],
   "source": [
    "planned_trip_path = '../notebooks/data/1.1 LINHAS RMTC [2023-11-29].kml'"
   ]
  },
  {
   "cell_type": "markdown",
   "id": "82350de9",
   "metadata": {},
   "source": [
    "### Vars"
   ]
  },
  {
   "cell_type": "code",
   "execution_count": 12,
   "id": "78c915c0",
   "metadata": {
    "ExecuteTime": {
     "end_time": "2024-04-08T20:36:45.147606Z",
     "start_time": "2024-04-08T20:36:45.143630Z"
    }
   },
   "outputs": [],
   "source": [
    "ns = {'kml': 'http://www.opengis.net/kml/2.2'}"
   ]
  },
  {
   "cell_type": "markdown",
   "id": "b6f606a7",
   "metadata": {},
   "source": [
    "### Funções"
   ]
  },
  {
   "cell_type": "code",
   "execution_count": 13,
   "id": "ca7e818f",
   "metadata": {
    "ExecuteTime": {
     "end_time": "2024-04-08T20:36:45.153651Z",
     "start_time": "2024-04-08T20:36:45.149330Z"
    }
   },
   "outputs": [],
   "source": [
    "def read_and_extract_placemarks(file_path, namespace):\n",
    "    \"\"\" \n",
    "    :param: file_path: caminho para o arquivo kml\n",
    "    :return: lista de dicionários com os nomes e coordenadas dos placemarks\n",
    "\n",
    "    A função lê um arquivo kml e extrai os placemarks, retornando uma lista de dicionários com os nomes e coordenadas dos placemarks.\n",
    "    \"\"\"\n",
    "    tree = ET.parse(file_path)\n",
    "    root = tree.getroot()\n",
    "    placemarks = []\n",
    "    for placemark in root.findall('.//kml:Placemark', namespace):\n",
    "        name = placemark.find('kml:name', namespace).text if placemark.find('kml:name', namespace) is not None else \"Unnamed\"\n",
    "        coordinates = placemark.find('.//kml:coordinates', namespace).text.strip() if placemark.find('.//kml:coordinates', namespace) is not None else \"No coordinates\"\n",
    "        placemarks.append({'name': name, 'coordinates': coordinates})\n",
    "    return placemarks"
   ]
  },
  {
   "cell_type": "code",
   "execution_count": 14,
   "id": "79cd19c1",
   "metadata": {
    "ExecuteTime": {
     "end_time": "2024-04-08T20:36:45.158799Z",
     "start_time": "2024-04-08T20:36:45.154610Z"
    }
   },
   "outputs": [],
   "source": [
    "def parse_coordinates(coordinates_str):\n",
    "    \"\"\"\n",
    "    param: coordinates_str: string de coordenadas (lat, long)\n",
    "    return: lista de tuplas de coordenadas (long, lat)\n",
    "\n",
    "    A função recebe uma string de coordenadas (lat, long) e retorna uma lista de tuplas de coordenadas (long, lat).\n",
    "    \"\"\"\n",
    "    coords = coordinates_str.split()\n",
    "    return [(float(coord.split(',')[1]), float(coord.split(',')[0])) for coord in coords]"
   ]
  },
  {
   "cell_type": "code",
   "execution_count": 15,
   "id": "0db2f8ac",
   "metadata": {
    "ExecuteTime": {
     "end_time": "2024-04-08T20:36:45.164463Z",
     "start_time": "2024-04-08T20:36:45.160237Z"
    }
   },
   "outputs": [],
   "source": [
    "def add_placemarks_to_map(placemarks, map):\n",
    "    \"\"\" \n",
    "    param: placemarks: lista de dicionários com as informações dos placemarks\n",
    "    return: map: objeto do tipo folium.Map\n",
    "\n",
    "    Quando o arquivo conter somente um ponto, por exemplo uma tupla de coordenadas,ele será plotado como um marcador de viagem realizada. Quando houver\n",
    "    uma lista de coordenadas, oriundas de um arquivo com trajetória, será plotado uma linha entre os pontos.\n",
    "    \"\"\"\n",
    "    for i, placemark in enumerate(placemarks):\n",
    "        parsed_coords = parse_coordinates(placemark['coordinates'])\n",
    "        if len(parsed_coords) == 1:  # Para um único ponto\n",
    "            folium.Marker(\n",
    "                location=parsed_coords[0],\n",
    "                icon=folium.Icon(icon='fa-van-shuttle', prefix='fa',color='blue')\n",
    "            ).add_to(map)\n",
    "              \n",
    "        else:  # Para múltiplos pontos (trajetória)\n",
    "            if 'VOLTA' in placemark['name']:\n",
    "                            folium.PolyLine(locations=parsed_coords, color='green', weight=2.5, opacity=1, dash_array='5, 5').add_to(map)\n",
    "            \n",
    "            else:  # Para outros casos, usa uma linha contínua\n",
    "                folium.PolyLine(locations=parsed_coords, color='red', weight=2.5, opacity=1).add_to(map)"
   ]
  },
  {
   "cell_type": "code",
   "execution_count": 16,
   "id": "71b1268a",
   "metadata": {
    "ExecuteTime": {
     "end_time": "2024-04-08T20:36:45.169648Z",
     "start_time": "2024-04-08T20:36:45.166013Z"
    }
   },
   "outputs": [],
   "source": [
    "def haversine(lon1, lat1, lon2, lat2):\n",
    "    # Raio da Terra em quilômetros\n",
    "    R = 6371.0\n",
    "    \n",
    "    # Conversão de coordenadas de graus para radianos\n",
    "    lon1, lat1, lon2, lat2 = map(radians, [lon1, lat1, lon2, lat2])\n",
    "    \n",
    "    # Diferenças nas coordenadas\n",
    "    dlon = lon2 - lon1\n",
    "    dlat = lat2 - lat1\n",
    "    \n",
    "    # Fórmula de Haversine\n",
    "    a = sin(dlat / 2)**2 + cos(lat1) * cos(lat2) * sin(dlon / 2)**2\n",
    "    c = 2 * atan2(sqrt(a), sqrt(1 - a))\n",
    "    distance = R * c\n",
    "    \n",
    "    return distance"
   ]
  },
  {
   "cell_type": "code",
   "execution_count": 17,
   "id": "784aac04577f5a2e",
   "metadata": {
    "ExecuteTime": {
     "end_time": "2024-04-08T20:36:45.175309Z",
     "start_time": "2024-04-08T20:36:45.172749Z"
    }
   },
   "outputs": [],
   "source": [
    "def extract_coords(coords_list):\n",
    "    return [[coord['lat'], coord['lng']] for coord in coords_list]"
   ]
  },
  {
   "cell_type": "markdown",
   "id": "83c5e7a157a760a9",
   "metadata": {},
   "source": [
    "### EDA"
   ]
  },
  {
   "cell_type": "markdown",
   "id": "e3bc9b91",
   "metadata": {},
   "source": [
    "#### Dados realizados"
   ]
  },
  {
   "cell_type": "code",
   "execution_count": 18,
   "id": "356153355cff9411",
   "metadata": {
    "ExecuteTime": {
     "end_time": "2024-04-08T20:36:45.183153Z",
     "start_time": "2024-04-08T20:36:45.176306Z"
    }
   },
   "outputs": [
    {
     "name": "stdout",
     "output_type": "stream",
     "text": [
      "<class 'pandas.core.frame.DataFrame'>\n",
      "RangeIndex: 287 entries, 0 to 286\n",
      "Data columns (total 4 columns):\n",
      " #   Column          Non-Null Count  Dtype         \n",
      "---  ------          --------------  -----         \n",
      " 0   execution_date  287 non-null    datetime64[ns]\n",
      " 1   registration    287 non-null    object        \n",
      " 2   description     287 non-null    object        \n",
      " 3   coordinates     287 non-null    object        \n",
      "dtypes: datetime64[ns](1), object(3)\n",
      "memory usage: 9.1+ KB\n"
     ]
    }
   ],
   "source": [
    "df_trip_made.info()"
   ]
  },
  {
   "cell_type": "code",
   "execution_count": 19,
   "id": "4983c8f736c58e54",
   "metadata": {
    "ExecuteTime": {
     "end_time": "2024-04-08T20:36:45.195367Z",
     "start_time": "2024-04-08T20:36:45.184361Z"
    }
   },
   "outputs": [
    {
     "data": {
      "text/html": [
       "<div>\n",
       "<style scoped>\n",
       "    .dataframe tbody tr th:only-of-type {\n",
       "        vertical-align: middle;\n",
       "    }\n",
       "\n",
       "    .dataframe tbody tr th {\n",
       "        vertical-align: top;\n",
       "    }\n",
       "\n",
       "    .dataframe thead th {\n",
       "        text-align: right;\n",
       "    }\n",
       "</style>\n",
       "<table border=\"1\" class=\"dataframe\">\n",
       "  <thead>\n",
       "    <tr style=\"text-align: right;\">\n",
       "      <th></th>\n",
       "      <th>execution_date</th>\n",
       "    </tr>\n",
       "  </thead>\n",
       "  <tbody>\n",
       "    <tr>\n",
       "      <th>count</th>\n",
       "      <td>287</td>\n",
       "    </tr>\n",
       "    <tr>\n",
       "      <th>mean</th>\n",
       "      <td>2024-03-17 12:12:32.613240320</td>\n",
       "    </tr>\n",
       "    <tr>\n",
       "      <th>min</th>\n",
       "      <td>2024-02-26 00:00:00</td>\n",
       "    </tr>\n",
       "    <tr>\n",
       "      <th>25%</th>\n",
       "      <td>2024-03-07 00:00:00</td>\n",
       "    </tr>\n",
       "    <tr>\n",
       "      <th>50%</th>\n",
       "      <td>2024-03-18 00:00:00</td>\n",
       "    </tr>\n",
       "    <tr>\n",
       "      <th>75%</th>\n",
       "      <td>2024-03-27 00:00:00</td>\n",
       "    </tr>\n",
       "    <tr>\n",
       "      <th>max</th>\n",
       "      <td>2024-04-07 00:00:00</td>\n",
       "    </tr>\n",
       "  </tbody>\n",
       "</table>\n",
       "</div>"
      ],
      "text/plain": [
       "                      execution_date\n",
       "count                            287\n",
       "mean   2024-03-17 12:12:32.613240320\n",
       "min              2024-02-26 00:00:00\n",
       "25%              2024-03-07 00:00:00\n",
       "50%              2024-03-18 00:00:00\n",
       "75%              2024-03-27 00:00:00\n",
       "max              2024-04-07 00:00:00"
      ]
     },
     "execution_count": 19,
     "metadata": {},
     "output_type": "execute_result"
    }
   ],
   "source": [
    "#verificar dados nulos\n",
    "df_trip_made.describe()"
   ]
  },
  {
   "cell_type": "code",
   "execution_count": 20,
   "id": "c3c6d14a1ae7a17c",
   "metadata": {
    "ExecuteTime": {
     "end_time": "2024-04-08T20:36:45.200387Z",
     "start_time": "2024-04-08T20:36:45.196221Z"
    }
   },
   "outputs": [
    {
     "data": {
      "text/plain": [
       "execution_date    0\n",
       "registration      0\n",
       "description       0\n",
       "coordinates       0\n",
       "dtype: int64"
      ]
     },
     "execution_count": 20,
     "metadata": {},
     "output_type": "execute_result"
    }
   ],
   "source": [
    "df_trip_made.isnull().sum()"
   ]
  },
  {
   "cell_type": "code",
   "execution_count": 21,
   "id": "336d2c26e9420efd",
   "metadata": {
    "ExecuteTime": {
     "end_time": "2024-04-08T20:36:45.207717Z",
     "start_time": "2024-04-08T20:36:45.201837Z"
    }
   },
   "outputs": [
    {
     "data": {
      "text/plain": [
       "registration\n",
       "NLC8D94    30\n",
       "NLC7694    30\n",
       "NLB6B14    29\n",
       "NKN2285    29\n",
       "NJY3685    29\n",
       "NKC3574    29\n",
       "NLC8F04    29\n",
       "NKE9854    29\n",
       "NLB6B04    29\n",
       "SCQ3A44    24\n",
       "Name: count, dtype: int64"
      ]
     },
     "execution_count": 21,
     "metadata": {},
     "output_type": "execute_result"
    }
   ],
   "source": [
    "#verificar quanntidade de registros únicos\n",
    "df_trip_made['registration'].value_counts()"
   ]
  },
  {
   "cell_type": "code",
   "execution_count": 22,
   "id": "bb96e1c758c0260d",
   "metadata": {
    "ExecuteTime": {
     "end_time": "2024-04-08T20:36:45.214062Z",
     "start_time": "2024-04-08T20:36:45.209323Z"
    }
   },
   "outputs": [
    {
     "data": {
      "text/plain": [
       "description\n",
       "20368    30\n",
       "20357    30\n",
       "20362    29\n",
       "20386    29\n",
       "20360    29\n",
       "20238    29\n",
       "20364    29\n",
       "20224    29\n",
       "20361    29\n",
       "20805    24\n",
       "Name: count, dtype: int64"
      ]
     },
     "execution_count": 22,
     "metadata": {},
     "output_type": "execute_result"
    }
   ],
   "source": [
    "#verificar quanntidade de registros únicos\n",
    "df_trip_made['description'].value_counts()"
   ]
  },
  {
   "cell_type": "code",
   "execution_count": 23,
   "id": "bdb0062a17a1ce90",
   "metadata": {
    "ExecuteTime": {
     "end_time": "2024-04-08T20:36:45.220267Z",
     "start_time": "2024-04-08T20:36:45.215033Z"
    }
   },
   "outputs": [
    {
     "data": {
      "text/plain": [
       "execution_date\n",
       "2024-03-31    10\n",
       "2024-03-24    10\n",
       "2024-04-04    10\n",
       "2024-03-20    10\n",
       "2024-03-21    10\n",
       "2024-03-26    10\n",
       "2024-04-01    10\n",
       "2024-03-25    10\n",
       "2024-03-28    10\n",
       "2024-03-27    10\n",
       "2024-04-03    10\n",
       "2024-04-02    10\n",
       "2024-03-17    10\n",
       "2024-02-29    10\n",
       "2024-03-19    10\n",
       "2024-03-18    10\n",
       "2024-03-04    10\n",
       "2024-03-05    10\n",
       "2024-02-27    10\n",
       "2024-03-13    10\n",
       "2024-03-11    10\n",
       "2024-03-14    10\n",
       "2024-03-07    10\n",
       "2024-02-28    10\n",
       "2024-03-03     9\n",
       "2024-04-07     9\n",
       "2024-03-12     9\n",
       "2024-03-10     9\n",
       "2024-03-06     9\n",
       "2024-02-26     2\n",
       "Name: count, dtype: int64"
      ]
     },
     "execution_count": 23,
     "metadata": {},
     "output_type": "execute_result"
    }
   ],
   "source": [
    "#verificar quanntidade de registros únicos\n",
    "df_trip_made['execution_date'].value_counts()"
   ]
  },
  {
   "cell_type": "markdown",
   "id": "22d662f4",
   "metadata": {},
   "source": [
    "### Transformations and rules"
   ]
  },
  {
   "cell_type": "markdown",
   "id": "df933bfa",
   "metadata": {},
   "source": [
    "#### Dados planejados"
   ]
  },
  {
   "cell_type": "code",
   "execution_count": 24,
   "id": "6f942d60be781c7a",
   "metadata": {
    "ExecuteTime": {
     "end_time": "2024-04-08T20:36:45.268306Z",
     "start_time": "2024-04-08T20:36:45.221624Z"
    }
   },
   "outputs": [],
   "source": [
    "placemarks_planned = read_and_extract_placemarks(planned_trip_path, ns)"
   ]
  },
  {
   "cell_type": "code",
   "execution_count": 25,
   "id": "576e97dd890597ab",
   "metadata": {
    "ExecuteTime": {
     "end_time": "2024-04-08T20:36:45.273093Z",
     "start_time": "2024-04-08T20:36:45.269389Z"
    }
   },
   "outputs": [],
   "source": [
    "df_planned_trip = pd.DataFrame(placemarks_planned)"
   ]
  },
  {
   "cell_type": "code",
   "execution_count": 26,
   "id": "b3c8db69e2786b76",
   "metadata": {
    "ExecuteTime": {
     "end_time": "2024-04-08T20:36:45.277197Z",
     "start_time": "2024-04-08T20:36:45.274020Z"
    }
   },
   "outputs": [],
   "source": [
    "df_planned_trip['Código'] = df_planned_trip['name'].apply(lambda x: x.split('-', 1)[0])"
   ]
  },
  {
   "cell_type": "code",
   "execution_count": 27,
   "id": "280968a5",
   "metadata": {
    "ExecuteTime": {
     "end_time": "2024-04-08T20:36:45.281882Z",
     "start_time": "2024-04-08T20:36:45.277999Z"
    }
   },
   "outputs": [],
   "source": [
    "df_planned_trip['identificacao'] = df_planned_trip['name'].apply(lambda x: x.split('-', 1)[1])\n",
    "df_planned_trip['identificacao'] = df_planned_trip['identificacao'].apply(lambda x: x.split('- ', 1)[0])\n",
    "df_planned_trip['identificacao'] = df_planned_trip['identificacao'].apply(lambda x: x.split(' ', 1)[0])"
   ]
  },
  {
   "cell_type": "code",
   "execution_count": 28,
   "id": "17b49991",
   "metadata": {
    "ExecuteTime": {
     "end_time": "2024-04-08T20:36:45.288824Z",
     "start_time": "2024-04-08T20:36:45.282684Z"
    }
   },
   "outputs": [],
   "source": [
    "df_planned_trip['Código'] = df_planned_trip['name'].apply(lambda x: x.split('-', 1)[0])\n",
    "df_planned_trip['Descrição e Sentido'] = df_planned_trip['name'].apply(lambda x: x.split(' - ', 1)[1] if ' - ' in x else '')\n",
    "df_planned_trip['Descrição'] = df_planned_trip['Descrição e Sentido'].apply(lambda x: x.rsplit(' - ', 1)[0] if ' - ' in x else x)\n",
    "df_planned_trip['Sentido'] = df_planned_trip['Descrição e Sentido'].apply(lambda x: x.rsplit(' - ', 1)[1] if ' - ' in x else '')\n",
    "df_planned_trip.drop('Descrição e Sentido', axis=1, inplace=True)"
   ]
  },
  {
   "cell_type": "code",
   "execution_count": 29,
   "id": "64a40382",
   "metadata": {
    "ExecuteTime": {
     "end_time": "2024-04-08T20:36:45.292385Z",
     "start_time": "2024-04-08T20:36:45.289713Z"
    }
   },
   "outputs": [],
   "source": [
    "de_para = {\n",
    "    '1': 'A', '2': 'B', '3': 'C', '4': 'D', '5': 'E',\n",
    "    '6': 'F', '7': 'G', '8': 'H', '9': 'I', '21': 'A',\n",
    "    '22': 'B', '23': 'C', '24': 'D', '25': 'E', '26': 'F',\n",
    "    '27': 'G', '28': 'H', '29': 'I', '31': 'A', '32': 'B',\n",
    "    '33': 'C', '34': 'D', '35': 'E', '36': 'F', '37': 'G',\n",
    "    '38': 'H', '39': 'I'\n",
    "}"
   ]
  },
  {
   "cell_type": "code",
   "execution_count": 30,
   "id": "3cec5630",
   "metadata": {
    "ExecuteTime": {
     "end_time": "2024-04-08T20:36:45.295844Z",
     "start_time": "2024-04-08T20:36:45.293101Z"
    }
   },
   "outputs": [],
   "source": [
    "df_planned_trip['sublinha'] = df_planned_trip['identificacao'].apply(lambda x: de_para[x[:-1]])"
   ]
  },
  {
   "cell_type": "markdown",
   "id": "e5020149",
   "metadata": {},
   "source": [
    "#### Dados realizados"
   ]
  },
  {
   "cell_type": "code",
   "execution_count": 31,
   "id": "a3e1f114",
   "metadata": {
    "ExecuteTime": {
     "end_time": "2024-04-08T20:36:45.299642Z",
     "start_time": "2024-04-08T20:36:45.296559Z"
    }
   },
   "outputs": [],
   "source": [
    "df_trip_made_example = df_trip_made[(df_trip_made['execution_date'] == '2024-03-04') & (df_trip_made['description'] == '20386')]\n"
   ]
  },
  {
   "cell_type": "code",
   "execution_count": 32,
   "id": "b3c1c810",
   "metadata": {
    "ExecuteTime": {
     "end_time": "2024-04-08T20:36:45.306067Z",
     "start_time": "2024-04-08T20:36:45.302716Z"
    }
   },
   "outputs": [
    {
     "data": {
      "text/plain": [
       "192    [[-49.301427, -16.703299], [-49.30132, -16.703...\n",
       "Name: coordinates, dtype: object"
      ]
     },
     "execution_count": 32,
     "metadata": {},
     "output_type": "execute_result"
    }
   ],
   "source": [
    "df_trip_made_example['coordinates']"
   ]
  },
  {
   "cell_type": "code",
   "execution_count": 33,
   "id": "0036ac2d",
   "metadata": {
    "ExecuteTime": {
     "end_time": "2024-04-08T20:36:45.309586Z",
     "start_time": "2024-04-08T20:36:45.306929Z"
    }
   },
   "outputs": [],
   "source": [
    "df_planned_trip_example = df_planned_trip[df_planned_trip['Código'].isin(['400', '401', '176', '160'])]"
   ]
  },
  {
   "cell_type": "code",
   "execution_count": 34,
   "id": "9e0fed5a",
   "metadata": {
    "ExecuteTime": {
     "end_time": "2024-04-08T20:36:45.313584Z",
     "start_time": "2024-04-08T20:36:45.310314Z"
    }
   },
   "outputs": [
    {
     "data": {
      "text/plain": [
       "314    -49.284614,-16.673452,0 -49.284557997,-16.6734...\n",
       "315    -49.28328886,-16.662090709,0 -49.283702335,-16...\n",
       "316    -49.284614,-16.673452,0 -49.284557997,-16.6734...\n",
       "317    -49.283947481,-16.664584563,0 -49.283864278,-1...\n",
       "318    -49.284546,-16.673481,0 -49.284504489,-16.6734...\n",
       "319    -49.235273,-16.671546,0 -49.23620854499999,-16...\n",
       "320    -49.284612,-16.673732,0 -49.284600331,-16.6737...\n",
       "321    -49.236824038,-16.671738986,0 -49.235918000000...\n",
       "Name: coordinates, dtype: object"
      ]
     },
     "execution_count": 34,
     "metadata": {},
     "output_type": "execute_result"
    }
   ],
   "source": [
    "df_planned_trip_example['coordinates']"
   ]
  },
  {
   "cell_type": "code",
   "execution_count": 35,
   "id": "b0c5cb52",
   "metadata": {
    "ExecuteTime": {
     "end_time": "2024-04-08T20:36:45.317495Z",
     "start_time": "2024-04-08T20:36:45.314333Z"
    }
   },
   "outputs": [],
   "source": [
    "df_trip_idle['num_linha_numerico'] = df_trip_idle['num_linha'].str.extract(r'^(\\d+)')"
   ]
  },
  {
   "cell_type": "code",
   "execution_count": 36,
   "id": "73f19718",
   "metadata": {
    "ExecuteTime": {
     "end_time": "2024-04-08T20:36:45.474214Z",
     "start_time": "2024-04-08T20:36:45.318174Z"
    }
   },
   "outputs": [
    {
     "data": {
      "text/html": [
       "<div>\n",
       "<style scoped>\n",
       "    .dataframe tbody tr th:only-of-type {\n",
       "        vertical-align: middle;\n",
       "    }\n",
       "\n",
       "    .dataframe tbody tr th {\n",
       "        vertical-align: top;\n",
       "    }\n",
       "\n",
       "    .dataframe thead th {\n",
       "        text-align: right;\n",
       "    }\n",
       "</style>\n",
       "<table border=\"1\" class=\"dataframe\">\n",
       "  <thead>\n",
       "    <tr style=\"text-align: right;\">\n",
       "      <th></th>\n",
       "      <th>id</th>\n",
       "      <th>num_linha</th>\n",
       "      <th>descricao</th>\n",
       "      <th>direcao</th>\n",
       "      <th>pontos_geolocalizacao</th>\n",
       "      <th>num_linha_numerico</th>\n",
       "    </tr>\n",
       "  </thead>\n",
       "  <tbody>\n",
       "    <tr>\n",
       "      <th>0</th>\n",
       "      <td>1</td>\n",
       "      <td>002A</td>\n",
       "      <td>PARQUE ATHENEU / T ISIDORIA / PAULO GARCIA</td>\n",
       "      <td>ida</td>\n",
       "      <td>[{'lat': -16.76353, 'lng': -49.27021}, {'lat':...</td>\n",
       "      <td>002</td>\n",
       "    </tr>\n",
       "    <tr>\n",
       "      <th>1</th>\n",
       "      <td>1</td>\n",
       "      <td>002A</td>\n",
       "      <td>PARQUE ATHENEU / T ISIDORIA / PAULO GARCIA</td>\n",
       "      <td>volta</td>\n",
       "      <td>[{'lat': -16.74154, 'lng': -49.19146}, {'lat':...</td>\n",
       "      <td>002</td>\n",
       "    </tr>\n",
       "    <tr>\n",
       "      <th>2</th>\n",
       "      <td>2</td>\n",
       "      <td>002B</td>\n",
       "      <td>PARQUE ATHENEU / T. ISIDORIA</td>\n",
       "      <td>ida</td>\n",
       "      <td>[{'lat': -16.76353, 'lng': -49.27021}, {'lat':...</td>\n",
       "      <td>002</td>\n",
       "    </tr>\n",
       "    <tr>\n",
       "      <th>3</th>\n",
       "      <td>2</td>\n",
       "      <td>002B</td>\n",
       "      <td>PARQUE ATHENEU / T. ISIDORIA</td>\n",
       "      <td>volta</td>\n",
       "      <td>[{'lat': -16.74154, 'lng': -49.19146}, {'lat':...</td>\n",
       "      <td>002</td>\n",
       "    </tr>\n",
       "    <tr>\n",
       "      <th>4</th>\n",
       "      <td>3</td>\n",
       "      <td>002C</td>\n",
       "      <td>PC TRINDADE / T ISIDORIA / PRACA CIVICA</td>\n",
       "      <td>ida</td>\n",
       "      <td>[{'lat': -16.76353, 'lng': -49.27021}, {'lat':...</td>\n",
       "      <td>002</td>\n",
       "    </tr>\n",
       "    <tr>\n",
       "      <th>...</th>\n",
       "      <td>...</td>\n",
       "      <td>...</td>\n",
       "      <td>...</td>\n",
       "      <td>...</td>\n",
       "      <td>...</td>\n",
       "      <td>...</td>\n",
       "    </tr>\n",
       "    <tr>\n",
       "      <th>596</th>\n",
       "      <td>319</td>\n",
       "      <td>9901</td>\n",
       "      <td>COPA DA ESTRATEGIA - TURMA I</td>\n",
       "      <td>volta</td>\n",
       "      <td>[{'lat': -16.705151223923, 'lng': -49.30067673...</td>\n",
       "      <td>9901</td>\n",
       "    </tr>\n",
       "    <tr>\n",
       "      <th>597</th>\n",
       "      <td>320</td>\n",
       "      <td>9902</td>\n",
       "      <td>COPA DA ESTRATEGIA - TURMA II</td>\n",
       "      <td>ida</td>\n",
       "      <td>[{'lat': -16.65976138497988, 'lng': -49.261181...</td>\n",
       "      <td>9902</td>\n",
       "    </tr>\n",
       "    <tr>\n",
       "      <th>598</th>\n",
       "      <td>320</td>\n",
       "      <td>9902</td>\n",
       "      <td>COPA DA ESTRATEGIA - TURMA II</td>\n",
       "      <td>volta</td>\n",
       "      <td>[{'lat': -16.705151223923, 'lng': -49.30067673...</td>\n",
       "      <td>9902</td>\n",
       "    </tr>\n",
       "    <tr>\n",
       "      <th>599</th>\n",
       "      <td>321</td>\n",
       "      <td>9903</td>\n",
       "      <td>COPA DA ESTRATEGIA - TURMA III</td>\n",
       "      <td>ida</td>\n",
       "      <td>[{'lat': -16.65976138497988, 'lng': -49.261181...</td>\n",
       "      <td>9903</td>\n",
       "    </tr>\n",
       "    <tr>\n",
       "      <th>600</th>\n",
       "      <td>321</td>\n",
       "      <td>9903</td>\n",
       "      <td>COPA DA ESTRATEGIA - TURMA III</td>\n",
       "      <td>volta</td>\n",
       "      <td>[{'lat': -16.705151223923, 'lng': -49.30067673...</td>\n",
       "      <td>9903</td>\n",
       "    </tr>\n",
       "  </tbody>\n",
       "</table>\n",
       "<p>601 rows × 6 columns</p>\n",
       "</div>"
      ],
      "text/plain": [
       "      id num_linha                                   descricao direcao  \\\n",
       "0      1      002A  PARQUE ATHENEU / T ISIDORIA / PAULO GARCIA     ida   \n",
       "1      1      002A  PARQUE ATHENEU / T ISIDORIA / PAULO GARCIA   volta   \n",
       "2      2      002B                PARQUE ATHENEU / T. ISIDORIA     ida   \n",
       "3      2      002B                PARQUE ATHENEU / T. ISIDORIA   volta   \n",
       "4      3      002C     PC TRINDADE / T ISIDORIA / PRACA CIVICA     ida   \n",
       "..   ...       ...                                         ...     ...   \n",
       "596  319     9901                 COPA DA ESTRATEGIA - TURMA I   volta   \n",
       "597  320     9902                COPA DA ESTRATEGIA - TURMA II     ida   \n",
       "598  320     9902                COPA DA ESTRATEGIA - TURMA II   volta   \n",
       "599  321     9903               COPA DA ESTRATEGIA - TURMA III     ida   \n",
       "600  321     9903               COPA DA ESTRATEGIA - TURMA III   volta   \n",
       "\n",
       "                                 pontos_geolocalizacao num_linha_numerico  \n",
       "0    [{'lat': -16.76353, 'lng': -49.27021}, {'lat':...                002  \n",
       "1    [{'lat': -16.74154, 'lng': -49.19146}, {'lat':...                002  \n",
       "2    [{'lat': -16.76353, 'lng': -49.27021}, {'lat':...                002  \n",
       "3    [{'lat': -16.74154, 'lng': -49.19146}, {'lat':...                002  \n",
       "4    [{'lat': -16.76353, 'lng': -49.27021}, {'lat':...                002  \n",
       "..                                                 ...                ...  \n",
       "596  [{'lat': -16.705151223923, 'lng': -49.30067673...               9901  \n",
       "597  [{'lat': -16.65976138497988, 'lng': -49.261181...               9902  \n",
       "598  [{'lat': -16.705151223923, 'lng': -49.30067673...               9902  \n",
       "599  [{'lat': -16.65976138497988, 'lng': -49.261181...               9903  \n",
       "600  [{'lat': -16.705151223923, 'lng': -49.30067673...               9903  \n",
       "\n",
       "[601 rows x 6 columns]"
      ]
     },
     "execution_count": 36,
     "metadata": {},
     "output_type": "execute_result"
    }
   ],
   "source": [
    "df_trip_idle"
   ]
  },
  {
   "cell_type": "code",
   "execution_count": 37,
   "id": "91791c42",
   "metadata": {
    "ExecuteTime": {
     "end_time": "2024-04-08T20:36:45.477843Z",
     "start_time": "2024-04-08T20:36:45.475164Z"
    }
   },
   "outputs": [],
   "source": [
    "df_idle_filtrado = df_trip_idle[df_trip_idle['num_linha_numerico'].isin(['400', '401', '176', '160'])]\n"
   ]
  },
  {
   "cell_type": "code",
   "execution_count": 38,
   "id": "92799728",
   "metadata": {
    "ExecuteTime": {
     "end_time": "2024-04-08T20:36:45.789953Z",
     "start_time": "2024-04-08T20:36:45.478609Z"
    }
   },
   "outputs": [
    {
     "data": {
      "text/html": [
       "<div>\n",
       "<style scoped>\n",
       "    .dataframe tbody tr th:only-of-type {\n",
       "        vertical-align: middle;\n",
       "    }\n",
       "\n",
       "    .dataframe tbody tr th {\n",
       "        vertical-align: top;\n",
       "    }\n",
       "\n",
       "    .dataframe thead th {\n",
       "        text-align: right;\n",
       "    }\n",
       "</style>\n",
       "<table border=\"1\" class=\"dataframe\">\n",
       "  <thead>\n",
       "    <tr style=\"text-align: right;\">\n",
       "      <th></th>\n",
       "      <th>id</th>\n",
       "      <th>num_linha</th>\n",
       "      <th>descricao</th>\n",
       "      <th>direcao</th>\n",
       "      <th>pontos_geolocalizacao</th>\n",
       "      <th>num_linha_numerico</th>\n",
       "    </tr>\n",
       "  </thead>\n",
       "  <tbody>\n",
       "    <tr>\n",
       "      <th>202</th>\n",
       "      <td>95</td>\n",
       "      <td>160A</td>\n",
       "      <td>T. PRACA A / SANTA HELENA / CAIS CAMPINAS</td>\n",
       "      <td>ida</td>\n",
       "      <td>[{'lat': -16.705151223923, 'lng': -49.30067673...</td>\n",
       "      <td>160</td>\n",
       "    </tr>\n",
       "    <tr>\n",
       "      <th>203</th>\n",
       "      <td>95</td>\n",
       "      <td>160A</td>\n",
       "      <td>T. PRACA A / SANTA HELENA / CAIS CAMPINAS</td>\n",
       "      <td>volta</td>\n",
       "      <td>[{'lat': -16.673411078397, 'lng': -49.28460794...</td>\n",
       "      <td>160</td>\n",
       "    </tr>\n",
       "    <tr>\n",
       "      <th>217</th>\n",
       "      <td>102</td>\n",
       "      <td>176A</td>\n",
       "      <td>T. PRACA A / CAIS CAMPINAS / SANTA HELENA</td>\n",
       "      <td>ida</td>\n",
       "      <td>[{'lat': -16.705151223923, 'lng': -49.30067673...</td>\n",
       "      <td>176</td>\n",
       "    </tr>\n",
       "    <tr>\n",
       "      <th>218</th>\n",
       "      <td>102</td>\n",
       "      <td>176A</td>\n",
       "      <td>T. PRACA A / CAIS CAMPINAS / SANTA HELENA</td>\n",
       "      <td>volta</td>\n",
       "      <td>[{'lat': -16.673411078397, 'lng': -49.28460794...</td>\n",
       "      <td>176</td>\n",
       "    </tr>\n",
       "    <tr>\n",
       "      <th>296</th>\n",
       "      <td>148</td>\n",
       "      <td>400A</td>\n",
       "      <td>CIRCULAR - VIA INDEPENDENCIA</td>\n",
       "      <td>ida</td>\n",
       "      <td>[{'lat': -16.705151223923, 'lng': -49.30067673...</td>\n",
       "      <td>400</td>\n",
       "    </tr>\n",
       "    <tr>\n",
       "      <th>297</th>\n",
       "      <td>148</td>\n",
       "      <td>400A</td>\n",
       "      <td>CIRCULAR - VIA INDEPENDENCIA</td>\n",
       "      <td>volta</td>\n",
       "      <td>[{'lat': -16.673411078397, 'lng': -49.28460794...</td>\n",
       "      <td>400</td>\n",
       "    </tr>\n",
       "    <tr>\n",
       "      <th>298</th>\n",
       "      <td>149</td>\n",
       "      <td>400B</td>\n",
       "      <td>T. PRACA A / T. BIBLIA (VIA FEIRA HIPPIE)</td>\n",
       "      <td>ida</td>\n",
       "      <td>[{'lat': -16.705151223923, 'lng': -49.30067673...</td>\n",
       "      <td>400</td>\n",
       "    </tr>\n",
       "    <tr>\n",
       "      <th>299</th>\n",
       "      <td>149</td>\n",
       "      <td>400B</td>\n",
       "      <td>T. PRACA A / T. BIBLIA (VIA FEIRA HIPPIE)</td>\n",
       "      <td>volta</td>\n",
       "      <td>[{'lat': -16.673411078397, 'lng': -49.28460794...</td>\n",
       "      <td>400</td>\n",
       "    </tr>\n",
       "    <tr>\n",
       "      <th>300</th>\n",
       "      <td>150</td>\n",
       "      <td>401</td>\n",
       "      <td>CIRCULAR - VIA PCA. WALTER SANTOS</td>\n",
       "      <td>ida</td>\n",
       "      <td>[{'lat': -16.705151223923, 'lng': -49.30067673...</td>\n",
       "      <td>401</td>\n",
       "    </tr>\n",
       "    <tr>\n",
       "      <th>301</th>\n",
       "      <td>150</td>\n",
       "      <td>401</td>\n",
       "      <td>CIRCULAR - VIA PCA. WALTER SANTOS</td>\n",
       "      <td>volta</td>\n",
       "      <td>[{'lat': -16.673411078397, 'lng': -49.28460794...</td>\n",
       "      <td>401</td>\n",
       "    </tr>\n",
       "    <tr>\n",
       "      <th>302</th>\n",
       "      <td>151</td>\n",
       "      <td>401B</td>\n",
       "      <td>CIRCULAR - VIA PCA. WALTER SANTOS - ATE O FORUM</td>\n",
       "      <td>ida</td>\n",
       "      <td>[{'lat': -16.705151223923, 'lng': -49.30067673...</td>\n",
       "      <td>401</td>\n",
       "    </tr>\n",
       "    <tr>\n",
       "      <th>303</th>\n",
       "      <td>151</td>\n",
       "      <td>401B</td>\n",
       "      <td>CIRCULAR - VIA PCA. WALTER SANTOS - ATE O FORUM</td>\n",
       "      <td>volta</td>\n",
       "      <td>[{'lat': -16.673411078397, 'lng': -49.28460794...</td>\n",
       "      <td>401</td>\n",
       "    </tr>\n",
       "    <tr>\n",
       "      <th>304</th>\n",
       "      <td>152</td>\n",
       "      <td>401C</td>\n",
       "      <td>T. BIBLIA / T. PRACA A (VIA FEIRA HIPPIE)</td>\n",
       "      <td>ida</td>\n",
       "      <td>[{'lat': -16.705151223923, 'lng': -49.30067673...</td>\n",
       "      <td>401</td>\n",
       "    </tr>\n",
       "    <tr>\n",
       "      <th>305</th>\n",
       "      <td>152</td>\n",
       "      <td>401C</td>\n",
       "      <td>T. BIBLIA / T. PRACA A (VIA FEIRA HIPPIE)</td>\n",
       "      <td>volta</td>\n",
       "      <td>[{'lat': -16.673411078397, 'lng': -49.28460794...</td>\n",
       "      <td>401</td>\n",
       "    </tr>\n",
       "  </tbody>\n",
       "</table>\n",
       "</div>"
      ],
      "text/plain": [
       "      id num_linha                                        descricao direcao  \\\n",
       "202   95      160A        T. PRACA A / SANTA HELENA / CAIS CAMPINAS     ida   \n",
       "203   95      160A        T. PRACA A / SANTA HELENA / CAIS CAMPINAS   volta   \n",
       "217  102      176A        T. PRACA A / CAIS CAMPINAS / SANTA HELENA     ida   \n",
       "218  102      176A        T. PRACA A / CAIS CAMPINAS / SANTA HELENA   volta   \n",
       "296  148      400A                     CIRCULAR - VIA INDEPENDENCIA     ida   \n",
       "297  148      400A                     CIRCULAR - VIA INDEPENDENCIA   volta   \n",
       "298  149      400B        T. PRACA A / T. BIBLIA (VIA FEIRA HIPPIE)     ida   \n",
       "299  149      400B        T. PRACA A / T. BIBLIA (VIA FEIRA HIPPIE)   volta   \n",
       "300  150      401                 CIRCULAR - VIA PCA. WALTER SANTOS     ida   \n",
       "301  150      401                 CIRCULAR - VIA PCA. WALTER SANTOS   volta   \n",
       "302  151      401B  CIRCULAR - VIA PCA. WALTER SANTOS - ATE O FORUM     ida   \n",
       "303  151      401B  CIRCULAR - VIA PCA. WALTER SANTOS - ATE O FORUM   volta   \n",
       "304  152      401C        T. BIBLIA / T. PRACA A (VIA FEIRA HIPPIE)     ida   \n",
       "305  152      401C        T. BIBLIA / T. PRACA A (VIA FEIRA HIPPIE)   volta   \n",
       "\n",
       "                                 pontos_geolocalizacao num_linha_numerico  \n",
       "202  [{'lat': -16.705151223923, 'lng': -49.30067673...                160  \n",
       "203  [{'lat': -16.673411078397, 'lng': -49.28460794...                160  \n",
       "217  [{'lat': -16.705151223923, 'lng': -49.30067673...                176  \n",
       "218  [{'lat': -16.673411078397, 'lng': -49.28460794...                176  \n",
       "296  [{'lat': -16.705151223923, 'lng': -49.30067673...                400  \n",
       "297  [{'lat': -16.673411078397, 'lng': -49.28460794...                400  \n",
       "298  [{'lat': -16.705151223923, 'lng': -49.30067673...                400  \n",
       "299  [{'lat': -16.673411078397, 'lng': -49.28460794...                400  \n",
       "300  [{'lat': -16.705151223923, 'lng': -49.30067673...                401  \n",
       "301  [{'lat': -16.673411078397, 'lng': -49.28460794...                401  \n",
       "302  [{'lat': -16.705151223923, 'lng': -49.30067673...                401  \n",
       "303  [{'lat': -16.673411078397, 'lng': -49.28460794...                401  \n",
       "304  [{'lat': -16.705151223923, 'lng': -49.30067673...                401  \n",
       "305  [{'lat': -16.673411078397, 'lng': -49.28460794...                401  "
      ]
     },
     "execution_count": 38,
     "metadata": {},
     "output_type": "execute_result"
    }
   ],
   "source": [
    "df_idle_filtrado"
   ]
  },
  {
   "cell_type": "code",
   "execution_count": 39,
   "id": "3a3a0d72",
   "metadata": {
    "ExecuteTime": {
     "end_time": "2024-04-08T20:36:45.852836Z",
     "start_time": "2024-04-08T20:36:45.791193Z"
    }
   },
   "outputs": [
    {
     "data": {
      "text/html": [
       "<div style=\"width:100%;\"><div style=\"position:relative;width:100%;height:0;padding-bottom:60%;\"><span style=\"color:#565656\">Make this Notebook Trusted to load map: File -> Trust Notebook</span><iframe srcdoc=\"&lt;!DOCTYPE html&gt;\n",
       "&lt;html&gt;\n",
       "&lt;head&gt;\n",
       "    \n",
       "    &lt;meta http-equiv=&quot;content-type&quot; content=&quot;text/html; charset=UTF-8&quot; /&gt;\n",
       "    \n",
       "        &lt;script&gt;\n",
       "            L_NO_TOUCH = false;\n",
       "            L_DISABLE_3D = false;\n",
       "        &lt;/script&gt;\n",
       "    \n",
       "    &lt;style&gt;html, body {width: 100%;height: 100%;margin: 0;padding: 0;}&lt;/style&gt;\n",
       "    &lt;style&gt;#map {position:absolute;top:0;bottom:0;right:0;left:0;}&lt;/style&gt;\n",
       "    &lt;script src=&quot;https://cdn.jsdelivr.net/npm/leaflet@1.9.3/dist/leaflet.js&quot;&gt;&lt;/script&gt;\n",
       "    &lt;script src=&quot;https://code.jquery.com/jquery-3.7.1.min.js&quot;&gt;&lt;/script&gt;\n",
       "    &lt;script src=&quot;https://cdn.jsdelivr.net/npm/bootstrap@5.2.2/dist/js/bootstrap.bundle.min.js&quot;&gt;&lt;/script&gt;\n",
       "    &lt;script src=&quot;https://cdnjs.cloudflare.com/ajax/libs/Leaflet.awesome-markers/2.0.2/leaflet.awesome-markers.js&quot;&gt;&lt;/script&gt;\n",
       "    &lt;link rel=&quot;stylesheet&quot; href=&quot;https://cdn.jsdelivr.net/npm/leaflet@1.9.3/dist/leaflet.css&quot;/&gt;\n",
       "    &lt;link rel=&quot;stylesheet&quot; href=&quot;https://cdn.jsdelivr.net/npm/bootstrap@5.2.2/dist/css/bootstrap.min.css&quot;/&gt;\n",
       "    &lt;link rel=&quot;stylesheet&quot; href=&quot;https://netdna.bootstrapcdn.com/bootstrap/3.0.0/css/bootstrap.min.css&quot;/&gt;\n",
       "    &lt;link rel=&quot;stylesheet&quot; href=&quot;https://cdn.jsdelivr.net/npm/@fortawesome/fontawesome-free@6.2.0/css/all.min.css&quot;/&gt;\n",
       "    &lt;link rel=&quot;stylesheet&quot; href=&quot;https://cdnjs.cloudflare.com/ajax/libs/Leaflet.awesome-markers/2.0.2/leaflet.awesome-markers.css&quot;/&gt;\n",
       "    &lt;link rel=&quot;stylesheet&quot; href=&quot;https://cdn.jsdelivr.net/gh/python-visualization/folium/folium/templates/leaflet.awesome.rotate.min.css&quot;/&gt;\n",
       "    \n",
       "            &lt;meta name=&quot;viewport&quot; content=&quot;width=device-width,\n",
       "                initial-scale=1.0, maximum-scale=1.0, user-scalable=no&quot; /&gt;\n",
       "            &lt;style&gt;\n",
       "                #map_bb2fc22e32afdb51e2212cf8dfe6de46 {\n",
       "                    position: relative;\n",
       "                    width: 100.0%;\n",
       "                    height: 100.0%;\n",
       "                    left: 0.0%;\n",
       "                    top: 0.0%;\n",
       "                }\n",
       "                .leaflet-container { font-size: 1rem; }\n",
       "            &lt;/style&gt;\n",
       "        \n",
       "&lt;/head&gt;\n",
       "&lt;body&gt;\n",
       "    \n",
       "    \n",
       "&lt;div style=&quot;position: fixed; \n",
       "     bottom: 40px; left: 40px; width: 180px; height: 110px; \n",
       "     border:2px solid grey; z-index:9999; font-size:14px;\n",
       "     background:white;\n",
       "     border-radius:5px;\n",
       "     padding:10px;\n",
       "     opacity:0.9;&quot;&gt;\n",
       "     &lt;strong&gt;Legenda do Mapa&lt;/strong&gt;&lt;br&gt;\n",
       "     &lt;div style=&quot;background:green; width:20px; height:3px; display:inline-block; margin-right:5px;&quot;&gt;&lt;/div&gt;Viagem Realizada&lt;br&gt;\n",
       "     &lt;div style=&quot;background:red; width:20px; height:3px; display:inline-block; margin-right:5px;&quot;&gt;&lt;/div&gt;Viagem Planejada&lt;br&gt;\n",
       "     &lt;div style=&quot;background:blue; width:20px; height:3px; display:inline-block; margin-right:5px;&quot;&gt;&lt;/div&gt;Trajeto Ocioso\n",
       "&lt;/div&gt;\n",
       "    \n",
       "            &lt;div class=&quot;folium-map&quot; id=&quot;map_bb2fc22e32afdb51e2212cf8dfe6de46&quot; &gt;&lt;/div&gt;\n",
       "        \n",
       "&lt;/body&gt;\n",
       "&lt;script&gt;\n",
       "    \n",
       "    \n",
       "            var map_bb2fc22e32afdb51e2212cf8dfe6de46 = L.map(\n",
       "                &quot;map_bb2fc22e32afdb51e2212cf8dfe6de46&quot;,\n",
       "                {\n",
       "                    center: [-16.67, -49.25],\n",
       "                    crs: L.CRS.EPSG3857,\n",
       "                    zoom: 12,\n",
       "                    zoomControl: true,\n",
       "                    preferCanvas: false,\n",
       "                }\n",
       "            );\n",
       "\n",
       "            \n",
       "\n",
       "        \n",
       "    \n",
       "            var tile_layer_590c10615c7c3880c3106f49fa5a18e0 = L.tileLayer(\n",
       "                &quot;https://tile.openstreetmap.org/{z}/{x}/{y}.png&quot;,\n",
       "                {&quot;attribution&quot;: &quot;\\u0026copy; \\u003ca href=\\&quot;https://www.openstreetmap.org/copyright\\&quot;\\u003eOpenStreetMap\\u003c/a\\u003e contributors&quot;, &quot;detectRetina&quot;: false, &quot;maxNativeZoom&quot;: 19, &quot;maxZoom&quot;: 19, &quot;minZoom&quot;: 0, &quot;noWrap&quot;: false, &quot;opacity&quot;: 1, &quot;subdomains&quot;: &quot;abc&quot;, &quot;tms&quot;: false}\n",
       "            );\n",
       "        \n",
       "    \n",
       "            tile_layer_590c10615c7c3880c3106f49fa5a18e0.addTo(map_bb2fc22e32afdb51e2212cf8dfe6de46);\n",
       "        \n",
       "    \n",
       "            var poly_line_460df0dd3f1580ce199139c8f92455cc = L.polyline(\n",
       "                [[-16.703299, -49.301427], [-16.703251, -49.30132], [-16.70236, -49.301636], [-16.702509, -49.301881], [-16.703105, -49.301643], [-16.703393, -49.301548], [-16.703971, -49.301604], [-16.704137, -49.301883], [-16.704358, -49.301753], [-16.704303, -49.301429], [-16.704216, -49.301015], [-16.704424, -49.300874], [-16.705234, -49.300616], [-16.705388, -49.300879], [-16.705623, -49.301534], [-16.70537, -49.301666], [-16.702816, -49.302344], [-16.702159, -49.301813], [-16.70225, -49.301406], [-16.702524, -49.29878], [-16.7023, -49.2984], [-16.702466, -49.29705], [-16.70211, -49.296954], [-16.699023, -49.296709], [-16.696431, -49.296574], [-16.691265, -49.297364], [-16.689338, -49.297689], [-16.689251, -49.297296], [-16.688558, -49.290667], [-16.688328, -49.28979], [-16.688122, -49.289814], [-16.684173, -49.29022], [-16.683105, -49.289525], [-16.683088, -49.288966], [-16.683297, -49.288436], [-16.682891, -49.288271], [-16.682386, -49.288152], [-16.679196, -49.285969], [-16.678905, -49.285169], [-16.678441, -49.28515], [-16.677781, -49.285471], [-16.674194, -49.284643], [-16.673721, -49.284138], [-16.673347, -49.284276], [-16.673335, -49.284631], [-16.673521, -49.284865], [-16.673695, -49.284813], [-16.673695, -49.284773], [-16.673814, -49.284637], [-16.673968, -49.284568], [-16.678021, -49.285584], [-16.678136, -49.285822], [-16.67831, -49.286136], [-16.67863, -49.286256], [-16.679007, -49.286136], [-16.679226, -49.285776], [-16.679265, -49.285168], [-16.681932, -49.28289], [-16.682311, -49.282772], [-16.683794, -49.281188], [-16.686424, -49.278929], [-16.686849, -49.2791], [-16.687233, -49.280062], [-16.687369, -49.280553], [-16.687651, -49.280376], [-16.687601, -49.28004], [-16.686774, -49.278788], [-16.686642, -49.278337], [-16.686611, -49.277764], [-16.686873, -49.274563], [-16.686999, -49.271012], [-16.685539, -49.265993], [-16.684794, -49.263453], [-16.683985, -49.260623], [-16.683773, -49.260324], [-16.68304, -49.259982], [-16.682197, -49.260096], [-16.681823, -49.26015], [-16.681652, -49.259751], [-16.681238, -49.258004], [-16.681583, -49.257763], [-16.682197, -49.257158], [-16.682396, -49.256123], [-16.682067, -49.255276], [-16.681301, -49.254653], [-16.680549, -49.254569], [-16.680199, -49.254605], [-16.680079, -49.254363], [-16.679484, -49.252196], [-16.678661, -49.249376], [-16.677597, -49.245753], [-16.677606, -49.245676], [-16.677776, -49.245496], [-16.677968, -49.245131], [-16.677921, -49.244567], [-16.676942, -49.24199], [-16.676419, -49.24175], [-16.675105, -49.237146], [-16.675164, -49.236624], [-16.674746, -49.236644], [-16.674293, -49.236822], [-16.671758, -49.236913], [-16.671704, -49.236746], [-16.671787, -49.236033], [-16.67177, -49.234914], [-16.672019, -49.234541], [-16.671826, -49.234115], [-16.671375, -49.234126], [-16.6706, -49.234847], [-16.669556, -49.236279], [-16.666103, -49.237385], [-16.66288, -49.238394], [-16.661599, -49.239295], [-16.661128, -49.240339], [-16.659491, -49.24392], [-16.659875, -49.246626], [-16.660781, -49.249549], [-16.661625, -49.25246], [-16.66362, -49.259344], [-16.66381, -49.260049], [-16.664049, -49.260773], [-16.665004, -49.264078], [-16.666225, -49.268261], [-16.668196, -49.27309], [-16.66948, -49.274483], [-16.67079, -49.275347], [-16.670761, -49.275524], [-16.670559, -49.275753], [-16.669443, -49.277494], [-16.669398, -49.278053], [-16.671911, -49.282168], [-16.673549, -49.284845], [-16.673775, -49.28477], [-16.673847, -49.284548], [-16.673866, -49.284532], [-16.67399, -49.284451], [-16.67398, -49.284397], [-16.673993, -49.284599], [-16.674038, -49.28441], [-16.673885, -49.284231], [-16.673636, -49.284181], [-16.673358, -49.28435], [-16.673412, -49.28454], [-16.673507, -49.284536], [-16.673398, -49.284472], [-16.673432, -49.284337], [-16.673371, -49.284248], [-16.672034, -49.282271], [-16.670969, -49.280555], [-16.669855, -49.278737], [-16.669481, -49.277908], [-16.669934, -49.276543], [-16.671055, -49.275253], [-16.670705, -49.275056], [-16.668567, -49.273488], [-16.668429, -49.273271], [-16.667931, -49.272444], [-16.666319, -49.268058], [-16.665701, -49.265991], [-16.664517, -49.261823], [-16.663758, -49.259347], [-16.662659, -49.255607], [-16.661989, -49.25324], [-16.66109, -49.250126], [-16.660876, -49.24937], [-16.660314, -49.247413], [-16.659919, -49.246079], [-16.6596, -49.244604], [-16.659651, -49.24383], [-16.661554, -49.239532], [-16.662562, -49.238664], [-16.66654, -49.237398], [-16.669787, -49.236255], [-16.671072, -49.234657], [-16.671376, -49.234841], [-16.671444, -49.235302], [-16.671429, -49.237292], [-16.671729, -49.237278], [-16.671756, -49.236905], [-16.67175, -49.236322], [-16.671724, -49.235053], [-16.671893, -49.234914], [-16.672382, -49.234926], [-16.67496, -49.237172], [-16.674992, -49.23724], [-16.675735, -49.239837], [-16.676322, -49.241975], [-16.676, -49.243054], [-16.676561, -49.245035], [-16.676727, -49.245413], [-16.677123, -49.245706], [-16.677441, -49.245813], [-16.677551, -49.246132], [-16.677689, -49.246607], [-16.678235, -49.248438], [-16.679213, -49.251763], [-16.680032, -49.254385], [-16.680067, -49.254664], [-16.679662, -49.254863], [-16.679521, -49.255259], [-16.679618, -49.255782], [-16.679369, -49.256189], [-16.679325, -49.25657], [-16.67947, -49.257046], [-16.680427, -49.258345], [-16.680825, -49.258288], [-16.681104, -49.258252], [-16.681203, -49.258595], [-16.681659, -49.260423], [-16.681858, -49.260725], [-16.682245, -49.260349], [-16.682758, -49.260125], [-16.683351, -49.260256], [-16.683835, -49.260724], [-16.68509, -49.264909], [-16.685429, -49.266096], [-16.68657, -49.269899], [-16.686895, -49.2734], [-16.686881, -49.273536], [-16.686574, -49.277296], [-16.686133, -49.279044], [-16.683523, -49.281342], [-16.682282, -49.282365], [-16.681929, -49.282434], [-16.679032, -49.28524], [-16.678288, -49.285305], [-16.677806, -49.285519], [-16.674601, -49.284806], [-16.674133, -49.284724], [-16.673883, -49.284665], [-16.673834, -49.284507], [-16.673944, -49.284609], [-16.674014, -49.284427], [-16.6739, -49.284279], [-16.673638, -49.284212], [-16.673454, -49.28433], [-16.673366, -49.28459], [-16.67347, -49.284649], [-16.673437, -49.284547], [-16.673424, -49.284337], [-16.672597, -49.28325], [-16.671093, -49.280735], [-16.671199, -49.280618], [-16.672285, -49.279888], [-16.672132, -49.279591], [-16.671736, -49.279053], [-16.671427, -49.279216], [-16.670171, -49.28004], [-16.669793, -49.280125], [-16.668847, -49.27851], [-16.668772, -49.277684], [-16.668801, -49.277374], [-16.668506, -49.277218], [-16.667608, -49.276922], [-16.667476, -49.277193], [-16.667166, -49.278246], [-16.66762, -49.278437], [-16.668892, -49.278898], [-16.669032, -49.278909], [-16.669774, -49.28016], [-16.669613, -49.280374], [-16.668884, -49.280925], [-16.668159, -49.283915], [-16.667837, -49.284997], [-16.667512, -49.284877], [-16.66637, -49.284568], [-16.665839, -49.284475], [-16.664063, -49.283886], [-16.661213, -49.282838], [-16.660998, -49.282464], [-16.660389, -49.280563], [-16.66001, -49.279314], [-16.659851, -49.279371], [-16.659641, -49.279279], [-16.657468, -49.278197], [-16.656671, -49.277833], [-16.653618, -49.279321], [-16.652878, -49.279675], [-16.652925, -49.280039], [-16.653129, -49.281088], [-16.653645, -49.283124], [-16.656012, -49.28456], [-16.658404, -49.286861], [-16.659133, -49.287723], [-16.659641, -49.288063], [-16.65956, -49.288361], [-16.6595, -49.288646], [-16.659701, -49.288746], [-16.660008, -49.28889], [-16.659978, -49.289108], [-16.659608, -49.290087], [-16.659442, -49.290074], [-16.65932, -49.290217], [-16.658951, -49.291728], [-16.65883, -49.292415], [-16.658923, -49.292493], [-16.659446, -49.292774], [-16.660321, -49.293248], [-16.662343, -49.293879], [-16.663936, -49.294302], [-16.664845, -49.294548], [-16.667033, -49.295173], [-16.667614, -49.295266], [-16.667746, -49.294945], [-16.668622, -49.29242], [-16.669054, -49.291272], [-16.669735, -49.289125], [-16.67064, -49.286534], [-16.67136, -49.284692], [-16.672743, -49.283792], [-16.672994, -49.283955], [-16.673399, -49.284628], [-16.673448, -49.284634], [-16.673373, -49.284547], [-16.673427, -49.284321], [-16.673194, -49.284204], [-16.671988, -49.282508], [-16.67185, -49.28284], [-16.671139, -49.284949], [-16.669601, -49.289569], [-16.668793, -49.292008], [-16.668045, -49.293995], [-16.667696, -49.293902], [-16.665474, -49.293268], [-16.664978, -49.293138], [-16.661698, -49.292469], [-16.660888, -49.292264], [-16.658934, -49.291737], [-16.659016, -49.291433], [-16.659383, -49.290082], [-16.65958, -49.290079], [-16.659738, -49.289825], [-16.660043, -49.288859], [-16.65984, -49.288763], [-16.659517, -49.288621], [-16.65958, -49.288343], [-16.659613, -49.287984], [-16.657455, -49.285489], [-16.655028, -49.28397], [-16.653451, -49.282837], [-16.652928, -49.27971], [-16.653251, -49.2795], [-16.656501, -49.277935], [-16.656767, -49.277866], [-16.659568, -49.279213], [-16.659993, -49.279437], [-16.66016, -49.279907], [-16.660917, -49.282269], [-16.661158, -49.282797], [-16.663258, -49.283789], [-16.664864, -49.284153], [-16.664766, -49.284465], [-16.664669, -49.284951], [-16.665014, -49.285089], [-16.666428, -49.285591], [-16.666686, -49.285616], [-16.666866, -49.285443], [-16.667764, -49.2825], [-16.668291, -49.280809], [-16.669077, -49.27893], [-16.668797, -49.278631], [-16.667145, -49.278195], [-16.66716, -49.277951], [-16.667659, -49.276867], [-16.667913, -49.276966], [-16.66921, -49.277496], [-16.669425, -49.277658], [-16.669406, -49.277983], [-16.669508, -49.278333], [-16.671737, -49.281914], [-16.673211, -49.28435], [-16.673328, -49.284667], [-16.673447, -49.284808], [-16.67369, -49.284893], [-16.673762, -49.28481], [-16.673809, -49.284479], [-16.673918, -49.284496], [-16.674007, -49.284579], [-16.674112, -49.284588], [-16.674116, -49.284462], [-16.674001, -49.284015], [-16.674671, -49.282127], [-16.674736, -49.281929], [-16.674705, -49.281694], [-16.674831, -49.281455], [-16.675983, -49.27853], [-16.67656, -49.277456], [-16.677068, -49.276629], [-16.677179, -49.276662], [-16.678241, -49.27738], [-16.678157, -49.277562], [-16.676959, -49.279517], [-16.675867, -49.280268], [-16.675676, -49.280155], [-16.675518, -49.280103], [-16.675327, -49.2801], [-16.675111, -49.2803], [-16.67401, -49.283697], [-16.673877, -49.283947], [-16.673653, -49.284132], [-16.67334, -49.28434], [-16.673316, -49.284542], [-16.673443, -49.284557], [-16.673455, -49.284558], [-16.673385, -49.28437], [-16.673402, -49.284265], [-16.673305, -49.284219], [-16.673118, -49.284066], [-16.670788, -49.28031], [-16.669481, -49.278086], [-16.669562, -49.277549], [-16.669857, -49.276682], [-16.670257, -49.276119], [-16.671062, -49.275303], [-16.670745, -49.275084], [-16.668709, -49.273693], [-16.666744, -49.269665], [-16.666527, -49.268889], [-16.665966, -49.266864], [-16.665814, -49.266433], [-16.665102, -49.264087], [-16.663967, -49.260014], [-16.663882, -49.259824], [-16.663013, -49.256874], [-16.66261, -49.255592], [-16.662072, -49.253689], [-16.661733, -49.252571], [-16.66165, -49.252183], [-16.660404, -49.247825], [-16.660397, -49.247801], [-16.660264, -49.247385], [-16.659636, -49.24375], [-16.66077, -49.241545], [-16.661974, -49.239139], [-16.663394, -49.238348], [-16.666173, -49.237454], [-16.668052, -49.236891], [-16.670043, -49.235904], [-16.670941, -49.234677], [-16.67114, -49.234662], [-16.671486, -49.234904], [-16.671581, -49.235203], [-16.671562, -49.235847], [-16.671547, -49.236445], [-16.67132, -49.237028], [-16.671553, -49.237217], [-16.671756, -49.237049], [-16.671791, -49.236835], [-16.671743, -49.236352], [-16.671802, -49.23605], [-16.671792, -49.23547], [-16.671739, -49.235058], [-16.671859, -49.234971], [-16.672392, -49.234939], [-16.674681, -49.236764], [-16.675542, -49.23916], [-16.676126, -49.241184], [-16.676316, -49.241984], [-16.675956, -49.243001], [-16.676386, -49.24422], [-16.676935, -49.245613], [-16.677513, -49.245945], [-16.677593, -49.246311], [-16.678308, -49.248753], [-16.678622, -49.249789], [-16.679792, -49.253873], [-16.679939, -49.25429], [-16.679928, -49.254665], [-16.67967, -49.254809], [-16.679438, -49.254973], [-16.67949, -49.255246], [-16.679562, -49.255705], [-16.679489, -49.255876], [-16.679319, -49.256343], [-16.679497, -49.257069], [-16.67988, -49.257417], [-16.680079, -49.257615], [-16.680345, -49.258291], [-16.68055, -49.258333], [-16.68115, -49.258242], [-16.681677, -49.260252], [-16.681754, -49.260701], [-16.681889, -49.260723], [-16.68212, -49.260507], [-16.682535, -49.260158], [-16.68311, -49.26016], [-16.683684, -49.260518], [-16.684076, -49.261609], [-16.684564, -49.263188], [-16.684927, -49.264331], [-16.685416, -49.266056], [-16.685715, -49.267065], [-16.686554, -49.269989], [-16.686592, -49.27017], [-16.687085, -49.271666], [-16.686856, -49.274173], [-16.686588, -49.277577], [-16.686447, -49.278341], [-16.686301, -49.278586], [-16.686191, -49.279014], [-16.68548, -49.279675], [-16.683086, -49.281771], [-16.682285, -49.282375], [-16.681925, -49.282463], [-16.679556, -49.284857], [-16.679331, -49.285076], [-16.679028, -49.28525], [-16.678357, -49.28525], [-16.67787, -49.285526], [-16.675574, -49.285034], [-16.673937, -49.28463], [-16.673918, -49.284522], [-16.673916, -49.284509], [-16.673962, -49.284472], [-16.673978, -49.284421], [-16.674001, -49.284465], [-16.673974, -49.284352], [-16.673967, -49.284342], [-16.67384, -49.284202], [-16.673612, -49.284172], [-16.673439, -49.284275], [-16.673351, -49.284456], [-16.673421, -49.284541], [-16.673434, -49.28454], [-16.673423, -49.284427], [-16.673447, -49.284317], [-16.673348, -49.284247], [-16.673073, -49.284], [-16.671975, -49.282315], [-16.670161, -49.27935], [-16.669429, -49.278033], [-16.669465, -49.277662], [-16.670185, -49.276224], [-16.671031, -49.275415], [-16.671073, -49.275257], [-16.670771, -49.275094], [-16.668712, -49.273704], [-16.666845, -49.270106], [-16.666751, -49.269772], [-16.666383, -49.268402], [-16.666037, -49.267247], [-16.665632, -49.265932], [-16.664835, -49.263203], [-16.663908, -49.259856], [-16.663875, -49.259797], [-16.662959, -49.256715], [-16.662847, -49.256345], [-16.662108, -49.253864], [-16.661744, -49.252562], [-16.661449, -49.2515], [-16.6606, -49.248663], [-16.660562, -49.248452], [-16.660227, -49.247277], [-16.660092, -49.246922], [-16.659547, -49.244432], [-16.659613, -49.243773], [-16.661149, -49.240537], [-16.661785, -49.239242], [-16.665367, -49.237739], [-16.666314, -49.23741], [-16.669939, -49.236006], [-16.670454, -49.235349], [-16.670989, -49.234661], [-16.671183, -49.234682], [-16.671509, -49.234938], [-16.67158, -49.235174], [-16.671575, -49.23529], [-16.671606, -49.23591], [-16.671568, -49.236575], [-16.671348, -49.237037], [-16.671566, -49.237204], [-16.67179, -49.237055], [-16.671786, -49.236857], [-16.671732, -49.236597], [-16.671753, -49.236578], [-16.671766, -49.236521], [-16.671774, -49.236214], [-16.671728, -49.234955], [-16.672118, -49.234893], [-16.672509, -49.235059], [-16.674705, -49.23682], [-16.675592, -49.239354], [-16.676309, -49.241867], [-16.676227, -49.242068], [-16.675963, -49.242391], [-16.675928, -49.243004], [-16.676873, -49.245568], [-16.677241, -49.24572], [-16.677485, -49.245873], [-16.677815, -49.24706], [-16.67903, -49.251251], [-16.67925, -49.252068], [-16.679767, -49.253794], [-16.67988, -49.254113], [-16.680001, -49.254644], [-16.679735, -49.254839], [-16.67944, -49.255021], [-16.679488, -49.255217], [-16.679579, -49.255492], [-16.679572, -49.255849], [-16.679431, -49.256055], [-16.679295, -49.256164], [-16.679422, -49.257025], [-16.679548, -49.257232], [-16.679734, -49.257364], [-16.680027, -49.25755], [-16.680363, -49.258365], [-16.680501, -49.25836], [-16.68109, -49.25823], [-16.681193, -49.258576], [-16.681629, -49.260401], [-16.681729, -49.260724], [-16.682062, -49.260585], [-16.682489, -49.260186], [-16.682978, -49.260145], [-16.683489, -49.260347], [-16.683903, -49.260933], [-16.684137, -49.261727], [-16.684463, -49.26257], [-16.684836, -49.26412], [-16.684953, -49.264735], [-16.685342, -49.26601], [-16.685608, -49.266923], [-16.68572, -49.267171], [-16.686132, -49.268681], [-16.68653, -49.269988], [-16.686763, -49.270806], [-16.686861, -49.273245], [-16.686689, -49.275879], [-16.686558, -49.277479], [-16.686431, -49.278288], [-16.686283, -49.278551], [-16.686161, -49.278967], [-16.685522, -49.279534], [-16.68537, -49.279756], [-16.682304, -49.282371], [-16.681909, -49.282466], [-16.68039, -49.284155], [-16.679441, -49.284965], [-16.679039, -49.28526], [-16.678398, -49.285243], [-16.677858, -49.285531], [-16.67506, -49.284907], [-16.673884, -49.284624], [-16.673868, -49.284559], [-16.67398, -49.284534], [-16.67402, -49.284421], [-16.673908, -49.28427], [-16.673687, -49.284209], [-16.673499, -49.284286], [-16.673384, -49.284457], [-16.673377, -49.284618], [-16.673434, -49.284781], [-16.673449, -49.284794], [-16.673622, -49.284895], [-16.67377, -49.284879], [-16.673778, -49.284822], [-16.673849, -49.284698], [-16.673963, -49.28459], [-16.674097, -49.284653], [-16.674416, -49.284772], [-16.677857, -49.285533], [-16.678097, -49.285647], [-16.678147, -49.285742], [-16.678348, -49.286162], [-16.678752, -49.286286], [-16.679178, -49.286052], [-16.67928, -49.285575], [-16.679438, -49.285076], [-16.681409, -49.283343], [-16.682038, -49.282923], [-16.682375, -49.282857], [-16.682436, -49.282606], [-16.682661, -49.282225], [-16.684586, -49.280544], [-16.686077, -49.279231], [-16.68651, -49.278947], [-16.686896, -49.279116], [-16.687324, -49.280246], [-16.687461, -49.28059], [-16.687671, -49.280404], [-16.68779, -49.280243], [-16.687599, -49.27997], [-16.686812, -49.278857], [-16.68677, -49.278474], [-16.686628, -49.278064], [-16.686712, -49.277178], [-16.686757, -49.276401], [-16.687017, -49.273313], [-16.687212, -49.271615], [-16.686874, -49.270568], [-16.686492, -49.269172], [-16.686449, -49.26902], [-16.686164, -49.267972], [-16.685178, -49.264623], [-16.684882, -49.263602], [-16.684507, -49.262312], [-16.684391, -49.261851], [-16.68424, -49.261399], [-16.684174, -49.261172], [-16.684079, -49.260878], [-16.68401, -49.260612], [-16.683817, -49.260353], [-16.682706, -49.260004], [-16.681839, -49.260166], [-16.681632, -49.259519], [-16.68162, -49.259397], [-16.681566, -49.259235], [-16.681556, -49.259074], [-16.681523, -49.258968], [-16.68141, -49.258805], [-16.681392, -49.258738], [-16.681362, -49.258464], [-16.681286, -49.258291], [-16.681322, -49.25804], [-16.681589, -49.257917], [-16.681903, -49.257732], [-16.682017, -49.257631], [-16.68245, -49.256639], [-16.682368, -49.255716], [-16.681819, -49.255006], [-16.681039, -49.254628], [-16.680241, -49.254592], [-16.680175, -49.254379], [-16.679438, -49.251778], [-16.678331, -49.248021], [-16.678127, -49.247367], [-16.677768, -49.246017], [-16.677694, -49.245752], [-16.677819, -49.245614], [-16.678031, -49.245301], [-16.678034, -49.244649], [-16.677618, -49.243442], [-16.677097, -49.242077], [-16.67648, -49.241749], [-16.676278, -49.240931], [-16.675384, -49.237944], [-16.675275, -49.237552], [-16.675198, -49.237111], [-16.675271, -49.236709], [-16.674946, -49.236607], [-16.671896, -49.237019], [-16.671807, -49.236924], [-16.671783, -49.236821], [-16.671811, -49.236679], [-16.671849, -49.236106], [-16.671845, -49.235463], [-16.671813, -49.234913], [-16.672123, -49.234513], [-16.671994, -49.234183], [-16.671557, -49.234067], [-16.671159, -49.234439], [-16.669341, -49.236444], [-16.666548, -49.237334], [-16.663285, -49.238378], [-16.662845, -49.238506], [-16.661673, -49.239342], [-16.660527, -49.242172], [-16.659582, -49.24437], [-16.65988, -49.246265], [-16.660863, -49.249644], [-16.660904, -49.249771], [-16.661769, -49.252814], [-16.662128, -49.254108], [-16.662358, -49.254963], [-16.662671, -49.255925], [-16.663843, -49.259836], [-16.664142, -49.260818], [-16.66492, -49.263493], [-16.665434, -49.265203], [-16.666009, -49.267191], [-16.667192, -49.271187], [-16.669444, -49.27446], [-16.67087, -49.275354], [-16.670707, -49.275758], [-16.66994, -49.276526], [-16.669516, -49.278069], [-16.67293, -49.283745], [-16.673384, -49.284513], [-16.673569, -49.284868], [-16.673736, -49.284896], [-16.673774, -49.284796], [-16.673767, -49.284784], [-16.673896, -49.284646], [-16.674053, -49.284545], [-16.674121, -49.28463], [-16.674269, -49.284701], [-16.676417, -49.285177], [-16.67809, -49.285587], [-16.67814, -49.285638], [-16.678647, -49.286278], [-16.679124, -49.286193], [-16.679516, -49.286196], [-16.682781, -49.288474], [-16.682944, -49.288888], [-16.683331, -49.288862], [-16.683661, -49.288956], [-16.684624, -49.289679], [-16.684697, -49.290284], [-16.684413, -49.290378], [-16.682998, -49.29062], [-16.683015, -49.290877], [-16.683089, -49.291221], [-16.683254, -49.291208], [-16.686545, -49.290726], [-16.68708, -49.290639], [-16.689818, -49.290195], [-16.690313, -49.289397], [-16.691949, -49.289097], [-16.694789, -49.289579], [-16.69562, -49.2898], [-16.695598, -49.290208], [-16.695197, -49.292816], [-16.69499, -49.294137], [-16.694874, -49.294168], [-16.69358, -49.294366], [-16.693516, -49.294061], [-16.693453, -49.293582], [-16.693741, -49.293508], [-16.694957, -49.293276], [-16.697338, -49.293942], [-16.702328, -49.295866], [-16.704212, -49.298317], [-16.704402, -49.298742], [-16.70445, -49.298722], [-16.704933, -49.299719], [-16.705273, -49.300619], [-16.705157, -49.300675], [-16.705033, -49.300678], [-16.70466, -49.300823], [-16.704565, -49.300918], [-16.704214, -49.300997], [-16.704083, -49.300983], [-16.703947, -49.301004], [-16.704009, -49.301099], [-16.703972, -49.301214], [-16.703868, -49.301253], [-16.703951, -49.301327], [-16.703849, -49.301392], [-16.703633, -49.301355], [-16.70343, -49.301254], [-16.703351, -49.301351], [-16.703316, -49.301414]],\n",
       "                {&quot;bubblingMouseEvents&quot;: true, &quot;color&quot;: &quot;green&quot;, &quot;dashArray&quot;: null, &quot;dashOffset&quot;: null, &quot;fill&quot;: false, &quot;fillColor&quot;: &quot;green&quot;, &quot;fillOpacity&quot;: 0.2, &quot;fillRule&quot;: &quot;evenodd&quot;, &quot;lineCap&quot;: &quot;round&quot;, &quot;lineJoin&quot;: &quot;round&quot;, &quot;noClip&quot;: false, &quot;opacity&quot;: 1, &quot;smoothFactor&quot;: 1.0, &quot;stroke&quot;: true, &quot;weight&quot;: 2.5}\n",
       "            ).addTo(map_bb2fc22e32afdb51e2212cf8dfe6de46);\n",
       "        \n",
       "    \n",
       "        var popup_ef026f2372075b76ac6e2291af808bbc = L.popup({&quot;maxWidth&quot;: &quot;100%&quot;});\n",
       "\n",
       "        \n",
       "            \n",
       "                var html_95b9865a76cf85fbe12771b8e18119e2 = $(`&lt;div id=&quot;html_95b9865a76cf85fbe12771b8e18119e2&quot; style=&quot;width: 100.0%; height: 100.0%;&quot;&gt;Trip 192&lt;/div&gt;`)[0];\n",
       "                popup_ef026f2372075b76ac6e2291af808bbc.setContent(html_95b9865a76cf85fbe12771b8e18119e2);\n",
       "            \n",
       "        \n",
       "\n",
       "        poly_line_460df0dd3f1580ce199139c8f92455cc.bindPopup(popup_ef026f2372075b76ac6e2291af808bbc)\n",
       "        ;\n",
       "\n",
       "        \n",
       "    \n",
       "    \n",
       "            var poly_line_8ff1f2ab4220a5634d1afbb4a1bf28a6 = L.polyline(\n",
       "                [[-16.673452, -49.284614], [-16.673477715, -49.284557997], [-16.673495069, -49.284489763], [-16.673490494, -49.28441853700001], [-16.673477567, -49.284366087], [-16.673453642, -49.284320194], [-16.673412215, -49.28429814699999], [-16.673412215, -49.28429814699999], [-16.673304938, -49.28425639], [-16.673231064, -49.28422267900001], [-16.673197461, -49.284202176], [-16.673162574, -49.284170945], [-16.673134111, -49.28413267199999], [-16.673105648, -49.284090376], [-16.672120594, -49.282499425], [-16.672094219, -49.28247482799999], [-16.672068034, -49.28246750600001], [-16.67202579, -49.28246085399999], [-16.671992783, -49.282463563], [-16.671961062, -49.282468955], [-16.671925486, -49.282490103], [-16.671901917, -49.2825161], [-16.671886056, -49.282544779], [-16.671482, -49.283833], [-16.671482, -49.283833], [-16.670137159, -49.28775289499999], [-16.670137159, -49.28775289499999], [-16.669494, -49.289748], [-16.669494, -49.289748], [-16.668471, -49.292756], [-16.668471, -49.292756], [-16.668074081, -49.293910174], [-16.668048992, -49.293948053], [-16.66801011, -49.293958946], [-16.667930116, -49.293944358], [-16.665116, -49.293126], [-16.665116, -49.293126], [-16.663250427, -49.292653187], [-16.663101568, -49.292618775], [-16.66301686, -49.292610958], [-16.662601917, -49.292611072], [-16.662361041, -49.292605765], [-16.662268868, -49.292600429], [-16.662145861, -49.292576318], [-16.661071, -49.29226], [-16.661071, -49.29226], [-16.65992, -49.291994], [-16.659090469, -49.291793598], [-16.659020605, -49.291775625], [-16.658993381, -49.29174249899999], [-16.658986715, -49.29169328], [-16.659011443, -49.29154468199999], [-16.659011443, -49.29154468199999], [-16.659317025, -49.290261352], [-16.65934006, -49.290175656], [-16.659356717, -49.29013280699999], [-16.659385602, -49.290106019], [-16.659428311, -49.290089942], [-16.65955245, -49.290122137], [-16.659588823, -49.290122141], [-16.659635276, -49.290100686], [-16.659663641, -49.2900685], [-16.659697146, -49.289977306], [-16.659952443, -49.289226318], [-16.659952443, -49.289226318], [-16.660055829, -49.28891625999999], [-16.660049063, -49.288870195], [-16.660038614, -49.288845151], [-16.660023433, -49.28882726499999], [-16.660001183, -49.28881071999999], [-16.659569513, -49.288646045], [-16.659535877, -49.28861916100001], [-16.659520228, -49.28857618399999], [-16.659520793, -49.28853783], [-16.659584957, -49.288326474], [-16.659658217, -49.288094075], [-16.659654695, -49.288035878], [-16.659646267, -49.28799786], [-16.659619851, -49.28795917099999], [-16.659590866, -49.287932216], [-16.658980502, -49.287600831], [-16.658945359, -49.28757655], [-16.658914296, -49.287546304], [-16.658856045, -49.28748022000001], [-16.658475304, -49.286894458], [-16.658475304, -49.286894458], [-16.657757, -49.28585499999999], [-16.657464269, -49.285436914], [-16.657392424, -49.285351254], [-16.657323095, -49.28528696599999], [-16.657247317, -49.285230682], [-16.656709, -49.28493300000001], [-16.656176303, -49.28461782199999], [-16.656176303, -49.28461782199999], [-16.654834, -49.283841], [-16.654389721, -49.28357764399999], [-16.654389721, -49.28357764399999], [-16.653743485, -49.283176242], [-16.653657368, -49.283108045], [-16.653583473, -49.283014938], [-16.653518258, -49.28290133], [-16.653459954, -49.282747966], [-16.653339976, -49.28221641100001], [-16.653159418, -49.281168123], [-16.653037733, -49.280450318], [-16.653037733, -49.280450318], [-16.652923132, -49.279830427], [-16.652925318, -49.279758602], [-16.652949538, -49.279685139], [-16.652977067, -49.279643043], [-16.653026807, -49.279597855], [-16.653148499, -49.279536574], [-16.65368994, -49.27929904699999], [-16.655300291, -49.278534542], [-16.655300291, -49.278534542], [-16.656318963, -49.278032271], [-16.656671974, -49.27788319099999], [-16.656702008, -49.27787403], [-16.656728589, -49.27787615599999], [-16.656762216, -49.277882219], [-16.656794557, -49.277893647], [-16.657567139, -49.278260813], [-16.657567139, -49.278260813], [-16.659137801, -49.27902556700001], [-16.659614943, -49.279254979], [-16.659916147, -49.27940623000001], [-16.659950976, -49.279425938], [-16.659975528, -49.27944967], [-16.659998934, -49.27947969800001], [-16.660341, -49.280595], [-16.660341, -49.280595], [-16.660606465, -49.28137155299999], [-16.661020321, -49.282649012], [-16.661046734, -49.28270654], [-16.661079854, -49.282755421], [-16.661116829, -49.28279424299999], [-16.661161946, -49.28283218600001], [-16.661698943, -49.283133496], [-16.661801036, -49.28318301400001], [-16.662090709, -49.28328886]],\n",
       "                {&quot;bubblingMouseEvents&quot;: true, &quot;color&quot;: &quot;red&quot;, &quot;dashArray&quot;: null, &quot;dashOffset&quot;: null, &quot;fill&quot;: false, &quot;fillColor&quot;: &quot;red&quot;, &quot;fillOpacity&quot;: 0.2, &quot;fillRule&quot;: &quot;evenodd&quot;, &quot;lineCap&quot;: &quot;round&quot;, &quot;lineJoin&quot;: &quot;round&quot;, &quot;noClip&quot;: false, &quot;opacity&quot;: 1, &quot;smoothFactor&quot;: 1.0, &quot;stroke&quot;: true, &quot;weight&quot;: 2.5}\n",
       "            ).addTo(map_bb2fc22e32afdb51e2212cf8dfe6de46);\n",
       "        \n",
       "    \n",
       "        var popup_b9ea36d1c66345fc4f8519e7a54ea275 = L.popup({&quot;maxWidth&quot;: &quot;100%&quot;});\n",
       "\n",
       "        \n",
       "            \n",
       "                var html_2a0e725c756b2ec011562dfe9eef8ac1 = $(`&lt;div id=&quot;html_2a0e725c756b2ec011562dfe9eef8ac1&quot; style=&quot;width: 100.0%; height: 100.0%;&quot;&gt;Planned 314&lt;/div&gt;`)[0];\n",
       "                popup_b9ea36d1c66345fc4f8519e7a54ea275.setContent(html_2a0e725c756b2ec011562dfe9eef8ac1);\n",
       "            \n",
       "        \n",
       "\n",
       "        poly_line_8ff1f2ab4220a5634d1afbb4a1bf28a6.bindPopup(popup_b9ea36d1c66345fc4f8519e7a54ea275)\n",
       "        ;\n",
       "\n",
       "        \n",
       "    \n",
       "    \n",
       "            var poly_line_a15acde1b7f4e839298aa8a63292534c = L.polyline(\n",
       "                [[-16.662090709, -49.28328886], [-16.663087804, -49.283702335], [-16.663173255, -49.283742955], [-16.663204744, -49.28376748299999], [-16.663244258, -49.28378913400001], [-16.663287141, -49.28379996], [-16.663331708, -49.283797326], [-16.663378845, -49.283797374], [-16.664164504, -49.28389164000001], [-16.664260234, -49.28390543899999], [-16.664362059, -49.28393379599999], [-16.664769663, -49.284077489], [-16.664809176, -49.2840978], [-16.664837926, -49.284126731], [-16.664840739, -49.284174724], [-16.664830703, -49.284236128], [-16.664770974, -49.284448411], [-16.664770974, -49.284448411], [-16.664651528, -49.284837256], [-16.664649932, -49.284894234], [-16.664656842, -49.284941499], [-16.664678284, -49.284973178], [-16.664715143, -49.284994128], [-16.664998767, -49.285083293], [-16.665207874, -49.285153682], [-16.666122, -49.285462], [-16.666720479, -49.285686034], [-16.666764051, -49.285688081], [-16.666803824, -49.28567301100001], [-16.666831419, -49.285649383], [-16.666845216, -49.285618793], [-16.666869291, -49.28553992399999], [-16.667589027, -49.283135], [-16.667589027, -49.283135], [-16.668060695, -49.281614636], [-16.668359364, -49.280647772], [-16.668388635, -49.280619925], [-16.668412584, -49.28058957199999], [-16.66843002, -49.28054891600001], [-16.668440665, -49.280503441], [-16.66844445, -49.280468603], [-16.668451022, -49.280436829], [-16.668744874, -49.279820271], [-16.668744874, -49.279820271], [-16.669093153, -49.279069967], [-16.669102714, -49.279036358], [-16.669103669, -49.279003323], [-16.66909563, -49.278970288], [-16.669084691, -49.278936404], [-16.668994079, -49.278782808], [-16.668896364, -49.278595642], [-16.668876376, -49.27857745600001], [-16.668855141, -49.278567357], [-16.668831997, -49.278561637], [-16.668791204, -49.278562599], [-16.668764543, -49.27857227700001], [-16.668613571, -49.27872757799999], [-16.668581415, -49.278738267], [-16.668551526, -49.278744281], [-16.668525491, -49.27873152099999], [-16.667164791, -49.278188214], [-16.667147372, -49.278177405], [-16.667136415, -49.27815825399999], [-16.667132864, -49.278136609], [-16.667135093, -49.278108929], [-16.667585896, -49.276918538], [-16.66760823, -49.276892225], [-16.66763353, -49.27687470999999], [-16.667668342, -49.276872323], [-16.667920278, -49.27697454199999], [-16.667920278, -49.27697454199999], [-16.668715028, -49.277293221], [-16.66934019, -49.277544847], [-16.669355335, -49.277556215], [-16.66936791, -49.27757630000001], [-16.669379658, -49.277605119], [-16.669383604, -49.277636627], [-16.669382412, -49.2776735], [-16.669366858, -49.277764344], [-16.669361685, -49.27784539299999], [-16.669365505, -49.277937842], [-16.669377, -49.27802953199999], [-16.66939412, -49.278099542], [-16.669414452, -49.278164859], [-16.669434092, -49.278219646], [-16.669456303, -49.278270409], [-16.669506505, -49.278377971], [-16.669601769, -49.278543473], [-16.670128, -49.279467], [-16.670128, -49.279467], [-16.671375, -49.281487], [-16.671375, -49.281487], [-16.673230249, -49.284383725], [-16.673302291, -49.28454193], [-16.673302291, -49.28454193], [-16.673320683, -49.284572564], [-16.673348069, -49.284595151], [-16.673395132, -49.284610822], [-16.673452, -49.284614]],\n",
       "                {&quot;bubblingMouseEvents&quot;: true, &quot;color&quot;: &quot;red&quot;, &quot;dashArray&quot;: null, &quot;dashOffset&quot;: null, &quot;fill&quot;: false, &quot;fillColor&quot;: &quot;red&quot;, &quot;fillOpacity&quot;: 0.2, &quot;fillRule&quot;: &quot;evenodd&quot;, &quot;lineCap&quot;: &quot;round&quot;, &quot;lineJoin&quot;: &quot;round&quot;, &quot;noClip&quot;: false, &quot;opacity&quot;: 1, &quot;smoothFactor&quot;: 1.0, &quot;stroke&quot;: true, &quot;weight&quot;: 2.5}\n",
       "            ).addTo(map_bb2fc22e32afdb51e2212cf8dfe6de46);\n",
       "        \n",
       "    \n",
       "        var popup_02498b97c83b4b55dbf86fb6b70807a9 = L.popup({&quot;maxWidth&quot;: &quot;100%&quot;});\n",
       "\n",
       "        \n",
       "            \n",
       "                var html_8f32ec9e1e1d1088742f785f77bca0cc = $(`&lt;div id=&quot;html_8f32ec9e1e1d1088742f785f77bca0cc&quot; style=&quot;width: 100.0%; height: 100.0%;&quot;&gt;Planned 315&lt;/div&gt;`)[0];\n",
       "                popup_02498b97c83b4b55dbf86fb6b70807a9.setContent(html_8f32ec9e1e1d1088742f785f77bca0cc);\n",
       "            \n",
       "        \n",
       "\n",
       "        poly_line_a15acde1b7f4e839298aa8a63292534c.bindPopup(popup_02498b97c83b4b55dbf86fb6b70807a9)\n",
       "        ;\n",
       "\n",
       "        \n",
       "    \n",
       "    \n",
       "            var poly_line_59d3b01c76face16294ba3dbbec5cd95 = L.polyline(\n",
       "                [[-16.673452, -49.284614], [-16.673477715, -49.284557997], [-16.673495069, -49.284489763], [-16.673490494, -49.28441853700001], [-16.673477567, -49.284366087], [-16.673453642, -49.284320194], [-16.673412215, -49.28429814699999], [-16.673412215, -49.28429814699999], [-16.673323727, -49.28425167200001], [-16.673233164, -49.284199995], [-16.673178571, -49.284151], [-16.673129118, -49.28407920599999], [-16.671274, -49.280965], [-16.671274, -49.280965], [-16.67114976, -49.28078788400001], [-16.671083143, -49.28069262099999], [-16.671083333, -49.280661731], [-16.671682206, -49.28025935599999], [-16.67227851, -49.27984625], [-16.672276771, -49.279819381], [-16.672272048, -49.279800582], [-16.671767565, -49.278959687], [-16.67173299, -49.278948109], [-16.671684869, -49.278963778], [-16.670534447, -49.279681513], [-16.669889091, -49.280119702], [-16.669857993, -49.280126319], [-16.669826896, -49.280122208], [-16.66980415, -49.280110052], [-16.669169581, -49.279070338], [-16.669064968, -49.278889603], [-16.668878085, -49.27856622], [-16.668804877, -49.278384413], [-16.66877164, -49.27827626399999], [-16.66874868, -49.278160069], [-16.668729575, -49.278018393], [-16.668724602, -49.27791695], [-16.668725898, -49.277820347], [-16.668733618, -49.277722403], [-16.668753865, -49.277587578], [-16.668783259, -49.277453111], [-16.668806628, -49.277373472], [-16.668811889, -49.277332311], [-16.66880135, -49.277284239], [-16.668778607, -49.277258293], [-16.667928145, -49.27691949300001], [-16.667928145, -49.27691949300001], [-16.667661733, -49.276810269], [-16.667635118, -49.27680944900001], [-16.667603364, -49.276815335], [-16.66756904, -49.276841672], [-16.667548207, -49.276870023], [-16.667318585, -49.277489092], [-16.667084292, -49.278121498], [-16.667086536, -49.27817463], [-16.667110783, -49.278214272], [-16.667136958, -49.278235138], [-16.667920548, -49.278534113], [-16.66848011, -49.27878118], [-16.668642161, -49.27884563], [-16.66871656, -49.278867945], [-16.668769819, -49.278883796], [-16.668809938, -49.27888971], [-16.668840276, -49.27888864399999], [-16.668870613, -49.278882213], [-16.668934471, -49.278854479], [-16.668961713, -49.278850884], [-16.668985364, -49.278855095], [-16.668999904, -49.27886485599999], [-16.669063908, -49.278967825], [-16.669143649, -49.27911136200001], [-16.669551, -49.27979000000001], [-16.669551, -49.27979000000001], [-16.669744752, -49.280110854], [-16.669753303, -49.28015192300001], [-16.669745423, -49.28019362199999], [-16.669731797, -49.280210406], [-16.669574922, -49.280327103], [-16.668971888, -49.280719364], [-16.668918716, -49.280766038], [-16.66888699, -49.280802786], [-16.668855711, -49.280847982], [-16.668832363, -49.28091617699999], [-16.668767902, -49.281145305], [-16.668348126, -49.282855729], [-16.668348126, -49.282855729], [-16.667881018, -49.284823126], [-16.667861377, -49.284877764], [-16.667831, -49.284910448], [-16.667782408, -49.284916061], [-16.667731246, -49.284897534], [-16.666598755, -49.284510504], [-16.666527309, -49.284487132], [-16.666445335, -49.28447544599999], [-16.666367669, -49.284479901], [-16.666272016, -49.284503131], [-16.666203344, -49.284522338], [-16.666145882, -49.284529259], [-16.666104304, -49.284515285], [-16.665501, -49.284299], [-16.664584563, -49.283947481]],\n",
       "                {&quot;bubblingMouseEvents&quot;: true, &quot;color&quot;: &quot;red&quot;, &quot;dashArray&quot;: null, &quot;dashOffset&quot;: null, &quot;fill&quot;: false, &quot;fillColor&quot;: &quot;red&quot;, &quot;fillOpacity&quot;: 0.2, &quot;fillRule&quot;: &quot;evenodd&quot;, &quot;lineCap&quot;: &quot;round&quot;, &quot;lineJoin&quot;: &quot;round&quot;, &quot;noClip&quot;: false, &quot;opacity&quot;: 1, &quot;smoothFactor&quot;: 1.0, &quot;stroke&quot;: true, &quot;weight&quot;: 2.5}\n",
       "            ).addTo(map_bb2fc22e32afdb51e2212cf8dfe6de46);\n",
       "        \n",
       "    \n",
       "        var popup_fe3f4c859b5fe462fab58a64215d4fee = L.popup({&quot;maxWidth&quot;: &quot;100%&quot;});\n",
       "\n",
       "        \n",
       "            \n",
       "                var html_6a147247023030fe08fc5ac382c7e7a0 = $(`&lt;div id=&quot;html_6a147247023030fe08fc5ac382c7e7a0&quot; style=&quot;width: 100.0%; height: 100.0%;&quot;&gt;Planned 316&lt;/div&gt;`)[0];\n",
       "                popup_fe3f4c859b5fe462fab58a64215d4fee.setContent(html_6a147247023030fe08fc5ac382c7e7a0);\n",
       "            \n",
       "        \n",
       "\n",
       "        poly_line_59d3b01c76face16294ba3dbbec5cd95.bindPopup(popup_fe3f4c859b5fe462fab58a64215d4fee)\n",
       "        ;\n",
       "\n",
       "        \n",
       "    \n",
       "    \n",
       "            var poly_line_7cb83f5c525ed3ae08b2f4de3cd92f67 = L.polyline(\n",
       "                [[-16.664584563, -49.283947481], [-16.664325125, -49.283864278], [-16.664240695, -49.28384245700001], [-16.664183384, -49.283834564], [-16.663903805, -49.28381594299999], [-16.663741645, -49.283800828], [-16.663619774, -49.283786901], [-16.663366763, -49.28374104499999], [-16.663335469, -49.28372891], [-16.663302248, -49.28370940000001], [-16.6632671, -49.283680167], [-16.663237091, -49.283666356], [-16.663189967, -49.28365905700001], [-16.663152479, -49.28365578100001], [-16.663099573, -49.283643789], [-16.662984355, -49.283594245], [-16.662083443, -49.283248551], [-16.662083443, -49.283248551], [-16.661710018, -49.283079235], [-16.661365275, -49.282892653], [-16.661260355, -49.28283289], [-16.661185412, -49.282772163], [-16.661133807, -49.28272168299999], [-16.661099011, -49.282678674], [-16.661070692, -49.282621965], [-16.661023101, -49.28247808399999], [-16.660394443, -49.280514047], [-16.660394443, -49.280514047], [-16.660044981, -49.279459438], [-16.660042093, -49.279421302], [-16.660045766, -49.279380152], [-16.660044944, -49.27933363799999], [-16.660032377, -49.27928352499999], [-16.660005958, -49.279259742], [-16.659972513, -49.279254052], [-16.659946777, -49.279257751], [-16.65990468, -49.279290613], [-16.659872219, -49.279300006], [-16.65982978, -49.27929867600001], [-16.657573012, -49.278229504], [-16.657573012, -49.278229504], [-16.656802462, -49.277836846], [-16.656784648, -49.277814191], [-16.656772545, -49.277784705], [-16.656756586, -49.277757901], [-16.656735167, -49.277740149], [-16.656706791, -49.27773865], [-16.65667847, -49.277746952], [-16.656656573, -49.277771348], [-16.656639009, -49.277807575], [-16.656619518, -49.277841121], [-16.656592097, -49.27786395599999], [-16.65525657, -49.27849618700001], [-16.65525657, -49.27849618700001], [-16.653033005, -49.279533197], [-16.652964715, -49.279565129], [-16.652933782, -49.279580089], [-16.652894248, -49.279588524], [-16.652863066, -49.279601652], [-16.652845035, -49.27962957], [-16.652837283, -49.27966017], [-16.652841051, -49.27969589], [-16.652855011, -49.279735144], [-16.652867515, -49.27977140500001], [-16.652983406, -49.280484364], [-16.652983406, -49.280484364], [-16.653217686, -49.281766517], [-16.653288729, -49.282184613], [-16.653382898, -49.282591981], [-16.653439806, -49.28279416000001], [-16.653490103, -49.282916708], [-16.653540948, -49.28300212100001], [-16.653599502, -49.283087535], [-16.653681196, -49.28316064200001], [-16.654037848, -49.283389318], [-16.654037848, -49.283389318], [-16.656189418, -49.284660589], [-16.656189418, -49.284660589], [-16.657227275, -49.285274664], [-16.657272815, -49.285301115], [-16.657313894, -49.285334792], [-16.657363341, -49.285376441], [-16.657407007, -49.28542546599999], [-16.658468127, -49.28694286], [-16.658468127, -49.28694286], [-16.658805897, -49.287459204], [-16.658837984, -49.287507656], [-16.658866216, -49.287544709], [-16.658893162, -49.287575727], [-16.658922679, -49.287600039], [-16.658970148, -49.287637935], [-16.659561771, -49.287988472], [-16.659583917, -49.288009178], [-16.659605912, -49.288042329], [-16.659611769, -49.28807667500001], [-16.659609275, -49.28811034999999], [-16.659470481, -49.288540013], [-16.659464039, -49.28858217600001], [-16.659467885, -49.288620358], [-16.659483299, -49.288647495], [-16.659513488, -49.288667256], [-16.659974058, -49.288852167], [-16.659994285, -49.288872915], [-16.66000504, -49.28890273499999], [-16.660003673, -49.28893172599999], [-16.660002306, -49.28896407], [-16.659914278, -49.28921745800001], [-16.659914278, -49.28921745800001], [-16.659623007, -49.29001280500001], [-16.659598656, -49.290043591], [-16.659565154, -49.290058893], [-16.659536864, -49.29006037100001], [-16.659503435, -49.290055144], [-16.659426322, -49.290031812], [-16.659393547, -49.290022157], [-16.659362063, -49.29003308799999], [-16.659336363, -49.2900523], [-16.659317089, -49.29008291100001], [-16.658978405, -49.291541729], [-16.658978405, -49.291541729], [-16.658802101, -49.292239427], [-16.658793607, -49.292312009], [-16.658799639, -49.292375122], [-16.658818073, -49.292417407], [-16.658845277, -49.29244927800001], [-16.658885329, -49.292473103], [-16.660172139, -49.293187225], [-16.660172139, -49.293187225], [-16.660637884, -49.29343000499999], [-16.66071658, -49.293469588], [-16.660780579, -49.293493566], [-16.660857427, -49.293517543], [-16.660940699, -49.293532133], [-16.661075362, -49.293554769], [-16.661244319, -49.293585657], [-16.662412848, -49.29390354200001], [-16.662412848, -49.29390354200001], [-16.663737785, -49.294254175], [-16.665073, -49.294637], [-16.665073, -49.294637], [-16.667516012, -49.295345274], [-16.667599218, -49.295345361], [-16.667646451, -49.29529716899999], [-16.668010112, -49.29431582200001], [-16.668010112, -49.29431582200001], [-16.669042556, -49.291236775], [-16.669042556, -49.291236775], [-16.669709695, -49.289260729], [-16.669709695, -49.289260729], [-16.670722681, -49.286258775], [-16.670722681, -49.286258775], [-16.671178625, -49.284912157], [-16.671206533, -49.28484036900001], [-16.671236635, -49.284784871], [-16.671282154, -49.284734738], [-16.671321803, -49.284698844], [-16.672372, -49.283992], [-16.672372, -49.283992], [-16.67272923, -49.283774779], [-16.672758465, -49.283766463], [-16.672789783, -49.283766329], [-16.672821102, -49.283771559], [-16.672850974, -49.283787004], [-16.672880846, -49.283807813], [-16.673168643, -49.284289447], [-16.673192429, -49.284333211], [-16.673240294, -49.28442483], [-16.673274183, -49.284493103], [-16.673302291, -49.28454193], [-16.673302291, -49.28454193], [-16.673320683, -49.284572564], [-16.673348069, -49.284595151], [-16.673395132, -49.284610822], [-16.673452, -49.284614]],\n",
       "                {&quot;bubblingMouseEvents&quot;: true, &quot;color&quot;: &quot;red&quot;, &quot;dashArray&quot;: null, &quot;dashOffset&quot;: null, &quot;fill&quot;: false, &quot;fillColor&quot;: &quot;red&quot;, &quot;fillOpacity&quot;: 0.2, &quot;fillRule&quot;: &quot;evenodd&quot;, &quot;lineCap&quot;: &quot;round&quot;, &quot;lineJoin&quot;: &quot;round&quot;, &quot;noClip&quot;: false, &quot;opacity&quot;: 1, &quot;smoothFactor&quot;: 1.0, &quot;stroke&quot;: true, &quot;weight&quot;: 2.5}\n",
       "            ).addTo(map_bb2fc22e32afdb51e2212cf8dfe6de46);\n",
       "        \n",
       "    \n",
       "        var popup_e742943b13467b770a761a0e44fa9bbf = L.popup({&quot;maxWidth&quot;: &quot;100%&quot;});\n",
       "\n",
       "        \n",
       "            \n",
       "                var html_b6e392930db33d50f542163a498b1d23 = $(`&lt;div id=&quot;html_b6e392930db33d50f542163a498b1d23&quot; style=&quot;width: 100.0%; height: 100.0%;&quot;&gt;Planned 317&lt;/div&gt;`)[0];\n",
       "                popup_e742943b13467b770a761a0e44fa9bbf.setContent(html_b6e392930db33d50f542163a498b1d23);\n",
       "            \n",
       "        \n",
       "\n",
       "        poly_line_7cb83f5c525ed3ae08b2f4de3cd92f67.bindPopup(popup_e742943b13467b770a761a0e44fa9bbf)\n",
       "        ;\n",
       "\n",
       "        \n",
       "    \n",
       "    \n",
       "            var poly_line_64d1ada326ef1257b8e48a56f2575515 = L.polyline(\n",
       "                [[-16.673481, -49.284546], [-16.67349271, -49.284504489], [-16.673491783, -49.284440131], [-16.673483791, -49.284385162], [-16.673467126, -49.284343938], [-16.673450462, -49.28431612600001], [-16.673412215, -49.28429814699999], [-16.673412215, -49.28429814699999], [-16.673323727, -49.28425167200001], [-16.673233164, -49.284199995], [-16.673178571, -49.284151], [-16.673129118, -49.28407920599999], [-16.671274, -49.280965], [-16.671274, -49.280965], [-16.670296, -49.279362], [-16.670296, -49.279362], [-16.669748818, -49.27852616], [-16.669581188, -49.27826489700001], [-16.669514075, -49.27810878499999], [-16.669488869, -49.27803207], [-16.66947908, -49.277949991], [-16.669477642, -49.277851148], [-16.66949162, -49.277779127], [-16.669551696, -49.277610945], [-16.669659, -49.277347], [-16.669659, -49.277347], [-16.669932902, -49.276551839], [-16.669987359, -49.276458792], [-16.670069831, -49.27634923699999], [-16.670177998, -49.276239681], [-16.670734, -49.27578], [-16.670863855, -49.275663439], [-16.670962186, -49.275556878], [-16.671024545, -49.27546104699999], [-16.671047075, -49.275378626], [-16.671051621, -49.275317663], [-16.671024047, -49.275252677], [-16.670989705, -49.275209455], [-16.67093913, -49.27516772700001], [-16.67082175, -49.275099178], [-16.670342, -49.274811], [-16.670342, -49.274811], [-16.669880722, -49.274587228], [-16.66944, -49.274342], [-16.669243555, -49.274202502], [-16.669077944, -49.274052275], [-16.668896916, -49.273877909], [-16.668757, -49.273725], [-16.668528361, -49.273435999], [-16.668340833, -49.27313627], [-16.668024874, -49.27257972900001], [-16.668024874, -49.27257972900001], [-16.667632057, -49.271892965], [-16.667372695, -49.271458389], [-16.667175, -49.271056], [-16.667069587, -49.270783], [-16.666851112, -49.269984288], [-16.666373887, -49.268335636], [-16.666373887, -49.268335636], [-16.665277013, -49.264492035], [-16.665277013, -49.264492035], [-16.663886735, -49.25979100000001], [-16.663886735, -49.25979100000001], [-16.662876, -49.256325], [-16.662876, -49.256325], [-16.661996, -49.253265], [-16.661996, -49.253265], [-16.661588, -49.25195], [-16.66127, -49.250761], [-16.66127, -49.250761], [-16.660951, -49.24981799999999], [-16.66064, -49.248708], [-16.660403, -49.247785], [-16.660403, -49.247785], [-16.660109, -49.246876], [-16.659841, -49.24596699999999], [-16.659621114, -49.24517139], [-16.659581222, -49.244973492], [-16.659581833, -49.244748479], [-16.659603, -49.244443], [-16.659603, -49.244443], [-16.659619026, -49.244039191], [-16.659642456, -49.24383996900001], [-16.659678734, -49.243672933], [-16.659745213, -49.243473668], [-16.659799009, -49.243344532], [-16.659847665, -49.243236853], [-16.660253, -49.24249500000001], [-16.660699665, -49.241689276], [-16.66083306, -49.241425888], [-16.660902327, -49.241262007], [-16.660966455, -49.241098126], [-16.661256, -49.240394], [-16.661256, -49.240394], [-16.661501747, -49.239653521], [-16.661564133, -49.239488428], [-16.661613312, -49.239400517], [-16.661668737, -49.23934315000001], [-16.661749858, -49.239280419], [-16.662486191, -49.23871151299999], [-16.662584815, -49.238652952], [-16.662711215, -49.238599531], [-16.663295, -49.23841199999999], [-16.663295, -49.23841199999999], [-16.665362795, -49.237713703], [-16.665362795, -49.237713703], [-16.667950576, -49.236919907], [-16.667950576, -49.236919907], [-16.669429937, -49.236443984], [-16.669600404, -49.23636571799999], [-16.669729759, -49.236287452], [-16.669883524, -49.236152858], [-16.669991038, -49.236018265], [-16.670441649, -49.235372601], [-16.670441649, -49.235372601], [-16.670717335, -49.234904012], [-16.670770699, -49.234824434], [-16.670821791, -49.234769892], [-16.67085633, -49.234735916], [-16.670896008, -49.234712669], [-16.670974079, -49.234678244], [-16.671039303, -49.234659912], [-16.671118658, -49.234671085], [-16.671195445, -49.234701033], [-16.671259728, -49.234747519], [-16.671316304, -49.234796686], [-16.671380564, -49.23484541], [-16.671460241, -49.23489949900001], [-16.671500079, -49.234945989], [-16.67152964, -49.23500589], [-16.671552789, -49.235093506], [-16.671546, -49.235273]],\n",
       "                {&quot;bubblingMouseEvents&quot;: true, &quot;color&quot;: &quot;red&quot;, &quot;dashArray&quot;: null, &quot;dashOffset&quot;: null, &quot;fill&quot;: false, &quot;fillColor&quot;: &quot;red&quot;, &quot;fillOpacity&quot;: 0.2, &quot;fillRule&quot;: &quot;evenodd&quot;, &quot;lineCap&quot;: &quot;round&quot;, &quot;lineJoin&quot;: &quot;round&quot;, &quot;noClip&quot;: false, &quot;opacity&quot;: 1, &quot;smoothFactor&quot;: 1.0, &quot;stroke&quot;: true, &quot;weight&quot;: 2.5}\n",
       "            ).addTo(map_bb2fc22e32afdb51e2212cf8dfe6de46);\n",
       "        \n",
       "    \n",
       "        var popup_60b9c04520ffccf9085a16efda68b9ce = L.popup({&quot;maxWidth&quot;: &quot;100%&quot;});\n",
       "\n",
       "        \n",
       "            \n",
       "                var html_bccfc6f52750267f7db7e0c0cdc0591a = $(`&lt;div id=&quot;html_bccfc6f52750267f7db7e0c0cdc0591a&quot; style=&quot;width: 100.0%; height: 100.0%;&quot;&gt;Planned 318&lt;/div&gt;`)[0];\n",
       "                popup_60b9c04520ffccf9085a16efda68b9ce.setContent(html_bccfc6f52750267f7db7e0c0cdc0591a);\n",
       "            \n",
       "        \n",
       "\n",
       "        poly_line_64d1ada326ef1257b8e48a56f2575515.bindPopup(popup_60b9c04520ffccf9085a16efda68b9ce)\n",
       "        ;\n",
       "\n",
       "        \n",
       "    \n",
       "    \n",
       "            var poly_line_99b6eeefbfb39eb7bbf28f9c55ed502c = L.polyline(\n",
       "                [[-16.671546, -49.235273], [-16.671530666, -49.23620854499999], [-16.671522336, -49.236730098], [-16.671500483, -49.23681384900001], [-16.671463214, -49.23687882400001], [-16.671404091, -49.236952447], [-16.671354579, -49.237019228], [-16.671340435, -49.23705034000001], [-16.671330145, -49.237084134], [-16.671326599, -49.237140727], [-16.671330762, -49.237191956], [-16.671357691, -49.237257396], [-16.671411451, -49.237307259], [-16.671462441, -49.237331885], [-16.671510463, -49.23733822100001], [-16.671569361, -49.23733377], [-16.671628259, -49.237318591], [-16.671668529, -49.237289329], [-16.671716507, -49.237233246], [-16.67173076, -49.237170792], [-16.67174139, -49.23711461], [-16.671748165, -49.237049041], [-16.671747553, -49.236969725], [-16.671739875, -49.236897785], [-16.6717355, -49.236829632], [-16.67173241, -49.236760137], [-16.671762, -49.236208], [-16.671762, -49.236208], [-16.671762, -49.235273], [-16.671762, -49.235273], [-16.671727072, -49.235182359], [-16.671703185, -49.235116922], [-16.671699853, -49.235040756], [-16.671715193, -49.234980819], [-16.671736995, -49.234940121], [-16.671774139, -49.234893969], [-16.671862066, -49.23484962199999], [-16.671946096, -49.234832961], [-16.672028013, -49.234821618], [-16.672120209, -49.23482100500001], [-16.672205017, -49.23483648500001], [-16.672277621, -49.234860347], [-16.672356986, -49.23490895], [-16.672504441, -49.235005163], [-16.673147, -49.23550599999999], [-16.673147, -49.23550599999999], [-16.673831921, -49.23602888999999], [-16.674313772, -49.236415731], [-16.67460161, -49.236642159], [-16.67465045, -49.23668958300001], [-16.674676034, -49.236750637], [-16.674686202, -49.236795598], [-16.674686092, -49.236833685], [-16.674691763, -49.23687110200001], [-16.674703106, -49.23690754599999], [-16.674720229, -49.236950361], [-16.674737945, -49.23698132400001], [-16.674762726, -49.237008599], [-16.67478574, -49.23702833000001], [-16.674813573, -49.23704772499999], [-16.674840602, -49.237060751], [-16.67486988, -49.237071765], [-16.674920085, -49.23710854399999], [-16.674940602, -49.237139441], [-16.675027923, -49.237427829], [-16.675103, -49.23767], [-16.675103, -49.23767], [-16.675567094, -49.239277352], [-16.676071, -49.24099200000001], [-16.676071, -49.24099200000001], [-16.676304171, -49.241824422], [-16.676311979, -49.241893421], [-16.676301802, -49.241935599], [-16.676271229, -49.241991523], [-16.676235518, -49.242020625], [-16.676140811, -49.242100287], [-16.676094922, -49.242143068], [-16.676034741, -49.24221418], [-16.676011907, -49.242251739], [-16.675988431, -49.242296675], [-16.675964604, -49.242352347], [-16.675942703, -49.242413552], [-16.675929154, -49.242475427], [-16.675921867, -49.242539146], [-16.675921003, -49.242600183], [-16.675930035, -49.242727453], [-16.67593168, -49.242805438], [-16.675920168, -49.242855654], [-16.675910582, -49.242897823], [-16.675912077, -49.242937142], [-16.675921281, -49.242976462], [-16.675939156, -49.24301326699999], [-16.67596474, -49.243042025], [-16.67601687, -49.24308411799999], [-16.676051577, -49.24313157700001], [-16.676086283, -49.24320585699999], [-16.67614317, -49.243315862], [-16.676189939, -49.243428213], [-16.676225147, -49.243546934], [-16.676244135, -49.24364905899999], [-16.676251561, -49.243728385], [-16.676260733, -49.243791685], [-16.676271833, -49.243854315], [-16.676284398, -49.243912519], [-16.676297184, -49.243971042], [-16.676315109, -49.244030235], [-16.676335542, -49.244092295], [-16.676360028, -49.244265364], [-16.676360028, -49.244265364], [-16.676400929, -49.244348779], [-16.676472735, -49.24458180000001], [-16.676513776, -49.24473318], [-16.676526554, -49.244809457], [-16.676530525, -49.24492335400001], [-16.676514525, -49.244995054], [-16.676508802, -49.245058708], [-16.676515029, -49.24511731700001], [-16.676537413, -49.245173444], [-16.67657173, -49.2452176], [-16.676654865, -49.245293943], [-16.676685812, -49.245346825], [-16.676717515, -49.24540095399999], [-16.676752638, -49.245451321], [-16.676793541, -49.24549900500001], [-16.676836807, -49.245541401], [-16.676881357, -49.24558128099999], [-16.676932331, -49.24561579700001], [-16.676982549, -49.245646802], [-16.67703919, -49.24567244200001], [-16.677094339, -49.24569455299999], [-16.677147648, -49.245708836], [-16.677200314, -49.245716413], [-16.677272887, -49.245725532], [-16.677334862, -49.245735656], [-16.677364564, -49.24574658699999], [-16.677387347, -49.245765829], [-16.677401307, -49.24580093099999], [-16.677533459, -49.246241047], [-16.677533459, -49.246241047], [-16.678568911, -49.24986341700001], [-16.678568911, -49.24986341700001], [-16.679716598, -49.253691682], [-16.679716598, -49.253691682], [-16.679975805, -49.25456787], [-16.679978993, -49.254623715], [-16.679960986, -49.254700682], [-16.679924993, -49.254740099], [-16.679544448, -49.25487439499999], [-16.679496635, -49.254932249], [-16.679479356, -49.254980027], [-16.679475567, -49.255045911], [-16.679474996, -49.25509018099999], [-16.679592103, -49.25553377], [-16.679599105, -49.255669808], [-16.679567919, -49.255894737], [-16.679464792, -49.256186721], [-16.679469283, -49.25653285700001], [-16.679567706, -49.256911486], [-16.679721739, -49.257156838], [-16.679835367, -49.257266774], [-16.67989615, -49.257289382], [-16.679987183, -49.257317825], [-16.680054367, -49.257360769], [-16.680115512, -49.25740642499999], [-16.680311868, -49.258125951], [-16.680346577, -49.258173762], [-16.680443149, -49.258226244], [-16.680521413, -49.258236146], [-16.680758336, -49.25815719999999], [-16.680758336, -49.25815719999999], [-16.680930801, -49.25810247999999], [-16.680971865, -49.258104712], [-16.681004899, -49.25812001999999], [-16.681026327, -49.25814522], [-16.681062801, -49.258267972], [-16.681250731, -49.258916275], [-16.681533262, -49.259887577], [-16.681618968, -49.26019209499999], [-16.681631929, -49.26026523899999], [-16.681627462, -49.260309677], [-16.681615287, -49.260347408], [-16.681601855, -49.260382638], [-16.681594261, -49.260416387], [-16.681584741, -49.260463546], [-16.68158871, -49.260512717], [-16.681602956, -49.260570605], [-16.681650225, -49.260647494], [-16.681700532, -49.260692422], [-16.681743671, -49.260717568], [-16.681811489, -49.260730141], [-16.68187366, -49.26072569900001], [-16.681940716, -49.26070470199999], [-16.681984522, -49.260667382], [-16.682033402, -49.260604466], [-16.682077144, -49.260533502], [-16.68213239, -49.26044389899999], [-16.682170936, -49.260383798], [-16.682211838, -49.26034713799999], [-16.682281003, -49.260281813], [-16.682332446, -49.26024546199999], [-16.682399306, -49.260200394], [-16.682469228, -49.26016294899999], [-16.682536145, -49.260134169], [-16.682561414, -49.26012816], [-16.682602741, -49.260121482], [-16.68268379, -49.260110303], [-16.682767992, -49.260109073], [-16.682847055, -49.26011052400001], [-16.682906424, -49.260113761], [-16.682958591, -49.26012141500001], [-16.683015827, -49.260130272], [-16.683064069, -49.260140469], [-16.68309668, -49.260148177], [-16.683138167, -49.26016236899999], [-16.683240734, -49.260203158], [-16.683310856, -49.26023447799999], [-16.683366847, -49.260258421], [-16.683412327, -49.260285464], [-16.683486814, -49.26033771], [-16.683584586, -49.260410408], [-16.683630328, -49.260458295], [-16.683675888, -49.26050646], [-16.683763841, -49.260615646], [-16.68380035, -49.260679292], [-16.683831079, -49.260732208], [-16.683861704, -49.260794791], [-16.683883039, -49.260842783], [-16.684144603, -49.261720247], [-16.684144603, -49.261720247], [-16.684502, -49.262959], [-16.684872, -49.264219], [-16.685382819, -49.26601329], [-16.685382819, -49.26601329], [-16.685781, -49.26734], [-16.686211, -49.26881999999999], [-16.686546, -49.270003], [-16.686546, -49.270003], [-16.686916216, -49.271326874], [-16.686958631, -49.271460818], [-16.686972784, -49.271541118], [-16.686979229, -49.271632148], [-16.686972827, -49.271790233], [-16.686865, -49.273187], [-16.686865, -49.273187], [-16.686758, -49.27457], [-16.686608, -49.276467], [-16.686508, -49.27749299999999], [-16.686508, -49.27749299999999], [-16.686458356, -49.278130031], [-16.68644717, -49.278229482], [-16.686425707, -49.278277972], [-16.68638278, -49.27833203500001], [-16.686327759, -49.278386519], [-16.686294546, -49.27842048599999], [-16.686261334, -49.278481276], [-16.686246293, -49.27854921199999], [-16.686247044, -49.278631438], [-16.686253685, -49.278747612], [-16.686243843, -49.278813662], [-16.686228644, -49.278860099], [-16.686208307, -49.27889580599999], [-16.685483, -49.279539], [-16.685483, -49.279539], [-16.683250985, -49.281546364], [-16.683250985, -49.281546364], [-16.682476479, -49.28221558300001], [-16.68241386, -49.282261295], [-16.682341607, -49.282302313], [-16.682296488, -49.282318128], [-16.682268712, -49.282325896], [-16.682227932, -49.28232735], [-16.682164508, -49.28232003200001], [-16.682085666, -49.28231673600001], [-16.682026333, -49.28232078700001], [-16.681976635, -49.28233758], [-16.681938498, -49.282361078], [-16.681894581, -49.282393293], [-16.681860138, -49.28243104], [-16.681828265, -49.28248488], [-16.681813092, -49.28251927499999], [-16.681800488, -49.282561045], [-16.681792382, -49.28262762599999], [-16.681786843, -49.282684819], [-16.681770629, -49.28276902900001], [-16.681729555, -49.282858668], [-16.68169842, -49.282912204], [-16.681666, -49.282953], [-16.680588, -49.28391400000001], [-16.679513577, -49.284875799], [-16.679513577, -49.284875799], [-16.679158147, -49.285156412], [-16.679109116, -49.28518868], [-16.679066292, -49.285192072], [-16.679033105, -49.285184066], [-16.678972296, -49.285147347], [-16.678890433, -49.285112138], [-16.67881435, -49.285086318], [-16.678743145, -49.285073068], [-16.67868286, -49.285069206], [-16.678636338, -49.285070125], [-16.678589816, -49.285075068], [-16.67854302, -49.285083611], [-16.678443004, -49.285113439], [-16.678366755, -49.28514796], [-16.67829298, -49.28518332499999], [-16.67826348, -49.285198661], [-16.678226272, -49.285224056], [-16.678198699, -49.28525213199999], [-16.678176264, -49.285278868], [-16.678135249, -49.285330325], [-16.678102038, -49.28538295199999], [-16.678076118, -49.28542435200001], [-16.678041847, -49.28545301099999], [-16.678007282, -49.285471434], [-16.677972074, -49.285479798], [-16.677933012, -49.285481791], [-16.677899732, -49.28547641], [-16.67625036, -49.285124828], [-16.674837307, -49.28480121799999], [-16.674837307, -49.28480121799999], [-16.674326581, -49.28468347599999], [-16.674262715, -49.284650303], [-16.674200134, -49.28460506], [-16.674158751, -49.284564846], [-16.674126361, -49.284521949], [-16.674102803, -49.28449011699999], [-16.674079245, -49.28445090899999], [-16.674043049, -49.28437785700001], [-16.674019411, -49.284335799], [-16.673993203, -49.284296423], [-16.673953635, -49.284257233], [-16.673900256, -49.284214021], [-16.673848803, -49.284180197], [-16.67381691, -49.284164616], [-16.673785017, -49.284153058], [-16.673739218, -49.284141343], [-16.673688279, -49.284134322], [-16.673646334, -49.284132663], [-16.67361212, -49.28413292], [-16.673577907, -49.284139881], [-16.67351783, -49.284158499], [-16.673462203, -49.284188712], [-16.673402754, -49.28422796], [-16.67334841, -49.284289019], [-16.673308071, -49.284348716], [-16.673282761, -49.284413434], [-16.673278779, -49.284459204], [-16.67328379, -49.28450028], [-16.673302291, -49.28454193], [-16.673302291, -49.28454193], [-16.673323555, -49.284568775], [-16.673349748, -49.284581857], [-16.673383649, -49.284592927], [-16.673431682, -49.284581198], [-16.673481, -49.284546]],\n",
       "                {&quot;bubblingMouseEvents&quot;: true, &quot;color&quot;: &quot;red&quot;, &quot;dashArray&quot;: null, &quot;dashOffset&quot;: null, &quot;fill&quot;: false, &quot;fillColor&quot;: &quot;red&quot;, &quot;fillOpacity&quot;: 0.2, &quot;fillRule&quot;: &quot;evenodd&quot;, &quot;lineCap&quot;: &quot;round&quot;, &quot;lineJoin&quot;: &quot;round&quot;, &quot;noClip&quot;: false, &quot;opacity&quot;: 1, &quot;smoothFactor&quot;: 1.0, &quot;stroke&quot;: true, &quot;weight&quot;: 2.5}\n",
       "            ).addTo(map_bb2fc22e32afdb51e2212cf8dfe6de46);\n",
       "        \n",
       "    \n",
       "        var popup_f9fa7a426814b36887c91a3d1f720338 = L.popup({&quot;maxWidth&quot;: &quot;100%&quot;});\n",
       "\n",
       "        \n",
       "            \n",
       "                var html_d5e43db33e07b33b46e98cdec510b02b = $(`&lt;div id=&quot;html_d5e43db33e07b33b46e98cdec510b02b&quot; style=&quot;width: 100.0%; height: 100.0%;&quot;&gt;Planned 319&lt;/div&gt;`)[0];\n",
       "                popup_f9fa7a426814b36887c91a3d1f720338.setContent(html_d5e43db33e07b33b46e98cdec510b02b);\n",
       "            \n",
       "        \n",
       "\n",
       "        poly_line_99b6eeefbfb39eb7bbf28f9c55ed502c.bindPopup(popup_f9fa7a426814b36887c91a3d1f720338)\n",
       "        ;\n",
       "\n",
       "        \n",
       "    \n",
       "    \n",
       "            var poly_line_80ca29f5b16f5b055f09ede5fd380841 = L.polyline(\n",
       "                [[-16.673732, -49.284612], [-16.673742011, -49.284600331], [-16.67376436, -49.284593155], [-16.673792236, -49.284593591], [-16.673840218, -49.284602526], [-16.673889486, -49.284620848], [-16.674011, -49.28468199999999], [-16.674011, -49.28468199999999], [-16.675592307, -49.28504483899999], [-16.675592307, -49.28504483899999], [-16.67790823, -49.285546389], [-16.677966029, -49.28556901999999], [-16.677999425, -49.285593076], [-16.678025113, -49.285622496], [-16.678046299, -49.28565384400001], [-16.678064915, -49.285687874], [-16.678095701, -49.285802536], [-16.678136718, -49.285916527], [-16.678183517, -49.28601945600001], [-16.678226829, -49.28609372], [-16.678280419, -49.286160607], [-16.67835805, -49.28622263299999], [-16.678434764, -49.286267392], [-16.678507624, -49.286302763], [-16.678591587, -49.286330255], [-16.678686883, -49.286345343], [-16.678759582, -49.286347522], [-16.678821304, -49.2863409], [-16.678879815, -49.286327572], [-16.678935973, -49.28630946700001], [-16.67898057, -49.286289349], [-16.67898057, -49.286289349], [-16.679042142, -49.28623940199999], [-16.679100411, -49.28617310399999], [-16.679149687, -49.286098758], [-16.679201533, -49.286006979], [-16.679246955, -49.285905811], [-16.679272786, -49.285803303], [-16.679281916, -49.285718229], [-16.679282695, -49.285629131], [-16.679270628, -49.285536681], [-16.679247778, -49.285428894], [-16.679231214, -49.285361925], [-16.67922884, -49.285321043], [-16.6792361, -49.285271443], [-16.679265395, -49.285221865], [-16.680594845, -49.284042379], [-16.680876, -49.28380299999999], [-16.680876, -49.28380299999999], [-16.681725922, -49.283017253], [-16.681785498, -49.282979205], [-16.681847644, -49.282954567], [-16.681939176, -49.28293546699999], [-16.682004533, -49.282927258], [-16.682119991, -49.282923073], [-16.682196268, -49.282905476], [-16.682272545, -49.282861057], [-16.682314938, -49.28280574200001], [-16.682344485, -49.282745062], [-16.682363113, -49.28267566500001], [-16.682371463, -49.28260090400001], [-16.682392981, -49.282522454], [-16.682426061, -49.282442664], [-16.68247006, -49.282369579], [-16.682521768, -49.282309905], [-16.683115278, -49.281795], [-16.683115278, -49.281795], [-16.683544531, -49.28143590799999], [-16.684477365, -49.28058864900001], [-16.68586, -49.27933400000001], [-16.68586, -49.27933400000001], [-16.686232888, -49.279013187], [-16.686292122, -49.27898539], [-16.686364203, -49.278979051], [-16.686567458, -49.278977101], [-16.686656689, -49.278981804], [-16.68671672, -49.279002931], [-16.686756196, -49.279029422], [-16.686805311, -49.27908801900001], [-16.686916089, -49.27925926900001], [-16.686997482, -49.279413898], [-16.687079287, -49.279582407], [-16.687143415, -49.279757303], [-16.687186989, -49.279894649], [-16.687225322, -49.28005668800001], [-16.687263137, -49.280240684], [-16.687292321, -49.280448019], [-16.687311179, -49.280511922], [-16.687340314, -49.28055705], [-16.68738101, -49.280574014], [-16.687431983, -49.280569521], [-16.687499245, -49.280521643], [-16.687700108, -49.280366477], [-16.687733739, -49.28033180900001], [-16.687749385, -49.28029177600001], [-16.6877509, -49.280238333], [-16.687734431, -49.280192936], [-16.687058498, -49.279283645], [-16.686806489, -49.278953715], [-16.686787925, -49.278895239], [-16.686783781, -49.278837837], [-16.686811256, -49.278723306], [-16.686824993, -49.27861910200001], [-16.686813038, -49.27852830900001], [-16.686776488, -49.278456421], [-16.686717892, -49.278391511], [-16.686655194, -49.27834028000001], [-16.686613567, -49.278282478], [-16.686595065, -49.278230041], [-16.68659349, -49.278159229], [-16.686639723, -49.277424174], [-16.68666, -49.277145], [-16.68666, -49.277145], [-16.686851, -49.274901], [-16.68698, -49.273375], [-16.68698, -49.273375], [-16.687070861, -49.272258374], [-16.687081488, -49.272110893], [-16.687107531, -49.2719956], [-16.687142391, -49.271932588], [-16.687190097, -49.271891035], [-16.687223673, -49.271854846], [-16.68724303, -49.271807247], [-16.687237293, -49.271751261], [-16.687193017, -49.2716765], [-16.687148755, -49.271589411], [-16.687127617, -49.271526463], [-16.686603, -49.269738], [-16.686393, -49.26899100000001], [-16.686393, -49.26899100000001], [-16.685887, -49.267307], [-16.685598, -49.26630400000001], [-16.685158259, -49.264606681], [-16.685158259, -49.264606681], [-16.685011858, -49.264210305], [-16.68436056, -49.261968949], [-16.684106848, -49.261098389], [-16.683978064, -49.26066109800001], [-16.683962489, -49.260604726], [-16.68394049, -49.260549695], [-16.68394049, -49.260549695], [-16.683917741, -49.260511599], [-16.683896087, -49.26047913999999], [-16.683857735, -49.260431259], [-16.683825391, -49.260398936], [-16.683764784, -49.260339122], [-16.683709959, -49.260290035], [-16.683657703, -49.26025301899999], [-16.683591316, -49.260212649], [-16.68352557, -49.260170939], [-16.683460468, -49.260136606], [-16.68338573, -49.260098248], [-16.683265364, -49.260040858], [-16.683225959, -49.260022152], [-16.683176276, -49.260003446], [-16.683118886, -49.259987422], [-16.683053787, -49.259974751], [-16.682982043, -49.259964161], [-16.682908371, -49.259955582], [-16.682824644, -49.259953975], [-16.682731926, -49.259957062], [-16.682678822, -49.259959612], [-16.682632142, -49.259964172], [-16.682539424, -49.259984694], [-16.682489746, -49.260000487], [-16.682449705, -49.26001225699999], [-16.682375403, -49.26003579700001], [-16.68218345, -49.260093166], [-16.681958096, -49.260159251], [-16.681922392, -49.260165378], [-16.681879623, -49.260160106], [-16.681835836, -49.260142857], [-16.681802381, -49.260105399], [-16.681784984, -49.260071965], [-16.681631358, -49.259553813], [-16.681466489, -49.25899251200001], [-16.681247973, -49.258248206], [-16.681229847, -49.25816217500001], [-16.681230991, -49.258111013], [-16.681248193, -49.25805783900001], [-16.68127246, -49.258012711], [-16.681375093, -49.257960207], [-16.681499493, -49.25791111000001], [-16.681678418, -49.257806812], [-16.681883037, -49.25765423399999], [-16.681883037, -49.25765423399999], [-16.682010638, -49.257510188], [-16.682059664, -49.257447552], [-16.682104837, -49.257384917], [-16.682185547, -49.257249588], [-16.682263688, -49.257100848], [-16.682363669, -49.256855212], [-16.682428964, -49.256570685], [-16.682438648, -49.256479049], [-16.682443193, -49.256357908], [-16.682443884, -49.256282365], [-16.682438152, -49.256204139], [-16.682426308, -49.25608717499999], [-16.682411894, -49.255984964], [-16.682381139, -49.255846255], [-16.682335217, -49.255690577], [-16.682286084, -49.255579825], [-16.682192956, -49.255406601], [-16.682063215, -49.25521125], [-16.681980359, -49.255112568], [-16.681943427, -49.25507060300001], [-16.681896218, -49.255025956], [-16.681729231, -49.254895092], [-16.681537193, -49.254780992], [-16.681345537, -49.254690885], [-16.681236783, -49.25464976599999], [-16.681034027, -49.254610766], [-16.680879446, -49.254589872], [-16.680754787, -49.254583564], [-16.680617925, -49.254577255], [-16.680544652, -49.254576647], [-16.680464956, -49.254579391], [-16.680278542, -49.25460807500001], [-16.680225734, -49.254595856], [-16.680191667, -49.254567388], [-16.680155031, -49.25450137], [-16.679944, -49.253798], [-16.679872, -49.253524], [-16.679872, -49.253524], [-16.67976064, -49.25311771400001], [-16.679712025, -49.25294340500001], [-16.679631293, -49.252687289], [-16.679501945, -49.252262228], [-16.679399575, -49.251922999], [-16.679242284, -49.251408757], [-16.6790927, -49.250894515], [-16.678943756, -49.250379603], [-16.678846159, -49.250044364], [-16.678737, -49.24963], [-16.678737, -49.24963], [-16.678224421, -49.247879861], [-16.677952067, -49.246928351], [-16.677801757, -49.246390237], [-16.677672, -49.245946], [-16.677672, -49.245946], [-16.677620575, -49.24578008400001], [-16.677614133, -49.245734677], [-16.677635954, -49.24568927], [-16.677677045, -49.245645204], [-16.677749626, -49.24559395399999], [-16.677799082, -49.245556115], [-16.677854314, -49.245504578], [-16.677907619, -49.245422196], [-16.677949688, -49.245335407], [-16.67797634, -49.245259347], [-16.678005562, -49.245153782], [-16.67801423, -49.245080404], [-16.678008765, -49.244970816], [-16.67800073, -49.244869275], [-16.677989791, -49.244770894], [-16.677978852, -49.244688606], [-16.677947854, -49.244601649], [-16.677906579, -49.244530786], [-16.677848603, -49.244462605], [-16.677806042, -49.244391742], [-16.677769906, -49.24428601], [-16.677733769, -49.244185642], [-16.677700201, -49.244063817], [-16.677676911, -49.24396345], [-16.677635723, -49.24377913999999], [-16.677635723, -49.24377913999999], [-16.677500146, -49.243344869], [-16.677415957, -49.243084941], [-16.677394489, -49.242973166], [-16.677383983, -49.24286408500001], [-16.677378616, -49.242752322], [-16.677370851, -49.242630504], [-16.677365655, -49.242554284], [-16.677357833, -49.24249974400001], [-16.677340643, -49.242459371], [-16.677313176, -49.24242168], [-16.677280081, -49.24238519], [-16.677248913, -49.24232523200001], [-16.677208751, -49.242229062], [-16.677161774, -49.242161672], [-16.677113146, -49.242104337], [-16.677049281, -49.24204172400001], [-16.676998261, -49.24200325], [-16.676957889, -49.241978606], [-16.6768876, -49.241944826], [-16.676821164, -49.241919093], [-16.676761522, -49.24189981399999], [-16.676718032, -49.2418921], [-16.676675116, -49.241886725], [-16.676613693, -49.241884023], [-16.676564039, -49.241878597], [-16.676530444, -49.24187183], [-16.676496849, -49.241857017], [-16.676468199, -49.241832754], [-16.676444688, -49.241776305], [-16.676166, -49.24079699999999], [-16.676166, -49.24079699999999], [-16.675728475, -49.239251467], [-16.67521, -49.237486], [-16.67521, -49.237486], [-16.675115013, -49.237186121], [-16.675109686, -49.237124941], [-16.675132332, -49.23707178299999], [-16.675164659, -49.237034181], [-16.675185423, -49.236996578], [-16.675212981, -49.236965293], [-16.675230903, -49.236933339], [-16.675256792, -49.236867418], [-16.675264468, -49.236829648], [-16.675265721, -49.23679053600001], [-16.675265368, -49.23675813], [-16.675257307, -49.23670896], [-16.675246195, -49.236672363], [-16.675225768, -49.23663409], [-16.675207429, -49.236607048], [-16.675188448, -49.23658268800001], [-16.675154853, -49.236552797], [-16.675109375, -49.236526594], [-16.675057923, -49.23650469700001], [-16.675013216, -49.236497888], [-16.674989706, -49.236497784], [-16.674950137, -49.236498351], [-16.674921489, -49.2365016], [-16.674881278, -49.236513902], [-16.674843348, -49.236529608], [-16.674810556, -49.236551349], [-16.674781844, -49.23657327], [-16.674748699, -49.236610885], [-16.674721207, -49.236653162], [-16.674703992, -49.23669141500001], [-16.674677849, -49.236740494], [-16.674641044, -49.236766836], [-16.67453435, -49.236793387], [-16.67433669, -49.236805126], [-16.673879517, -49.23682625299999], [-16.673222116, -49.23686180199999], [-16.671951637, -49.23694564], [-16.67190725, -49.23694386], [-16.671869287, -49.236938056], [-16.671790156, -49.236917214], [-16.671751493, -49.236875586], [-16.671738986, -49.236824038]],\n",
       "                {&quot;bubblingMouseEvents&quot;: true, &quot;color&quot;: &quot;red&quot;, &quot;dashArray&quot;: null, &quot;dashOffset&quot;: null, &quot;fill&quot;: false, &quot;fillColor&quot;: &quot;red&quot;, &quot;fillOpacity&quot;: 0.2, &quot;fillRule&quot;: &quot;evenodd&quot;, &quot;lineCap&quot;: &quot;round&quot;, &quot;lineJoin&quot;: &quot;round&quot;, &quot;noClip&quot;: false, &quot;opacity&quot;: 1, &quot;smoothFactor&quot;: 1.0, &quot;stroke&quot;: true, &quot;weight&quot;: 2.5}\n",
       "            ).addTo(map_bb2fc22e32afdb51e2212cf8dfe6de46);\n",
       "        \n",
       "    \n",
       "        var popup_36c7b45fed002e63604b06b78414c175 = L.popup({&quot;maxWidth&quot;: &quot;100%&quot;});\n",
       "\n",
       "        \n",
       "            \n",
       "                var html_97c4b3aaf7e1464310577ac2b16b4803 = $(`&lt;div id=&quot;html_97c4b3aaf7e1464310577ac2b16b4803&quot; style=&quot;width: 100.0%; height: 100.0%;&quot;&gt;Planned 320&lt;/div&gt;`)[0];\n",
       "                popup_36c7b45fed002e63604b06b78414c175.setContent(html_97c4b3aaf7e1464310577ac2b16b4803);\n",
       "            \n",
       "        \n",
       "\n",
       "        poly_line_80ca29f5b16f5b055f09ede5fd380841.bindPopup(popup_36c7b45fed002e63604b06b78414c175)\n",
       "        ;\n",
       "\n",
       "        \n",
       "    \n",
       "    \n",
       "            var poly_line_62ca0fb78ac6c319925280669b8448ce = L.polyline(\n",
       "                [[-16.671738986, -49.236824038], [-16.671767, -49.23591800000001], [-16.671767, -49.23591800000001], [-16.671762, -49.235273], [-16.671762, -49.235273], [-16.671719601, -49.23521496599999], [-16.671695645, -49.235156437], [-16.671686558, -49.23504938799999], [-16.671692316, -49.235010556], [-16.671703213, -49.234977088], [-16.671740423, -49.234926246], [-16.671806218, -49.234873393], [-16.671888714, -49.234816516], [-16.671978277, -49.234727452], [-16.672028014, -49.234606201], [-16.67205755, -49.234432475], [-16.672044057, -49.234297512], [-16.672001015, -49.234198761], [-16.671949304, -49.234115186], [-16.671861619, -49.234036976], [-16.671755948, -49.233980224], [-16.671699259, -49.23396593], [-16.67164, -49.233957], [-16.671491334, -49.23398557600001], [-16.671424709, -49.234015958], [-16.671363223, -49.234057068], [-16.67125925, -49.234136632], [-16.671183542, -49.234216195], [-16.67105525, -49.23438605099999], [-16.670922, -49.234468271], [-16.670773048, -49.234516174], [-16.670675485, -49.234617721], [-16.670562582, -49.234831543], [-16.670483083, -49.23501049600001], [-16.670372749, -49.23520554200001], [-16.670208709, -49.235487996], [-16.669983, -49.23580799999999], [-16.669983, -49.23580799999999], [-16.669824974, -49.236034743], [-16.669713199, -49.23615688], [-16.669602706, -49.23623753999999], [-16.669520478, -49.23628467099999], [-16.669438249, -49.236310344], [-16.667377, -49.23692], [-16.667377, -49.23692], [-16.665188, -49.237616], [-16.665188, -49.237616], [-16.662965, -49.238312], [-16.662965, -49.238312], [-16.662704594, -49.238417095], [-16.662536692, -49.238500732], [-16.662349926, -49.23863581900001], [-16.661925, -49.23896500000001], [-16.661678605, -49.239164973], [-16.661524715, -49.23932203], [-16.661417364, -49.239480576], [-16.661336281, -49.239652828], [-16.661133, -49.240228], [-16.661133, -49.240228], [-16.660872843, -49.241012535], [-16.660725747, -49.241389373], [-16.659859835, -49.243000178], [-16.659720235, -49.243258321], [-16.659596472, -49.243502727], [-16.659524102, -49.24372031000001], [-16.659478734, -49.243906682], [-16.659451775, -49.244103093], [-16.659432526, -49.244323644], [-16.65943, -49.244636], [-16.65943, -49.244636], [-16.65965, -49.245641], [-16.659927, -49.24661499999999], [-16.660261, -49.247928], [-16.660261, -49.247928], [-16.660923, -49.250151], [-16.660923, -49.250151], [-16.662381, -49.255138], [-16.662381, -49.255138], [-16.663791, -49.260081], [-16.663791, -49.260081], [-16.664933, -49.263982], [-16.664933, -49.263982], [-16.665372835, -49.26550339900001], [-16.666028, -49.267721], [-16.666028, -49.267721], [-16.666634166, -49.269726178], [-16.666854, -49.270434], [-16.666854, -49.270434], [-16.666989327, -49.270897827], [-16.667044143, -49.271072073], [-16.667111806, -49.271222179], [-16.667846, -49.27257299999999], [-16.667846, -49.27257299999999], [-16.66833743, -49.273390822], [-16.668471618, -49.273573277], [-16.668600666, -49.27373963900001], [-16.668759264, -49.273911366], [-16.668923, -49.274067], [-16.66911795, -49.274235518], [-16.669333456, -49.274404037], [-16.670006, -49.274843], [-16.670006, -49.274843], [-16.670551085, -49.275130779], [-16.670629544, -49.27517590200001], [-16.670687446, -49.275215661], [-16.670727362, -49.275258102], [-16.670757, -49.275322], [-16.67076974, -49.27540173599999], [-16.670761925, -49.275481473], [-16.670754109, -49.27555048], [-16.670723169, -49.27561412299999], [-16.670665142, -49.275682401], [-16.670540308, -49.275785547], [-16.670005, -49.276233], [-16.669922219, -49.27631280100001], [-16.669859993, -49.27641406], [-16.669735541, -49.276702408], [-16.669534, -49.277206], [-16.669534, -49.277206], [-16.669418109, -49.27758116099999], [-16.669374938, -49.277760694], [-16.669362988, -49.277857837], [-16.669360032, -49.277953639], [-16.669377952, -49.278045753], [-16.669402296, -49.27814189], [-16.669435633, -49.278238698], [-16.669481817, -49.278338187], [-16.669602318, -49.27855375699999], [-16.670128, -49.279467], [-16.670128, -49.279467], [-16.671375, -49.281487], [-16.671375, -49.281487], [-16.673230249, -49.284383725], [-16.673302291, -49.28454193], [-16.673302291, -49.28454193], [-16.673313686, -49.28457252299999], [-16.673322958, -49.284610346], [-16.673329661, -49.28465219300001], [-16.673355271, -49.284706382], [-16.673390639, -49.28476247700001], [-16.673436285, -49.28481455], [-16.673494135, -49.284857234], [-16.67355004, -49.2848826], [-16.673616222, -49.284899919], [-16.673667045, -49.284899458], [-16.673707873, -49.284882463], [-16.673741777, -49.284845132], [-16.673757577, -49.284783553], [-16.673755392, -49.284718621], [-16.673745881, -49.284661176], [-16.673732, -49.284612]],\n",
       "                {&quot;bubblingMouseEvents&quot;: true, &quot;color&quot;: &quot;red&quot;, &quot;dashArray&quot;: null, &quot;dashOffset&quot;: null, &quot;fill&quot;: false, &quot;fillColor&quot;: &quot;red&quot;, &quot;fillOpacity&quot;: 0.2, &quot;fillRule&quot;: &quot;evenodd&quot;, &quot;lineCap&quot;: &quot;round&quot;, &quot;lineJoin&quot;: &quot;round&quot;, &quot;noClip&quot;: false, &quot;opacity&quot;: 1, &quot;smoothFactor&quot;: 1.0, &quot;stroke&quot;: true, &quot;weight&quot;: 2.5}\n",
       "            ).addTo(map_bb2fc22e32afdb51e2212cf8dfe6de46);\n",
       "        \n",
       "    \n",
       "        var popup_9163a47e2efee1d17e43b737e3c3b262 = L.popup({&quot;maxWidth&quot;: &quot;100%&quot;});\n",
       "\n",
       "        \n",
       "            \n",
       "                var html_781513f2f7e4e0eca542e981e2859da0 = $(`&lt;div id=&quot;html_781513f2f7e4e0eca542e981e2859da0&quot; style=&quot;width: 100.0%; height: 100.0%;&quot;&gt;Planned 321&lt;/div&gt;`)[0];\n",
       "                popup_9163a47e2efee1d17e43b737e3c3b262.setContent(html_781513f2f7e4e0eca542e981e2859da0);\n",
       "            \n",
       "        \n",
       "\n",
       "        poly_line_62ca0fb78ac6c319925280669b8448ce.bindPopup(popup_9163a47e2efee1d17e43b737e3c3b262)\n",
       "        ;\n",
       "\n",
       "        \n",
       "    \n",
       "    \n",
       "            var poly_line_7156c14f98c7cb612b1dec9bcc9f7868 = L.polyline(\n",
       "                [[-16.705151223923, -49.300676735348], [-16.705264260365, -49.300716968483], [-16.7056675944, -49.301577957577], [-16.704357397928, -49.302007111019], [-16.702934154709, -49.302422853417], [-16.702132612342, -49.301851542897], [-16.702235374372, -49.301658423848], [-16.702325291103, -49.301347287602], [-16.702350981589, -49.300523849434], [-16.702587333905, -49.298780413575], [-16.702553936313, -49.298732133812], [-16.70230730776, -49.298675807423], [-16.702381810169, -49.297991844124], [-16.702507693484, -49.297117443985], [-16.702492279205, -49.297031613297], [-16.702402362553, -49.297002108998], [-16.701228304094, -49.296849223084], [-16.701207751584, -49.296795578904], [-16.701166646557, -49.296766074604], [-16.701102419936, -49.296758027977], [-16.701051038623, -49.296800943322], [-16.700991950096, -49.296814354367], [-16.699925784403, -49.296763392395], [-16.699906516293, -49.296724500358], [-16.6998564192, -49.296700360484], [-16.699807606631, -49.29671243043], [-16.699766501307, -49.296744616932], [-16.698779970783, -49.296709748215], [-16.698749141622, -49.29664269299], [-16.698654085011, -49.296640010781], [-16.698582150247, -49.296690972752], [-16.69684543129, -49.296589048809], [-16.695401578953, -49.296521993584], [-16.693988545637, -49.296808989949], [-16.692513841541, -49.297106715149], [-16.692454750373, -49.297058435387], [-16.692357121447, -49.297074528641], [-16.692303168598, -49.297149630494], [-16.690933788807, -49.297409804768], [-16.690879835556, -49.297369571633], [-16.690787344233, -49.297380300469], [-16.690725683327, -49.297450037903], [-16.689407676689, -49.297728987641], [-16.689388407519, -49.297710212178], [-16.689364642206, -49.297694286562], [-16.689337665361, -49.297684395916], [-16.689334483387, -49.297674986365], [-16.68924134901, -49.29711541051], [-16.689206022165, -49.296860600653], [-16.689243275928, -49.296845848504], [-16.689265756644, -49.296818355861], [-16.689265114338, -49.296771417204], [-16.689240706704, -49.296726490203], [-16.689198314489, -49.296696985903], [-16.689150141507, -49.295976142231], [-16.689116741566, -49.295466522518], [-16.689126376165, -49.295298884454], [-16.689145645362, -49.295241216961], [-16.689145003055, -49.295213724318], [-16.689110318499, -49.295170138422], [-16.689099399286, -49.294977689925], [-16.689079487778, -49.294919351879], [-16.689046730131, -49.294268916193], [-16.689008191716, -49.293645302597], [-16.688967726371, -49.293181950989], [-16.688927903326, -49.292766879144], [-16.688805864908, -49.29208425695], [-16.688739707207, -49.291687290016], [-16.688606107119, -49.290998632851], [-16.688514899313, -49.290489683691], [-16.688430114553, -49.29000755662], [-16.688392218322, -49.289793650451], [-16.688375518286, -49.289780909958], [-16.687851393331, -49.289854000154], [-16.687349747879, -49.289921055379], [-16.686798000593, -49.289991463366], [-16.686301490906, -49.290062541905], [-16.685827461048, -49.290124232712], [-16.685326452604, -49.290187264624], [-16.684725240738, -49.290261025372], [-16.68436641362, -49.290307336321], [-16.684313743161, -49.290296607485], [-16.683882101777, -49.289989494553], [-16.683555800798, -49.289774917832], [-16.683391365449, -49.289698474875], [-16.683273177453, -49.289671652785], [-16.683139573545, -49.289663606158], [-16.683065063632, -49.288951479664], [-16.683157558692, -49.288917952052], [-16.683252623012, -49.28885492014], [-16.683325848199, -49.288750313988], [-16.683355395197, -49.28862290906], [-16.683345117981, -49.288475387564], [-16.683305293764, -49.288323842755], [-16.683193528981, -49.28824203538], [-16.683048363131, -49.28821521329], [-16.68289035062, -49.288246058693], [-16.68276445438, -49.288301043978], [-16.682688659664, -49.288306408396], [-16.682481829865, -49.28821521329], [-16.68169433299, -49.2876827948], [-16.680960788938, -49.287201338282], [-16.680202833283, -49.286691718569], [-16.679407618951, -49.286157958975], [-16.679187938803, -49.286030554047], [-16.679223909839, -49.285920583477], [-16.679258596188, -49.285781108609], [-16.679258596188, -49.285593353978], [-16.679214917081, -49.285401576033], [-16.679092872462, -49.285247349015], [-16.678915586457, -49.285133355132], [-16.678726738139, -49.285075687638], [-16.67849035631, -49.28509714531], [-16.678316923803, -49.285203092566], [-16.678170469564, -49.285346590748], [-16.678090818965, -49.285506182185], [-16.678021445837, -49.285514228812], [-16.677720828655, -49.285487406721], [-16.67681383549, -49.285271488896], [-16.675777083078, -49.285042160025], [-16.674642687073, -49.284790032378], [-16.674091545476, -49.284678720704], [-16.674005469606, -49.284625076523], [-16.673988768313, -49.28460630106]],\n",
       "                {&quot;bubblingMouseEvents&quot;: true, &quot;color&quot;: &quot;blue&quot;, &quot;dashArray&quot;: &quot;5&quot;, &quot;dashOffset&quot;: null, &quot;fill&quot;: false, &quot;fillColor&quot;: &quot;blue&quot;, &quot;fillOpacity&quot;: 0.2, &quot;fillRule&quot;: &quot;evenodd&quot;, &quot;lineCap&quot;: &quot;round&quot;, &quot;lineJoin&quot;: &quot;round&quot;, &quot;noClip&quot;: false, &quot;opacity&quot;: 1, &quot;smoothFactor&quot;: 1.0, &quot;stroke&quot;: true, &quot;weight&quot;: 2.5}\n",
       "            ).addTo(map_bb2fc22e32afdb51e2212cf8dfe6de46);\n",
       "        \n",
       "    \n",
       "        var popup_0e6840343d3f59098dfc1a5f6fec9efa = L.popup({&quot;maxWidth&quot;: &quot;100%&quot;});\n",
       "\n",
       "        \n",
       "            \n",
       "                var html_50ad04fde7b5deaa1a6fac82a9ddcd15 = $(`&lt;div id=&quot;html_50ad04fde7b5deaa1a6fac82a9ddcd15&quot; style=&quot;width: 100.0%; height: 100.0%;&quot;&gt;T. PRACA A / SANTA HELENA / CAIS CAMPINAS&lt;/div&gt;`)[0];\n",
       "                popup_0e6840343d3f59098dfc1a5f6fec9efa.setContent(html_50ad04fde7b5deaa1a6fac82a9ddcd15);\n",
       "            \n",
       "        \n",
       "\n",
       "        poly_line_7156c14f98c7cb612b1dec9bcc9f7868.bindPopup(popup_0e6840343d3f59098dfc1a5f6fec9efa)\n",
       "        ;\n",
       "\n",
       "        \n",
       "    \n",
       "    \n",
       "            var poly_line_fed9040cf0583b414cb6d4d4b9c45dde = L.polyline(\n",
       "                [[-16.673411078397, -49.284607948016], [-16.673357085223, -49.284619701805], [-16.67334594941, -49.284657295821], [-16.673348234676, -49.284690183084], [-16.673359488074, -49.284723071205], [-16.673375242362, -49.284755959228], [-16.673395496785, -49.284774751928], [-16.673415751375, -49.284793544571], [-16.673465262198, -49.284833478666], [-16.673490017369, -49.284849921947], [-16.673523774091, -49.284859317325], [-16.673555280427, -49.284873411106], [-16.673598038819, -49.284882806114], [-16.673636296031, -49.284882804524], [-16.673676803347, -49.284878104411], [-16.67373599167, -49.284845954915], [-16.673750221335, -49.284827047974], [-16.673767038252, -49.284805440002], [-16.673785148803, -49.284781131041], [-16.673795497244, -49.284756822422], [-16.673807139596, -49.284739266011], [-16.673818783062, -49.284713604538], [-16.673827839538, -49.284694695637], [-16.673843366028, -49.28467443201], [-16.673858886003, -49.28466227732], [-16.673878280932, -49.284654175197], [-16.673896376417, -49.284654171205], [-16.673914464399, -49.284655516167], [-16.673937711705, -49.28465416209], [-16.673958364557, -49.284655505866], [-16.673973844516, -49.284659546323], [-16.673997055272, -49.284663582645], [-16.674012519936, -49.284668967065], [-16.674024120181, -49.28467031043], [-16.674223460511, -49.28472117075], [-16.674663751136, -49.284822070722], [-16.675394919207, -49.284983175725], [-16.676084783756, -49.28514256077], [-16.676428711023, -49.285225712338], [-16.677608214157, -49.285476990563], [-16.677831823542, -49.285525332458], [-16.677891932954, -49.285542440036], [-16.677930175411, -49.285559547656], [-16.67796841249, -49.285579504848], [-16.678031876024, -49.285653858337], [-16.678058330857, -49.285712986166], [-16.678058362222, -49.285744539953], [-16.678062181654, -49.285791879759], [-16.678081122319, -49.285866847223], [-16.678096274999, -49.285922104048], [-16.678132197431, -49.28600689448], [-16.678157142563, -49.286038150516], [-16.678182090548, -49.286066801832], [-16.678207040542, -49.286092847199], [-16.678227000062, -49.286116291148], [-16.678254446836, -49.286134511201], [-16.678284385995, -49.286157941503], [-16.678316817751, -49.286183974674], [-16.67837668369, -49.286228218493], [-16.678444007884, -49.286264613783], [-16.678478892139, -49.286269762029], [-16.678523724514, -49.286274888532], [-16.678600888166, -49.286282553904], [-16.678663060804, -49.286282426432], [-16.678705301638, -49.286277129235], [-16.678772707279, -49.286263968026], [-16.678820036376, -49.286253466374], [-16.678867325572, -49.286240454381], [-16.678909631944, -49.286222267332], [-16.678941983875, -49.286209276464], [-16.678984290082, -49.286188491461], [-16.679024107789, -49.286170304479], [-16.679066413964, -49.286146921514], [-16.679101254542, -49.286136528545], [-16.679143560955, -49.286120939386], [-16.679178401743, -49.286115742277], [-16.679225685877, -49.286113142661], [-16.679272970261, -49.286118336958], [-16.679292879613, -49.286126130147], [-16.679354211614, -49.286163548163], [-16.679790171094, -49.286453291566], [-16.680033112703, -49.286618747837], [-16.68016478186, -49.286715663427], [-16.680363348308, -49.286839734352], [-16.680627049996, -49.287019558116], [-16.680762415799, -49.287104338728], [-16.68085709171, -49.287167900254], [-16.680909460375, -49.287196128853], [-16.682217700309, -49.288066142262], [-16.682556655896, -49.288288366565], [-16.682611634563, -49.288337273024], [-16.682622557815, -49.288376395748], [-16.68263660856, -49.288422043676], [-16.682641282994, -49.288483995722], [-16.682645984146, -49.288534538952], [-16.682652251475, -49.288594856024], [-16.682653817845, -49.288633978564], [-16.682661650848, -49.288666568299], [-16.68267418037, -49.288713808804], [-16.682689824188, -49.288751260436], [-16.68271172155, -49.288787052329], [-16.68273671455, -49.288821223465], [-16.682761677228, -49.288839145964], [-16.682799116062, -49.288866864029], [-16.682836569255, -49.288883144435], [-16.682869344631, -49.288892862017], [-16.682916148196, -49.288895987433], [-16.683000306724, -49.28890062638], [-16.683032998806, -49.288898887585], [-16.683065667459, -49.288895516031], [-16.683095211727, -49.288890543011], [-16.683129417317, -49.288883958975], [-16.683160492062, -49.288875750554], [-16.683227206813, -49.288855164626], [-16.683279133211, -49.288849097373], [-16.683344424034, -49.288849033588], [-16.683396209452, -49.288854992379], [-16.683436430003, -49.28887298065], [-16.683470888219, -49.288894983918], [-16.683535988119, -49.288936999562], [-16.683973639846, -49.289234064086], [-16.684119376079, -49.28933019385], [-16.68421540666, -49.289400468248], [-16.684292369475, -49.289456789001], [-16.68435219348, -49.289493172674], [-16.684404473222, -49.289521626465], [-16.684501122683, -49.289611408817], [-16.684508239012, -49.289645785645], [-16.684518378129, -49.289709143352], [-16.684522955784, -49.289759854625], [-16.684528966927, -49.289813765865], [-16.684539215104, -49.289878192222], [-16.684584150116, -49.290166163226], [-16.684723692621, -49.290932123796], [-16.684756411416, -49.291124599848], [-16.684794899661, -49.291361039701], [-16.684889417103, -49.291838725793], [-16.684904190764, -49.291954864499], [-16.684960756921, -49.292299984641], [-16.685008910913, -49.292525728902], [-16.685043708959, -49.292724913493], [-16.685070410396, -49.292968115284], [-16.685097305972, -49.293129998083], [-16.685123928873, -49.293227037337], [-16.685708600368, -49.296794690141], [-16.685806442397, -49.296997571086], [-16.68590349183, -49.297057827835], [-16.686007868435, -49.297080510291], [-16.687798496851, -49.296924519754], [-16.687874915224, -49.296891553845], [-16.687925970801, -49.296869706503], [-16.688704285175, -49.296818549722], [-16.689085734603, -49.296787607885], [-16.68913772113, -49.296844557124], [-16.689197114265, -49.296881078458], [-16.689319302874, -49.297677179827], [-16.689277627655, -49.297707768059], [-16.689259501175, -49.297750283831], [-16.689259359258, -49.297803528438], [-16.68929261725, -49.297840679798], [-16.6893438598, -49.297867102336], [-16.689407775205, -49.297840572067], [-16.689452579104, -49.29775488722], [-16.690035070599, -49.297634260587], [-16.690668946178, -49.297513633331], [-16.695416488656, -49.296537593753], [-16.699557821735, -49.296746937196], [-16.700734453306, -49.296812686503], [-16.701276525808, -49.296872383642], [-16.70181859829, -49.296942809987], [-16.702331126543, -49.297003849103], [-16.702802549972, -49.297129261716], [-16.702942567354, -49.297171526517], [-16.703135890005, -49.297616448038], [-16.703461746519, -49.298380482267], [-16.703500076587, -49.298421858926], [-16.703607770513, -49.298398862625], [-16.704103580807, -49.298238110203], [-16.704726439914, -49.299570951309], [-16.705160928174, -49.300492301494], [-16.705168711048, -49.30051123573], [-16.705168712896, -49.300526812948], [-16.70516374853, -49.300543091668], [-16.705153132661, -49.300563014262], [-16.705134768866, -49.300582875308], [-16.705119961005, -49.300594615854], [-16.705103061845, -49.30060633506], [-16.705086879776, -49.300615110255], [-16.705045244549, -49.300646477254]],\n",
       "                {&quot;bubblingMouseEvents&quot;: true, &quot;color&quot;: &quot;blue&quot;, &quot;dashArray&quot;: &quot;5&quot;, &quot;dashOffset&quot;: null, &quot;fill&quot;: false, &quot;fillColor&quot;: &quot;blue&quot;, &quot;fillOpacity&quot;: 0.2, &quot;fillRule&quot;: &quot;evenodd&quot;, &quot;lineCap&quot;: &quot;round&quot;, &quot;lineJoin&quot;: &quot;round&quot;, &quot;noClip&quot;: false, &quot;opacity&quot;: 1, &quot;smoothFactor&quot;: 1.0, &quot;stroke&quot;: true, &quot;weight&quot;: 2.5}\n",
       "            ).addTo(map_bb2fc22e32afdb51e2212cf8dfe6de46);\n",
       "        \n",
       "    \n",
       "        var popup_4af3ffbaeee936b4376ef72e915b2064 = L.popup({&quot;maxWidth&quot;: &quot;100%&quot;});\n",
       "\n",
       "        \n",
       "            \n",
       "                var html_c5062a837a96c2e9b43892818a267573 = $(`&lt;div id=&quot;html_c5062a837a96c2e9b43892818a267573&quot; style=&quot;width: 100.0%; height: 100.0%;&quot;&gt;T. PRACA A / SANTA HELENA / CAIS CAMPINAS&lt;/div&gt;`)[0];\n",
       "                popup_4af3ffbaeee936b4376ef72e915b2064.setContent(html_c5062a837a96c2e9b43892818a267573);\n",
       "            \n",
       "        \n",
       "\n",
       "        poly_line_fed9040cf0583b414cb6d4d4b9c45dde.bindPopup(popup_4af3ffbaeee936b4376ef72e915b2064)\n",
       "        ;\n",
       "\n",
       "        \n",
       "    \n",
       "    \n",
       "            var poly_line_0a59592938f5926d8c39b067595ced0e = L.polyline(\n",
       "                [[-16.705151223923, -49.300676735348], [-16.705264260365, -49.300716968483], [-16.7056675944, -49.301577957577], [-16.704357397928, -49.302007111019], [-16.702934154709, -49.302422853417], [-16.702132612342, -49.301851542897], [-16.702235374372, -49.301658423848], [-16.702325291103, -49.301347287602], [-16.702350981589, -49.300523849434], [-16.702587333905, -49.298780413575], [-16.702553936313, -49.298732133812], [-16.70230730776, -49.298675807423], [-16.702381810169, -49.297991844124], [-16.702507693484, -49.297117443985], [-16.702492279205, -49.297031613297], [-16.702402362553, -49.297002108998], [-16.701228304094, -49.296849223084], [-16.701207751584, -49.296795578904], [-16.701166646557, -49.296766074604], [-16.701102419936, -49.296758027977], [-16.701051038623, -49.296800943322], [-16.700991950096, -49.296814354367], [-16.699925784403, -49.296763392395], [-16.699906516293, -49.296724500358], [-16.6998564192, -49.296700360484], [-16.699807606631, -49.29671243043], [-16.699766501307, -49.296744616932], [-16.698779970783, -49.296709748215], [-16.698749141622, -49.29664269299], [-16.698654085011, -49.296640010781], [-16.698582150247, -49.296690972752], [-16.69684543129, -49.296589048809], [-16.695401578953, -49.296521993584], [-16.693988545637, -49.296808989949], [-16.692513841541, -49.297106715149], [-16.692454750373, -49.297058435387], [-16.692357121447, -49.297074528641], [-16.692303168598, -49.297149630494], [-16.690933788807, -49.297409804768], [-16.690879835556, -49.297369571633], [-16.690787344233, -49.297380300469], [-16.690725683327, -49.297450037903], [-16.689407676689, -49.297728987641], [-16.689388407519, -49.297710212178], [-16.689364642206, -49.297694286562], [-16.689337665361, -49.297684395916], [-16.689334483387, -49.297674986365], [-16.68924134901, -49.29711541051], [-16.689206022165, -49.296860600653], [-16.689243275928, -49.296845848504], [-16.689265756644, -49.296818355861], [-16.689265114338, -49.296771417204], [-16.689240706704, -49.296726490203], [-16.689198314489, -49.296696985903], [-16.689150141507, -49.295976142231], [-16.689116741566, -49.295466522518], [-16.689126376165, -49.295298884454], [-16.689145645362, -49.295241216961], [-16.689145003055, -49.295213724318], [-16.689110318499, -49.295170138422], [-16.689099399286, -49.294977689925], [-16.689079487778, -49.294919351879], [-16.689046730131, -49.294268916193], [-16.689008191716, -49.293645302597], [-16.688967726371, -49.293181950989], [-16.688927903326, -49.292766879144], [-16.688805864908, -49.29208425695], [-16.688739707207, -49.291687290016], [-16.688606107119, -49.290998632851], [-16.688514899313, -49.290489683691], [-16.688430114553, -49.29000755662], [-16.688392218322, -49.289793650451], [-16.688375518286, -49.289780909958], [-16.687851393331, -49.289854000154], [-16.687349747879, -49.289921055379], [-16.686798000593, -49.289991463366], [-16.686301490906, -49.290062541905], [-16.685827461048, -49.290124232712], [-16.685326452604, -49.290187264624], [-16.684725240738, -49.290261025372], [-16.68436641362, -49.290307336321], [-16.684313743161, -49.290296607485], [-16.683882101777, -49.289989494553], [-16.683555800798, -49.289774917832], [-16.683391365449, -49.289698474875], [-16.683273177453, -49.289671652785], [-16.683139573545, -49.289663606158], [-16.683065063632, -49.288951479664], [-16.683157558692, -49.288917952052], [-16.683252623012, -49.28885492014], [-16.683325848199, -49.288750313988], [-16.683355395197, -49.28862290906], [-16.683345117981, -49.288475387564], [-16.683305293764, -49.288323842755], [-16.683193528981, -49.28824203538], [-16.683048363131, -49.28821521329], [-16.68289035062, -49.288246058693], [-16.68276445438, -49.288301043978], [-16.682688659664, -49.288306408396], [-16.682481829865, -49.28821521329], [-16.68169433299, -49.2876827948], [-16.680960788938, -49.287201338282], [-16.680202833283, -49.286691718569], [-16.679407618951, -49.286157958975], [-16.679187938803, -49.286030554047], [-16.679223909839, -49.285920583477], [-16.679258596188, -49.285781108609], [-16.679258596188, -49.285593353978], [-16.679214917081, -49.285401576033], [-16.679092872462, -49.285247349015], [-16.678915586457, -49.285133355132], [-16.678726738139, -49.285075687638], [-16.67849035631, -49.28509714531], [-16.678316923803, -49.285203092566], [-16.678170469564, -49.285346590748], [-16.678090818965, -49.285506182185], [-16.678021445837, -49.285514228812], [-16.677720828655, -49.285487406721], [-16.67681383549, -49.285271488896], [-16.675777083078, -49.285042160025], [-16.674642687073, -49.284790032378], [-16.674091545476, -49.284678720704], [-16.674005469606, -49.284625076523], [-16.673988768313, -49.28460630106]],\n",
       "                {&quot;bubblingMouseEvents&quot;: true, &quot;color&quot;: &quot;blue&quot;, &quot;dashArray&quot;: &quot;5&quot;, &quot;dashOffset&quot;: null, &quot;fill&quot;: false, &quot;fillColor&quot;: &quot;blue&quot;, &quot;fillOpacity&quot;: 0.2, &quot;fillRule&quot;: &quot;evenodd&quot;, &quot;lineCap&quot;: &quot;round&quot;, &quot;lineJoin&quot;: &quot;round&quot;, &quot;noClip&quot;: false, &quot;opacity&quot;: 1, &quot;smoothFactor&quot;: 1.0, &quot;stroke&quot;: true, &quot;weight&quot;: 2.5}\n",
       "            ).addTo(map_bb2fc22e32afdb51e2212cf8dfe6de46);\n",
       "        \n",
       "    \n",
       "        var popup_7374b10677a129dc5b5a942f6fece7f3 = L.popup({&quot;maxWidth&quot;: &quot;100%&quot;});\n",
       "\n",
       "        \n",
       "            \n",
       "                var html_cb60d051fe5892cf168d78344945683d = $(`&lt;div id=&quot;html_cb60d051fe5892cf168d78344945683d&quot; style=&quot;width: 100.0%; height: 100.0%;&quot;&gt;T. PRACA A / CAIS CAMPINAS / SANTA HELENA&lt;/div&gt;`)[0];\n",
       "                popup_7374b10677a129dc5b5a942f6fece7f3.setContent(html_cb60d051fe5892cf168d78344945683d);\n",
       "            \n",
       "        \n",
       "\n",
       "        poly_line_0a59592938f5926d8c39b067595ced0e.bindPopup(popup_7374b10677a129dc5b5a942f6fece7f3)\n",
       "        ;\n",
       "\n",
       "        \n",
       "    \n",
       "    \n",
       "            var poly_line_2de52c38b30b2682f4301392375c41b6 = L.polyline(\n",
       "                [[-16.673411078397, -49.284607948016], [-16.673357085223, -49.284619701805], [-16.67334594941, -49.284657295821], [-16.673348234676, -49.284690183084], [-16.673359488074, -49.284723071205], [-16.673375242362, -49.284755959228], [-16.673395496785, -49.284774751928], [-16.673415751375, -49.284793544571], [-16.673465262198, -49.284833478666], [-16.673490017369, -49.284849921947], [-16.673523774091, -49.284859317325], [-16.673555280427, -49.284873411106], [-16.673598038819, -49.284882806114], [-16.673636296031, -49.284882804524], [-16.673676803347, -49.284878104411], [-16.67373599167, -49.284845954915], [-16.673750221335, -49.284827047974], [-16.673767038252, -49.284805440002], [-16.673785148803, -49.284781131041], [-16.673795497244, -49.284756822422], [-16.673807139596, -49.284739266011], [-16.673818783062, -49.284713604538], [-16.673827839538, -49.284694695637], [-16.673843366028, -49.28467443201], [-16.673858886003, -49.28466227732], [-16.673878280932, -49.284654175197], [-16.673896376417, -49.284654171205], [-16.673914464399, -49.284655516167], [-16.673937711705, -49.28465416209], [-16.673958364557, -49.284655505866], [-16.673973844516, -49.284659546323], [-16.673997055272, -49.284663582645], [-16.674012519936, -49.284668967065], [-16.674024120181, -49.28467031043], [-16.674223460511, -49.28472117075], [-16.674663751136, -49.284822070722], [-16.675394919207, -49.284983175725], [-16.676084783756, -49.28514256077], [-16.676428711023, -49.285225712338], [-16.677608214157, -49.285476990563], [-16.677831823542, -49.285525332458], [-16.677891932954, -49.285542440036], [-16.677930175411, -49.285559547656], [-16.67796841249, -49.285579504848], [-16.678031876024, -49.285653858337], [-16.678058330857, -49.285712986166], [-16.678058362222, -49.285744539953], [-16.678062181654, -49.285791879759], [-16.678081122319, -49.285866847223], [-16.678096274999, -49.285922104048], [-16.678132197431, -49.28600689448], [-16.678157142563, -49.286038150516], [-16.678182090548, -49.286066801832], [-16.678207040542, -49.286092847199], [-16.678227000062, -49.286116291148], [-16.678254446836, -49.286134511201], [-16.678284385995, -49.286157941503], [-16.678316817751, -49.286183974674], [-16.67837668369, -49.286228218493], [-16.678444007884, -49.286264613783], [-16.678478892139, -49.286269762029], [-16.678523724514, -49.286274888532], [-16.678600888166, -49.286282553904], [-16.678663060804, -49.286282426432], [-16.678705301638, -49.286277129235], [-16.678772707279, -49.286263968026], [-16.678820036376, -49.286253466374], [-16.678867325572, -49.286240454381], [-16.678909631944, -49.286222267332], [-16.678941983875, -49.286209276464], [-16.678984290082, -49.286188491461], [-16.679024107789, -49.286170304479], [-16.679066413964, -49.286146921514], [-16.679101254542, -49.286136528545], [-16.679143560955, -49.286120939386], [-16.679178401743, -49.286115742277], [-16.679225685877, -49.286113142661], [-16.679272970261, -49.286118336958], [-16.679292879613, -49.286126130147], [-16.679354211614, -49.286163548163], [-16.679790171094, -49.286453291566], [-16.680033112703, -49.286618747837], [-16.68016478186, -49.286715663427], [-16.680363348308, -49.286839734352], [-16.680627049996, -49.287019558116], [-16.680762415799, -49.287104338728], [-16.68085709171, -49.287167900254], [-16.680909460375, -49.287196128853], [-16.682217700309, -49.288066142262], [-16.682556655896, -49.288288366565], [-16.682611634563, -49.288337273024], [-16.682622557815, -49.288376395748], [-16.68263660856, -49.288422043676], [-16.682641282994, -49.288483995722], [-16.682645984146, -49.288534538952], [-16.682652251475, -49.288594856024], [-16.682653817845, -49.288633978564], [-16.682661650848, -49.288666568299], [-16.68267418037, -49.288713808804], [-16.682689824188, -49.288751260436], [-16.68271172155, -49.288787052329], [-16.68273671455, -49.288821223465], [-16.682761677228, -49.288839145964], [-16.682799116062, -49.288866864029], [-16.682836569255, -49.288883144435], [-16.682869344631, -49.288892862017], [-16.682916148196, -49.288895987433], [-16.683000306724, -49.28890062638], [-16.683032998806, -49.288898887585], [-16.683065667459, -49.288895516031], [-16.683095211727, -49.288890543011], [-16.683129417317, -49.288883958975], [-16.683160492062, -49.288875750554], [-16.683227206813, -49.288855164626], [-16.683279133211, -49.288849097373], [-16.683344424034, -49.288849033588], [-16.683396209452, -49.288854992379], [-16.683436430003, -49.28887298065], [-16.683470888219, -49.288894983918], [-16.683535988119, -49.288936999562], [-16.683973639846, -49.289234064086], [-16.684119376079, -49.28933019385], [-16.68421540666, -49.289400468248], [-16.684292369475, -49.289456789001], [-16.68435219348, -49.289493172674], [-16.684404473222, -49.289521626465], [-16.684501122683, -49.289611408817], [-16.684508239012, -49.289645785645], [-16.684518378129, -49.289709143352], [-16.684522955784, -49.289759854625], [-16.684528966927, -49.289813765865], [-16.684539215104, -49.289878192222], [-16.684584150116, -49.290166163226], [-16.684723692621, -49.290932123796], [-16.684756411416, -49.291124599848], [-16.684794899661, -49.291361039701], [-16.684889417103, -49.291838725793], [-16.684904190764, -49.291954864499], [-16.684960756921, -49.292299984641], [-16.685008910913, -49.292525728902], [-16.685043708959, -49.292724913493], [-16.685070410396, -49.292968115284], [-16.685097305972, -49.293129998083], [-16.685123928873, -49.293227037337], [-16.685708600368, -49.296794690141], [-16.685806442397, -49.296997571086], [-16.68590349183, -49.297057827835], [-16.686007868435, -49.297080510291], [-16.687798496851, -49.296924519754], [-16.687874915224, -49.296891553845], [-16.687925970801, -49.296869706503], [-16.688704285175, -49.296818549722], [-16.689085734603, -49.296787607885], [-16.68913772113, -49.296844557124], [-16.689197114265, -49.296881078458], [-16.689319302874, -49.297677179827], [-16.689277627655, -49.297707768059], [-16.689259501175, -49.297750283831], [-16.689259359258, -49.297803528438], [-16.68929261725, -49.297840679798], [-16.6893438598, -49.297867102336], [-16.689407775205, -49.297840572067], [-16.689452579104, -49.29775488722], [-16.690035070599, -49.297634260587], [-16.690668946178, -49.297513633331], [-16.695416488656, -49.296537593753], [-16.699557821735, -49.296746937196], [-16.700734453306, -49.296812686503], [-16.701276525808, -49.296872383642], [-16.70181859829, -49.296942809987], [-16.702331126543, -49.297003849103], [-16.702802549972, -49.297129261716], [-16.702942567354, -49.297171526517], [-16.703135890005, -49.297616448038], [-16.703461746519, -49.298380482267], [-16.703500076587, -49.298421858926], [-16.703607770513, -49.298398862625], [-16.704103580807, -49.298238110203], [-16.704726439914, -49.299570951309], [-16.705160928174, -49.300492301494], [-16.705168711048, -49.30051123573], [-16.705168712896, -49.300526812948], [-16.70516374853, -49.300543091668], [-16.705153132661, -49.300563014262], [-16.705134768866, -49.300582875308], [-16.705119961005, -49.300594615854], [-16.705103061845, -49.30060633506], [-16.705086879776, -49.300615110255], [-16.705045244549, -49.300646477254]],\n",
       "                {&quot;bubblingMouseEvents&quot;: true, &quot;color&quot;: &quot;blue&quot;, &quot;dashArray&quot;: &quot;5&quot;, &quot;dashOffset&quot;: null, &quot;fill&quot;: false, &quot;fillColor&quot;: &quot;blue&quot;, &quot;fillOpacity&quot;: 0.2, &quot;fillRule&quot;: &quot;evenodd&quot;, &quot;lineCap&quot;: &quot;round&quot;, &quot;lineJoin&quot;: &quot;round&quot;, &quot;noClip&quot;: false, &quot;opacity&quot;: 1, &quot;smoothFactor&quot;: 1.0, &quot;stroke&quot;: true, &quot;weight&quot;: 2.5}\n",
       "            ).addTo(map_bb2fc22e32afdb51e2212cf8dfe6de46);\n",
       "        \n",
       "    \n",
       "        var popup_0495efeaa4c6937a77ac4c9ed9eac37e = L.popup({&quot;maxWidth&quot;: &quot;100%&quot;});\n",
       "\n",
       "        \n",
       "            \n",
       "                var html_3bdc483f448e61e55889facb14871ad7 = $(`&lt;div id=&quot;html_3bdc483f448e61e55889facb14871ad7&quot; style=&quot;width: 100.0%; height: 100.0%;&quot;&gt;T. PRACA A / CAIS CAMPINAS / SANTA HELENA&lt;/div&gt;`)[0];\n",
       "                popup_0495efeaa4c6937a77ac4c9ed9eac37e.setContent(html_3bdc483f448e61e55889facb14871ad7);\n",
       "            \n",
       "        \n",
       "\n",
       "        poly_line_2de52c38b30b2682f4301392375c41b6.bindPopup(popup_0495efeaa4c6937a77ac4c9ed9eac37e)\n",
       "        ;\n",
       "\n",
       "        \n",
       "    \n",
       "    \n",
       "            var poly_line_c2eea2179482b68a3ea68170b1bea26d = L.polyline(\n",
       "                [[-16.705151223923, -49.300676735348], [-16.705264260365, -49.300716968483], [-16.7056675944, -49.301577957577], [-16.704357397928, -49.302007111019], [-16.702934154709, -49.302422853417], [-16.702132612342, -49.301851542897], [-16.702235374372, -49.301658423848], [-16.702325291103, -49.301347287602], [-16.702350981589, -49.300523849434], [-16.702587333905, -49.298780413575], [-16.702553936313, -49.298732133812], [-16.70230730776, -49.298675807423], [-16.702381810169, -49.297991844124], [-16.702507693484, -49.297117443985], [-16.702492279205, -49.297031613297], [-16.702402362553, -49.297002108998], [-16.701228304094, -49.296849223084], [-16.701207751584, -49.296795578904], [-16.701166646557, -49.296766074604], [-16.701102419936, -49.296758027977], [-16.701051038623, -49.296800943322], [-16.700991950096, -49.296814354367], [-16.699925784403, -49.296763392395], [-16.699906516293, -49.296724500358], [-16.6998564192, -49.296700360484], [-16.699807606631, -49.29671243043], [-16.699766501307, -49.296744616932], [-16.698779970783, -49.296709748215], [-16.698749141622, -49.29664269299], [-16.698654085011, -49.296640010781], [-16.698582150247, -49.296690972752], [-16.69684543129, -49.296589048809], [-16.695401578953, -49.296521993584], [-16.693988545637, -49.296808989949], [-16.692513841541, -49.297106715149], [-16.692454750373, -49.297058435387], [-16.692357121447, -49.297074528641], [-16.692303168598, -49.297149630494], [-16.690933788807, -49.297409804768], [-16.690879835556, -49.297369571633], [-16.690787344233, -49.297380300469], [-16.690725683327, -49.297450037903], [-16.689407676689, -49.297728987641], [-16.689388407519, -49.297710212178], [-16.689364642206, -49.297694286562], [-16.689337665361, -49.297684395916], [-16.689334483387, -49.297674986365], [-16.68924134901, -49.29711541051], [-16.689206022165, -49.296860600653], [-16.689243275928, -49.296845848504], [-16.689265756644, -49.296818355861], [-16.689265114338, -49.296771417204], [-16.689240706704, -49.296726490203], [-16.689198314489, -49.296696985903], [-16.689150141507, -49.295976142231], [-16.689116741566, -49.295466522518], [-16.689126376165, -49.295298884454], [-16.689145645362, -49.295241216961], [-16.689145003055, -49.295213724318], [-16.689110318499, -49.295170138422], [-16.689099399286, -49.294977689925], [-16.689079487778, -49.294919351879], [-16.689046730131, -49.294268916193], [-16.689008191716, -49.293645302597], [-16.688967726371, -49.293181950989], [-16.688927903326, -49.292766879144], [-16.688805864908, -49.29208425695], [-16.688739707207, -49.291687290016], [-16.688606107119, -49.290998632851], [-16.688514899313, -49.290489683691], [-16.688430114553, -49.29000755662], [-16.688392218322, -49.289793650451], [-16.688375518286, -49.289780909958], [-16.687851393331, -49.289854000154], [-16.687349747879, -49.289921055379], [-16.686798000593, -49.289991463366], [-16.686301490906, -49.290062541905], [-16.685827461048, -49.290124232712], [-16.685326452604, -49.290187264624], [-16.684725240738, -49.290261025372], [-16.68436641362, -49.290307336321], [-16.684313743161, -49.290296607485], [-16.683882101777, -49.289989494553], [-16.683555800798, -49.289774917832], [-16.683391365449, -49.289698474875], [-16.683273177453, -49.289671652785], [-16.683139573545, -49.289663606158], [-16.683065063632, -49.288951479664], [-16.683157558692, -49.288917952052], [-16.683252623012, -49.28885492014], [-16.683325848199, -49.288750313988], [-16.683355395197, -49.28862290906], [-16.683345117981, -49.288475387564], [-16.683305293764, -49.288323842755], [-16.683193528981, -49.28824203538], [-16.683048363131, -49.28821521329], [-16.68289035062, -49.288246058693], [-16.68276445438, -49.288301043978], [-16.682688659664, -49.288306408396], [-16.682481829865, -49.28821521329], [-16.68169433299, -49.2876827948], [-16.680960788938, -49.287201338282], [-16.680202833283, -49.286691718569], [-16.679407618951, -49.286157958975], [-16.679187938803, -49.286030554047], [-16.679223909839, -49.285920583477], [-16.679258596188, -49.285781108609], [-16.679258596188, -49.285593353978], [-16.679214917081, -49.285401576033], [-16.679092872462, -49.285247349015], [-16.678915586457, -49.285133355132], [-16.678726738139, -49.285075687638], [-16.67849035631, -49.28509714531], [-16.678316923803, -49.285203092566], [-16.678170469564, -49.285346590748], [-16.678090818965, -49.285506182185], [-16.678021445837, -49.285514228812], [-16.677720828655, -49.285487406721], [-16.67681383549, -49.285271488896], [-16.675777083078, -49.285042160025], [-16.674642687073, -49.284790032378], [-16.674091545476, -49.284678720704], [-16.674005469606, -49.284625076523], [-16.673988768313, -49.28460630106]],\n",
       "                {&quot;bubblingMouseEvents&quot;: true, &quot;color&quot;: &quot;blue&quot;, &quot;dashArray&quot;: &quot;5&quot;, &quot;dashOffset&quot;: null, &quot;fill&quot;: false, &quot;fillColor&quot;: &quot;blue&quot;, &quot;fillOpacity&quot;: 0.2, &quot;fillRule&quot;: &quot;evenodd&quot;, &quot;lineCap&quot;: &quot;round&quot;, &quot;lineJoin&quot;: &quot;round&quot;, &quot;noClip&quot;: false, &quot;opacity&quot;: 1, &quot;smoothFactor&quot;: 1.0, &quot;stroke&quot;: true, &quot;weight&quot;: 2.5}\n",
       "            ).addTo(map_bb2fc22e32afdb51e2212cf8dfe6de46);\n",
       "        \n",
       "    \n",
       "        var popup_f3826d1a531ce770cb97f4e8e110d68b = L.popup({&quot;maxWidth&quot;: &quot;100%&quot;});\n",
       "\n",
       "        \n",
       "            \n",
       "                var html_1e5988725da4fe049e6549cdc853d546 = $(`&lt;div id=&quot;html_1e5988725da4fe049e6549cdc853d546&quot; style=&quot;width: 100.0%; height: 100.0%;&quot;&gt;CIRCULAR - VIA INDEPENDENCIA&lt;/div&gt;`)[0];\n",
       "                popup_f3826d1a531ce770cb97f4e8e110d68b.setContent(html_1e5988725da4fe049e6549cdc853d546);\n",
       "            \n",
       "        \n",
       "\n",
       "        poly_line_c2eea2179482b68a3ea68170b1bea26d.bindPopup(popup_f3826d1a531ce770cb97f4e8e110d68b)\n",
       "        ;\n",
       "\n",
       "        \n",
       "    \n",
       "    \n",
       "            var poly_line_a3eacc0c19c0247041d311342aaa96be = L.polyline(\n",
       "                [[-16.673411078397, -49.284607948016], [-16.673357085223, -49.284619701805], [-16.67334594941, -49.284657295821], [-16.673348234676, -49.284690183084], [-16.673359488074, -49.284723071205], [-16.673375242362, -49.284755959228], [-16.673395496785, -49.284774751928], [-16.673415751375, -49.284793544571], [-16.673465262198, -49.284833478666], [-16.673490017369, -49.284849921947], [-16.673523774091, -49.284859317325], [-16.673555280427, -49.284873411106], [-16.673598038819, -49.284882806114], [-16.673636296031, -49.284882804524], [-16.673676803347, -49.284878104411], [-16.67373599167, -49.284845954915], [-16.673750221335, -49.284827047974], [-16.673767038252, -49.284805440002], [-16.673785148803, -49.284781131041], [-16.673795497244, -49.284756822422], [-16.673807139596, -49.284739266011], [-16.673818783062, -49.284713604538], [-16.673827839538, -49.284694695637], [-16.673843366028, -49.28467443201], [-16.673858886003, -49.28466227732], [-16.673878280932, -49.284654175197], [-16.673896376417, -49.284654171205], [-16.673914464399, -49.284655516167], [-16.673937711705, -49.28465416209], [-16.673958364557, -49.284655505866], [-16.673973844516, -49.284659546323], [-16.673997055272, -49.284663582645], [-16.674012519936, -49.284668967065], [-16.674024120181, -49.28467031043], [-16.674223460511, -49.28472117075], [-16.674663751136, -49.284822070722], [-16.675394919207, -49.284983175725], [-16.676084783756, -49.28514256077], [-16.676428711023, -49.285225712338], [-16.677608214157, -49.285476990563], [-16.677831823542, -49.285525332458], [-16.677891932954, -49.285542440036], [-16.677930175411, -49.285559547656], [-16.67796841249, -49.285579504848], [-16.678031876024, -49.285653858337], [-16.678058330857, -49.285712986166], [-16.678058362222, -49.285744539953], [-16.678062181654, -49.285791879759], [-16.678081122319, -49.285866847223], [-16.678096274999, -49.285922104048], [-16.678132197431, -49.28600689448], [-16.678157142563, -49.286038150516], [-16.678182090548, -49.286066801832], [-16.678207040542, -49.286092847199], [-16.678227000062, -49.286116291148], [-16.678254446836, -49.286134511201], [-16.678284385995, -49.286157941503], [-16.678316817751, -49.286183974674], [-16.67837668369, -49.286228218493], [-16.678444007884, -49.286264613783], [-16.678478892139, -49.286269762029], [-16.678523724514, -49.286274888532], [-16.678600888166, -49.286282553904], [-16.678663060804, -49.286282426432], [-16.678705301638, -49.286277129235], [-16.678772707279, -49.286263968026], [-16.678820036376, -49.286253466374], [-16.678867325572, -49.286240454381], [-16.678909631944, -49.286222267332], [-16.678941983875, -49.286209276464], [-16.678984290082, -49.286188491461], [-16.679024107789, -49.286170304479], [-16.679066413964, -49.286146921514], [-16.679101254542, -49.286136528545], [-16.679143560955, -49.286120939386], [-16.679178401743, -49.286115742277], [-16.679225685877, -49.286113142661], [-16.679272970261, -49.286118336958], [-16.679292879613, -49.286126130147], [-16.679354211614, -49.286163548163], [-16.679790171094, -49.286453291566], [-16.680033112703, -49.286618747837], [-16.68016478186, -49.286715663427], [-16.680363348308, -49.286839734352], [-16.680627049996, -49.287019558116], [-16.680762415799, -49.287104338728], [-16.68085709171, -49.287167900254], [-16.680909460375, -49.287196128853], [-16.682217700309, -49.288066142262], [-16.682556655896, -49.288288366565], [-16.682611634563, -49.288337273024], [-16.682622557815, -49.288376395748], [-16.68263660856, -49.288422043676], [-16.682641282994, -49.288483995722], [-16.682645984146, -49.288534538952], [-16.682652251475, -49.288594856024], [-16.682653817845, -49.288633978564], [-16.682661650848, -49.288666568299], [-16.68267418037, -49.288713808804], [-16.682689824188, -49.288751260436], [-16.68271172155, -49.288787052329], [-16.68273671455, -49.288821223465], [-16.682761677228, -49.288839145964], [-16.682799116062, -49.288866864029], [-16.682836569255, -49.288883144435], [-16.682869344631, -49.288892862017], [-16.682916148196, -49.288895987433], [-16.683000306724, -49.28890062638], [-16.683032998806, -49.288898887585], [-16.683065667459, -49.288895516031], [-16.683095211727, -49.288890543011], [-16.683129417317, -49.288883958975], [-16.683160492062, -49.288875750554], [-16.683227206813, -49.288855164626], [-16.683279133211, -49.288849097373], [-16.683344424034, -49.288849033588], [-16.683396209452, -49.288854992379], [-16.683436430003, -49.28887298065], [-16.683470888219, -49.288894983918], [-16.683535988119, -49.288936999562], [-16.683973639846, -49.289234064086], [-16.684119376079, -49.28933019385], [-16.68421540666, -49.289400468248], [-16.684292369475, -49.289456789001], [-16.68435219348, -49.289493172674], [-16.684404473222, -49.289521626465], [-16.684501122683, -49.289611408817], [-16.684508239012, -49.289645785645], [-16.684518378129, -49.289709143352], [-16.684522955784, -49.289759854625], [-16.684528966927, -49.289813765865], [-16.684539215104, -49.289878192222], [-16.684584150116, -49.290166163226], [-16.684723692621, -49.290932123796], [-16.684756411416, -49.291124599848], [-16.684794899661, -49.291361039701], [-16.684889417103, -49.291838725793], [-16.684904190764, -49.291954864499], [-16.684960756921, -49.292299984641], [-16.685008910913, -49.292525728902], [-16.685043708959, -49.292724913493], [-16.685070410396, -49.292968115284], [-16.685097305972, -49.293129998083], [-16.685123928873, -49.293227037337], [-16.685708600368, -49.296794690141], [-16.685806442397, -49.296997571086], [-16.68590349183, -49.297057827835], [-16.686007868435, -49.297080510291], [-16.687798496851, -49.296924519754], [-16.687874915224, -49.296891553845], [-16.687925970801, -49.296869706503], [-16.688704285175, -49.296818549722], [-16.689085734603, -49.296787607885], [-16.68913772113, -49.296844557124], [-16.689197114265, -49.296881078458], [-16.689319302874, -49.297677179827], [-16.689277627655, -49.297707768059], [-16.689259501175, -49.297750283831], [-16.689259359258, -49.297803528438], [-16.68929261725, -49.297840679798], [-16.6893438598, -49.297867102336], [-16.689407775205, -49.297840572067], [-16.689452579104, -49.29775488722], [-16.690035070599, -49.297634260587], [-16.690668946178, -49.297513633331], [-16.695416488656, -49.296537593753], [-16.699557821735, -49.296746937196], [-16.700734453306, -49.296812686503], [-16.701276525808, -49.296872383642], [-16.70181859829, -49.296942809987], [-16.702331126543, -49.297003849103], [-16.702802549972, -49.297129261716], [-16.702942567354, -49.297171526517], [-16.703135890005, -49.297616448038], [-16.703461746519, -49.298380482267], [-16.703500076587, -49.298421858926], [-16.703607770513, -49.298398862625], [-16.704103580807, -49.298238110203], [-16.704726439914, -49.299570951309], [-16.705160928174, -49.300492301494], [-16.705168711048, -49.30051123573], [-16.705168712896, -49.300526812948], [-16.70516374853, -49.300543091668], [-16.705153132661, -49.300563014262], [-16.705134768866, -49.300582875308], [-16.705119961005, -49.300594615854], [-16.705103061845, -49.30060633506], [-16.705086879776, -49.300615110255], [-16.705045244549, -49.300646477254]],\n",
       "                {&quot;bubblingMouseEvents&quot;: true, &quot;color&quot;: &quot;blue&quot;, &quot;dashArray&quot;: &quot;5&quot;, &quot;dashOffset&quot;: null, &quot;fill&quot;: false, &quot;fillColor&quot;: &quot;blue&quot;, &quot;fillOpacity&quot;: 0.2, &quot;fillRule&quot;: &quot;evenodd&quot;, &quot;lineCap&quot;: &quot;round&quot;, &quot;lineJoin&quot;: &quot;round&quot;, &quot;noClip&quot;: false, &quot;opacity&quot;: 1, &quot;smoothFactor&quot;: 1.0, &quot;stroke&quot;: true, &quot;weight&quot;: 2.5}\n",
       "            ).addTo(map_bb2fc22e32afdb51e2212cf8dfe6de46);\n",
       "        \n",
       "    \n",
       "        var popup_b7cd8358377002332c7ed48c61451964 = L.popup({&quot;maxWidth&quot;: &quot;100%&quot;});\n",
       "\n",
       "        \n",
       "            \n",
       "                var html_32723cea8b3531b890010faf58063ccf = $(`&lt;div id=&quot;html_32723cea8b3531b890010faf58063ccf&quot; style=&quot;width: 100.0%; height: 100.0%;&quot;&gt;CIRCULAR - VIA INDEPENDENCIA&lt;/div&gt;`)[0];\n",
       "                popup_b7cd8358377002332c7ed48c61451964.setContent(html_32723cea8b3531b890010faf58063ccf);\n",
       "            \n",
       "        \n",
       "\n",
       "        poly_line_a3eacc0c19c0247041d311342aaa96be.bindPopup(popup_b7cd8358377002332c7ed48c61451964)\n",
       "        ;\n",
       "\n",
       "        \n",
       "    \n",
       "    \n",
       "            var poly_line_8a866337d719ac845e135ecb658f77e1 = L.polyline(\n",
       "                [[-16.705151223923, -49.300676735348], [-16.705264260365, -49.300716968483], [-16.7056675944, -49.301577957577], [-16.704357397928, -49.302007111019], [-16.702934154709, -49.302422853417], [-16.702132612342, -49.301851542897], [-16.702235374372, -49.301658423848], [-16.702325291103, -49.301347287602], [-16.702350981589, -49.300523849434], [-16.702587333905, -49.298780413575], [-16.702553936313, -49.298732133812], [-16.70230730776, -49.298675807423], [-16.702381810169, -49.297991844124], [-16.702507693484, -49.297117443985], [-16.702492279205, -49.297031613297], [-16.702402362553, -49.297002108998], [-16.701228304094, -49.296849223084], [-16.701207751584, -49.296795578904], [-16.701166646557, -49.296766074604], [-16.701102419936, -49.296758027977], [-16.701051038623, -49.296800943322], [-16.700991950096, -49.296814354367], [-16.699925784403, -49.296763392395], [-16.699906516293, -49.296724500358], [-16.6998564192, -49.296700360484], [-16.699807606631, -49.29671243043], [-16.699766501307, -49.296744616932], [-16.698779970783, -49.296709748215], [-16.698749141622, -49.29664269299], [-16.698654085011, -49.296640010781], [-16.698582150247, -49.296690972752], [-16.69684543129, -49.296589048809], [-16.695401578953, -49.296521993584], [-16.693988545637, -49.296808989949], [-16.692513841541, -49.297106715149], [-16.692454750373, -49.297058435387], [-16.692357121447, -49.297074528641], [-16.692303168598, -49.297149630494], [-16.690933788807, -49.297409804768], [-16.690879835556, -49.297369571633], [-16.690787344233, -49.297380300469], [-16.690725683327, -49.297450037903], [-16.689407676689, -49.297728987641], [-16.689388407519, -49.297710212178], [-16.689364642206, -49.297694286562], [-16.689337665361, -49.297684395916], [-16.689334483387, -49.297674986365], [-16.68924134901, -49.29711541051], [-16.689206022165, -49.296860600653], [-16.689243275928, -49.296845848504], [-16.689265756644, -49.296818355861], [-16.689265114338, -49.296771417204], [-16.689240706704, -49.296726490203], [-16.689198314489, -49.296696985903], [-16.689150141507, -49.295976142231], [-16.689116741566, -49.295466522518], [-16.689126376165, -49.295298884454], [-16.689145645362, -49.295241216961], [-16.689145003055, -49.295213724318], [-16.689110318499, -49.295170138422], [-16.689099399286, -49.294977689925], [-16.689079487778, -49.294919351879], [-16.689046730131, -49.294268916193], [-16.689008191716, -49.293645302597], [-16.688967726371, -49.293181950989], [-16.688927903326, -49.292766879144], [-16.688805864908, -49.29208425695], [-16.688739707207, -49.291687290016], [-16.688606107119, -49.290998632851], [-16.688514899313, -49.290489683691], [-16.688430114553, -49.29000755662], [-16.688392218322, -49.289793650451], [-16.688375518286, -49.289780909958], [-16.687851393331, -49.289854000154], [-16.687349747879, -49.289921055379], [-16.686798000593, -49.289991463366], [-16.686301490906, -49.290062541905], [-16.685827461048, -49.290124232712], [-16.685326452604, -49.290187264624], [-16.684725240738, -49.290261025372], [-16.68436641362, -49.290307336321], [-16.684313743161, -49.290296607485], [-16.683882101777, -49.289989494553], [-16.683555800798, -49.289774917832], [-16.683391365449, -49.289698474875], [-16.683273177453, -49.289671652785], [-16.683139573545, -49.289663606158], [-16.683065063632, -49.288951479664], [-16.683157558692, -49.288917952052], [-16.683252623012, -49.28885492014], [-16.683325848199, -49.288750313988], [-16.683355395197, -49.28862290906], [-16.683345117981, -49.288475387564], [-16.683305293764, -49.288323842755], [-16.683193528981, -49.28824203538], [-16.683048363131, -49.28821521329], [-16.68289035062, -49.288246058693], [-16.68276445438, -49.288301043978], [-16.682688659664, -49.288306408396], [-16.682481829865, -49.28821521329], [-16.68169433299, -49.2876827948], [-16.680960788938, -49.287201338282], [-16.680202833283, -49.286691718569], [-16.679407618951, -49.286157958975], [-16.679187938803, -49.286030554047], [-16.679223909839, -49.285920583477], [-16.679258596188, -49.285781108609], [-16.679258596188, -49.285593353978], [-16.679214917081, -49.285401576033], [-16.679092872462, -49.285247349015], [-16.678915586457, -49.285133355132], [-16.678726738139, -49.285075687638], [-16.67849035631, -49.28509714531], [-16.678316923803, -49.285203092566], [-16.678170469564, -49.285346590748], [-16.678090818965, -49.285506182185], [-16.678021445837, -49.285514228812], [-16.677720828655, -49.285487406721], [-16.67681383549, -49.285271488896], [-16.675777083078, -49.285042160025], [-16.674642687073, -49.284790032378], [-16.674091545476, -49.284678720704], [-16.674005469606, -49.284625076523], [-16.673988768313, -49.28460630106]],\n",
       "                {&quot;bubblingMouseEvents&quot;: true, &quot;color&quot;: &quot;blue&quot;, &quot;dashArray&quot;: &quot;5&quot;, &quot;dashOffset&quot;: null, &quot;fill&quot;: false, &quot;fillColor&quot;: &quot;blue&quot;, &quot;fillOpacity&quot;: 0.2, &quot;fillRule&quot;: &quot;evenodd&quot;, &quot;lineCap&quot;: &quot;round&quot;, &quot;lineJoin&quot;: &quot;round&quot;, &quot;noClip&quot;: false, &quot;opacity&quot;: 1, &quot;smoothFactor&quot;: 1.0, &quot;stroke&quot;: true, &quot;weight&quot;: 2.5}\n",
       "            ).addTo(map_bb2fc22e32afdb51e2212cf8dfe6de46);\n",
       "        \n",
       "    \n",
       "        var popup_1658a46eae92068c66cc529cf33590c2 = L.popup({&quot;maxWidth&quot;: &quot;100%&quot;});\n",
       "\n",
       "        \n",
       "            \n",
       "                var html_24fb0acb5697e346b459671437eb20ec = $(`&lt;div id=&quot;html_24fb0acb5697e346b459671437eb20ec&quot; style=&quot;width: 100.0%; height: 100.0%;&quot;&gt;T. PRACA A / T. BIBLIA (VIA FEIRA HIPPIE)&lt;/div&gt;`)[0];\n",
       "                popup_1658a46eae92068c66cc529cf33590c2.setContent(html_24fb0acb5697e346b459671437eb20ec);\n",
       "            \n",
       "        \n",
       "\n",
       "        poly_line_8a866337d719ac845e135ecb658f77e1.bindPopup(popup_1658a46eae92068c66cc529cf33590c2)\n",
       "        ;\n",
       "\n",
       "        \n",
       "    \n",
       "    \n",
       "            var poly_line_5c82fb32c8e546fcccf72da56b8da334 = L.polyline(\n",
       "                [[-16.673411078397, -49.284607948016], [-16.673357085223, -49.284619701805], [-16.67334594941, -49.284657295821], [-16.673348234676, -49.284690183084], [-16.673359488074, -49.284723071205], [-16.673375242362, -49.284755959228], [-16.673395496785, -49.284774751928], [-16.673415751375, -49.284793544571], [-16.673465262198, -49.284833478666], [-16.673490017369, -49.284849921947], [-16.673523774091, -49.284859317325], [-16.673555280427, -49.284873411106], [-16.673598038819, -49.284882806114], [-16.673636296031, -49.284882804524], [-16.673676803347, -49.284878104411], [-16.67373599167, -49.284845954915], [-16.673750221335, -49.284827047974], [-16.673767038252, -49.284805440002], [-16.673785148803, -49.284781131041], [-16.673795497244, -49.284756822422], [-16.673807139596, -49.284739266011], [-16.673818783062, -49.284713604538], [-16.673827839538, -49.284694695637], [-16.673843366028, -49.28467443201], [-16.673858886003, -49.28466227732], [-16.673878280932, -49.284654175197], [-16.673896376417, -49.284654171205], [-16.673914464399, -49.284655516167], [-16.673937711705, -49.28465416209], [-16.673958364557, -49.284655505866], [-16.673973844516, -49.284659546323], [-16.673997055272, -49.284663582645], [-16.674012519936, -49.284668967065], [-16.674024120181, -49.28467031043], [-16.674223460511, -49.28472117075], [-16.674663751136, -49.284822070722], [-16.675394919207, -49.284983175725], [-16.676084783756, -49.28514256077], [-16.676428711023, -49.285225712338], [-16.677608214157, -49.285476990563], [-16.677831823542, -49.285525332458], [-16.677891932954, -49.285542440036], [-16.677930175411, -49.285559547656], [-16.67796841249, -49.285579504848], [-16.678031876024, -49.285653858337], [-16.678058330857, -49.285712986166], [-16.678058362222, -49.285744539953], [-16.678062181654, -49.285791879759], [-16.678081122319, -49.285866847223], [-16.678096274999, -49.285922104048], [-16.678132197431, -49.28600689448], [-16.678157142563, -49.286038150516], [-16.678182090548, -49.286066801832], [-16.678207040542, -49.286092847199], [-16.678227000062, -49.286116291148], [-16.678254446836, -49.286134511201], [-16.678284385995, -49.286157941503], [-16.678316817751, -49.286183974674], [-16.67837668369, -49.286228218493], [-16.678444007884, -49.286264613783], [-16.678478892139, -49.286269762029], [-16.678523724514, -49.286274888532], [-16.678600888166, -49.286282553904], [-16.678663060804, -49.286282426432], [-16.678705301638, -49.286277129235], [-16.678772707279, -49.286263968026], [-16.678820036376, -49.286253466374], [-16.678867325572, -49.286240454381], [-16.678909631944, -49.286222267332], [-16.678941983875, -49.286209276464], [-16.678984290082, -49.286188491461], [-16.679024107789, -49.286170304479], [-16.679066413964, -49.286146921514], [-16.679101254542, -49.286136528545], [-16.679143560955, -49.286120939386], [-16.679178401743, -49.286115742277], [-16.679225685877, -49.286113142661], [-16.679272970261, -49.286118336958], [-16.679292879613, -49.286126130147], [-16.679354211614, -49.286163548163], [-16.679790171094, -49.286453291566], [-16.680033112703, -49.286618747837], [-16.68016478186, -49.286715663427], [-16.680363348308, -49.286839734352], [-16.680627049996, -49.287019558116], [-16.680762415799, -49.287104338728], [-16.68085709171, -49.287167900254], [-16.680909460375, -49.287196128853], [-16.682217700309, -49.288066142262], [-16.682556655896, -49.288288366565], [-16.682611634563, -49.288337273024], [-16.682622557815, -49.288376395748], [-16.68263660856, -49.288422043676], [-16.682641282994, -49.288483995722], [-16.682645984146, -49.288534538952], [-16.682652251475, -49.288594856024], [-16.682653817845, -49.288633978564], [-16.682661650848, -49.288666568299], [-16.68267418037, -49.288713808804], [-16.682689824188, -49.288751260436], [-16.68271172155, -49.288787052329], [-16.68273671455, -49.288821223465], [-16.682761677228, -49.288839145964], [-16.682799116062, -49.288866864029], [-16.682836569255, -49.288883144435], [-16.682869344631, -49.288892862017], [-16.682916148196, -49.288895987433], [-16.683000306724, -49.28890062638], [-16.683032998806, -49.288898887585], [-16.683065667459, -49.288895516031], [-16.683095211727, -49.288890543011], [-16.683129417317, -49.288883958975], [-16.683160492062, -49.288875750554], [-16.683227206813, -49.288855164626], [-16.683279133211, -49.288849097373], [-16.683344424034, -49.288849033588], [-16.683396209452, -49.288854992379], [-16.683436430003, -49.28887298065], [-16.683470888219, -49.288894983918], [-16.683535988119, -49.288936999562], [-16.683973639846, -49.289234064086], [-16.684119376079, -49.28933019385], [-16.68421540666, -49.289400468248], [-16.684292369475, -49.289456789001], [-16.68435219348, -49.289493172674], [-16.684404473222, -49.289521626465], [-16.684501122683, -49.289611408817], [-16.684508239012, -49.289645785645], [-16.684518378129, -49.289709143352], [-16.684522955784, -49.289759854625], [-16.684528966927, -49.289813765865], [-16.684539215104, -49.289878192222], [-16.684584150116, -49.290166163226], [-16.684723692621, -49.290932123796], [-16.684756411416, -49.291124599848], [-16.684794899661, -49.291361039701], [-16.684889417103, -49.291838725793], [-16.684904190764, -49.291954864499], [-16.684960756921, -49.292299984641], [-16.685008910913, -49.292525728902], [-16.685043708959, -49.292724913493], [-16.685070410396, -49.292968115284], [-16.685097305972, -49.293129998083], [-16.685123928873, -49.293227037337], [-16.685708600368, -49.296794690141], [-16.685806442397, -49.296997571086], [-16.68590349183, -49.297057827835], [-16.686007868435, -49.297080510291], [-16.687798496851, -49.296924519754], [-16.687874915224, -49.296891553845], [-16.687925970801, -49.296869706503], [-16.688704285175, -49.296818549722], [-16.689085734603, -49.296787607885], [-16.68913772113, -49.296844557124], [-16.689197114265, -49.296881078458], [-16.689319302874, -49.297677179827], [-16.689277627655, -49.297707768059], [-16.689259501175, -49.297750283831], [-16.689259359258, -49.297803528438], [-16.68929261725, -49.297840679798], [-16.6893438598, -49.297867102336], [-16.689407775205, -49.297840572067], [-16.689452579104, -49.29775488722], [-16.690035070599, -49.297634260587], [-16.690668946178, -49.297513633331], [-16.695416488656, -49.296537593753], [-16.699557821735, -49.296746937196], [-16.700734453306, -49.296812686503], [-16.701276525808, -49.296872383642], [-16.70181859829, -49.296942809987], [-16.702331126543, -49.297003849103], [-16.702802549972, -49.297129261716], [-16.702942567354, -49.297171526517], [-16.703135890005, -49.297616448038], [-16.703461746519, -49.298380482267], [-16.703500076587, -49.298421858926], [-16.703607770513, -49.298398862625], [-16.704103580807, -49.298238110203], [-16.704726439914, -49.299570951309], [-16.705160928174, -49.300492301494], [-16.705168711048, -49.30051123573], [-16.705168712896, -49.300526812948], [-16.70516374853, -49.300543091668], [-16.705153132661, -49.300563014262], [-16.705134768866, -49.300582875308], [-16.705119961005, -49.300594615854], [-16.705103061845, -49.30060633506], [-16.705086879776, -49.300615110255], [-16.705045244549, -49.300646477254]],\n",
       "                {&quot;bubblingMouseEvents&quot;: true, &quot;color&quot;: &quot;blue&quot;, &quot;dashArray&quot;: &quot;5&quot;, &quot;dashOffset&quot;: null, &quot;fill&quot;: false, &quot;fillColor&quot;: &quot;blue&quot;, &quot;fillOpacity&quot;: 0.2, &quot;fillRule&quot;: &quot;evenodd&quot;, &quot;lineCap&quot;: &quot;round&quot;, &quot;lineJoin&quot;: &quot;round&quot;, &quot;noClip&quot;: false, &quot;opacity&quot;: 1, &quot;smoothFactor&quot;: 1.0, &quot;stroke&quot;: true, &quot;weight&quot;: 2.5}\n",
       "            ).addTo(map_bb2fc22e32afdb51e2212cf8dfe6de46);\n",
       "        \n",
       "    \n",
       "        var popup_ee524d9a4f7750bd9eabfeae2d205e37 = L.popup({&quot;maxWidth&quot;: &quot;100%&quot;});\n",
       "\n",
       "        \n",
       "            \n",
       "                var html_25490e71952dbb4b5eeb51583f990e10 = $(`&lt;div id=&quot;html_25490e71952dbb4b5eeb51583f990e10&quot; style=&quot;width: 100.0%; height: 100.0%;&quot;&gt;T. PRACA A / T. BIBLIA (VIA FEIRA HIPPIE)&lt;/div&gt;`)[0];\n",
       "                popup_ee524d9a4f7750bd9eabfeae2d205e37.setContent(html_25490e71952dbb4b5eeb51583f990e10);\n",
       "            \n",
       "        \n",
       "\n",
       "        poly_line_5c82fb32c8e546fcccf72da56b8da334.bindPopup(popup_ee524d9a4f7750bd9eabfeae2d205e37)\n",
       "        ;\n",
       "\n",
       "        \n",
       "    \n",
       "    \n",
       "            var poly_line_de4a3ee6ce77adad4abd4c6509f1869f = L.polyline(\n",
       "                [[-16.705151223923, -49.300676735348], [-16.705264260365, -49.300716968483], [-16.7056675944, -49.301577957577], [-16.704357397928, -49.302007111019], [-16.702934154709, -49.302422853417], [-16.702132612342, -49.301851542897], [-16.702235374372, -49.301658423848], [-16.702325291103, -49.301347287602], [-16.702350981589, -49.300523849434], [-16.702587333905, -49.298780413575], [-16.702553936313, -49.298732133812], [-16.70230730776, -49.298675807423], [-16.702381810169, -49.297991844124], [-16.702507693484, -49.297117443985], [-16.702492279205, -49.297031613297], [-16.702402362553, -49.297002108998], [-16.701228304094, -49.296849223084], [-16.701207751584, -49.296795578904], [-16.701166646557, -49.296766074604], [-16.701102419936, -49.296758027977], [-16.701051038623, -49.296800943322], [-16.700991950096, -49.296814354367], [-16.699925784403, -49.296763392395], [-16.699906516293, -49.296724500358], [-16.6998564192, -49.296700360484], [-16.699807606631, -49.29671243043], [-16.699766501307, -49.296744616932], [-16.698779970783, -49.296709748215], [-16.698749141622, -49.29664269299], [-16.698654085011, -49.296640010781], [-16.698582150247, -49.296690972752], [-16.69684543129, -49.296589048809], [-16.695401578953, -49.296521993584], [-16.693988545637, -49.296808989949], [-16.692513841541, -49.297106715149], [-16.692454750373, -49.297058435387], [-16.692357121447, -49.297074528641], [-16.692303168598, -49.297149630494], [-16.690933788807, -49.297409804768], [-16.690879835556, -49.297369571633], [-16.690787344233, -49.297380300469], [-16.690725683327, -49.297450037903], [-16.689407676689, -49.297728987641], [-16.689388407519, -49.297710212178], [-16.689364642206, -49.297694286562], [-16.689337665361, -49.297684395916], [-16.689334483387, -49.297674986365], [-16.68924134901, -49.29711541051], [-16.689206022165, -49.296860600653], [-16.689243275928, -49.296845848504], [-16.689265756644, -49.296818355861], [-16.689265114338, -49.296771417204], [-16.689240706704, -49.296726490203], [-16.689198314489, -49.296696985903], [-16.689150141507, -49.295976142231], [-16.689116741566, -49.295466522518], [-16.689126376165, -49.295298884454], [-16.689145645362, -49.295241216961], [-16.689145003055, -49.295213724318], [-16.689110318499, -49.295170138422], [-16.689099399286, -49.294977689925], [-16.689079487778, -49.294919351879], [-16.689046730131, -49.294268916193], [-16.689008191716, -49.293645302597], [-16.688967726371, -49.293181950989], [-16.688927903326, -49.292766879144], [-16.688805864908, -49.29208425695], [-16.688739707207, -49.291687290016], [-16.688606107119, -49.290998632851], [-16.688514899313, -49.290489683691], [-16.688430114553, -49.29000755662], [-16.688392218322, -49.289793650451], [-16.688375518286, -49.289780909958], [-16.687851393331, -49.289854000154], [-16.687349747879, -49.289921055379], [-16.686798000593, -49.289991463366], [-16.686301490906, -49.290062541905], [-16.685827461048, -49.290124232712], [-16.685326452604, -49.290187264624], [-16.684725240738, -49.290261025372], [-16.68436641362, -49.290307336321], [-16.684313743161, -49.290296607485], [-16.683882101777, -49.289989494553], [-16.683555800798, -49.289774917832], [-16.683391365449, -49.289698474875], [-16.683273177453, -49.289671652785], [-16.683139573545, -49.289663606158], [-16.683065063632, -49.288951479664], [-16.683157558692, -49.288917952052], [-16.683252623012, -49.28885492014], [-16.683325848199, -49.288750313988], [-16.683355395197, -49.28862290906], [-16.683345117981, -49.288475387564], [-16.683305293764, -49.288323842755], [-16.683193528981, -49.28824203538], [-16.683048363131, -49.28821521329], [-16.68289035062, -49.288246058693], [-16.68276445438, -49.288301043978], [-16.682688659664, -49.288306408396], [-16.682481829865, -49.28821521329], [-16.68169433299, -49.2876827948], [-16.680960788938, -49.287201338282], [-16.680202833283, -49.286691718569], [-16.679407618951, -49.286157958975], [-16.679187938803, -49.286030554047], [-16.679223909839, -49.285920583477], [-16.679258596188, -49.285781108609], [-16.679258596188, -49.285593353978], [-16.679214917081, -49.285401576033], [-16.679092872462, -49.285247349015], [-16.678915586457, -49.285133355132], [-16.678726738139, -49.285075687638], [-16.67849035631, -49.28509714531], [-16.678316923803, -49.285203092566], [-16.678170469564, -49.285346590748], [-16.678090818965, -49.285506182185], [-16.678021445837, -49.285514228812], [-16.677720828655, -49.285487406721], [-16.67681383549, -49.285271488896], [-16.675777083078, -49.285042160025], [-16.674642687073, -49.284790032378], [-16.674091545476, -49.284678720704], [-16.674005469606, -49.284625076523], [-16.673988768313, -49.28460630106]],\n",
       "                {&quot;bubblingMouseEvents&quot;: true, &quot;color&quot;: &quot;blue&quot;, &quot;dashArray&quot;: &quot;5&quot;, &quot;dashOffset&quot;: null, &quot;fill&quot;: false, &quot;fillColor&quot;: &quot;blue&quot;, &quot;fillOpacity&quot;: 0.2, &quot;fillRule&quot;: &quot;evenodd&quot;, &quot;lineCap&quot;: &quot;round&quot;, &quot;lineJoin&quot;: &quot;round&quot;, &quot;noClip&quot;: false, &quot;opacity&quot;: 1, &quot;smoothFactor&quot;: 1.0, &quot;stroke&quot;: true, &quot;weight&quot;: 2.5}\n",
       "            ).addTo(map_bb2fc22e32afdb51e2212cf8dfe6de46);\n",
       "        \n",
       "    \n",
       "        var popup_6aefa5a16823fefbb01e9406e338b64e = L.popup({&quot;maxWidth&quot;: &quot;100%&quot;});\n",
       "\n",
       "        \n",
       "            \n",
       "                var html_1b9a51f66a0d83b21d29c50c5d09a6fd = $(`&lt;div id=&quot;html_1b9a51f66a0d83b21d29c50c5d09a6fd&quot; style=&quot;width: 100.0%; height: 100.0%;&quot;&gt;CIRCULAR - VIA PCA. WALTER SANTOS&lt;/div&gt;`)[0];\n",
       "                popup_6aefa5a16823fefbb01e9406e338b64e.setContent(html_1b9a51f66a0d83b21d29c50c5d09a6fd);\n",
       "            \n",
       "        \n",
       "\n",
       "        poly_line_de4a3ee6ce77adad4abd4c6509f1869f.bindPopup(popup_6aefa5a16823fefbb01e9406e338b64e)\n",
       "        ;\n",
       "\n",
       "        \n",
       "    \n",
       "    \n",
       "            var poly_line_6e23c8797486da88c76bc1c971f8f458 = L.polyline(\n",
       "                [[-16.673411078397, -49.284607948016], [-16.673357085223, -49.284619701805], [-16.67334594941, -49.284657295821], [-16.673348234676, -49.284690183084], [-16.673359488074, -49.284723071205], [-16.673375242362, -49.284755959228], [-16.673395496785, -49.284774751928], [-16.673415751375, -49.284793544571], [-16.673465262198, -49.284833478666], [-16.673490017369, -49.284849921947], [-16.673523774091, -49.284859317325], [-16.673555280427, -49.284873411106], [-16.673598038819, -49.284882806114], [-16.673636296031, -49.284882804524], [-16.673676803347, -49.284878104411], [-16.67373599167, -49.284845954915], [-16.673750221335, -49.284827047974], [-16.673767038252, -49.284805440002], [-16.673785148803, -49.284781131041], [-16.673795497244, -49.284756822422], [-16.673807139596, -49.284739266011], [-16.673818783062, -49.284713604538], [-16.673827839538, -49.284694695637], [-16.673843366028, -49.28467443201], [-16.673858886003, -49.28466227732], [-16.673878280932, -49.284654175197], [-16.673896376417, -49.284654171205], [-16.673914464399, -49.284655516167], [-16.673937711705, -49.28465416209], [-16.673958364557, -49.284655505866], [-16.673973844516, -49.284659546323], [-16.673997055272, -49.284663582645], [-16.674012519936, -49.284668967065], [-16.674024120181, -49.28467031043], [-16.674223460511, -49.28472117075], [-16.674663751136, -49.284822070722], [-16.675394919207, -49.284983175725], [-16.676084783756, -49.28514256077], [-16.676428711023, -49.285225712338], [-16.677608214157, -49.285476990563], [-16.677831823542, -49.285525332458], [-16.677891932954, -49.285542440036], [-16.677930175411, -49.285559547656], [-16.67796841249, -49.285579504848], [-16.678031876024, -49.285653858337], [-16.678058330857, -49.285712986166], [-16.678058362222, -49.285744539953], [-16.678062181654, -49.285791879759], [-16.678081122319, -49.285866847223], [-16.678096274999, -49.285922104048], [-16.678132197431, -49.28600689448], [-16.678157142563, -49.286038150516], [-16.678182090548, -49.286066801832], [-16.678207040542, -49.286092847199], [-16.678227000062, -49.286116291148], [-16.678254446836, -49.286134511201], [-16.678284385995, -49.286157941503], [-16.678316817751, -49.286183974674], [-16.67837668369, -49.286228218493], [-16.678444007884, -49.286264613783], [-16.678478892139, -49.286269762029], [-16.678523724514, -49.286274888532], [-16.678600888166, -49.286282553904], [-16.678663060804, -49.286282426432], [-16.678705301638, -49.286277129235], [-16.678772707279, -49.286263968026], [-16.678820036376, -49.286253466374], [-16.678867325572, -49.286240454381], [-16.678909631944, -49.286222267332], [-16.678941983875, -49.286209276464], [-16.678984290082, -49.286188491461], [-16.679024107789, -49.286170304479], [-16.679066413964, -49.286146921514], [-16.679101254542, -49.286136528545], [-16.679143560955, -49.286120939386], [-16.679178401743, -49.286115742277], [-16.679225685877, -49.286113142661], [-16.679272970261, -49.286118336958], [-16.679292879613, -49.286126130147], [-16.679354211614, -49.286163548163], [-16.679790171094, -49.286453291566], [-16.680033112703, -49.286618747837], [-16.68016478186, -49.286715663427], [-16.680363348308, -49.286839734352], [-16.680627049996, -49.287019558116], [-16.680762415799, -49.287104338728], [-16.68085709171, -49.287167900254], [-16.680909460375, -49.287196128853], [-16.682217700309, -49.288066142262], [-16.682556655896, -49.288288366565], [-16.682611634563, -49.288337273024], [-16.682622557815, -49.288376395748], [-16.68263660856, -49.288422043676], [-16.682641282994, -49.288483995722], [-16.682645984146, -49.288534538952], [-16.682652251475, -49.288594856024], [-16.682653817845, -49.288633978564], [-16.682661650848, -49.288666568299], [-16.68267418037, -49.288713808804], [-16.682689824188, -49.288751260436], [-16.68271172155, -49.288787052329], [-16.68273671455, -49.288821223465], [-16.682761677228, -49.288839145964], [-16.682799116062, -49.288866864029], [-16.682836569255, -49.288883144435], [-16.682869344631, -49.288892862017], [-16.682916148196, -49.288895987433], [-16.683000306724, -49.28890062638], [-16.683032998806, -49.288898887585], [-16.683065667459, -49.288895516031], [-16.683095211727, -49.288890543011], [-16.683129417317, -49.288883958975], [-16.683160492062, -49.288875750554], [-16.683227206813, -49.288855164626], [-16.683279133211, -49.288849097373], [-16.683344424034, -49.288849033588], [-16.683396209452, -49.288854992379], [-16.683436430003, -49.28887298065], [-16.683470888219, -49.288894983918], [-16.683535988119, -49.288936999562], [-16.683973639846, -49.289234064086], [-16.684119376079, -49.28933019385], [-16.68421540666, -49.289400468248], [-16.684292369475, -49.289456789001], [-16.68435219348, -49.289493172674], [-16.684404473222, -49.289521626465], [-16.684501122683, -49.289611408817], [-16.684508239012, -49.289645785645], [-16.684518378129, -49.289709143352], [-16.684522955784, -49.289759854625], [-16.684528966927, -49.289813765865], [-16.684539215104, -49.289878192222], [-16.684584150116, -49.290166163226], [-16.684723692621, -49.290932123796], [-16.684756411416, -49.291124599848], [-16.684794899661, -49.291361039701], [-16.684889417103, -49.291838725793], [-16.684904190764, -49.291954864499], [-16.684960756921, -49.292299984641], [-16.685008910913, -49.292525728902], [-16.685043708959, -49.292724913493], [-16.685070410396, -49.292968115284], [-16.685097305972, -49.293129998083], [-16.685123928873, -49.293227037337], [-16.685708600368, -49.296794690141], [-16.685806442397, -49.296997571086], [-16.68590349183, -49.297057827835], [-16.686007868435, -49.297080510291], [-16.687798496851, -49.296924519754], [-16.687874915224, -49.296891553845], [-16.687925970801, -49.296869706503], [-16.688704285175, -49.296818549722], [-16.689085734603, -49.296787607885], [-16.68913772113, -49.296844557124], [-16.689197114265, -49.296881078458], [-16.689319302874, -49.297677179827], [-16.689277627655, -49.297707768059], [-16.689259501175, -49.297750283831], [-16.689259359258, -49.297803528438], [-16.68929261725, -49.297840679798], [-16.6893438598, -49.297867102336], [-16.689407775205, -49.297840572067], [-16.689452579104, -49.29775488722], [-16.690035070599, -49.297634260587], [-16.690668946178, -49.297513633331], [-16.695416488656, -49.296537593753], [-16.699557821735, -49.296746937196], [-16.700734453306, -49.296812686503], [-16.701276525808, -49.296872383642], [-16.70181859829, -49.296942809987], [-16.702331126543, -49.297003849103], [-16.702802549972, -49.297129261716], [-16.702942567354, -49.297171526517], [-16.703135890005, -49.297616448038], [-16.703461746519, -49.298380482267], [-16.703500076587, -49.298421858926], [-16.703607770513, -49.298398862625], [-16.704103580807, -49.298238110203], [-16.704726439914, -49.299570951309], [-16.705160928174, -49.300492301494], [-16.705168711048, -49.30051123573], [-16.705168712896, -49.300526812948], [-16.70516374853, -49.300543091668], [-16.705153132661, -49.300563014262], [-16.705134768866, -49.300582875308], [-16.705119961005, -49.300594615854], [-16.705103061845, -49.30060633506], [-16.705086879776, -49.300615110255], [-16.705045244549, -49.300646477254]],\n",
       "                {&quot;bubblingMouseEvents&quot;: true, &quot;color&quot;: &quot;blue&quot;, &quot;dashArray&quot;: &quot;5&quot;, &quot;dashOffset&quot;: null, &quot;fill&quot;: false, &quot;fillColor&quot;: &quot;blue&quot;, &quot;fillOpacity&quot;: 0.2, &quot;fillRule&quot;: &quot;evenodd&quot;, &quot;lineCap&quot;: &quot;round&quot;, &quot;lineJoin&quot;: &quot;round&quot;, &quot;noClip&quot;: false, &quot;opacity&quot;: 1, &quot;smoothFactor&quot;: 1.0, &quot;stroke&quot;: true, &quot;weight&quot;: 2.5}\n",
       "            ).addTo(map_bb2fc22e32afdb51e2212cf8dfe6de46);\n",
       "        \n",
       "    \n",
       "        var popup_174b5d0dc8baef792e3fef2ff5aeaeb4 = L.popup({&quot;maxWidth&quot;: &quot;100%&quot;});\n",
       "\n",
       "        \n",
       "            \n",
       "                var html_f6fd8f6905b2fbc834f4be7f0634876a = $(`&lt;div id=&quot;html_f6fd8f6905b2fbc834f4be7f0634876a&quot; style=&quot;width: 100.0%; height: 100.0%;&quot;&gt;CIRCULAR - VIA PCA. WALTER SANTOS&lt;/div&gt;`)[0];\n",
       "                popup_174b5d0dc8baef792e3fef2ff5aeaeb4.setContent(html_f6fd8f6905b2fbc834f4be7f0634876a);\n",
       "            \n",
       "        \n",
       "\n",
       "        poly_line_6e23c8797486da88c76bc1c971f8f458.bindPopup(popup_174b5d0dc8baef792e3fef2ff5aeaeb4)\n",
       "        ;\n",
       "\n",
       "        \n",
       "    \n",
       "    \n",
       "            var poly_line_7ae859d20457e7f38b828c7924b59ed1 = L.polyline(\n",
       "                [[-16.705151223923, -49.300676735348], [-16.705264260365, -49.300716968483], [-16.7056675944, -49.301577957577], [-16.704357397928, -49.302007111019], [-16.702934154709, -49.302422853417], [-16.702132612342, -49.301851542897], [-16.702235374372, -49.301658423848], [-16.702325291103, -49.301347287602], [-16.702350981589, -49.300523849434], [-16.702587333905, -49.298780413575], [-16.702553936313, -49.298732133812], [-16.70230730776, -49.298675807423], [-16.702381810169, -49.297991844124], [-16.702507693484, -49.297117443985], [-16.702492279205, -49.297031613297], [-16.702402362553, -49.297002108998], [-16.701228304094, -49.296849223084], [-16.701207751584, -49.296795578904], [-16.701166646557, -49.296766074604], [-16.701102419936, -49.296758027977], [-16.701051038623, -49.296800943322], [-16.700991950096, -49.296814354367], [-16.699925784403, -49.296763392395], [-16.699906516293, -49.296724500358], [-16.6998564192, -49.296700360484], [-16.699807606631, -49.29671243043], [-16.699766501307, -49.296744616932], [-16.698779970783, -49.296709748215], [-16.698749141622, -49.29664269299], [-16.698654085011, -49.296640010781], [-16.698582150247, -49.296690972752], [-16.69684543129, -49.296589048809], [-16.695401578953, -49.296521993584], [-16.693988545637, -49.296808989949], [-16.692513841541, -49.297106715149], [-16.692454750373, -49.297058435387], [-16.692357121447, -49.297074528641], [-16.692303168598, -49.297149630494], [-16.690933788807, -49.297409804768], [-16.690879835556, -49.297369571633], [-16.690787344233, -49.297380300469], [-16.690725683327, -49.297450037903], [-16.689407676689, -49.297728987641], [-16.689388407519, -49.297710212178], [-16.689364642206, -49.297694286562], [-16.689337665361, -49.297684395916], [-16.689334483387, -49.297674986365], [-16.68924134901, -49.29711541051], [-16.689206022165, -49.296860600653], [-16.689243275928, -49.296845848504], [-16.689265756644, -49.296818355861], [-16.689265114338, -49.296771417204], [-16.689240706704, -49.296726490203], [-16.689198314489, -49.296696985903], [-16.689150141507, -49.295976142231], [-16.689116741566, -49.295466522518], [-16.689126376165, -49.295298884454], [-16.689145645362, -49.295241216961], [-16.689145003055, -49.295213724318], [-16.689110318499, -49.295170138422], [-16.689099399286, -49.294977689925], [-16.689079487778, -49.294919351879], [-16.689046730131, -49.294268916193], [-16.689008191716, -49.293645302597], [-16.688967726371, -49.293181950989], [-16.688927903326, -49.292766879144], [-16.688805864908, -49.29208425695], [-16.688739707207, -49.291687290016], [-16.688606107119, -49.290998632851], [-16.688514899313, -49.290489683691], [-16.688430114553, -49.29000755662], [-16.688392218322, -49.289793650451], [-16.688375518286, -49.289780909958], [-16.687851393331, -49.289854000154], [-16.687349747879, -49.289921055379], [-16.686798000593, -49.289991463366], [-16.686301490906, -49.290062541905], [-16.685827461048, -49.290124232712], [-16.685326452604, -49.290187264624], [-16.684725240738, -49.290261025372], [-16.68436641362, -49.290307336321], [-16.684313743161, -49.290296607485], [-16.683882101777, -49.289989494553], [-16.683555800798, -49.289774917832], [-16.683391365449, -49.289698474875], [-16.683273177453, -49.289671652785], [-16.683139573545, -49.289663606158], [-16.683065063632, -49.288951479664], [-16.683157558692, -49.288917952052], [-16.683252623012, -49.28885492014], [-16.683325848199, -49.288750313988], [-16.683355395197, -49.28862290906], [-16.683345117981, -49.288475387564], [-16.683305293764, -49.288323842755], [-16.683193528981, -49.28824203538], [-16.683048363131, -49.28821521329], [-16.68289035062, -49.288246058693], [-16.68276445438, -49.288301043978], [-16.682688659664, -49.288306408396], [-16.682481829865, -49.28821521329], [-16.68169433299, -49.2876827948], [-16.680960788938, -49.287201338282], [-16.680202833283, -49.286691718569], [-16.679407618951, -49.286157958975], [-16.679187938803, -49.286030554047], [-16.679223909839, -49.285920583477], [-16.679258596188, -49.285781108609], [-16.679258596188, -49.285593353978], [-16.679214917081, -49.285401576033], [-16.679092872462, -49.285247349015], [-16.678915586457, -49.285133355132], [-16.678726738139, -49.285075687638], [-16.67849035631, -49.28509714531], [-16.678316923803, -49.285203092566], [-16.678170469564, -49.285346590748], [-16.678090818965, -49.285506182185], [-16.678021445837, -49.285514228812], [-16.677720828655, -49.285487406721], [-16.67681383549, -49.285271488896], [-16.675777083078, -49.285042160025], [-16.674642687073, -49.284790032378], [-16.674091545476, -49.284678720704], [-16.674005469606, -49.284625076523], [-16.673988768313, -49.28460630106]],\n",
       "                {&quot;bubblingMouseEvents&quot;: true, &quot;color&quot;: &quot;blue&quot;, &quot;dashArray&quot;: &quot;5&quot;, &quot;dashOffset&quot;: null, &quot;fill&quot;: false, &quot;fillColor&quot;: &quot;blue&quot;, &quot;fillOpacity&quot;: 0.2, &quot;fillRule&quot;: &quot;evenodd&quot;, &quot;lineCap&quot;: &quot;round&quot;, &quot;lineJoin&quot;: &quot;round&quot;, &quot;noClip&quot;: false, &quot;opacity&quot;: 1, &quot;smoothFactor&quot;: 1.0, &quot;stroke&quot;: true, &quot;weight&quot;: 2.5}\n",
       "            ).addTo(map_bb2fc22e32afdb51e2212cf8dfe6de46);\n",
       "        \n",
       "    \n",
       "        var popup_84ba9864ae01d1c15ef2d1c1c2ef427f = L.popup({&quot;maxWidth&quot;: &quot;100%&quot;});\n",
       "\n",
       "        \n",
       "            \n",
       "                var html_39c5f23ef331e1d55cf4fbb652d4eb6d = $(`&lt;div id=&quot;html_39c5f23ef331e1d55cf4fbb652d4eb6d&quot; style=&quot;width: 100.0%; height: 100.0%;&quot;&gt;CIRCULAR - VIA PCA. WALTER SANTOS - ATE O FORUM&lt;/div&gt;`)[0];\n",
       "                popup_84ba9864ae01d1c15ef2d1c1c2ef427f.setContent(html_39c5f23ef331e1d55cf4fbb652d4eb6d);\n",
       "            \n",
       "        \n",
       "\n",
       "        poly_line_7ae859d20457e7f38b828c7924b59ed1.bindPopup(popup_84ba9864ae01d1c15ef2d1c1c2ef427f)\n",
       "        ;\n",
       "\n",
       "        \n",
       "    \n",
       "    \n",
       "            var poly_line_1de05b989691fa61c63dd23867fe380b = L.polyline(\n",
       "                [[-16.673411078397, -49.284607948016], [-16.673357085223, -49.284619701805], [-16.67334594941, -49.284657295821], [-16.673348234676, -49.284690183084], [-16.673359488074, -49.284723071205], [-16.673375242362, -49.284755959228], [-16.673395496785, -49.284774751928], [-16.673415751375, -49.284793544571], [-16.673465262198, -49.284833478666], [-16.673490017369, -49.284849921947], [-16.673523774091, -49.284859317325], [-16.673555280427, -49.284873411106], [-16.673598038819, -49.284882806114], [-16.673636296031, -49.284882804524], [-16.673676803347, -49.284878104411], [-16.67373599167, -49.284845954915], [-16.673750221335, -49.284827047974], [-16.673767038252, -49.284805440002], [-16.673785148803, -49.284781131041], [-16.673795497244, -49.284756822422], [-16.673807139596, -49.284739266011], [-16.673818783062, -49.284713604538], [-16.673827839538, -49.284694695637], [-16.673843366028, -49.28467443201], [-16.673858886003, -49.28466227732], [-16.673878280932, -49.284654175197], [-16.673896376417, -49.284654171205], [-16.673914464399, -49.284655516167], [-16.673937711705, -49.28465416209], [-16.673958364557, -49.284655505866], [-16.673973844516, -49.284659546323], [-16.673997055272, -49.284663582645], [-16.674012519936, -49.284668967065], [-16.674024120181, -49.28467031043], [-16.674223460511, -49.28472117075], [-16.674663751136, -49.284822070722], [-16.675394919207, -49.284983175725], [-16.676084783756, -49.28514256077], [-16.676428711023, -49.285225712338], [-16.677608214157, -49.285476990563], [-16.677831823542, -49.285525332458], [-16.677891932954, -49.285542440036], [-16.677930175411, -49.285559547656], [-16.67796841249, -49.285579504848], [-16.678031876024, -49.285653858337], [-16.678058330857, -49.285712986166], [-16.678058362222, -49.285744539953], [-16.678062181654, -49.285791879759], [-16.678081122319, -49.285866847223], [-16.678096274999, -49.285922104048], [-16.678132197431, -49.28600689448], [-16.678157142563, -49.286038150516], [-16.678182090548, -49.286066801832], [-16.678207040542, -49.286092847199], [-16.678227000062, -49.286116291148], [-16.678254446836, -49.286134511201], [-16.678284385995, -49.286157941503], [-16.678316817751, -49.286183974674], [-16.67837668369, -49.286228218493], [-16.678444007884, -49.286264613783], [-16.678478892139, -49.286269762029], [-16.678523724514, -49.286274888532], [-16.678600888166, -49.286282553904], [-16.678663060804, -49.286282426432], [-16.678705301638, -49.286277129235], [-16.678772707279, -49.286263968026], [-16.678820036376, -49.286253466374], [-16.678867325572, -49.286240454381], [-16.678909631944, -49.286222267332], [-16.678941983875, -49.286209276464], [-16.678984290082, -49.286188491461], [-16.679024107789, -49.286170304479], [-16.679066413964, -49.286146921514], [-16.679101254542, -49.286136528545], [-16.679143560955, -49.286120939386], [-16.679178401743, -49.286115742277], [-16.679225685877, -49.286113142661], [-16.679272970261, -49.286118336958], [-16.679292879613, -49.286126130147], [-16.679354211614, -49.286163548163], [-16.679790171094, -49.286453291566], [-16.680033112703, -49.286618747837], [-16.68016478186, -49.286715663427], [-16.680363348308, -49.286839734352], [-16.680627049996, -49.287019558116], [-16.680762415799, -49.287104338728], [-16.68085709171, -49.287167900254], [-16.680909460375, -49.287196128853], [-16.682217700309, -49.288066142262], [-16.682556655896, -49.288288366565], [-16.682611634563, -49.288337273024], [-16.682622557815, -49.288376395748], [-16.68263660856, -49.288422043676], [-16.682641282994, -49.288483995722], [-16.682645984146, -49.288534538952], [-16.682652251475, -49.288594856024], [-16.682653817845, -49.288633978564], [-16.682661650848, -49.288666568299], [-16.68267418037, -49.288713808804], [-16.682689824188, -49.288751260436], [-16.68271172155, -49.288787052329], [-16.68273671455, -49.288821223465], [-16.682761677228, -49.288839145964], [-16.682799116062, -49.288866864029], [-16.682836569255, -49.288883144435], [-16.682869344631, -49.288892862017], [-16.682916148196, -49.288895987433], [-16.683000306724, -49.28890062638], [-16.683032998806, -49.288898887585], [-16.683065667459, -49.288895516031], [-16.683095211727, -49.288890543011], [-16.683129417317, -49.288883958975], [-16.683160492062, -49.288875750554], [-16.683227206813, -49.288855164626], [-16.683279133211, -49.288849097373], [-16.683344424034, -49.288849033588], [-16.683396209452, -49.288854992379], [-16.683436430003, -49.28887298065], [-16.683470888219, -49.288894983918], [-16.683535988119, -49.288936999562], [-16.683973639846, -49.289234064086], [-16.684119376079, -49.28933019385], [-16.68421540666, -49.289400468248], [-16.684292369475, -49.289456789001], [-16.68435219348, -49.289493172674], [-16.684404473222, -49.289521626465], [-16.684501122683, -49.289611408817], [-16.684508239012, -49.289645785645], [-16.684518378129, -49.289709143352], [-16.684522955784, -49.289759854625], [-16.684528966927, -49.289813765865], [-16.684539215104, -49.289878192222], [-16.684584150116, -49.290166163226], [-16.684723692621, -49.290932123796], [-16.684756411416, -49.291124599848], [-16.684794899661, -49.291361039701], [-16.684889417103, -49.291838725793], [-16.684904190764, -49.291954864499], [-16.684960756921, -49.292299984641], [-16.685008910913, -49.292525728902], [-16.685043708959, -49.292724913493], [-16.685070410396, -49.292968115284], [-16.685097305972, -49.293129998083], [-16.685123928873, -49.293227037337], [-16.685708600368, -49.296794690141], [-16.685806442397, -49.296997571086], [-16.68590349183, -49.297057827835], [-16.686007868435, -49.297080510291], [-16.687798496851, -49.296924519754], [-16.687874915224, -49.296891553845], [-16.687925970801, -49.296869706503], [-16.688704285175, -49.296818549722], [-16.689085734603, -49.296787607885], [-16.68913772113, -49.296844557124], [-16.689197114265, -49.296881078458], [-16.689319302874, -49.297677179827], [-16.689277627655, -49.297707768059], [-16.689259501175, -49.297750283831], [-16.689259359258, -49.297803528438], [-16.68929261725, -49.297840679798], [-16.6893438598, -49.297867102336], [-16.689407775205, -49.297840572067], [-16.689452579104, -49.29775488722], [-16.690035070599, -49.297634260587], [-16.690668946178, -49.297513633331], [-16.695416488656, -49.296537593753], [-16.699557821735, -49.296746937196], [-16.700734453306, -49.296812686503], [-16.701276525808, -49.296872383642], [-16.70181859829, -49.296942809987], [-16.702331126543, -49.297003849103], [-16.702802549972, -49.297129261716], [-16.702942567354, -49.297171526517], [-16.703135890005, -49.297616448038], [-16.703461746519, -49.298380482267], [-16.703500076587, -49.298421858926], [-16.703607770513, -49.298398862625], [-16.704103580807, -49.298238110203], [-16.704726439914, -49.299570951309], [-16.705160928174, -49.300492301494], [-16.705168711048, -49.30051123573], [-16.705168712896, -49.300526812948], [-16.70516374853, -49.300543091668], [-16.705153132661, -49.300563014262], [-16.705134768866, -49.300582875308], [-16.705119961005, -49.300594615854], [-16.705103061845, -49.30060633506], [-16.705086879776, -49.300615110255], [-16.705045244549, -49.300646477254]],\n",
       "                {&quot;bubblingMouseEvents&quot;: true, &quot;color&quot;: &quot;blue&quot;, &quot;dashArray&quot;: &quot;5&quot;, &quot;dashOffset&quot;: null, &quot;fill&quot;: false, &quot;fillColor&quot;: &quot;blue&quot;, &quot;fillOpacity&quot;: 0.2, &quot;fillRule&quot;: &quot;evenodd&quot;, &quot;lineCap&quot;: &quot;round&quot;, &quot;lineJoin&quot;: &quot;round&quot;, &quot;noClip&quot;: false, &quot;opacity&quot;: 1, &quot;smoothFactor&quot;: 1.0, &quot;stroke&quot;: true, &quot;weight&quot;: 2.5}\n",
       "            ).addTo(map_bb2fc22e32afdb51e2212cf8dfe6de46);\n",
       "        \n",
       "    \n",
       "        var popup_2da49719f780cbf8ce4dfda760afb182 = L.popup({&quot;maxWidth&quot;: &quot;100%&quot;});\n",
       "\n",
       "        \n",
       "            \n",
       "                var html_df3cdda6f79207de3ca4185b68319ec7 = $(`&lt;div id=&quot;html_df3cdda6f79207de3ca4185b68319ec7&quot; style=&quot;width: 100.0%; height: 100.0%;&quot;&gt;CIRCULAR - VIA PCA. WALTER SANTOS - ATE O FORUM&lt;/div&gt;`)[0];\n",
       "                popup_2da49719f780cbf8ce4dfda760afb182.setContent(html_df3cdda6f79207de3ca4185b68319ec7);\n",
       "            \n",
       "        \n",
       "\n",
       "        poly_line_1de05b989691fa61c63dd23867fe380b.bindPopup(popup_2da49719f780cbf8ce4dfda760afb182)\n",
       "        ;\n",
       "\n",
       "        \n",
       "    \n",
       "    \n",
       "            var poly_line_9ca18754089b625a24fbcf7480516b90 = L.polyline(\n",
       "                [[-16.705151223923, -49.300676735348], [-16.705264260365, -49.300716968483], [-16.7056675944, -49.301577957577], [-16.704357397928, -49.302007111019], [-16.702934154709, -49.302422853417], [-16.702132612342, -49.301851542897], [-16.702235374372, -49.301658423848], [-16.702325291103, -49.301347287602], [-16.702350981589, -49.300523849434], [-16.702587333905, -49.298780413575], [-16.702553936313, -49.298732133812], [-16.70230730776, -49.298675807423], [-16.702381810169, -49.297991844124], [-16.702507693484, -49.297117443985], [-16.702492279205, -49.297031613297], [-16.702402362553, -49.297002108998], [-16.701228304094, -49.296849223084], [-16.701207751584, -49.296795578904], [-16.701166646557, -49.296766074604], [-16.701102419936, -49.296758027977], [-16.701051038623, -49.296800943322], [-16.700991950096, -49.296814354367], [-16.699925784403, -49.296763392395], [-16.699906516293, -49.296724500358], [-16.6998564192, -49.296700360484], [-16.699807606631, -49.29671243043], [-16.699766501307, -49.296744616932], [-16.698779970783, -49.296709748215], [-16.698749141622, -49.29664269299], [-16.698654085011, -49.296640010781], [-16.698582150247, -49.296690972752], [-16.69684543129, -49.296589048809], [-16.695401578953, -49.296521993584], [-16.693988545637, -49.296808989949], [-16.692513841541, -49.297106715149], [-16.692454750373, -49.297058435387], [-16.692357121447, -49.297074528641], [-16.692303168598, -49.297149630494], [-16.690933788807, -49.297409804768], [-16.690879835556, -49.297369571633], [-16.690787344233, -49.297380300469], [-16.690725683327, -49.297450037903], [-16.689407676689, -49.297728987641], [-16.689388407519, -49.297710212178], [-16.689364642206, -49.297694286562], [-16.689337665361, -49.297684395916], [-16.689334483387, -49.297674986365], [-16.68924134901, -49.29711541051], [-16.689206022165, -49.296860600653], [-16.689243275928, -49.296845848504], [-16.689265756644, -49.296818355861], [-16.689265114338, -49.296771417204], [-16.689240706704, -49.296726490203], [-16.689198314489, -49.296696985903], [-16.689150141507, -49.295976142231], [-16.689116741566, -49.295466522518], [-16.689126376165, -49.295298884454], [-16.689145645362, -49.295241216961], [-16.689145003055, -49.295213724318], [-16.689110318499, -49.295170138422], [-16.689099399286, -49.294977689925], [-16.689079487778, -49.294919351879], [-16.689046730131, -49.294268916193], [-16.689008191716, -49.293645302597], [-16.688967726371, -49.293181950989], [-16.688927903326, -49.292766879144], [-16.688805864908, -49.29208425695], [-16.688739707207, -49.291687290016], [-16.688606107119, -49.290998632851], [-16.688514899313, -49.290489683691], [-16.688430114553, -49.29000755662], [-16.688392218322, -49.289793650451], [-16.688375518286, -49.289780909958], [-16.687851393331, -49.289854000154], [-16.687349747879, -49.289921055379], [-16.686798000593, -49.289991463366], [-16.686301490906, -49.290062541905], [-16.685827461048, -49.290124232712], [-16.685326452604, -49.290187264624], [-16.684725240738, -49.290261025372], [-16.68436641362, -49.290307336321], [-16.684313743161, -49.290296607485], [-16.683882101777, -49.289989494553], [-16.683555800798, -49.289774917832], [-16.683391365449, -49.289698474875], [-16.683273177453, -49.289671652785], [-16.683139573545, -49.289663606158], [-16.683065063632, -49.288951479664], [-16.683157558692, -49.288917952052], [-16.683252623012, -49.28885492014], [-16.683325848199, -49.288750313988], [-16.683355395197, -49.28862290906], [-16.683345117981, -49.288475387564], [-16.683305293764, -49.288323842755], [-16.683193528981, -49.28824203538], [-16.683048363131, -49.28821521329], [-16.68289035062, -49.288246058693], [-16.68276445438, -49.288301043978], [-16.682688659664, -49.288306408396], [-16.682481829865, -49.28821521329], [-16.68169433299, -49.2876827948], [-16.680960788938, -49.287201338282], [-16.680202833283, -49.286691718569], [-16.679407618951, -49.286157958975], [-16.679187938803, -49.286030554047], [-16.679223909839, -49.285920583477], [-16.679258596188, -49.285781108609], [-16.679258596188, -49.285593353978], [-16.679214917081, -49.285401576033], [-16.679092872462, -49.285247349015], [-16.678915586457, -49.285133355132], [-16.678726738139, -49.285075687638], [-16.67849035631, -49.28509714531], [-16.678316923803, -49.285203092566], [-16.678170469564, -49.285346590748], [-16.678090818965, -49.285506182185], [-16.678021445837, -49.285514228812], [-16.677720828655, -49.285487406721], [-16.67681383549, -49.285271488896], [-16.675777083078, -49.285042160025], [-16.674642687073, -49.284790032378], [-16.674091545476, -49.284678720704], [-16.674005469606, -49.284625076523], [-16.673988768313, -49.28460630106]],\n",
       "                {&quot;bubblingMouseEvents&quot;: true, &quot;color&quot;: &quot;blue&quot;, &quot;dashArray&quot;: &quot;5&quot;, &quot;dashOffset&quot;: null, &quot;fill&quot;: false, &quot;fillColor&quot;: &quot;blue&quot;, &quot;fillOpacity&quot;: 0.2, &quot;fillRule&quot;: &quot;evenodd&quot;, &quot;lineCap&quot;: &quot;round&quot;, &quot;lineJoin&quot;: &quot;round&quot;, &quot;noClip&quot;: false, &quot;opacity&quot;: 1, &quot;smoothFactor&quot;: 1.0, &quot;stroke&quot;: true, &quot;weight&quot;: 2.5}\n",
       "            ).addTo(map_bb2fc22e32afdb51e2212cf8dfe6de46);\n",
       "        \n",
       "    \n",
       "        var popup_93b842972f7903f969aebc9f74b860de = L.popup({&quot;maxWidth&quot;: &quot;100%&quot;});\n",
       "\n",
       "        \n",
       "            \n",
       "                var html_3f20949ad9927d83d06ffa0cb763cca1 = $(`&lt;div id=&quot;html_3f20949ad9927d83d06ffa0cb763cca1&quot; style=&quot;width: 100.0%; height: 100.0%;&quot;&gt;T. BIBLIA / T. PRACA A (VIA FEIRA HIPPIE)&lt;/div&gt;`)[0];\n",
       "                popup_93b842972f7903f969aebc9f74b860de.setContent(html_3f20949ad9927d83d06ffa0cb763cca1);\n",
       "            \n",
       "        \n",
       "\n",
       "        poly_line_9ca18754089b625a24fbcf7480516b90.bindPopup(popup_93b842972f7903f969aebc9f74b860de)\n",
       "        ;\n",
       "\n",
       "        \n",
       "    \n",
       "    \n",
       "            var poly_line_4f1cb3237a526d5f960554c9256804d6 = L.polyline(\n",
       "                [[-16.673411078397, -49.284607948016], [-16.673357085223, -49.284619701805], [-16.67334594941, -49.284657295821], [-16.673348234676, -49.284690183084], [-16.673359488074, -49.284723071205], [-16.673375242362, -49.284755959228], [-16.673395496785, -49.284774751928], [-16.673415751375, -49.284793544571], [-16.673465262198, -49.284833478666], [-16.673490017369, -49.284849921947], [-16.673523774091, -49.284859317325], [-16.673555280427, -49.284873411106], [-16.673598038819, -49.284882806114], [-16.673636296031, -49.284882804524], [-16.673676803347, -49.284878104411], [-16.67373599167, -49.284845954915], [-16.673750221335, -49.284827047974], [-16.673767038252, -49.284805440002], [-16.673785148803, -49.284781131041], [-16.673795497244, -49.284756822422], [-16.673807139596, -49.284739266011], [-16.673818783062, -49.284713604538], [-16.673827839538, -49.284694695637], [-16.673843366028, -49.28467443201], [-16.673858886003, -49.28466227732], [-16.673878280932, -49.284654175197], [-16.673896376417, -49.284654171205], [-16.673914464399, -49.284655516167], [-16.673937711705, -49.28465416209], [-16.673958364557, -49.284655505866], [-16.673973844516, -49.284659546323], [-16.673997055272, -49.284663582645], [-16.674012519936, -49.284668967065], [-16.674024120181, -49.28467031043], [-16.674223460511, -49.28472117075], [-16.674663751136, -49.284822070722], [-16.675394919207, -49.284983175725], [-16.676084783756, -49.28514256077], [-16.676428711023, -49.285225712338], [-16.677608214157, -49.285476990563], [-16.677831823542, -49.285525332458], [-16.677891932954, -49.285542440036], [-16.677930175411, -49.285559547656], [-16.67796841249, -49.285579504848], [-16.678031876024, -49.285653858337], [-16.678058330857, -49.285712986166], [-16.678058362222, -49.285744539953], [-16.678062181654, -49.285791879759], [-16.678081122319, -49.285866847223], [-16.678096274999, -49.285922104048], [-16.678132197431, -49.28600689448], [-16.678157142563, -49.286038150516], [-16.678182090548, -49.286066801832], [-16.678207040542, -49.286092847199], [-16.678227000062, -49.286116291148], [-16.678254446836, -49.286134511201], [-16.678284385995, -49.286157941503], [-16.678316817751, -49.286183974674], [-16.67837668369, -49.286228218493], [-16.678444007884, -49.286264613783], [-16.678478892139, -49.286269762029], [-16.678523724514, -49.286274888532], [-16.678600888166, -49.286282553904], [-16.678663060804, -49.286282426432], [-16.678705301638, -49.286277129235], [-16.678772707279, -49.286263968026], [-16.678820036376, -49.286253466374], [-16.678867325572, -49.286240454381], [-16.678909631944, -49.286222267332], [-16.678941983875, -49.286209276464], [-16.678984290082, -49.286188491461], [-16.679024107789, -49.286170304479], [-16.679066413964, -49.286146921514], [-16.679101254542, -49.286136528545], [-16.679143560955, -49.286120939386], [-16.679178401743, -49.286115742277], [-16.679225685877, -49.286113142661], [-16.679272970261, -49.286118336958], [-16.679292879613, -49.286126130147], [-16.679354211614, -49.286163548163], [-16.679790171094, -49.286453291566], [-16.680033112703, -49.286618747837], [-16.68016478186, -49.286715663427], [-16.680363348308, -49.286839734352], [-16.680627049996, -49.287019558116], [-16.680762415799, -49.287104338728], [-16.68085709171, -49.287167900254], [-16.680909460375, -49.287196128853], [-16.682217700309, -49.288066142262], [-16.682556655896, -49.288288366565], [-16.682611634563, -49.288337273024], [-16.682622557815, -49.288376395748], [-16.68263660856, -49.288422043676], [-16.682641282994, -49.288483995722], [-16.682645984146, -49.288534538952], [-16.682652251475, -49.288594856024], [-16.682653817845, -49.288633978564], [-16.682661650848, -49.288666568299], [-16.68267418037, -49.288713808804], [-16.682689824188, -49.288751260436], [-16.68271172155, -49.288787052329], [-16.68273671455, -49.288821223465], [-16.682761677228, -49.288839145964], [-16.682799116062, -49.288866864029], [-16.682836569255, -49.288883144435], [-16.682869344631, -49.288892862017], [-16.682916148196, -49.288895987433], [-16.683000306724, -49.28890062638], [-16.683032998806, -49.288898887585], [-16.683065667459, -49.288895516031], [-16.683095211727, -49.288890543011], [-16.683129417317, -49.288883958975], [-16.683160492062, -49.288875750554], [-16.683227206813, -49.288855164626], [-16.683279133211, -49.288849097373], [-16.683344424034, -49.288849033588], [-16.683396209452, -49.288854992379], [-16.683436430003, -49.28887298065], [-16.683470888219, -49.288894983918], [-16.683535988119, -49.288936999562], [-16.683973639846, -49.289234064086], [-16.684119376079, -49.28933019385], [-16.68421540666, -49.289400468248], [-16.684292369475, -49.289456789001], [-16.68435219348, -49.289493172674], [-16.684404473222, -49.289521626465], [-16.684501122683, -49.289611408817], [-16.684508239012, -49.289645785645], [-16.684518378129, -49.289709143352], [-16.684522955784, -49.289759854625], [-16.684528966927, -49.289813765865], [-16.684539215104, -49.289878192222], [-16.684584150116, -49.290166163226], [-16.684723692621, -49.290932123796], [-16.684756411416, -49.291124599848], [-16.684794899661, -49.291361039701], [-16.684889417103, -49.291838725793], [-16.684904190764, -49.291954864499], [-16.684960756921, -49.292299984641], [-16.685008910913, -49.292525728902], [-16.685043708959, -49.292724913493], [-16.685070410396, -49.292968115284], [-16.685097305972, -49.293129998083], [-16.685123928873, -49.293227037337], [-16.685708600368, -49.296794690141], [-16.685806442397, -49.296997571086], [-16.68590349183, -49.297057827835], [-16.686007868435, -49.297080510291], [-16.687798496851, -49.296924519754], [-16.687874915224, -49.296891553845], [-16.687925970801, -49.296869706503], [-16.688704285175, -49.296818549722], [-16.689085734603, -49.296787607885], [-16.68913772113, -49.296844557124], [-16.689197114265, -49.296881078458], [-16.689319302874, -49.297677179827], [-16.689277627655, -49.297707768059], [-16.689259501175, -49.297750283831], [-16.689259359258, -49.297803528438], [-16.68929261725, -49.297840679798], [-16.6893438598, -49.297867102336], [-16.689407775205, -49.297840572067], [-16.689452579104, -49.29775488722], [-16.690035070599, -49.297634260587], [-16.690668946178, -49.297513633331], [-16.695416488656, -49.296537593753], [-16.699557821735, -49.296746937196], [-16.700734453306, -49.296812686503], [-16.701276525808, -49.296872383642], [-16.70181859829, -49.296942809987], [-16.702331126543, -49.297003849103], [-16.702802549972, -49.297129261716], [-16.702942567354, -49.297171526517], [-16.703135890005, -49.297616448038], [-16.703461746519, -49.298380482267], [-16.703500076587, -49.298421858926], [-16.703607770513, -49.298398862625], [-16.704103580807, -49.298238110203], [-16.704726439914, -49.299570951309], [-16.705160928174, -49.300492301494], [-16.705168711048, -49.30051123573], [-16.705168712896, -49.300526812948], [-16.70516374853, -49.300543091668], [-16.705153132661, -49.300563014262], [-16.705134768866, -49.300582875308], [-16.705119961005, -49.300594615854], [-16.705103061845, -49.30060633506], [-16.705086879776, -49.300615110255], [-16.705045244549, -49.300646477254]],\n",
       "                {&quot;bubblingMouseEvents&quot;: true, &quot;color&quot;: &quot;blue&quot;, &quot;dashArray&quot;: &quot;5&quot;, &quot;dashOffset&quot;: null, &quot;fill&quot;: false, &quot;fillColor&quot;: &quot;blue&quot;, &quot;fillOpacity&quot;: 0.2, &quot;fillRule&quot;: &quot;evenodd&quot;, &quot;lineCap&quot;: &quot;round&quot;, &quot;lineJoin&quot;: &quot;round&quot;, &quot;noClip&quot;: false, &quot;opacity&quot;: 1, &quot;smoothFactor&quot;: 1.0, &quot;stroke&quot;: true, &quot;weight&quot;: 2.5}\n",
       "            ).addTo(map_bb2fc22e32afdb51e2212cf8dfe6de46);\n",
       "        \n",
       "    \n",
       "        var popup_34a20badb088400da816bcf2173a5d4c = L.popup({&quot;maxWidth&quot;: &quot;100%&quot;});\n",
       "\n",
       "        \n",
       "            \n",
       "                var html_6bc543afc16dd9d8e2bf403c19fb1705 = $(`&lt;div id=&quot;html_6bc543afc16dd9d8e2bf403c19fb1705&quot; style=&quot;width: 100.0%; height: 100.0%;&quot;&gt;T. BIBLIA / T. PRACA A (VIA FEIRA HIPPIE)&lt;/div&gt;`)[0];\n",
       "                popup_34a20badb088400da816bcf2173a5d4c.setContent(html_6bc543afc16dd9d8e2bf403c19fb1705);\n",
       "            \n",
       "        \n",
       "\n",
       "        poly_line_4f1cb3237a526d5f960554c9256804d6.bindPopup(popup_34a20badb088400da816bcf2173a5d4c)\n",
       "        ;\n",
       "\n",
       "        \n",
       "    \n",
       "&lt;/script&gt;\n",
       "&lt;/html&gt;\" style=\"position:absolute;width:100%;height:100%;left:0;top:0;border:none !important;\" allowfullscreen webkitallowfullscreen mozallowfullscreen></iframe></div></div>"
      ],
      "text/plain": [
       "<folium.folium.Map at 0x71b9b98e3f40>"
      ]
     },
     "execution_count": 39,
     "metadata": {},
     "output_type": "execute_result"
    }
   ],
   "source": [
    "import folium\n",
    "import ast  # Import necessário para converter string para lista\n",
    "\n",
    "# A função parse_coordinates já está definida, então vamos reutilizá-la para df_planned_trip_example\n",
    "# Para df_trip_made_example, precisamos de uma função para converter a string representando uma lista em uma lista real\n",
    "def convert_string_to_list(coord_str):\n",
    "    try:\n",
    "        # Converte a string que representa uma lista em uma lista Python real\n",
    "        return ast.literal_eval(coord_str)\n",
    "    except ValueError:\n",
    "        # Retorna uma lista vazia se houver erro na conversão\n",
    "        return []\n",
    "    \n",
    "def correct_coordinates(coords_list):\n",
    "    # Inverte cada par de coordenadas na lista\n",
    "    return [[lat, lon] for [lon, lat] in coords_list]\n",
    "\n",
    "# Criando o mapa centrado em um ponto médio\n",
    "mapa = folium.Map(location=[-16.67, -49.25], zoom_start=12)\n",
    "\n",
    "# Para df_trip_made_example\n",
    "for index, row in df_trip_made_example.iterrows():\n",
    "    coords = convert_string_to_list(row['coordinates'])\n",
    "    coords = correct_coordinates(coords)\n",
    "    folium.PolyLine(locations=coords, color=\"green\", weight=2.5, opacity=1, popup=f\"Trip {index}\").add_to(mapa)\n",
    "\n",
    "# Para df_planned_trip_example\n",
    "for index, row in df_planned_trip_example.iterrows():\n",
    "    coords = parse_coordinates(row['coordinates'])\n",
    "    folium.PolyLine(locations=coords, color=\"red\", weight=2.5, opacity=1, popup=f\"Planned {index}\").add_to(mapa)\n",
    "\n",
    "for _, row in df_idle_filtrado.iterrows():\n",
    "    # Se os dados já estiverem no formato correto, você pode usar diretamente\n",
    "    coords_list = row['pontos_geolocalizacao']\n",
    "    # Extraindo as coordenadas\n",
    "    coords = extract_coords(coords_list)\n",
    "    # Adicionando ao mapa\n",
    "    folium.PolyLine(locations=coords, color=\"blue\", weight=2.5, opacity=1, dash_array='5', popup=row['descricao']).add_to(mapa)\n",
    "\n",
    "legend_html = '''\n",
    "<div style=\"position: fixed; \n",
    "     bottom: 40px; left: 40px; width: 180px; height: 110px; \n",
    "     border:2px solid grey; z-index:9999; font-size:14px;\n",
    "     background:white;\n",
    "     border-radius:5px;\n",
    "     padding:10px;\n",
    "     opacity:0.9;\">\n",
    "     <strong>Legenda do Mapa</strong><br>\n",
    "     <div style=\"background:green; width:20px; height:3px; display:inline-block; margin-right:5px;\"></div>Viagem Realizada<br>\n",
    "     <div style=\"background:red; width:20px; height:3px; display:inline-block; margin-right:5px;\"></div>Viagem Planejada<br>\n",
    "     <div style=\"background:blue; width:20px; height:3px; display:inline-block; margin-right:5px;\"></div>Trajeto Ocioso\n",
    "</div>\n",
    "'''\n",
    "\n",
    "# Adicionando a legenda ao mapa\n",
    "mapa.get_root().html.add_child(folium.Element(legend_html))\n",
    "\n",
    "mapa\n",
    "\n"
   ]
  }
 ],
 "metadata": {
  "kernelspec": {
   "display_name": "Python 3 (ipykernel)",
   "language": "python",
   "name": "python3"
  },
  "language_info": {
   "codemirror_mode": {
    "name": "ipython",
    "version": 3
   },
   "file_extension": ".py",
   "mimetype": "text/x-python",
   "name": "python",
   "nbconvert_exporter": "python",
   "pygments_lexer": "ipython3",
   "version": "3.11.5"
  }
 },
 "nbformat": 4,
 "nbformat_minor": 5
}
